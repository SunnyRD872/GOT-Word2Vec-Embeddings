{
 "cells": [
  {
   "cell_type": "code",
   "execution_count": 1,
   "id": "d695f32f-5c20-4f62-aab9-77be8e485a07",
   "metadata": {},
   "outputs": [],
   "source": [
    "import pandas as pd \n",
    "import numpy as np"
   ]
  },
  {
   "cell_type": "code",
   "execution_count": 2,
   "id": "79ccfbf2-c5c1-4fa3-8155-a30ad27eda60",
   "metadata": {},
   "outputs": [],
   "source": [
    "import os\n",
    "import gensim"
   ]
  },
  {
   "cell_type": "code",
   "execution_count": 23,
   "id": "9969f0e0",
   "metadata": {},
   "outputs": [
    {
     "name": "stdout",
     "output_type": "stream",
     "text": [
      "[['game', 'thrones', 'book', 'one', 'song', 'ice', 'fire', 'george', 'martin', 'prologue', 'start', 'back', 'gared', 'urged', 'woods', 'began', 'grow', 'dark', 'around'], ['wildlings', 'dead'], ['dead', 'frighten'], ['ser', 'waymar', 'royce', 'asked', 'hint', 'smile'], ['gared', 'rise', 'bait']]\n"
     ]
    }
   ],
   "source": [
    "import nltk\n",
    "from nltk.tokenize import sent_tokenize, word_tokenize\n",
    "from nltk.corpus import stopwords\n",
    "from gensim.utils import simple_preprocess\n",
    "\n",
    "# Load English stopwords\n",
    "stop_words = set(stopwords.words('english'))\n",
    "\n",
    "# Initialize an empty list to store the processed story\n",
    "story = []\n",
    "\n",
    "# Read and process each file\n",
    "for filename in os.listdir('dataGOT'):\n",
    "    with open(os.path.join('dataGOT', filename), 'r', encoding='cp1252') as f:\n",
    "        corpus = f.read()\n",
    "    \n",
    "    # Tokenize the corpus into sentences\n",
    "    raw_sent = sent_tokenize(corpus)\n",
    "    \n",
    "    # Process each sentence\n",
    "    for sent in raw_sent:\n",
    "        # Simple preprocessing (tokenizing and lowercasing)\n",
    "        tokens = simple_preprocess(sent)\n",
    "        \n",
    "        # Remove stopwords\n",
    "        filtered_tokens = [word for word in tokens if word not in stop_words]\n",
    "        \n",
    "        # Append the cleaned sentence to the story\n",
    "        story.append(filtered_tokens)\n",
    "\n",
    "# Print sample output\n",
    "print(story[:5])  # Display first 5 processed sentences\n"
   ]
  },
  {
   "cell_type": "code",
   "execution_count": 24,
   "id": "cc91e4e3-c59c-4d8a-a15a-581be52fdcd4",
   "metadata": {},
   "outputs": [
    {
     "data": {
      "text/plain": [
       "145020"
      ]
     },
     "execution_count": 24,
     "metadata": {},
     "output_type": "execute_result"
    }
   ],
   "source": [
    "len(story)"
   ]
  },
  {
   "cell_type": "code",
   "execution_count": 25,
   "id": "6b72b82e-c8c0-4401-bbe9-06407df60603",
   "metadata": {},
   "outputs": [
    {
     "data": {
      "text/plain": [
       "[['game',\n",
       "  'thrones',\n",
       "  'book',\n",
       "  'one',\n",
       "  'song',\n",
       "  'ice',\n",
       "  'fire',\n",
       "  'george',\n",
       "  'martin',\n",
       "  'prologue',\n",
       "  'start',\n",
       "  'back',\n",
       "  'gared',\n",
       "  'urged',\n",
       "  'woods',\n",
       "  'began',\n",
       "  'grow',\n",
       "  'dark',\n",
       "  'around'],\n",
       " ['wildlings', 'dead'],\n",
       " ['dead', 'frighten'],\n",
       " ['ser', 'waymar', 'royce', 'asked', 'hint', 'smile'],\n",
       " ['gared', 'rise', 'bait'],\n",
       " ['old', 'man', 'past', 'fifty', 'seen', 'lordlings', 'come', 'go'],\n",
       " ['dead', 'dead', 'said'],\n",
       " ['business', 'dead'],\n",
       " ['dead'],\n",
       " ['royce', 'asked', 'softly'],\n",
       " ['proof'],\n",
       " ['saw', 'gared', 'said'],\n",
       " ['says', 'dead', 'proof', 'enough'],\n",
       " ['known', 'would', 'drag', 'quarrel', 'sooner', 'later'],\n",
       " ['wished', 'later', 'rather', 'sooner'],\n",
       " ['mother', 'told', 'dead', 'men', 'sing', 'songs', 'put'],\n",
       " ['wet', 'nurse', 'said', 'thing', 'royce', 'replied'],\n",
       " ['never', 'believe', 'anything', 'hear', 'woman', 'tit'],\n",
       " ['things', 'learned', 'even', 'dead'],\n",
       " ['voice', 'echoed', 'loud', 'twilit', 'forest'],\n",
       " ['page', 'long', 'ride', 'us', 'gared', 'pointed'],\n",
       " ['eight', 'days', 'maybe', 'nine'],\n",
       " ['night', 'falling'],\n",
       " ['ser', 'waymar', 'royce', 'glanced', 'sky', 'disinterest'],\n",
       " ['every', 'day', 'time'],\n",
       " ['unmanned', 'dark', 'gared'],\n",
       " ['could',\n",
       "  'see',\n",
       "  'tightness',\n",
       "  'around',\n",
       "  'gared',\n",
       "  'mouth',\n",
       "  'barely',\n",
       "  'sup',\n",
       "  'pressed',\n",
       "  'anger',\n",
       "  'eyes',\n",
       "  'thick',\n",
       "  'black',\n",
       "  'hood',\n",
       "  'cloak'],\n",
       " ['gared',\n",
       "  'spent',\n",
       "  'forty',\n",
       "  'years',\n",
       "  'night',\n",
       "  'watch',\n",
       "  'man',\n",
       "  'boy',\n",
       "  'accustomed',\n",
       "  'made',\n",
       "  'light'],\n",
       " ['yet'],\n",
       " ['wounded', 'pride', 'could', 'sense', 'something', 'else', 'older', 'man'],\n",
       " ['could', 'taste', 'nervous', 'tension', 'came', 'perilous', 'close', 'fear'],\n",
       " ['shared', 'unease'],\n",
       " ['four', 'years', 'wall'],\n",
       " ['first',\n",
       "  'time',\n",
       "  'sent',\n",
       "  'beyond',\n",
       "  'old',\n",
       "  'stories',\n",
       "  'come',\n",
       "  'rushing',\n",
       "  'back',\n",
       "  'bowels',\n",
       "  'turned',\n",
       "  'water'],\n",
       " ['laughed', 'afterward'],\n",
       " ['veteran',\n",
       "  'hundred',\n",
       "  'rangings',\n",
       "  'endless',\n",
       "  'dark',\n",
       "  'wilderness',\n",
       "  'southron',\n",
       "  'called',\n",
       "  'haunted',\n",
       "  'forest',\n",
       "  'terrors'],\n",
       " ['tonight'],\n",
       " ['something', 'different', 'tonight'],\n",
       " ['edge', 'darkness', 'made', 'hackles', 'rise'],\n",
       " ['nine',\n",
       "  'days',\n",
       "  'riding',\n",
       "  'north',\n",
       "  'northwest',\n",
       "  'north',\n",
       "  'farther',\n",
       "  'farther',\n",
       "  'wall',\n",
       "  'hard',\n",
       "  'track',\n",
       "  'band',\n",
       "  'wildling',\n",
       "  'raiders'],\n",
       " ['day', 'worse', 'day', 'come'],\n",
       " ['today', 'worst'],\n",
       " ['cold',\n",
       "  'wind',\n",
       "  'blowing',\n",
       "  'north',\n",
       "  'made',\n",
       "  'trees',\n",
       "  'rustle',\n",
       "  'like',\n",
       "  'living',\n",
       "  'things'],\n",
       " ['day',\n",
       "  'felt',\n",
       "  'though',\n",
       "  'something',\n",
       "  'watching',\n",
       "  'something',\n",
       "  'cold',\n",
       "  'implacable',\n",
       "  'loved'],\n",
       " ['gared', 'felt'],\n",
       " ['wanted',\n",
       "  'nothing',\n",
       "  'much',\n",
       "  'ride',\n",
       "  'hellbent',\n",
       "  'safety',\n",
       "  'wall',\n",
       "  'feeling',\n",
       "  'share',\n",
       "  'commander'],\n",
       " ['especially', 'commander', 'like', 'one'],\n",
       " ['ser',\n",
       "  'waymar',\n",
       "  'royce',\n",
       "  'youngest',\n",
       "  'son',\n",
       "  'ancient',\n",
       "  'house',\n",
       "  'many',\n",
       "  'heirs'],\n",
       " ['handsome',\n",
       "  'youth',\n",
       "  'eighteen',\n",
       "  'grey',\n",
       "  'eyed',\n",
       "  'graceful',\n",
       "  'slender',\n",
       "  'knife'],\n",
       " ['mounted',\n",
       "  'huge',\n",
       "  'black',\n",
       "  'destrier',\n",
       "  'knight',\n",
       "  'towered',\n",
       "  'gared',\n",
       "  'smaller',\n",
       "  'garrons'],\n",
       " ['wore',\n",
       "  'black',\n",
       "  'leather',\n",
       "  'boots',\n",
       "  'black',\n",
       "  'woolen',\n",
       "  'pants',\n",
       "  'black',\n",
       "  'moleskin',\n",
       "  'gloves',\n",
       "  'fine',\n",
       "  'supple',\n",
       "  'coat',\n",
       "  'gleaming',\n",
       "  'black',\n",
       "  'ringmail',\n",
       "  'layers',\n",
       "  'black',\n",
       "  'wool',\n",
       "  'boiled',\n",
       "  'leather'],\n",
       " ['ser',\n",
       "  'waymar',\n",
       "  'sworn',\n",
       "  'brother',\n",
       "  'night',\n",
       "  'watch',\n",
       "  'less',\n",
       "  'half',\n",
       "  'year',\n",
       "  'one',\n",
       "  'could',\n",
       "  'say',\n",
       "  'prepared',\n",
       "  'vocation'],\n",
       " ['least', 'insofar', 'wardrobe', 'concerned'],\n",
       " ['cloak', 'crowning', 'glory', 'sable', 'thick', 'black', 'soft', 'sin'],\n",
       " ['bet',\n",
       "  'killed',\n",
       "  'gared',\n",
       "  'told',\n",
       "  'barracks',\n",
       "  'wine',\n",
       "  'twisted',\n",
       "  'little',\n",
       "  'heads',\n",
       "  'mighty',\n",
       "  'warrior'],\n",
       " ['shared', 'laugh'],\n",
       " ['hard',\n",
       "  'take',\n",
       "  'orders',\n",
       "  'man',\n",
       "  'laughed',\n",
       "  'cups',\n",
       "  'reflected',\n",
       "  'sat',\n",
       "  'shivering',\n",
       "  'atop',\n",
       "  'garron'],\n",
       " ['gared', 'must', 'felt'],\n",
       " ['mormont', 'said', 'track', 'gared', 'said'],\n",
       " ['dead'],\n",
       " ['trouble', 'us'],\n",
       " ['hard', 'riding', 'us'],\n",
       " ['like', 'weather'],\n",
       " ['snows', 'could', 'fortnight', 'getting', 'back', 'snow', 'best', 'hope'],\n",
       " ['ever', 'seen', 'ice', 'storm', 'lord'],\n",
       " ['lordling', 'seemed', 'hear'],\n",
       " ['studied',\n",
       "  'deepening',\n",
       "  'twilight',\n",
       "  'half',\n",
       "  'bored',\n",
       "  'half',\n",
       "  'distracted',\n",
       "  'page',\n",
       "  'way'],\n",
       " ['ridden',\n",
       "  'knight',\n",
       "  'long',\n",
       "  'enough',\n",
       "  'understand',\n",
       "  'best',\n",
       "  'interrupt',\n",
       "  'looked',\n",
       "  'like'],\n",
       " ['tell', 'saw'],\n",
       " ['details'],\n",
       " ['leave', 'nothing'],\n",
       " ['hunter', 'joined', 'night', 'watch'],\n",
       " ['well', 'poacher', 'truth'],\n",
       " ['mallister',\n",
       "  'freeriders',\n",
       "  'caught',\n",
       "  'red',\n",
       "  'handed',\n",
       "  'mallisters',\n",
       "  'woods',\n",
       "  'skinning',\n",
       "  'one',\n",
       "  'mallisters',\n",
       "  'bucks',\n",
       "  'choice',\n",
       "  'putting',\n",
       "  'black',\n",
       "  'losing',\n",
       "  'hand'],\n",
       " ['one',\n",
       "  'could',\n",
       "  'move',\n",
       "  'woods',\n",
       "  'silent',\n",
       "  'taken',\n",
       "  'black',\n",
       "  'brothers',\n",
       "  'long',\n",
       "  'discover',\n",
       "  'talent'],\n",
       " ['camp',\n",
       "  'two',\n",
       "  'miles',\n",
       "  'farther',\n",
       "  'ridge',\n",
       "  'hard',\n",
       "  'beside',\n",
       "  'stream',\n",
       "  'said'],\n",
       " ['got', 'close', 'dared'],\n",
       " ['eight', 'men', 'women'],\n",
       " ['children', 'could', 'see'],\n",
       " ['put', 'lean', 'rock'],\n",
       " ['snow', 'pretty', 'well', 'covered', 'could', 'still', 'make'],\n",
       " ['fire', 'burning', 'firepit', 'still', 'plain', 'day'],\n",
       " ['one', 'moving'],\n",
       " ['watched', 'long', 'time'],\n",
       " ['living', 'man', 'ever', 'lay', 'still'],\n",
       " ['see', 'blood'],\n",
       " ['well', 'admitted'],\n",
       " ['see', 'weapons'],\n",
       " ['swords', 'bows'],\n",
       " ['one', 'man', 'axe'],\n",
       " ['heavy', 'looking', 'double', 'bladed', 'cruel', 'piece', 'iron'],\n",
       " ['ground', 'beside', 'right', 'hand'],\n",
       " ['make', 'note', 'position', 'bodies'],\n",
       " ['shrugged'],\n",
       " ['couple', 'sitting', 'rock'],\n",
       " ['ground'],\n",
       " ['fallen', 'like'],\n",
       " ['sleeping', 'royce', 'suggested'],\n",
       " ['fallen', 'insisted'],\n",
       " ['one', 'woman', 'ironwood', 'halfhid', 'branches'],\n",
       " ['far', 'eyes'],\n",
       " ['smiled', 'thinly'],\n",
       " ['took', 'care', 'never', 'saw'],\n",
       " ['got', 'closer', 'saw', 'moving', 'neither'],\n",
       " ['despite', 'shivered'],\n",
       " ['chill'],\n",
       " ['royce', 'asked'],\n",
       " ['muttered'],\n",
       " ['wind', 'lord'],\n",
       " ['young', 'knight', 'turned', 'back', 'grizzled', 'man', 'arms'],\n",
       " ['frostfallen',\n",
       "  'leaves',\n",
       "  'whispered',\n",
       "  'past',\n",
       "  'royce',\n",
       "  'destrier',\n",
       "  'moved',\n",
       "  'restlessly'],\n",
       " ['think', 'might', 'killed', 'men', 'gared'],\n",
       " ['ser', 'waymar', 'asked', 'casually'],\n",
       " ['adjusted', 'drape', 'long', 'sable', 'cloak'],\n",
       " ['cold', 'gared', 'said', 'iron', 'certainty'],\n",
       " ['saw', 'men', 'freeze', 'last', 'winter', 'one', 'half', 'boy'],\n",
       " ['everyone',\n",
       "  'talks',\n",
       "  'snows',\n",
       "  'forty',\n",
       "  'foot',\n",
       "  'deep',\n",
       "  'ice',\n",
       "  'wind',\n",
       "  'comes',\n",
       "  'howling',\n",
       "  'north',\n",
       "  'real',\n",
       "  'enemy',\n",
       "  'cold'],\n",
       " ['steals',\n",
       "  'quieter',\n",
       "  'first',\n",
       "  'shiver',\n",
       "  'teeth',\n",
       "  'chatter',\n",
       "  'stamp',\n",
       "  'feet',\n",
       "  'dream',\n",
       "  'mulled',\n",
       "  'wine',\n",
       "  'nice',\n",
       "  'hot',\n",
       "  'fires'],\n",
       " ['burns'],\n",
       " ['nothing', 'burns', 'like', 'cold'],\n",
       " [],\n",
       " ['gets', 'inside', 'starts', 'fill', 'strength', 'fight'],\n",
       " ['easier', 'sit', 'go', 'sleep'],\n",
       " ['say', 'feel', 'pain', 'toward', 'end'],\n",
       " ['first',\n",
       "  'go',\n",
       "  'weak',\n",
       "  'drowsy',\n",
       "  'everything',\n",
       "  'starts',\n",
       "  'fade',\n",
       "  'like',\n",
       "  'sinking',\n",
       "  'sea',\n",
       "  'warm',\n",
       "  'milk'],\n",
       " ['peaceful', 'like'],\n",
       " ['eloquence', 'gared', 'ser', 'waymar', 'observed'],\n",
       " ['never', 'suspected'],\n",
       " ['page', 'cold', 'lordling'],\n",
       " ['gared',\n",
       "  'pulled',\n",
       "  'back',\n",
       "  'hood',\n",
       "  'giving',\n",
       "  'ser',\n",
       "  'waymar',\n",
       "  'good',\n",
       "  'long',\n",
       "  'look',\n",
       "  'stumps',\n",
       "  'ears'],\n",
       " ['two', 'ears', 'three', 'toes', 'little', 'finger', 'left', 'hand'],\n",
       " ['got', 'light'],\n",
       " ['found', 'brother', 'frozen', 'watch', 'smile', 'face'],\n",
       " ['ser', 'waymar', 'shrugged'],\n",
       " ['ought', 'dress', 'warmly', 'gared'],\n",
       " ['gared',\n",
       "  'glared',\n",
       "  'lordling',\n",
       "  'scars',\n",
       "  'around',\n",
       "  'ear',\n",
       "  'holes',\n",
       "  'flushed',\n",
       "  'red',\n",
       "  'anger',\n",
       "  'maester',\n",
       "  'aemon',\n",
       "  'cut',\n",
       "  'ears',\n",
       "  'away'],\n",
       " ['see', 'warm', 'dress', 'winter', 'comes'],\n",
       " ['pulled', 'hood', 'hunched', 'garron', 'silent', 'sullen'],\n",
       " ['gared', 'said', 'cold'],\n",
       " [],\n",
       " [],\n",
       " ['began'],\n",
       " ['drawn', 'watches', 'past', 'week'],\n",
       " ['yes', 'lord'],\n",
       " ['never', 'week', 'draw', 'dozen', 'bloody', 'watches'],\n",
       " ['man', 'driving'],\n",
       " ['find', 'wall'],\n",
       " ['weeping', 'said', 'frowning'],\n",
       " ['saw', 'clear', 'enough', 'lordling', 'pointed'],\n",
       " ['froze'],\n",
       " ['wall', 'weeping'],\n",
       " ['cold', 'enough'],\n",
       " ['royce', 'nodded'],\n",
       " ['bright', 'lad'],\n",
       " ['light',\n",
       "  'frosts',\n",
       "  'past',\n",
       "  'week',\n",
       "  'quick',\n",
       "  'flurry',\n",
       "  'snow',\n",
       "  'surely',\n",
       "  'cold',\n",
       "  'fierce',\n",
       "  'enough',\n",
       "  'kill',\n",
       "  'eight',\n",
       "  'grown',\n",
       "  'men'],\n",
       " ['men',\n",
       "  'clad',\n",
       "  'fur',\n",
       "  'leather',\n",
       "  'let',\n",
       "  'remind',\n",
       "  'shelter',\n",
       "  'near',\n",
       "  'hand',\n",
       "  'means',\n",
       "  'making',\n",
       "  'fire'],\n",
       " ['knight', 'smile', 'cocksure'],\n",
       " ['lead', 'us'],\n",
       " ['would', 'see', 'dead', 'men'],\n",
       " ['nothing', 'done'],\n",
       " ['order', 'given', 'honor', 'bound', 'obey'],\n",
       " ['went',\n",
       "  'front',\n",
       "  'shaggy',\n",
       "  'little',\n",
       "  'garron',\n",
       "  'picking',\n",
       "  'way',\n",
       "  'carefully',\n",
       "  'undergrowth'],\n",
       " ['light',\n",
       "  'snow',\n",
       "  'fallen',\n",
       "  'night',\n",
       "  'stones',\n",
       "  'roots',\n",
       "  'hidden',\n",
       "  'sinks',\n",
       "  'lying',\n",
       "  'crust',\n",
       "  'waiting',\n",
       "  'careless',\n",
       "  'unwary'],\n",
       " ['ser',\n",
       "  'waymar',\n",
       "  'royce',\n",
       "  'came',\n",
       "  'next',\n",
       "  'great',\n",
       "  'black',\n",
       "  'destrier',\n",
       "  'snorting',\n",
       "  'impatiently'],\n",
       " ['warhorse', 'wrong', 'mount', 'ranging', 'try', 'tell', 'lordling'],\n",
       " ['gared', 'brought', 'rear'],\n",
       " ['old', 'man', 'arms', 'muttered', 'rode'],\n",
       " ['twilight', 'deepened'],\n",
       " ['cloudless',\n",
       "  'sky',\n",
       "  'turned',\n",
       "  'deep',\n",
       "  'purple',\n",
       "  'color',\n",
       "  'old',\n",
       "  'bruise',\n",
       "  'faded',\n",
       "  'black'],\n",
       " ['stars', 'began', 'come'],\n",
       " ['half', 'moon', 'rose'],\n",
       " ['grateful', 'light'],\n",
       " ['make',\n",
       "  'better',\n",
       "  'pace',\n",
       "  'surely',\n",
       "  'royce',\n",
       "  'said',\n",
       "  'moon',\n",
       "  'full',\n",
       "  'risen'],\n",
       " ['horse', 'said'],\n",
       " ['fear', 'made', 'insolent'],\n",
       " ['perhaps', 'lord', 'would', 'care', 'take', 'lead'],\n",
       " ['ser', 'waymar', 'royce', 'deign', 'reply'],\n",
       " ['somewhere', 'wood', 'wolf', 'howled'],\n",
       " ['pulled',\n",
       "  'garron',\n",
       "  'beneath',\n",
       "  'ancient',\n",
       "  'gnarled',\n",
       "  'ironwood',\n",
       "  'dismounted'],\n",
       " ['page', 'stopping'],\n",
       " ['ser', 'waymar', 'asked'],\n",
       " ['best', 'go', 'rest', 'way', 'foot', 'lord'],\n",
       " ['ridge'],\n",
       " ['royce', 'paused', 'moment', 'staring', 'distance', 'face', 'reflective'],\n",
       " ['cold', 'wind', 'whispered', 'trees'],\n",
       " ['great',\n",
       "  'sable',\n",
       "  'cloak',\n",
       "  'stirred',\n",
       "  'behind',\n",
       "  'like',\n",
       "  'something',\n",
       "  'half',\n",
       "  'alive'],\n",
       " ['something', 'wrong', 'gared', 'muttered'],\n",
       " ['young', 'knight', 'gave', 'disdainful', 'smile'],\n",
       " [],\n",
       " ['feel'],\n",
       " ['gared', 'asked'],\n",
       " ['listen', 'darkness'],\n",
       " ['could', 'feel'],\n",
       " ['four', 'years', 'night', 'watch', 'never', 'afraid'],\n",
       " [],\n",
       " ['wind'],\n",
       " ['trees', 'rustling'],\n",
       " ['wolf'],\n",
       " ['sound', 'unmans', 'gared'],\n",
       " ['gared', 'answer', 'royce', 'slid', 'gracefully', 'saddle'],\n",
       " ['tied',\n",
       "  'destrier',\n",
       "  'securely',\n",
       "  'low',\n",
       "  'hanging',\n",
       "  'limb',\n",
       "  'well',\n",
       "  'away',\n",
       "  'horses',\n",
       "  'drew',\n",
       "  'longsword',\n",
       "  'sheath'],\n",
       " ['jewels', 'glittered', 'hilt', 'moonlight', 'ran', 'shining', 'steel'],\n",
       " ['splendid', 'weapon', 'castle', 'forged', 'new', 'made', 'look'],\n",
       " ['doubted', 'ever', 'swung', 'anger'],\n",
       " ['trees', 'press', 'close', 'warned'],\n",
       " ['sword', 'tangle', 'ord'],\n",
       " ['better', 'knife'],\n",
       " ['need', 'instruction', 'ask', 'young', 'lord', 'said'],\n",
       " ['gared', 'stay'],\n",
       " ['guard', 'horses'],\n",
       " ['gared', 'dismounted'],\n",
       " ['need', 'fire'],\n",
       " ['see'],\n",
       " ['big', 'fool', 'old', 'man'],\n",
       " ['enemies', 'wood', 'fire', 'last', 'thing', 'want'],\n",
       " ['enemies', 'fire', 'keep', 'away', 'gared', 'said'],\n",
       " ['bears', 'direwolves', 'things'],\n",
       " [],\n",
       " [],\n",
       " ['ser', 'waymar', 'mouth', 'became', 'hard', 'line'],\n",
       " ['fire'],\n",
       " ['gared',\n",
       "  'hood',\n",
       "  'shadowed',\n",
       "  'face',\n",
       "  'could',\n",
       "  'see',\n",
       "  'hard',\n",
       "  'glitter',\n",
       "  'eyes',\n",
       "  'stared',\n",
       "  'knight'],\n",
       " ['moment', 'afraid', 'older', 'man', 'would', 'go', 'sword'],\n",
       " ['short',\n",
       "  'ugly',\n",
       "  'thing',\n",
       "  'grip',\n",
       "  'discolored',\n",
       "  'sweat',\n",
       "  'edge',\n",
       "  'nicked',\n",
       "  'hard',\n",
       "  'use',\n",
       "  'would',\n",
       "  'given',\n",
       "  'iron',\n",
       "  'bob',\n",
       "  'lordling',\n",
       "  'life',\n",
       "  'gared',\n",
       "  'pulled',\n",
       "  'scabbard'],\n",
       " ['finally', 'gared', 'looked'],\n",
       " ['fire', 'muttered', 'low', 'breath'],\n",
       " ['royce', 'took', 'acquiescence', 'turned', 'away'],\n",
       " ['lead', 'said'],\n",
       " ['threaded',\n",
       "  'way',\n",
       "  'thicket',\n",
       "  'started',\n",
       "  'slope',\n",
       "  'low',\n",
       "  'ridge',\n",
       "  'found',\n",
       "  'vantage',\n",
       "  'point',\n",
       "  'sentinel',\n",
       "  'tree'],\n",
       " ['thin',\n",
       "  'crust',\n",
       "  'snow',\n",
       "  'ground',\n",
       "  'damp',\n",
       "  'muddy',\n",
       "  'slick',\n",
       "  'footing',\n",
       "  'rocks',\n",
       "  'hidden',\n",
       "  'roots',\n",
       "  'trip'],\n",
       " ['made', 'sound', 'climbed'],\n",
       " ['behind',\n",
       "  'heard',\n",
       "  'soft',\n",
       "  'metallic',\n",
       "  'slither',\n",
       "  'lordling',\n",
       "  'ringmail',\n",
       "  'rustle',\n",
       "  'leaves',\n",
       "  'muttered',\n",
       "  'curses',\n",
       "  'reaching',\n",
       "  'branches',\n",
       "  'grabbed',\n",
       "  'longsword',\n",
       "  'tugged',\n",
       "  'splendid',\n",
       "  'sable',\n",
       "  'cloak'],\n",
       " ['great',\n",
       "  'sentinel',\n",
       "  'right',\n",
       "  'top',\n",
       "  'ridge',\n",
       "  'known',\n",
       "  'would',\n",
       "  'lowest',\n",
       "  'branches',\n",
       "  'bare',\n",
       "  'foot',\n",
       "  'ground'],\n",
       " ['slid',\n",
       "  'underneath',\n",
       "  'flat',\n",
       "  'belly',\n",
       "  'snow',\n",
       "  'mud',\n",
       "  'page',\n",
       "  'looked',\n",
       "  'empty',\n",
       "  'clearing'],\n",
       " ['heart', 'stopped', 'chest'],\n",
       " ['moment', 'dared', 'breathe'],\n",
       " ['moonlight',\n",
       "  'shone',\n",
       "  'clearing',\n",
       "  'ashes',\n",
       "  'firepit',\n",
       "  'snow',\n",
       "  'covered',\n",
       "  'lean',\n",
       "  'great',\n",
       "  'rock',\n",
       "  'little',\n",
       "  'half',\n",
       "  'frozen',\n",
       "  'stream'],\n",
       " ['everything', 'hours', 'ago'],\n",
       " ['gone'],\n",
       " ['bodies', 'gone'],\n",
       " ['gods'],\n",
       " ['heard', 'behind'],\n",
       " ['sword', 'slashed', 'branch', 'ser', 'waymar', 'royce', 'gained', 'ridge'],\n",
       " ['stood',\n",
       "  'beside',\n",
       "  'sentinel',\n",
       "  'longsword',\n",
       "  'hand',\n",
       "  'cloak',\n",
       "  'billowing',\n",
       "  'behind',\n",
       "  'wind',\n",
       "  'came',\n",
       "  'outlined',\n",
       "  'nobly',\n",
       "  'stars',\n",
       "  'see'],\n",
       " ['get'],\n",
       " ['whispered', 'urgently'],\n",
       " ['something', 'wrong'],\n",
       " ['royce', 'move'],\n",
       " ['looked', 'empty', 'clearing', 'laughed'],\n",
       " ['dead', 'men', 'seem', 'moved', 'camp'],\n",
       " ['voice', 'abandoned'],\n",
       " ['groped', 'words', 'come'],\n",
       " ['possible'],\n",
       " ['eyes', 'swept', 'back', 'forth', 'abandoned', 'campsite', 'stopped', 'axe'],\n",
       " ['huge',\n",
       "  'double',\n",
       "  'bladed',\n",
       "  'battle',\n",
       "  'axe',\n",
       "  'still',\n",
       "  'lying',\n",
       "  'seen',\n",
       "  'last',\n",
       "  'untouched'],\n",
       " ['valuable', 'weapon'],\n",
       " [],\n",
       " [],\n",
       " ['feet', 'ser', 'waymar', 'commanded'],\n",
       " ['one'],\n",
       " ['hiding', 'bush'],\n",
       " ['reluctantly', 'obeyed'],\n",
       " ['ser', 'waymar', 'looked', 'open', 'disapproval'],\n",
       " ['going', 'back', 'castle', 'black', 'failure', 'first', 'ranging'],\n",
       " ['find', 'men'],\n",
       " ['glanced', 'around'],\n",
       " ['tree'],\n",
       " ['quick'],\n",
       " ['look', 'fire'],\n",
       " ['turned', 'away', 'wordless'],\n",
       " ['use', 'argue'],\n",
       " ['wind', 'moving'],\n",
       " ['cut', 'right'],\n",
       " ['went', 'tree', 'vaulting', 'grey', 'green', 'sentinel', 'began', 'climb'],\n",
       " ['soon', 'hands', 'sticky', 'sap', 'lost', 'among', 'needles'],\n",
       " ['fear', 'filled', 'gut', 'like', 'meal', 'could', 'digest'],\n",
       " ['whispered',\n",
       "  'prayer',\n",
       "  'nameless',\n",
       "  'gods',\n",
       "  'wood',\n",
       "  'slipped',\n",
       "  'dirk',\n",
       "  'free',\n",
       "  'sheath'],\n",
       " ['put', 'teeth', 'keep', 'hands', 'free', 'climbing'],\n",
       " ['taste', 'cold', 'iron', 'mouth', 'gave', 'comfort'],\n",
       " ['lordling', 'called', 'suddenly', 'goes'],\n",
       " ['heard', 'uncertainty', 'challenge'],\n",
       " ['stopped', 'climbing', 'listened', 'watched'],\n",
       " ['woods',\n",
       "  'gave',\n",
       "  'answer',\n",
       "  'rustle',\n",
       "  'leaves',\n",
       "  'icy',\n",
       "  'rush',\n",
       "  'stream',\n",
       "  'distant',\n",
       "  'hoot',\n",
       "  'snow',\n",
       "  'owl'],\n",
       " ['others', 'made', 'sound'],\n",
       " ['saw', 'movement', 'corner', 'eye'],\n",
       " ['pale', 'shapes', 'gliding', 'wood'],\n",
       " ['turned', 'head', 'glimpsed', 'white', 'shadow', 'darkness'],\n",
       " ['gone'],\n",
       " ['branches',\n",
       "  'stirred',\n",
       "  'gently',\n",
       "  'wind',\n",
       "  'scratching',\n",
       "  'one',\n",
       "  'another',\n",
       "  'wooden',\n",
       "  'fingers'],\n",
       " ['opened', 'mouth', 'call', 'warning', 'words', 'seemed', 'freeze', 'throat'],\n",
       " ['perhaps', 'wrong'],\n",
       " ['perhaps', 'bird', 'reflection', 'snow', 'trick', 'moonlight'],\n",
       " ['seen'],\n",
       " [],\n",
       " ['ser', 'waymar', 'called'],\n",
       " ['see', 'anything'],\n",
       " ['turning', 'slow', 'circle', 'suddenly', 'wary', 'sword', 'hand'],\n",
       " ['must', 'felt', 'felt'],\n",
       " ['nothing', 'see'],\n",
       " ['page', 'answer'],\n",
       " ['cold'],\n",
       " ['cold'],\n",
       " ['shivering', 'clung', 'tightly', 'perch'],\n",
       " ['face', 'pressed', 'hard', 'trunk', 'sentinel'],\n",
       " ['could', 'feel', 'sweet', 'sticky', 'sap', 'cheek'],\n",
       " ['shadow', 'emerged', 'dark', 'wood'],\n",
       " ['stood', 'front', 'royce'],\n",
       " ['tall', 'gaunt', 'hard', 'old', 'bones', 'flesh', 'pale', 'milk'],\n",
       " ['armor',\n",
       "  'seemed',\n",
       "  'change',\n",
       "  'color',\n",
       "  'moved',\n",
       "  'white',\n",
       "  'new',\n",
       "  'fallen',\n",
       "  'snow',\n",
       "  'black',\n",
       "  'shadow',\n",
       "  'everywhere',\n",
       "  'dappled',\n",
       "  'deep',\n",
       "  'grey',\n",
       "  'green',\n",
       "  'trees'],\n",
       " ['patterns', 'ran', 'like', 'moonlight', 'water', 'every', 'step', 'took'],\n",
       " ['heard', 'breath', 'go', 'ser', 'waymar', 'royce', 'long', 'hiss'],\n",
       " ['come', 'farther', 'lordling', 'warned'],\n",
       " ['voice', 'cracked', 'like', 'boy'],\n",
       " ['threw',\n",
       "  'long',\n",
       "  'sable',\n",
       "  'cloak',\n",
       "  'back',\n",
       "  'shoulders',\n",
       "  'free',\n",
       "  'arms',\n",
       "  'battle',\n",
       "  'took',\n",
       "  'sword',\n",
       "  'hands'],\n",
       " ['wind', 'stopped'],\n",
       " ['cold'],\n",
       " ['slid', 'forward', 'silent', 'feet'],\n",
       " ['hand', 'longsword', 'like', 'none', 'ever', 'seen'],\n",
       " ['human', 'metal', 'gone', 'forging', 'blade'],\n",
       " ['alive',\n",
       "  'moonlight',\n",
       "  'translucent',\n",
       "  'shard',\n",
       "  'crystal',\n",
       "  'thin',\n",
       "  'seemed',\n",
       "  'almost',\n",
       "  'vanish',\n",
       "  'seen',\n",
       "  'edge'],\n",
       " ['faint',\n",
       "  'blue',\n",
       "  'shimmer',\n",
       "  'thing',\n",
       "  'ghost',\n",
       "  'light',\n",
       "  'played',\n",
       "  'around',\n",
       "  'edges',\n",
       "  'somehow',\n",
       "  'knew',\n",
       "  'sharper',\n",
       "  'razor'],\n",
       " ['ser', 'waymar', 'met', 'bravely'],\n",
       " ['dance'],\n",
       " ['lifted', 'sword', 'high', 'head', 'defiant'],\n",
       " ['hands', 'trembled', 'weight', 'perhaps', 'cold'],\n",
       " ['yet', 'moment', 'thought', 'boy', 'longer', 'man', 'night', 'watch'],\n",
       " ['halted'],\n",
       " ['saw',\n",
       "  'eyes',\n",
       "  'blue',\n",
       "  'deeper',\n",
       "  'bluer',\n",
       "  'human',\n",
       "  'eyes',\n",
       "  'blue',\n",
       "  'burned',\n",
       "  'like',\n",
       "  'ice'],\n",
       " ['fixed',\n",
       "  'longsword',\n",
       "  'trembling',\n",
       "  'high',\n",
       "  'watched',\n",
       "  'moonlight',\n",
       "  'running',\n",
       "  'cold',\n",
       "  'along',\n",
       "  'metal'],\n",
       " ['heartbeat', 'dared', 'hope'],\n",
       " ['emerged', 'silently', 'shadows', 'twins', 'first'],\n",
       " ['three'],\n",
       " [],\n",
       " [],\n",
       " ['four'],\n",
       " [],\n",
       " [],\n",
       " ['five'],\n",
       " [],\n",
       " [],\n",
       " ['ser',\n",
       "  'waymar',\n",
       "  'may',\n",
       "  'felt',\n",
       "  'cold',\n",
       "  'came',\n",
       "  'never',\n",
       "  'saw',\n",
       "  'never',\n",
       "  'heard'],\n",
       " ['call'],\n",
       " ['duty'],\n",
       " ['death'],\n",
       " ['shivered', 'hugged', 'tree', 'kept', 'silence'],\n",
       " ['pale', 'sword', 'came', 'shivering', 'air'],\n",
       " ['ser', 'waymar', 'met', 'steel'],\n",
       " ['blades',\n",
       "  'met',\n",
       "  'ring',\n",
       "  'metal',\n",
       "  'metal',\n",
       "  'high',\n",
       "  'thin',\n",
       "  'sound',\n",
       "  'edge',\n",
       "  'hearing',\n",
       "  'like',\n",
       "  'animal',\n",
       "  'screaming',\n",
       "  'pain'],\n",
       " ['royce', 'checked', 'second', 'blow', 'third', 'fell', 'back', 'step'],\n",
       " ['another', 'flurry', 'blows', 'fell', 'back'],\n",
       " ['behind',\n",
       "  'right',\n",
       "  'left',\n",
       "  'around',\n",
       "  'watchers',\n",
       "  'stood',\n",
       "  'patient',\n",
       "  'faceless',\n",
       "  'silent',\n",
       "  'shifting',\n",
       "  'patterns',\n",
       "  'delicate',\n",
       "  'armor',\n",
       "  'making',\n",
       "  'invisible',\n",
       "  'wood'],\n",
       " ['yet', 'made', 'move', 'interfere'],\n",
       " ['swords',\n",
       "  'met',\n",
       "  'wanted',\n",
       "  'cover',\n",
       "  'ears',\n",
       "  'strange',\n",
       "  'anguished',\n",
       "  'keening',\n",
       "  'clash'],\n",
       " ['ser', 'waymar', 'panting', 'effort', 'breath', 'steaming', 'moonlight'],\n",
       " ['blade', 'white', 'frost', 'danced', 'pale', 'blue', 'light'],\n",
       " ['royce', 'parry', 'came', 'beat', 'late'],\n",
       " ['pale', 'sword', 'bit', 'ringmail', 'beneath', 'arm'],\n",
       " ['young', 'lord', 'cried', 'pain'],\n",
       " ['blood', 'welled', 'rings'],\n",
       " ['steamed', 'cold', 'droplets', 'seemed', 'red', 'fire', 'touched', 'snow'],\n",
       " ['ser', 'page', 'waymar', 'fingers', 'brushed', 'side'],\n",
       " ['moleskin', 'glove', 'came', 'away', 'soaked', 'red'],\n",
       " ['said',\n",
       "  'something',\n",
       "  'language',\n",
       "  'know',\n",
       "  'voice',\n",
       "  'like',\n",
       "  'cracking',\n",
       "  'ice',\n",
       "  'winter',\n",
       "  'lake',\n",
       "  'words',\n",
       "  'mocking'],\n",
       " ['ser', 'waymar', 'royce', 'found', 'fury'],\n",
       " ['robert'],\n",
       " ['shouted',\n",
       "  'came',\n",
       "  'snarling',\n",
       "  'lifting',\n",
       "  'frost',\n",
       "  'covered',\n",
       "  'longsword',\n",
       "  'hands',\n",
       "  'swinging',\n",
       "  'around',\n",
       "  'flat',\n",
       "  'sidearm',\n",
       "  'slash',\n",
       "  'weight',\n",
       "  'behind'],\n",
       " ['parry', 'almost', 'lazy'],\n",
       " ['blades', 'touched', 'steel', 'shattered'],\n",
       " ['scream',\n",
       "  'echoed',\n",
       "  'forest',\n",
       "  'night',\n",
       "  'longsword',\n",
       "  'shivered',\n",
       "  'hundred',\n",
       "  'brittle',\n",
       "  'pieces',\n",
       "  'shards',\n",
       "  'scattering',\n",
       "  'like',\n",
       "  'rain',\n",
       "  'needles'],\n",
       " ['royce', 'went', 'knees', 'shrieking', 'covered', 'eyes'],\n",
       " ['blood', 'welled', 'fingers'],\n",
       " ['watchers', 'moved', 'forward', 'together', 'signal', 'given'],\n",
       " ['swords', 'rose', 'fell', 'deathly', 'silence'],\n",
       " ['cold', 'butchery'],\n",
       " ['pale', 'blades', 'sliced', 'ringmail', 'silk'],\n",
       " ['closed', 'eyes'],\n",
       " ['far', 'beneath', 'heard', 'voices', 'laughter', 'sharp', 'icicles'],\n",
       " ['found', 'courage', 'look', 'long', 'time', 'passed', 'ridge', 'empty'],\n",
       " ['stayed',\n",
       "  'tree',\n",
       "  'scarce',\n",
       "  'daring',\n",
       "  'breathe',\n",
       "  'moon',\n",
       "  'crept',\n",
       "  'slowly',\n",
       "  'across',\n",
       "  'black',\n",
       "  'sky'],\n",
       " ['finally', 'muscles', 'cramping', 'fingers', 'numb', 'cold', 'climbed'],\n",
       " ['royce', 'body', 'lay', 'facedown', 'snow', 'one', 'arm', 'outflung'],\n",
       " ['thick', 'sable', 'cloak', 'slashed', 'dozen', 'places'],\n",
       " ['lying', 'dead', 'like', 'saw', 'young'],\n",
       " ['boy'],\n",
       " ['found',\n",
       "  'left',\n",
       "  'sword',\n",
       "  'feet',\n",
       "  'away',\n",
       "  'end',\n",
       "  'splintered',\n",
       "  'twisted',\n",
       "  'like',\n",
       "  'tree',\n",
       "  'struck',\n",
       "  'lightning'],\n",
       " ['knelt', 'looked', 'around', 'warily', 'snatched'],\n",
       " ['broken', 'sword', 'would', 'proof'],\n",
       " ['gared',\n",
       "  'would',\n",
       "  'know',\n",
       "  'make',\n",
       "  'surely',\n",
       "  'old',\n",
       "  'bear',\n",
       "  'mormont',\n",
       "  'maester',\n",
       "  'aemon'],\n",
       " ['would', 'gared', 'still', 'waiting', 'horses'],\n",
       " ['hurry'],\n",
       " ['rose'],\n",
       " ['ser', 'waymar', 'royce', 'stood'],\n",
       " ['fine', 'clothes', 'tatter', 'face', 'ruin'],\n",
       " ['shard', 'sword', 'transfixed', 'blind', 'white', 'pupil', 'left', 'eye'],\n",
       " ['right', 'eye', 'open'],\n",
       " ['pupil', 'burned', 'blue'],\n",
       " ['saw'],\n",
       " ['broken', 'sword', 'fell', 'nerveless', 'fingers'],\n",
       " ['closed', 'eyes', 'pray'],\n",
       " ['long',\n",
       "  'elegant',\n",
       "  'hands',\n",
       "  'brushed',\n",
       "  'cheek',\n",
       "  'tightened',\n",
       "  'around',\n",
       "  'throat'],\n",
       " ['gloved',\n",
       "  'finest',\n",
       "  'moleskin',\n",
       "  'sticky',\n",
       "  'blood',\n",
       "  'yet',\n",
       "  'touch',\n",
       "  'icy',\n",
       "  'cold'],\n",
       " ['bran',\n",
       "  'morning',\n",
       "  'dawned',\n",
       "  'clear',\n",
       "  'cold',\n",
       "  'crispness',\n",
       "  'hinted',\n",
       "  'end',\n",
       "  'summer'],\n",
       " ['set',\n",
       "  'forth',\n",
       "  'daybreak',\n",
       "  'see',\n",
       "  'man',\n",
       "  'beheaded',\n",
       "  'twenty',\n",
       "  'bran',\n",
       "  'rode',\n",
       "  'among',\n",
       "  'nervous',\n",
       "  'excitement'],\n",
       " ['first',\n",
       "  'time',\n",
       "  'deemed',\n",
       "  'old',\n",
       "  'enough',\n",
       "  'go',\n",
       "  'lord',\n",
       "  'father',\n",
       "  'page',\n",
       "  'brothers',\n",
       "  'see',\n",
       "  'king',\n",
       "  'justice',\n",
       "  'done'],\n",
       " ['ninth', 'year', 'summer', 'seventh', 'bran', 'life'],\n",
       " ['man', 'taken', 'outside', 'small', 'holdfast', 'hills'],\n",
       " ['robb',\n",
       "  'thought',\n",
       "  'wildling',\n",
       "  'sword',\n",
       "  'sworn',\n",
       "  'mance',\n",
       "  'rayder',\n",
       "  'kingbeyond',\n",
       "  'wall'],\n",
       " ['made', 'bran', 'skin', 'prickle', 'think'],\n",
       " ['remembered', 'hearth', 'tales', 'old', 'nan', 'told'],\n",
       " ['wildlings', 'cruel', 'men', 'said', 'slavers', 'slayers', 'thieves'],\n",
       " ['consorted',\n",
       "  'giants',\n",
       "  'ghouls',\n",
       "  'stole',\n",
       "  'girl',\n",
       "  'children',\n",
       "  'dead',\n",
       "  'night',\n",
       "  'drank',\n",
       "  'blood',\n",
       "  'polished',\n",
       "  'horns'],\n",
       " ['women',\n",
       "  'lay',\n",
       "  'others',\n",
       "  'long',\n",
       "  'night',\n",
       "  'sire',\n",
       "  'terrible',\n",
       "  'half',\n",
       "  'human',\n",
       "  'children'],\n",
       " ['man',\n",
       "  'found',\n",
       "  'bound',\n",
       "  'hand',\n",
       "  'foot',\n",
       "  'holdfast',\n",
       "  'wall',\n",
       "  'awaiting',\n",
       "  'king',\n",
       "  'justice',\n",
       "  'old',\n",
       "  'scrawny',\n",
       "  'much',\n",
       "  'taller',\n",
       "  'robb'],\n",
       " ['lost',\n",
       "  'ears',\n",
       "  'finger',\n",
       "  'frostbite',\n",
       "  'dressed',\n",
       "  'black',\n",
       "  'brother',\n",
       "  'night',\n",
       "  'watch',\n",
       "  'except',\n",
       "  'furs',\n",
       "  'ragged',\n",
       "  'greasy'],\n",
       " ['breath',\n",
       "  'man',\n",
       "  'horse',\n",
       "  'mingled',\n",
       "  'steaming',\n",
       "  'cold',\n",
       "  'morning',\n",
       "  'air',\n",
       "  'lord',\n",
       "  'father',\n",
       "  'man',\n",
       "  'cut',\n",
       "  'wall',\n",
       "  'dragged'],\n",
       " ['robb',\n",
       "  'jon',\n",
       "  'sat',\n",
       "  'tall',\n",
       "  'still',\n",
       "  'horses',\n",
       "  'bran',\n",
       "  'pony',\n",
       "  'trying',\n",
       "  'seem',\n",
       "  'older',\n",
       "  'seven',\n",
       "  'trying',\n",
       "  'pretend',\n",
       "  'seen'],\n",
       " ['faint', 'wind', 'blew', 'holdfast', 'gate'],\n",
       " ['heads',\n",
       "  'flapped',\n",
       "  'banner',\n",
       "  'starks',\n",
       "  'winterfell',\n",
       "  'grey',\n",
       "  'direwolf',\n",
       "  'racing',\n",
       "  'across',\n",
       "  'ice',\n",
       "  'white',\n",
       "  'field'],\n",
       " ['bran',\n",
       "  'father',\n",
       "  'sat',\n",
       "  'solemnly',\n",
       "  'horse',\n",
       "  'long',\n",
       "  'brown',\n",
       "  'hair',\n",
       "  'stirring',\n",
       "  'wind'],\n",
       " ['closely',\n",
       "  'trimmed',\n",
       "  'beard',\n",
       "  'shot',\n",
       "  'white',\n",
       "  'making',\n",
       "  'look',\n",
       "  'older',\n",
       "  'thirty',\n",
       "  'five',\n",
       "  'years'],\n",
       " ['grim',\n",
       "  'cast',\n",
       "  'grey',\n",
       "  'eyes',\n",
       "  'day',\n",
       "  'seemed',\n",
       "  'man',\n",
       "  'would',\n",
       "  'sit',\n",
       "  'fire',\n",
       "  'evening',\n",
       "  'talk',\n",
       "  'softly',\n",
       "  'age',\n",
       "  'heroes',\n",
       "  'children',\n",
       "  'forest'],\n",
       " ['taken',\n",
       "  'father',\n",
       "  'face',\n",
       "  'bran',\n",
       "  'thought',\n",
       "  'donned',\n",
       "  'face',\n",
       "  'lord',\n",
       "  'stark',\n",
       "  'winterfell'],\n",
       " ['questions',\n",
       "  'asked',\n",
       "  'answers',\n",
       "  'given',\n",
       "  'chill',\n",
       "  'morning',\n",
       "  'afterward',\n",
       "  'bran',\n",
       "  'could',\n",
       "  'recall',\n",
       "  'much',\n",
       "  'said'],\n",
       " ['finally',\n",
       "  'lord',\n",
       "  'father',\n",
       "  'gave',\n",
       "  'command',\n",
       "  'two',\n",
       "  'guardsmen',\n",
       "  'dragged',\n",
       "  'ragged',\n",
       "  'man',\n",
       "  'ironwood',\n",
       "  'stump',\n",
       "  'center',\n",
       "  'square'],\n",
       " ['forced', 'head', 'onto', 'hard', 'black', 'wood'],\n",
       " ['lord',\n",
       "  'eddard',\n",
       "  'stark',\n",
       "  'dismounted',\n",
       "  'ward',\n",
       "  'theon',\n",
       "  'greyjoy',\n",
       "  'brought',\n",
       "  'forth',\n",
       "  'sword'],\n",
       " ['ice', 'sword', 'called'],\n",
       " ['wide', 'across', 'man', 'hand', 'taller', 'even', 'robb'],\n",
       " ['blade', 'valyrian', 'steel', 'spell', 'forged', 'dark', 'smoke'],\n",
       " ['nothing', 'held', 'edge', 'like', 'valyrian', 'steel'],\n",
       " ['father',\n",
       "  'peeled',\n",
       "  'gloves',\n",
       "  'handed',\n",
       "  'jory',\n",
       "  'cassel',\n",
       "  'captain',\n",
       "  'household',\n",
       "  'guard'],\n",
       " ['took',\n",
       "  'hold',\n",
       "  'ice',\n",
       "  'hands',\n",
       "  'said',\n",
       "  'name',\n",
       "  'robert',\n",
       "  'house',\n",
       "  'baratheon',\n",
       "  'first',\n",
       "  'name',\n",
       "  'king',\n",
       "  'andals',\n",
       "  'rhoynar',\n",
       "  'first',\n",
       "  'men',\n",
       "  'lord',\n",
       "  'seven',\n",
       "  'kingdoms',\n",
       "  'protector',\n",
       "  'realm',\n",
       "  'word',\n",
       "  'eddard',\n",
       "  'house',\n",
       "  'stark',\n",
       "  'lord',\n",
       "  'winterfell',\n",
       "  'warden',\n",
       "  'north',\n",
       "  'sentence',\n",
       "  'die'],\n",
       " ['lifted', 'greatsword', 'high', 'head'],\n",
       " ['bran', 'bastard', 'brother', 'jon', 'snow', 'moved', 'closer'],\n",
       " ['keep', 'pony', 'well', 'hand', 'whispered'],\n",
       " ['look', 'away'],\n",
       " ['father', 'know'],\n",
       " ['bran', 'kept', 'pony', 'well', 'hand', 'look', 'away'],\n",
       " ['father', 'took', 'man', 'head', 'single', 'sure', 'stroke'],\n",
       " ['blood', 'sprayed', 'across', 'snow', 'red', 'surnmerwine'],\n",
       " ['one', 'horses', 'reared', 'restrained', 'keep', 'bolting'],\n",
       " ['bran', 'could', 'take', 'eyes', 'blood'],\n",
       " ['snows', 'around', 'stump', 'drank', 'eagerly', 'reddening', 'watched'],\n",
       " ['head', 'bounced', 'thick', 'root', 'rolled'],\n",
       " ['came', 'near', 'greyjoy', 'feet'],\n",
       " ['theon',\n",
       "  'lean',\n",
       "  'dark',\n",
       "  'page',\n",
       "  'youth',\n",
       "  'nineteen',\n",
       "  'found',\n",
       "  'everything',\n",
       "  'amusing'],\n",
       " ['laughed', 'put', 'boot', 'head', 'kicked', 'away'],\n",
       " ['ass', 'jon', 'muttered', 'low', 'enough', 'greyjoy', 'hear'],\n",
       " ['put', 'hand', 'bran', 'shoulder', 'bran', 'looked', 'bastard', 'brother'],\n",
       " ['well', 'jon', 'told', 'solemnly'],\n",
       " ['jon', 'fourteen', 'old', 'hand', 'justice'],\n",
       " ['seemed',\n",
       "  'colder',\n",
       "  'long',\n",
       "  'ride',\n",
       "  'back',\n",
       "  'winterfell',\n",
       "  'though',\n",
       "  'wind',\n",
       "  'died',\n",
       "  'sun',\n",
       "  'higher',\n",
       "  'sky'],\n",
       " ['bran',\n",
       "  'rode',\n",
       "  'brothers',\n",
       "  'well',\n",
       "  'ahead',\n",
       "  'main',\n",
       "  'party',\n",
       "  'pony',\n",
       "  'struggling',\n",
       "  'hard',\n",
       "  'keep',\n",
       "  'horses'],\n",
       " ['deserter', 'died', 'bravely', 'robb', 'said'],\n",
       " ['big',\n",
       "  'broad',\n",
       "  'growing',\n",
       "  'every',\n",
       "  'day',\n",
       "  'mother',\n",
       "  'coloring',\n",
       "  'fair',\n",
       "  'skin',\n",
       "  'red',\n",
       "  'brown',\n",
       "  'hair',\n",
       "  'blue',\n",
       "  'eyes',\n",
       "  'tullys',\n",
       "  'riverrun'],\n",
       " ['courage', 'least'],\n",
       " ['jon', 'snow', 'said', 'quietly'],\n",
       " ['courage'],\n",
       " ['one', 'dead', 'fear'],\n",
       " ['could', 'see', 'eyes', 'stark'],\n",
       " ['jon', 'eyes', 'grey', 'dark', 'seemed', 'almost', 'black', 'little', 'see'],\n",
       " ['age', 'robb', 'look', 'alike'],\n",
       " ['jon',\n",
       "  'slender',\n",
       "  'robb',\n",
       "  'muscular',\n",
       "  'dark',\n",
       "  'robb',\n",
       "  'fair',\n",
       "  'graceful',\n",
       "  'quick',\n",
       "  'half',\n",
       "  'brother',\n",
       "  'strong',\n",
       "  'fast'],\n",
       " ['robb', 'impressed'],\n",
       " ['others', 'take', 'eyes', 'swore'],\n",
       " ['died', 'well'],\n",
       " ['race', 'bridge'],\n",
       " ['done', 'jon', 'said', 'kicking', 'horse', 'forward'],\n",
       " ['robb',\n",
       "  'cursed',\n",
       "  'followed',\n",
       "  'galloped',\n",
       "  'trail',\n",
       "  'robb',\n",
       "  'laughing',\n",
       "  'hooting',\n",
       "  'jon',\n",
       "  'silent',\n",
       "  'intent'],\n",
       " ['hooves', 'horses', 'kicked', 'showers', 'snow', 'went'],\n",
       " ['bran', 'try', 'follow'],\n",
       " ['pony', 'could', 'keep'],\n",
       " ['seen', 'ragged', 'man', 'eyes', 'thinking'],\n",
       " ['sound', 'robb', 'laughter', 'receded', 'woods', 'grew', 'silent'],\n",
       " ['deep',\n",
       "  'thought',\n",
       "  'never',\n",
       "  'heard',\n",
       "  'rest',\n",
       "  'party',\n",
       "  'father',\n",
       "  'moved',\n",
       "  'ride',\n",
       "  'beside'],\n",
       " ['well', 'bran'],\n",
       " ['asked', 'unkindly'],\n",
       " ['yes', 'father', 'bran', 'told'],\n",
       " ['looked'],\n",
       " ['wrapped',\n",
       "  'furs',\n",
       "  'leathers',\n",
       "  'mounted',\n",
       "  'great',\n",
       "  'warhorse',\n",
       "  'lord',\n",
       "  'father',\n",
       "  'loomed',\n",
       "  'like',\n",
       "  'giant'],\n",
       " ['robb', 'says', 'man', 'died', 'bravely', 'jon', 'says', 'afraid'],\n",
       " ['think'],\n",
       " ['father', 'asked'],\n",
       " ['bran', 'thought'],\n",
       " ['man', 'still', 'brave', 'afraid'],\n",
       " ['time', 'man', 'brave', 'father', 'told'],\n",
       " ['understand'],\n",
       " ['wildling', 'bran', 'said'],\n",
       " ['carry', 'women', 'sell', 'others'],\n",
       " ['lord', 'father', 'smiled'],\n",
       " ['old', 'nan', 'telling', 'stories'],\n",
       " ['truth', 'man', 'oathbreaker', 'deserter', 'night', 'watch'],\n",
       " ['man', 'dangerous'],\n",
       " ['deserter',\n",
       "  'knows',\n",
       "  'life',\n",
       "  'forfeit',\n",
       "  'taken',\n",
       "  'flinch',\n",
       "  'crime',\n",
       "  'matter',\n",
       "  'vile'],\n",
       " ['mistake'],\n",
       " ['question', 'man', 'die', 'must'],\n",
       " ['page', 'bran', 'answer'],\n",
       " ['king', 'robert', 'headsman', 'said', 'uncertainly'],\n",
       " ['father', 'admitted'],\n",
       " ['targaryen', 'kings'],\n",
       " ['yet', 'way', 'older', 'way'],\n",
       " ['blood',\n",
       "  'first',\n",
       "  'men',\n",
       "  'still',\n",
       "  'flows',\n",
       "  'veins',\n",
       "  'starks',\n",
       "  'hold',\n",
       "  'belief',\n",
       "  'man',\n",
       "  'passes',\n",
       "  'sentence',\n",
       "  'swing',\n",
       "  'sword'],\n",
       " ['would',\n",
       "  'take',\n",
       "  'man',\n",
       "  'life',\n",
       "  'owe',\n",
       "  'look',\n",
       "  'eyes',\n",
       "  'hear',\n",
       "  'final',\n",
       "  'words'],\n",
       " ['cannot', 'bear', 'perhaps', 'man', 'deserve', 'die'],\n",
       " ['one',\n",
       "  'day',\n",
       "  'bran',\n",
       "  'robb',\n",
       "  'bannerman',\n",
       "  'holding',\n",
       "  'keep',\n",
       "  'brother',\n",
       "  'king',\n",
       "  'justice',\n",
       "  'fall'],\n",
       " ['day',\n",
       "  'comes',\n",
       "  'must',\n",
       "  'take',\n",
       "  'pleasure',\n",
       "  'task',\n",
       "  'neither',\n",
       "  'must',\n",
       "  'look',\n",
       "  'away'],\n",
       " ['ruler',\n",
       "  'hides',\n",
       "  'behind',\n",
       "  'paid',\n",
       "  'executioners',\n",
       "  'soon',\n",
       "  'forgets',\n",
       "  'death'],\n",
       " ['jon', 'reappeared', 'crest', 'hill'],\n",
       " ['waved', 'shouted'],\n",
       " ['father', 'bran', 'come', 'quickly', 'see', 'robb', 'found'],\n",
       " ['gone'],\n",
       " ['jory', 'rode', 'beside'],\n",
       " ['trouble', 'lord'],\n",
       " ['beyond', 'doubt', 'lord', 'father', 'said'],\n",
       " ['come', 'let', 'us', 'see', 'mischief', 'sons', 'rooted'],\n",
       " ['sent', 'horse', 'trot'],\n",
       " ['jory', 'bran', 'rest', 'came'],\n",
       " ['found',\n",
       "  'robb',\n",
       "  'riverbank',\n",
       "  'north',\n",
       "  'bridge',\n",
       "  'jon',\n",
       "  'still',\n",
       "  'mounted',\n",
       "  'beside'],\n",
       " ['late', 'summer', 'snows', 'heavy', 'moonturn'],\n",
       " ['robb',\n",
       "  'stood',\n",
       "  'knee',\n",
       "  'deep',\n",
       "  'white',\n",
       "  'hood',\n",
       "  'pulled',\n",
       "  'back',\n",
       "  'sun',\n",
       "  'shone',\n",
       "  'hair'],\n",
       " ['cradling',\n",
       "  'something',\n",
       "  'arm',\n",
       "  'boys',\n",
       "  'talked',\n",
       "  'hushed',\n",
       "  'excited',\n",
       "  'voices'],\n",
       " ['riders',\n",
       "  'picked',\n",
       "  'way',\n",
       "  'carefully',\n",
       "  'drifts',\n",
       "  'groping',\n",
       "  'solid',\n",
       "  'footing',\n",
       "  'hidden',\n",
       "  'uneven',\n",
       "  'ground'],\n",
       " ['jory', 'cassel', 'theon', 'greyjoy', 'first', 'reach', 'boys'],\n",
       " ['greyjoy', 'laughing', 'joking', 'rode'],\n",
       " ['bran', 'heard', 'breath', 'go'],\n",
       " ['gods'],\n",
       " ['exclaimed', 'struggling', 'keep', 'control', 'horse', 'reached', 'sword'],\n",
       " ['jory', 'sword', 'already'],\n",
       " ['robb', 'get', 'away'],\n",
       " ['called', 'horse', 'reared'],\n",
       " ['robb', 'grinned', 'looked', 'bundle', 'arms'],\n",
       " ['hurt', 'said'],\n",
       " ['dead', 'jory'],\n",
       " ['bran', 'afire', 'curiosity'],\n",
       " ['would',\n",
       "  'spurred',\n",
       "  'pony',\n",
       "  'faster',\n",
       "  'father',\n",
       "  'made',\n",
       "  'dismount',\n",
       "  'beside',\n",
       "  'bridge',\n",
       "  'approach',\n",
       "  'foot'],\n",
       " ['bran', 'jumped', 'ran'],\n",
       " ['jon', 'jory', 'theon', 'greyjoy', 'dismounted', 'well'],\n",
       " ['seven', 'hells'],\n",
       " ['greyjoy', 'saying'],\n",
       " ['wolf', 'robb', 'told'],\n",
       " ['freak', 'greyjoy', 'said'],\n",
       " ['look', 'size'],\n",
       " ['bran',\n",
       "  'heart',\n",
       "  'thumping',\n",
       "  'chest',\n",
       "  'pushed',\n",
       "  'waist',\n",
       "  'high',\n",
       "  'drift',\n",
       "  'brothers',\n",
       "  'side'],\n",
       " ['half',\n",
       "  'buried',\n",
       "  'bloodstained',\n",
       "  'snow',\n",
       "  'huge',\n",
       "  'dark',\n",
       "  'shape',\n",
       "  'slumped',\n",
       "  'death'],\n",
       " ['ice',\n",
       "  'formed',\n",
       "  'shaggy',\n",
       "  'grey',\n",
       "  'fur',\n",
       "  'faint',\n",
       "  'smell',\n",
       "  'corruption',\n",
       "  'clung',\n",
       "  'like',\n",
       "  'woman',\n",
       "  'perfume'],\n",
       " ['bran',\n",
       "  'glimpsed',\n",
       "  'blind',\n",
       "  'eyes',\n",
       "  'crawling',\n",
       "  'maggots',\n",
       "  'wide',\n",
       "  'mouth',\n",
       "  'full',\n",
       "  'yellowed',\n",
       "  'teeth'],\n",
       " ['size', 'made', 'gasp'],\n",
       " ['bigger', 'pony', 'twice', 'size', 'largest', 'hound', 'father', 'kennel'],\n",
       " ['page', 'freak', 'jon', 'said', 'calmly'],\n",
       " ['direwolf'],\n",
       " ['grow', 'larger', 'kind'],\n",
       " ['theon',\n",
       "  'greyjoy',\n",
       "  'said',\n",
       "  'direwolf',\n",
       "  'sighted',\n",
       "  'south',\n",
       "  'wall',\n",
       "  'two',\n",
       "  'hundred',\n",
       "  'years'],\n",
       " ['see', 'one', 'jon', 'replied'],\n",
       " ['bran', 'tore', 'eyes', 'away', 'monster'],\n",
       " ['noticed', 'bundle', 'robb', 'arms'],\n",
       " ['gave', 'cry', 'delight', 'moved', 'closer'],\n",
       " ['pup', 'tiny', 'ball', 'grey', 'black', 'fur', 'eyes', 'still', 'closed'],\n",
       " ['nuzzled',\n",
       "  'blindly',\n",
       "  'robb',\n",
       "  'chest',\n",
       "  'cradled',\n",
       "  'searching',\n",
       "  'milk',\n",
       "  'among',\n",
       "  'leathers',\n",
       "  'making',\n",
       "  'sad',\n",
       "  'little',\n",
       "  'whimpery',\n",
       "  'sound'],\n",
       " ['bran', 'reached', 'hesitantly'],\n",
       " ['go', 'robb', 'told'],\n",
       " ['touch'],\n",
       " ['bran',\n",
       "  'gave',\n",
       "  'pup',\n",
       "  'quick',\n",
       "  'nervous',\n",
       "  'stroke',\n",
       "  'turned',\n",
       "  'jon',\n",
       "  'said',\n",
       "  'go'],\n",
       " ['half', 'brother', 'put', 'second', 'pup', 'arms'],\n",
       " ['five'],\n",
       " ['bran', 'sat', 'snow', 'hugged', 'wolf', 'pup', 'face'],\n",
       " ['fur', 'soft', 'warm', 'cheek'],\n",
       " ['direwolves',\n",
       "  'loose',\n",
       "  'realm',\n",
       "  'many',\n",
       "  'years',\n",
       "  'muttered',\n",
       "  'hullen',\n",
       "  'master',\n",
       "  'horse'],\n",
       " ['like'],\n",
       " ['sign', 'jory', 'said'],\n",
       " ['father', 'frowned'],\n",
       " ['dead', 'animal', 'jory', 'said'],\n",
       " ['yet', 'seemed', 'troubled'],\n",
       " ['snow', 'crunched', 'boots', 'moved', 'around', 'body'],\n",
       " ['know', 'killed'],\n",
       " ['something',\n",
       "  'throat',\n",
       "  'robb',\n",
       "  'told',\n",
       "  'proud',\n",
       "  'found',\n",
       "  'answer',\n",
       "  'father',\n",
       "  'even',\n",
       "  'asked'],\n",
       " ['jaw', 'father', 'knelt', 'groped', 'beast', 'head', 'hand'],\n",
       " ['gave', 'yank', 'held', 'see'],\n",
       " ['foot', 'shattered', 'antler', 'tines', 'snapped', 'wet', 'blood'],\n",
       " ['sudden', 'silence', 'descended', 'party'],\n",
       " ['men', 'looked', 'antler', 'uneasily', 'one', 'dared', 'speak'],\n",
       " ['even', 'bran', 'could', 'sense', 'fear', 'though', 'understand'],\n",
       " ['father', 'tossed', 'antler', 'side', 'cleansed', 'hands', 'snow'],\n",
       " ['surprised', 'lived', 'long', 'enough', 'whelp', 'said'],\n",
       " ['voice', 'broke', 'spell'],\n",
       " ['maybe', 'jory', 'said'],\n",
       " ['heard', 'tales'],\n",
       " [],\n",
       " [],\n",
       " ['maybe', 'bitch', 'already', 'dead', 'pups', 'came'],\n",
       " ['born', 'dead', 'another', 'man', 'put'],\n",
       " ['worse', 'luck'],\n",
       " ['matter', 'said', 'hullen'],\n",
       " ['dead', 'soon', 'enough'],\n",
       " ['bran', 'gave', 'wordless', 'cry', 'dismay'],\n",
       " ['sooner', 'better', 'theon', 'greyjoy', 'agreed'],\n",
       " ['drew', 'sword'],\n",
       " ['give', 'beast', 'bran'],\n",
       " ['little', 'thing', 'squirmed', 'heard', 'understood'],\n",
       " [],\n",
       " ['bran', 'cried', 'fiercely'],\n",
       " ['mine'],\n",
       " ['page', 'put', 'away', 'sword', 'greyjoy', 'robb', 'said'],\n",
       " ['moment',\n",
       "  'sounded',\n",
       "  'commanding',\n",
       "  'father',\n",
       "  'like',\n",
       "  'lord',\n",
       "  'would',\n",
       "  'someday'],\n",
       " ['keep', 'pups'],\n",
       " ['cannot', 'boy', 'said', 'harwin', 'hullen', 'son'],\n",
       " ['mercy', 'kill', 'hullen', 'said'],\n",
       " ['bran',\n",
       "  'looked',\n",
       "  'lord',\n",
       "  'father',\n",
       "  'rescue',\n",
       "  'got',\n",
       "  'frown',\n",
       "  'furrowed',\n",
       "  'brow'],\n",
       " ['hullen', 'speaks', 'truly', 'son'],\n",
       " ['better', 'swift', 'death', 'hard', 'one', 'cold', 'starvation'],\n",
       " [],\n",
       " ['could', 'feel', 'tears', 'welling', 'eyes', 'looked', 'away'],\n",
       " ['want', 'cry', 'front', 'father'],\n",
       " ['robb', 'resisted', 'stubbornly'],\n",
       " ['ser', 'rodrik', 'red', 'bitch', 'whelped', 'last', 'week', 'said'],\n",
       " ['small', 'litter', 'two', 'live', 'pups'],\n",
       " ['milk', 'enough'],\n",
       " ['rip', 'apart', 'try', 'nurse'],\n",
       " ['lord', 'stark', 'jon', 'said'],\n",
       " ['strange', 'hear', 'call', 'father', 'formal'],\n",
       " ['bran', 'looked', 'desperate', 'hope'],\n",
       " ['five', 'pups', 'told', 'father'],\n",
       " ['three', 'male', 'two', 'female'],\n",
       " ['jon'],\n",
       " ['five', 'trueborn', 'children', 'jon', 'said'],\n",
       " ['three', 'sons', 'two', 'daughters'],\n",
       " ['direwolf', 'sigil', 'house'],\n",
       " ['children', 'meant', 'pups', 'lord'],\n",
       " ['bran',\n",
       "  'saw',\n",
       "  'father',\n",
       "  'face',\n",
       "  'change',\n",
       "  'saw',\n",
       "  'men',\n",
       "  'exchange',\n",
       "  'glances'],\n",
       " ['loved', 'jon', 'heart', 'moment'],\n",
       " ['even', 'seven', 'bran', 'understood', 'brother', 'done'],\n",
       " ['count', 'come', 'right', 'jon', 'omitted'],\n",
       " ['included',\n",
       "  'girls',\n",
       "  'included',\n",
       "  'even',\n",
       "  'rickon',\n",
       "  'baby',\n",
       "  'bastard',\n",
       "  'bore',\n",
       "  'surname',\n",
       "  'snow',\n",
       "  'name',\n",
       "  'custom',\n",
       "  'decreed',\n",
       "  'given',\n",
       "  'north',\n",
       "  'unlucky',\n",
       "  'enough',\n",
       "  'born',\n",
       "  'name'],\n",
       " ['father', 'understood', 'well'],\n",
       " ['want', 'pup', 'jon'],\n",
       " ['asked', 'softly'],\n",
       " ['direwolf', 'graces', 'banners', 'house', 'stark', 'jon', 'pointed'],\n",
       " ['stark', 'father'],\n",
       " ['lord', 'father', 'regarded', 'jon', 'thoughtfully'],\n",
       " ['robb', 'rushed', 'silence', 'left'],\n",
       " ['nurse', 'father', 'promised'],\n",
       " ['soak', 'towel', 'warm', 'milk', 'give', 'suck'],\n",
       " [],\n",
       " ['bran', 'echoed'],\n",
       " ['lord', 'weighed', 'sons', 'long', 'carefully', 'eyes'],\n",
       " ['easy', 'say', 'harder'],\n",
       " ['wasting', 'servants', 'time'],\n",
       " ['want', 'pups', 'feed'],\n",
       " ['understood'],\n",
       " ['bran', 'nodded', 'eagerly'],\n",
       " ['pup', 'squirmed', 'grasp', 'licked', 'face', 'warm', 'tongue'],\n",
       " ['must', 'train', 'well', 'father', 'said'],\n",
       " ['must', 'train'],\n",
       " ['kennelmaster', 'nothing', 'monsters', 'promise'],\n",
       " ['gods', 'help', 'neglect', 'brutalize', 'train', 'badly'],\n",
       " ['dogs', 'beg', 'treats', 'slink', 'kick'],\n",
       " ['direwolf',\n",
       "  'rip',\n",
       "  'page',\n",
       "  'man',\n",
       "  'arm',\n",
       "  'shoulder',\n",
       "  'easily',\n",
       "  'dog',\n",
       "  'kill',\n",
       "  'rat'],\n",
       " ['sure', 'want'],\n",
       " ['yes', 'father', 'bran', 'said'],\n",
       " ['yes', 'robb', 'agreed'],\n",
       " ['pups', 'may', 'die', 'anyway', 'despite'],\n",
       " ['die', 'robb', 'said'],\n",
       " ['let', 'die'],\n",
       " ['keep'],\n",
       " ['jory', 'desmond', 'gather', 'pups'],\n",
       " ['time', 'back', 'winterfell'],\n",
       " ['mounted', 'way', 'bran', 'allowed', 'taste', 'sweet', 'air', 'victory'],\n",
       " ['pup',\n",
       "  'snuggled',\n",
       "  'inside',\n",
       "  'leathers',\n",
       "  'warm',\n",
       "  'safe',\n",
       "  'long',\n",
       "  'ride',\n",
       "  'home'],\n",
       " ['bran', 'wondering', 'name'],\n",
       " ['halfway', 'across', 'bridge', 'jon', 'pulled', 'suddenly'],\n",
       " ['jon'],\n",
       " ['lord', 'father', 'asked'],\n",
       " ['hear'],\n",
       " ['bran',\n",
       "  'could',\n",
       "  'hear',\n",
       "  'wind',\n",
       "  'trees',\n",
       "  'clatter',\n",
       "  'hooves',\n",
       "  'ironwood',\n",
       "  'planks',\n",
       "  'whimpering',\n",
       "  'hungry',\n",
       "  'pup',\n",
       "  'jon',\n",
       "  'listening',\n",
       "  'something',\n",
       "  'else'],\n",
       " ['jon', 'said'],\n",
       " ['swung', 'horse', 'around', 'galloped', 'back', 'across', 'bridge'],\n",
       " ['watched',\n",
       "  'dismount',\n",
       "  'direwolf',\n",
       "  'lay',\n",
       "  'dead',\n",
       "  'snow',\n",
       "  'watched',\n",
       "  'kneel'],\n",
       " ['moment', 'later', 'riding', 'back', 'smiling'],\n",
       " ['must', 'crawled', 'away', 'others', 'jon', 'said'],\n",
       " ['driven', 'away', 'father', 'said', 'looking', 'sixth', 'pup'],\n",
       " ['fur', 'white', 'rest', 'litter', 'grey'],\n",
       " ['eyes', 'red', 'blood', 'ragged', 'man', 'died', 'morning'],\n",
       " ['bran',\n",
       "  'thought',\n",
       "  'curious',\n",
       "  'pup',\n",
       "  'alone',\n",
       "  'would',\n",
       "  'opened',\n",
       "  'eyes',\n",
       "  'others',\n",
       "  'still',\n",
       "  'blind'],\n",
       " ['albino', 'theon', 'greyjoy', 'said', 'wry', 'amusement'],\n",
       " ['one', 'die', 'even', 'faster', 'others'],\n",
       " ['jon', 'snow', 'gave', 'father', 'ward', 'long', 'chilling', 'look'],\n",
       " ['think', 'greyjoy', 'said'],\n",
       " ['one', 'belongs'],\n",
       " ['catelyn', 'catelyn', 'never', 'liked', 'godswood'],\n",
       " ['born', 'tully', 'riverrun', 'far', 'south', 'red', 'fork', 'trident'],\n",
       " ['godswood',\n",
       "  'garden',\n",
       "  'bright',\n",
       "  'airy',\n",
       "  'tall',\n",
       "  'redwoods',\n",
       "  'spread',\n",
       "  'dappled',\n",
       "  'shadows',\n",
       "  'across',\n",
       "  'tinkling',\n",
       "  'streams',\n",
       "  'birds',\n",
       "  'sang',\n",
       "  'hidden',\n",
       "  'nests',\n",
       "  'air',\n",
       "  'spicy',\n",
       "  'scent',\n",
       "  'flowers'],\n",
       " ['page', 'gods', 'winterfell', 'kept', 'different', 'sort', 'wood'],\n",
       " ['dark',\n",
       "  'primal',\n",
       "  'place',\n",
       "  'three',\n",
       "  'acres',\n",
       "  'old',\n",
       "  'forest',\n",
       "  'untouched',\n",
       "  'ten',\n",
       "  'thousand',\n",
       "  'years',\n",
       "  'gloomy',\n",
       "  'castle',\n",
       "  'rose',\n",
       "  'around'],\n",
       " ['smelled', 'moist', 'earth', 'decay'],\n",
       " ['redwoods', 'grew'],\n",
       " ['wood',\n",
       "  'stubborn',\n",
       "  'sentinel',\n",
       "  'trees',\n",
       "  'armored',\n",
       "  'grey',\n",
       "  'green',\n",
       "  'needles',\n",
       "  'mighty',\n",
       "  'oaks',\n",
       "  'ironwoods',\n",
       "  'old',\n",
       "  'realm'],\n",
       " ['thick',\n",
       "  'black',\n",
       "  'trunks',\n",
       "  'crowded',\n",
       "  'close',\n",
       "  'together',\n",
       "  'twisted',\n",
       "  'branches',\n",
       "  'wove',\n",
       "  'dense',\n",
       "  'canopy',\n",
       "  'overhead',\n",
       "  'misshappen',\n",
       "  'roots',\n",
       "  'wrestled',\n",
       "  'beneath',\n",
       "  'soil'],\n",
       " ['place', 'deep', 'silence', 'brooding', 'shadows', 'gods', 'lived', 'names'],\n",
       " ['knew', 'would', 'find', 'husband', 'tonight'],\n",
       " ['whenever',\n",
       "  'took',\n",
       "  'man',\n",
       "  'life',\n",
       "  'afterward',\n",
       "  'would',\n",
       "  'seek',\n",
       "  'quiet',\n",
       "  'godswood'],\n",
       " ['catelyn',\n",
       "  'anointed',\n",
       "  'seven',\n",
       "  'oils',\n",
       "  'named',\n",
       "  'rainbow',\n",
       "  'light',\n",
       "  'filled',\n",
       "  'sept',\n",
       "  'riverrun'],\n",
       " ['faith', 'like', 'father', 'grandfather', 'father'],\n",
       " ['gods', 'names', 'faces', 'familiar', 'faces', 'parents'],\n",
       " ['worship',\n",
       "  'septon',\n",
       "  'censer',\n",
       "  'smell',\n",
       "  'incense',\n",
       "  'seven',\n",
       "  'sided',\n",
       "  'crystal',\n",
       "  'alive',\n",
       "  'light',\n",
       "  'voices',\n",
       "  'raised',\n",
       "  'song'],\n",
       " ['tullys',\n",
       "  'kept',\n",
       "  'godswood',\n",
       "  'great',\n",
       "  'houses',\n",
       "  'place',\n",
       "  'walk',\n",
       "  'read',\n",
       "  'lie',\n",
       "  'sun'],\n",
       " ['worship',\n",
       "  'sept',\n",
       "  'sake',\n",
       "  'ned',\n",
       "  'built',\n",
       "  'small',\n",
       "  'sept',\n",
       "  'might',\n",
       "  'sing',\n",
       "  'seven',\n",
       "  'faces',\n",
       "  'god',\n",
       "  'blood',\n",
       "  'first',\n",
       "  'men',\n",
       "  'still',\n",
       "  'flowed',\n",
       "  'veins',\n",
       "  'starks',\n",
       "  'gods',\n",
       "  'old',\n",
       "  'ones',\n",
       "  'nameless',\n",
       "  'faceless',\n",
       "  'gods',\n",
       "  'greenwood',\n",
       "  'shared',\n",
       "  'vanished',\n",
       "  'children',\n",
       "  'forest'],\n",
       " ['center',\n",
       "  'grove',\n",
       "  'ancient',\n",
       "  'weirwood',\n",
       "  'brooded',\n",
       "  'small',\n",
       "  'pool',\n",
       "  'waters',\n",
       "  'black',\n",
       "  'cold'],\n",
       " ['heart', 'tree', 'ned', 'called'],\n",
       " ['weirwood',\n",
       "  'bark',\n",
       "  'white',\n",
       "  'bone',\n",
       "  'leaves',\n",
       "  'dark',\n",
       "  'red',\n",
       "  'like',\n",
       "  'thousand',\n",
       "  'bloodstained',\n",
       "  'hands'],\n",
       " ['face',\n",
       "  'carved',\n",
       "  'trunk',\n",
       "  'great',\n",
       "  'tree',\n",
       "  'features',\n",
       "  'long',\n",
       "  'melancholy',\n",
       "  'deep',\n",
       "  'cut',\n",
       "  'eyes',\n",
       "  'red',\n",
       "  'dried',\n",
       "  'sap',\n",
       "  'strangely',\n",
       "  'watchful'],\n",
       " ['old', 'eyes', 'older', 'winterfell'],\n",
       " ['seen',\n",
       "  'brandon',\n",
       "  'builder',\n",
       "  'set',\n",
       "  'first',\n",
       "  'stone',\n",
       "  'tales',\n",
       "  'true',\n",
       "  'watched',\n",
       "  'castle',\n",
       "  'granite',\n",
       "  'walls',\n",
       "  'rise',\n",
       "  'around'],\n",
       " ['said',\n",
       "  'children',\n",
       "  'forest',\n",
       "  'carved',\n",
       "  'faces',\n",
       "  'trees',\n",
       "  'dawn',\n",
       "  'centuries',\n",
       "  'coming',\n",
       "  'first',\n",
       "  'men',\n",
       "  'across',\n",
       "  'narrow',\n",
       "  'sea'],\n",
       " ['south',\n",
       "  'last',\n",
       "  'weirwoods',\n",
       "  'cut',\n",
       "  'burned',\n",
       "  'thousand',\n",
       "  'years',\n",
       "  'ago',\n",
       "  'except',\n",
       "  'isle',\n",
       "  'faces',\n",
       "  'green',\n",
       "  'men',\n",
       "  'kept',\n",
       "  'silent',\n",
       "  'watch'],\n",
       " ['different'],\n",
       " ['every',\n",
       "  'castle',\n",
       "  'godswood',\n",
       "  'every',\n",
       "  'godswood',\n",
       "  'heart',\n",
       "  'tree',\n",
       "  'every',\n",
       "  'heart',\n",
       "  'tree',\n",
       "  'face'],\n",
       " ['catelyn',\n",
       "  'found',\n",
       "  'husband',\n",
       "  'beneath',\n",
       "  'weirwood',\n",
       "  'seated',\n",
       "  'moss',\n",
       "  'covered',\n",
       "  'stone'],\n",
       " ['greatsword',\n",
       "  'ice',\n",
       "  'across',\n",
       "  'lap',\n",
       "  'cleaning',\n",
       "  'blade',\n",
       "  'waters',\n",
       "  'black',\n",
       "  'night'],\n",
       " ['thousand',\n",
       "  'years',\n",
       "  'humus',\n",
       "  'lay',\n",
       "  'thick',\n",
       "  'upon',\n",
       "  'godswood',\n",
       "  'floor',\n",
       "  'swallowing',\n",
       "  'sound',\n",
       "  'feet',\n",
       "  'red',\n",
       "  'eyes',\n",
       "  'weirwood',\n",
       "  'seemed',\n",
       "  'follow',\n",
       "  'came'],\n",
       " ['ned', 'called', 'softly'],\n",
       " ['lifted', 'head', 'look'],\n",
       " ['catelyn', 'said'],\n",
       " ['voice', 'distant', 'formal'],\n",
       " ['children'],\n",
       " ['would', 'always', 'ask'],\n",
       " ['kitchen', 'arguing', 'names', 'wolf', 'pups'],\n",
       " ['spread',\n",
       "  'cloak',\n",
       "  'forest',\n",
       "  'floor',\n",
       "  'sat',\n",
       "  'beside',\n",
       "  'pool',\n",
       "  'back',\n",
       "  'weirwood'],\n",
       " ['could', 'feel', 'eyes', 'watching', 'best', 'ignore'],\n",
       " ['arya',\n",
       "  'already',\n",
       "  'love',\n",
       "  'sansa',\n",
       "  'charmed',\n",
       "  'gracious',\n",
       "  'rickon',\n",
       "  'quite',\n",
       "  'sure'],\n",
       " ['afraid'],\n",
       " ['ned', 'asked'],\n",
       " ['page', 'little', 'admitted'],\n",
       " ['three'],\n",
       " ['ned', 'frowned'],\n",
       " ['must', 'learn', 'face', 'fears'],\n",
       " ['three', 'forever'],\n",
       " ['winter', 'coming'],\n",
       " ['yes', 'catelyn', 'agreed'],\n",
       " ['words', 'gave', 'chill', 'always'],\n",
       " ['stark', 'words'],\n",
       " ['every', 'noble', 'house', 'words'],\n",
       " ['family',\n",
       "  'mottoes',\n",
       "  'touchstones',\n",
       "  'prayers',\n",
       "  'sorts',\n",
       "  'boasted',\n",
       "  'honor',\n",
       "  'glory',\n",
       "  'promised',\n",
       "  'loyalty',\n",
       "  'truth',\n",
       "  'swore',\n",
       "  'faith',\n",
       "  'courage'],\n",
       " ['starks'],\n",
       " ['winter', 'coming', 'said', 'stark', 'words'],\n",
       " ['first', 'time', 'reflected', 'strange', 'people', 'northerners'],\n",
       " ['man', 'died', 'well', 'give', 'ned', 'said'],\n",
       " ['swatch', 'oiled', 'leather', 'one', 'hand'],\n",
       " ['ran',\n",
       "  'lightly',\n",
       "  'greatsword',\n",
       "  'spoke',\n",
       "  'polishing',\n",
       "  'metal',\n",
       "  'dark',\n",
       "  'glow'],\n",
       " ['glad', 'bran', 'sake'],\n",
       " ['would', 'proud', 'bran'],\n",
       " ['always',\n",
       "  'proud',\n",
       "  'bran',\n",
       "  'catelyn',\n",
       "  'replied',\n",
       "  'watching',\n",
       "  'sword',\n",
       "  'stroked'],\n",
       " ['could',\n",
       "  'see',\n",
       "  'rippling',\n",
       "  'deep',\n",
       "  'within',\n",
       "  'steel',\n",
       "  'metal',\n",
       "  'folded',\n",
       "  'back',\n",
       "  'hundred',\n",
       "  'times',\n",
       "  'forging'],\n",
       " ['catelyn', 'love', 'swords', 'could', 'deny', 'ice', 'beauty'],\n",
       " ['forged',\n",
       "  'valyria',\n",
       "  'doom',\n",
       "  'come',\n",
       "  'old',\n",
       "  'freehold',\n",
       "  'ironsmiths',\n",
       "  'worked',\n",
       "  'metal',\n",
       "  'spells',\n",
       "  'well',\n",
       "  'hammers'],\n",
       " ['four', 'hundred', 'years', 'old', 'sharp', 'day', 'forged'],\n",
       " ['name',\n",
       "  'bore',\n",
       "  'older',\n",
       "  'still',\n",
       "  'legacy',\n",
       "  'age',\n",
       "  'heroes',\n",
       "  'starks',\n",
       "  'kings',\n",
       "  'north'],\n",
       " ['fourth', 'year', 'ned', 'said', 'grimly'],\n",
       " ['poor', 'man', 'half', 'mad'],\n",
       " ['something', 'put', 'fear', 'deep', 'words', 'could', 'reach'],\n",
       " ['sighed'],\n",
       " ['ben', 'writes', 'strength', 'night', 'watch', 'thousand'],\n",
       " ['desertions'],\n",
       " ['losing', 'men', 'rangings', 'well'],\n",
       " ['wildlings'],\n",
       " ['asked'],\n",
       " ['else'],\n",
       " ['ned', 'lifted', 'ice', 'looked', 'cool', 'steel', 'length'],\n",
       " ['grow', 'worse'],\n",
       " ['day',\n",
       "  'may',\n",
       "  'come',\n",
       "  'choice',\n",
       "  'call',\n",
       "  'banners',\n",
       "  'ride',\n",
       "  'north',\n",
       "  'deal',\n",
       "  'kingbeyond',\n",
       "  'wall',\n",
       "  'good'],\n",
       " ['beyond', 'wall'],\n",
       " ['thought', 'made', 'catelyn', 'shudder'],\n",
       " ['ned', 'saw', 'dread', 'face'],\n",
       " ['mance', 'rayder', 'nothing', 'us', 'fear'],\n",
       " ['darker', 'things', 'beyond', 'wall'],\n",
       " ['glanced',\n",
       "  'behind',\n",
       "  'heart',\n",
       "  'tree',\n",
       "  'pale',\n",
       "  'bark',\n",
       "  'red',\n",
       "  'eyes',\n",
       "  'watching',\n",
       "  'listening',\n",
       "  'thinking',\n",
       "  'long',\n",
       "  'slow',\n",
       "  'thoughts'],\n",
       " ['smile', 'gentle'],\n",
       " ['listen', 'many', 'old', 'nan', 'stories'],\n",
       " ['others',\n",
       "  'dead',\n",
       "  'children',\n",
       "  'forest',\n",
       "  'gone',\n",
       "  'eight',\n",
       "  'thousand',\n",
       "  'years'],\n",
       " ['maester', 'luwin', 'tell', 'never', 'lived'],\n",
       " ['living', 'man', 'ever', 'seen', 'one'],\n",
       " ['morning',\n",
       "  'living',\n",
       "  'man',\n",
       "  'ever',\n",
       "  'seen',\n",
       "  'direwolf',\n",
       "  'either',\n",
       "  'catelyn',\n",
       "  'reminded'],\n",
       " ['ought', 'know', 'better', 'argue', 'tully', 'said', 'rueful', 'smile'],\n",
       " ['slid', 'ice', 'back', 'sheath'],\n",
       " ['come', 'tell', 'crib', 'tales'],\n",
       " ['know', 'little', 'like', 'place'],\n",
       " ['lady'],\n",
       " ['catelyn', 'took', 'husband', 'hand'],\n",
       " ['grievous', 'news', 'today', 'lord'],\n",
       " ['wish', 'trouble', 'cleansed'],\n",
       " ['way', 'soften', 'blow', 'told', 'straight'],\n",
       " ['page', 'sorry', 'love'],\n",
       " ['jon', 'arryn', 'dead'],\n",
       " ['eyes', 'found', 'could', 'see', 'hard', 'took', 'known', 'would'],\n",
       " ['youth',\n",
       "  'ned',\n",
       "  'fostered',\n",
       "  'eyrie',\n",
       "  'childless',\n",
       "  'lord',\n",
       "  'arryn',\n",
       "  'become',\n",
       "  'second',\n",
       "  'father',\n",
       "  'fellow',\n",
       "  'ward',\n",
       "  'robert',\n",
       "  'baratheon'],\n",
       " ['mad',\n",
       "  'king',\n",
       "  'aerys',\n",
       "  'targaryen',\n",
       "  'demanded',\n",
       "  'heads',\n",
       "  'lord',\n",
       "  'eyrie',\n",
       "  'raised',\n",
       "  'moon',\n",
       "  'falcon',\n",
       "  'banners',\n",
       "  'revolt',\n",
       "  'rather',\n",
       "  'give',\n",
       "  'pledged',\n",
       "  'protect'],\n",
       " ['one',\n",
       "  'day',\n",
       "  'fifteen',\n",
       "  'years',\n",
       "  'ago',\n",
       "  'second',\n",
       "  'father',\n",
       "  'become',\n",
       "  'brother',\n",
       "  'well',\n",
       "  'ned',\n",
       "  'stood',\n",
       "  'together',\n",
       "  'sept',\n",
       "  'riverrun',\n",
       "  'wed',\n",
       "  'two',\n",
       "  'sisters',\n",
       "  'daughters',\n",
       "  'lord',\n",
       "  'hoster',\n",
       "  'tully'],\n",
       " ['jon'],\n",
       " [],\n",
       " [],\n",
       " ['said'],\n",
       " ['news', 'certain'],\n",
       " ['king', 'seal', 'letter', 'robert', 'hand'],\n",
       " ['saved'],\n",
       " ['said', 'lord', 'arryn', 'taken', 'quickly'],\n",
       " ['even',\n",
       "  'maester',\n",
       "  'pycelle',\n",
       "  'helpless',\n",
       "  'brought',\n",
       "  'milk',\n",
       "  'poppy',\n",
       "  'jon',\n",
       "  'linger',\n",
       "  'long',\n",
       "  'pain'],\n",
       " ['small', 'mercy', 'suppose', 'said'],\n",
       " ['could', 'see', 'grief', 'face', 'even', 'thought', 'first'],\n",
       " ['sister', 'said'],\n",
       " ['jon', 'boy'],\n",
       " ['word'],\n",
       " ['message', 'said', 'well', 'returned', 'eyrie', 'catelyn', 'said'],\n",
       " ['wish', 'gone', 'riverrun', 'instead'],\n",
       " ['eyrie', 'high', 'lonely', 'ever', 'husband', 'place'],\n",
       " ['lord', 'jon', 'memory', 'haunt', 'stone'],\n",
       " ['know', 'sister'],\n",
       " ['needs', 'comfort', 'family', 'friends', 'around'],\n",
       " ['uncle', 'waits', 'vale'],\n",
       " ['jon', 'named', 'knight', 'gate', 'heard'],\n",
       " ['catelyn', 'nodded'],\n",
       " ['brynden', 'boy'],\n",
       " ['comfort', 'still'],\n",
       " [],\n",
       " [],\n",
       " ['go', 'ned', 'urged'],\n",
       " ['take', 'children'],\n",
       " ['fill', 'halls', 'noise', 'shouts', 'laughter'],\n",
       " ['boy', 'needs', 'children', 'lysa', 'alone', 'grief'],\n",
       " ['would', 'could', 'catelyn', 'said'],\n",
       " ['letter', 'tidings'],\n",
       " ['king', 'riding', 'winterfell', 'seek'],\n",
       " ['took',\n",
       "  'ned',\n",
       "  'moment',\n",
       "  'comprehend',\n",
       "  'words',\n",
       "  'understanding',\n",
       "  'came',\n",
       "  'darkness',\n",
       "  'left',\n",
       "  'eyes'],\n",
       " ['robert', 'coming'],\n",
       " ['nodded', 'smile', 'broke', 'across', 'face'],\n",
       " ['catelyn', 'wished', 'could', 'share', 'joy'],\n",
       " ['heard',\n",
       "  'talk',\n",
       "  'yards',\n",
       "  'direwolf',\n",
       "  'dead',\n",
       "  'snow',\n",
       "  'broken',\n",
       "  'antler',\n",
       "  'throat'],\n",
       " ['dread',\n",
       "  'coiled',\n",
       "  'within',\n",
       "  'like',\n",
       "  'snake',\n",
       "  'forced',\n",
       "  'smile',\n",
       "  'man',\n",
       "  'loved',\n",
       "  'man',\n",
       "  'put',\n",
       "  'faith',\n",
       "  'signs'],\n",
       " ['knew', 'would', 'please', 'said'],\n",
       " ['send', 'word', 'brother', 'wall'],\n",
       " ['yes', 'course', 'agreed'],\n",
       " ['ben', 'want'],\n",
       " ['shall', 'tell', 'maester', 'luwin', 'send', 'swiftest', 'bird'],\n",
       " ['ned', 'rose', 'pulled', 'feet'],\n",
       " ['damnation', 'many', 'years'],\n",
       " ['gives', 'us', 'notice'],\n",
       " ['many', 'party', 'message', 'say'],\n",
       " ['think',\n",
       "  'hundred',\n",
       "  'knights',\n",
       "  'least',\n",
       "  'retainers',\n",
       "  'half',\n",
       "  'many',\n",
       "  'freeriders'],\n",
       " ['page', 'cersei', 'children', 'travel'],\n",
       " ['robert', 'keep', 'easy', 'pace', 'sakes', 'said'],\n",
       " ['well'],\n",
       " ['give', 'us', 'time', 'prepare'],\n",
       " ['queen', 'brothers', 'also', 'party', 'told'],\n",
       " ['ned', 'grimaced'],\n",
       " ['small', 'love', 'queen', 'family', 'catelyn', 'knew'],\n",
       " ['lannisters',\n",
       "  'casterly',\n",
       "  'rock',\n",
       "  'come',\n",
       "  'late',\n",
       "  'robert',\n",
       "  'cause',\n",
       "  'victory',\n",
       "  'certain',\n",
       "  'never',\n",
       "  'forgiven'],\n",
       " ['well', 'price', 'robert', 'company', 'infestation', 'lannisters'],\n",
       " ['sounds', 'though', 'robert', 'bringing', 'half', 'court'],\n",
       " ['king', 'goes', 'realm', 'follows', 'said'],\n",
       " ['good', 'see', 'children'],\n",
       " ['youngest',\n",
       "  'still',\n",
       "  'sucking',\n",
       "  'lannister',\n",
       "  'woman',\n",
       "  'teat',\n",
       "  'last',\n",
       "  'time',\n",
       "  'saw'],\n",
       " ['must', 'five'],\n",
       " ['prince', 'tornmen', 'seven', 'told'],\n",
       " ['age', 'bran'],\n",
       " ['please', 'ned', 'guard', 'tongue'],\n",
       " ['lannister',\n",
       "  'woman',\n",
       "  'queen',\n",
       "  'pride',\n",
       "  'said',\n",
       "  'grow',\n",
       "  'every',\n",
       "  'passing',\n",
       "  'year'],\n",
       " ['ned', 'squeezed', 'hand'],\n",
       " ['must', 'feast', 'course', 'singers', 'robert', 'want', 'hunt'],\n",
       " ['shall',\n",
       "  'send',\n",
       "  'jory',\n",
       "  'south',\n",
       "  'honor',\n",
       "  'guard',\n",
       "  'meet',\n",
       "  'kingsroad',\n",
       "  'escort',\n",
       "  'back'],\n",
       " ['gods', 'going', 'feed'],\n",
       " ['way', 'already', 'said'],\n",
       " ['damn', 'man'],\n",
       " ['damn', 'royal', 'hide'],\n",
       " ['daenerys', 'brother', 'held', 'gown', 'inspection'],\n",
       " ['beauty'],\n",
       " ['touch'],\n",
       " ['go'],\n",
       " ['caress', 'fabric'],\n",
       " ['dany', 'touched'],\n",
       " ['cloth', 'smooth', 'seemed', 'run', 'fingers', 'like', 'water'],\n",
       " ['could', 'remember', 'ever', 'wearing', 'anything', 'soft'],\n",
       " ['frightened'],\n",
       " ['pulled', 'hand', 'away'],\n",
       " ['really', 'mine'],\n",
       " ['gift', 'magister', 'illyrio', 'viserys', 'said', 'smiling'],\n",
       " ['brother', 'high', 'mood', 'tonight'],\n",
       " ['color', 'bring', 'violet', 'eyes'],\n",
       " ['shall', 'gold', 'well', 'jewels', 'sorts'],\n",
       " ['illyrio', 'promised'],\n",
       " ['tonight', 'must', 'look', 'like', 'princess'],\n",
       " ['princess', 'dany', 'thought'],\n",
       " ['forgotten', 'like'],\n",
       " ['perhaps', 'never', 'really', 'known'],\n",
       " ['give', 'us', 'much'],\n",
       " ['asked'],\n",
       " ['want', 'us'],\n",
       " ['nigh',\n",
       "  'half',\n",
       "  'year',\n",
       "  'lived',\n",
       "  'magister',\n",
       "  'house',\n",
       "  'eating',\n",
       "  'food',\n",
       "  'pampered',\n",
       "  'servants'],\n",
       " ['dany',\n",
       "  'thirteen',\n",
       "  'old',\n",
       "  'enough',\n",
       "  'know',\n",
       "  'gifts',\n",
       "  'seldom',\n",
       "  'come',\n",
       "  'without',\n",
       "  'price',\n",
       "  'free',\n",
       "  'city',\n",
       "  'pentos'],\n",
       " ['illyrio', 'fool', 'viserys', 'said'],\n",
       " ['gaunt',\n",
       "  'young',\n",
       "  'man',\n",
       "  'nervous',\n",
       "  'hands',\n",
       "  'feverish',\n",
       "  'look',\n",
       "  'pale',\n",
       "  'lilac',\n",
       "  'eyes'],\n",
       " ['magister', 'knows', 'forget', 'friends', 'come', 'throne'],\n",
       " ['dany', 'said', 'nothing'],\n",
       " ['magister',\n",
       "  'illyrio',\n",
       "  'dealer',\n",
       "  'spices',\n",
       "  'gemstones',\n",
       "  'dragonbone',\n",
       "  'less',\n",
       "  'savory',\n",
       "  'things'],\n",
       " ['friends',\n",
       "  'nine',\n",
       "  'free',\n",
       "  'cities',\n",
       "  'said',\n",
       "  'even',\n",
       "  'beyond',\n",
       "  'vaes',\n",
       "  'dothrak',\n",
       "  'fabled',\n",
       "  'lands',\n",
       "  'beside',\n",
       "  'jade',\n",
       "  'sea'],\n",
       " ['also',\n",
       "  'said',\n",
       "  'never',\n",
       "  'friend',\n",
       "  'page',\n",
       "  'cheerfully',\n",
       "  'sell',\n",
       "  'right',\n",
       "  'price'],\n",
       " ['dany',\n",
       "  'listened',\n",
       "  'talk',\n",
       "  'streets',\n",
       "  'heard',\n",
       "  'things',\n",
       "  'knew',\n",
       "  'better',\n",
       "  'question',\n",
       "  'brother',\n",
       "  'wove',\n",
       "  'webs',\n",
       "  'dream'],\n",
       " ['anger', 'terrible', 'thing', 'roused'],\n",
       " ['viserys', 'called', 'waking', 'dragon'],\n",
       " ['brother', 'hung', 'gown', 'beside', 'door'],\n",
       " ['illyrio', 'send', 'slaves', 'bathe'],\n",
       " ['sure', 'wash', 'stink', 'stables'],\n",
       " ['khal',\n",
       "  'drogo',\n",
       "  'thousand',\n",
       "  'horses',\n",
       "  'tonight',\n",
       "  'looks',\n",
       "  'different',\n",
       "  'sort',\n",
       "  'mount'],\n",
       " ['studied', 'critically'],\n",
       " ['still', 'slouch'],\n",
       " ['straighten', 'pushed', 'back', 'shoulders', 'hands'],\n",
       " ['let', 'see', 'woman', 'shape'],\n",
       " ['fingers',\n",
       "  'brushed',\n",
       "  'lightly',\n",
       "  'budding',\n",
       "  'breasts',\n",
       "  'tightened',\n",
       "  'nipple'],\n",
       " ['fail', 'tonight'],\n",
       " ['go', 'hard'],\n",
       " ['want', 'wake', 'dragon'],\n",
       " ['fingers',\n",
       "  'twisted',\n",
       "  'pinch',\n",
       "  'cruelly',\n",
       "  'hard',\n",
       "  'rough',\n",
       "  'fabric',\n",
       "  'tunic'],\n",
       " [],\n",
       " ['repeated'],\n",
       " ['dany', 'said', 'meekly'],\n",
       " ['brother', 'smiled'],\n",
       " ['good'],\n",
       " ['touched', 'hair', 'almost', 'affection'],\n",
       " ['write', 'history', 'reign', 'sweet', 'sister', 'say', 'began', 'tonight'],\n",
       " ['gone', 'dany', 'went', 'window', 'looked', 'wistfully', 'waters', 'bay'],\n",
       " ['square',\n",
       "  'brick',\n",
       "  'towers',\n",
       "  'pentos',\n",
       "  'black',\n",
       "  'silhouettes',\n",
       "  'outlined',\n",
       "  'setting',\n",
       "  'sun'],\n",
       " ['dany',\n",
       "  'could',\n",
       "  'hear',\n",
       "  'singing',\n",
       "  'red',\n",
       "  'priests',\n",
       "  'lit',\n",
       "  'night',\n",
       "  'fires',\n",
       "  'shouts',\n",
       "  'ragged',\n",
       "  'children',\n",
       "  'playing',\n",
       "  'games',\n",
       "  'beyond',\n",
       "  'walls',\n",
       "  'estate'],\n",
       " ['moment',\n",
       "  'wished',\n",
       "  'could',\n",
       "  'barefoot',\n",
       "  'breathless',\n",
       "  'dressed',\n",
       "  'tatters',\n",
       "  'past',\n",
       "  'future',\n",
       "  'feast',\n",
       "  'attend',\n",
       "  'khal',\n",
       "  'drogo',\n",
       "  'manse'],\n",
       " ['somewhere',\n",
       "  'beyond',\n",
       "  'sunset',\n",
       "  'across',\n",
       "  'narrow',\n",
       "  'sea',\n",
       "  'lay',\n",
       "  'land',\n",
       "  'green',\n",
       "  'hills',\n",
       "  'flowered',\n",
       "  'plains',\n",
       "  'great',\n",
       "  'rushing',\n",
       "  'rivers',\n",
       "  'towers',\n",
       "  'dark',\n",
       "  'stone',\n",
       "  'rose',\n",
       "  'amidst',\n",
       "  'magnificent',\n",
       "  'blue',\n",
       "  'grey',\n",
       "  'mountains',\n",
       "  'armored',\n",
       "  'knights',\n",
       "  'rode',\n",
       "  'battle',\n",
       "  'beneath',\n",
       "  'banners',\n",
       "  'lords'],\n",
       " ['dothraki', 'called', 'land', 'rhaesh', 'andahli', 'land', 'andals'],\n",
       " ['free', 'cities', 'talked', 'westeros', 'sunset', 'kingdoms'],\n",
       " ['brother', 'simpler', 'name'],\n",
       " ['land', 'called'],\n",
       " ['words', 'like', 'prayer'],\n",
       " ['said', 'enough', 'gods', 'sure', 'hear'],\n",
       " ['blood', 'right', 'taken', 'us', 'treachery', 'still', 'forever'],\n",
       " ['steal', 'dragon', 'oh'],\n",
       " ['dragon', 'remembers'],\n",
       " ['perhaps', 'dragon', 'remember', 'dany', 'could'],\n",
       " ['never',\n",
       "  'seen',\n",
       "  'land',\n",
       "  'brother',\n",
       "  'said',\n",
       "  'realm',\n",
       "  'beyond',\n",
       "  'narrow',\n",
       "  'sea'],\n",
       " ['places',\n",
       "  'talked',\n",
       "  'casterly',\n",
       "  'rock',\n",
       "  'eyrie',\n",
       "  'highgarden',\n",
       "  'vale',\n",
       "  'arryn',\n",
       "  'dorne',\n",
       "  'isle',\n",
       "  'faces',\n",
       "  'words'],\n",
       " ['viserys',\n",
       "  'boy',\n",
       "  'eight',\n",
       "  'fled',\n",
       "  'king',\n",
       "  'landing',\n",
       "  'escape',\n",
       "  'advancing',\n",
       "  'armies',\n",
       "  'usurper',\n",
       "  'daenerys',\n",
       "  'quickening',\n",
       "  'mother',\n",
       "  'womb'],\n",
       " ['yet',\n",
       "  'sometimes',\n",
       "  'dany',\n",
       "  'would',\n",
       "  'picture',\n",
       "  'way',\n",
       "  'often',\n",
       "  'brother',\n",
       "  'told',\n",
       "  'stories'],\n",
       " ['midnight',\n",
       "  'flight',\n",
       "  'dragonstone',\n",
       "  'moonlight',\n",
       "  'shimmering',\n",
       "  'ship',\n",
       "  'black',\n",
       "  'sails'],\n",
       " ['brother',\n",
       "  'rhaegar',\n",
       "  'battling',\n",
       "  'usurper',\n",
       "  'bloody',\n",
       "  'waters',\n",
       "  'trident',\n",
       "  'dying',\n",
       "  'woman',\n",
       "  'loved'],\n",
       " ['sack',\n",
       "  'king',\n",
       "  'landing',\n",
       "  'ones',\n",
       "  'viserys',\n",
       "  'called',\n",
       "  'usurper',\n",
       "  'dogs',\n",
       "  'lords',\n",
       "  'lannister',\n",
       "  'stark'],\n",
       " ['princess',\n",
       "  'elia',\n",
       "  'dorne',\n",
       "  'pleading',\n",
       "  'mercy',\n",
       "  'rhaegar',\n",
       "  'heir',\n",
       "  'ripped',\n",
       "  'breast',\n",
       "  'murdered',\n",
       "  'eyes'],\n",
       " ['polished',\n",
       "  'skulls',\n",
       "  'last',\n",
       "  'dragons',\n",
       "  'staring',\n",
       "  'sightlessly',\n",
       "  'walls',\n",
       "  'throne',\n",
       "  'room',\n",
       "  'kingslayer',\n",
       "  'opened',\n",
       "  'father',\n",
       "  'throat',\n",
       "  'golden',\n",
       "  'sword'],\n",
       " ['born',\n",
       "  'dragonstone',\n",
       "  'nine',\n",
       "  'moons',\n",
       "  'flight',\n",
       "  'raging',\n",
       "  'summer',\n",
       "  'storm',\n",
       "  'threatened',\n",
       "  'rip',\n",
       "  'island',\n",
       "  'fastness',\n",
       "  'apart'],\n",
       " ['said', 'storm', 'terrible'],\n",
       " ['targaryen',\n",
       "  'fleet',\n",
       "  'smashed',\n",
       "  'lay',\n",
       "  'anchor',\n",
       "  'huge',\n",
       "  'stone',\n",
       "  'blocks',\n",
       "  'ripped',\n",
       "  'parapets',\n",
       "  'sent',\n",
       "  'hurtling',\n",
       "  'wild',\n",
       "  'waters',\n",
       "  'narrow',\n",
       "  'sea'],\n",
       " ['mother',\n",
       "  'died',\n",
       "  'birthing',\n",
       "  'brother',\n",
       "  'viserys',\n",
       "  'never',\n",
       "  'page',\n",
       "  'forgiven'],\n",
       " ['remember', 'dragonstone', 'either'],\n",
       " ['run', 'usurper', 'brother', 'set', 'sail', 'new', 'built', 'fleet'],\n",
       " ['dragonstone', 'ancient', 'seat', 'house', 'remained', 'seven', 'kingdoms'],\n",
       " ['would', 'remain', 'long'],\n",
       " ['garrison',\n",
       "  'prepared',\n",
       "  'sell',\n",
       "  'usurper',\n",
       "  'one',\n",
       "  'night',\n",
       "  'ser',\n",
       "  'willem',\n",
       "  'darry',\n",
       "  'four',\n",
       "  'loyal',\n",
       "  'men',\n",
       "  'broken',\n",
       "  'nursery',\n",
       "  'stolen',\n",
       "  'along',\n",
       "  'wet',\n",
       "  'nurse',\n",
       "  'set',\n",
       "  'sail',\n",
       "  'cover',\n",
       "  'darkness',\n",
       "  'safety',\n",
       "  'braavosian',\n",
       "  'coast'],\n",
       " ['remembered',\n",
       "  'ser',\n",
       "  'willem',\n",
       "  'dimly',\n",
       "  'great',\n",
       "  'grey',\n",
       "  'bear',\n",
       "  'man',\n",
       "  'halfblind',\n",
       "  'roaring',\n",
       "  'bellowing',\n",
       "  'orders',\n",
       "  'sickbed'],\n",
       " ['servants', 'lived', 'terror', 'always', 'kind', 'dany'],\n",
       " ['called',\n",
       "  'little',\n",
       "  'princess',\n",
       "  'sometimes',\n",
       "  'lady',\n",
       "  'hands',\n",
       "  'soft',\n",
       "  'old',\n",
       "  'leather'],\n",
       " ['never',\n",
       "  'left',\n",
       "  'bed',\n",
       "  'though',\n",
       "  'smell',\n",
       "  'sickness',\n",
       "  'clung',\n",
       "  'day',\n",
       "  'night',\n",
       "  'hot',\n",
       "  'moist',\n",
       "  'sickly',\n",
       "  'sweet',\n",
       "  'odor'],\n",
       " ['lived', 'braavos', 'big', 'house', 'red', 'door'],\n",
       " ['dany', 'room', 'lemon', 'tree', 'outside', 'window'],\n",
       " ['ser',\n",
       "  'willem',\n",
       "  'died',\n",
       "  'servants',\n",
       "  'stolen',\n",
       "  'little',\n",
       "  'money',\n",
       "  'left',\n",
       "  'soon',\n",
       "  'put',\n",
       "  'big',\n",
       "  'house'],\n",
       " ['dany', 'cried', 'red', 'door', 'closed', 'behind', 'forever'],\n",
       " ['wandered',\n",
       "  'since',\n",
       "  'braavos',\n",
       "  'myr',\n",
       "  'myr',\n",
       "  'tyrosh',\n",
       "  'qohor',\n",
       "  'volantis',\n",
       "  'lys',\n",
       "  'never',\n",
       "  'staying',\n",
       "  'long',\n",
       "  'one',\n",
       "  'place'],\n",
       " ['brother', 'would', 'allow'],\n",
       " ['usurper',\n",
       "  'hired',\n",
       "  'knives',\n",
       "  'close',\n",
       "  'behind',\n",
       "  'insisted',\n",
       "  'though',\n",
       "  'dany',\n",
       "  'never',\n",
       "  'seen',\n",
       "  'one'],\n",
       " ['first',\n",
       "  'magisters',\n",
       "  'archons',\n",
       "  'merchant',\n",
       "  'princes',\n",
       "  'pleased',\n",
       "  'welcome',\n",
       "  'last',\n",
       "  'targaryens',\n",
       "  'homes',\n",
       "  'tables',\n",
       "  'years',\n",
       "  'passed',\n",
       "  'usurper',\n",
       "  'continued',\n",
       "  'sit',\n",
       "  'upon',\n",
       "  'iron',\n",
       "  'throne',\n",
       "  'doors',\n",
       "  'closed',\n",
       "  'lives',\n",
       "  'grew',\n",
       "  'meaner'],\n",
       " ['years',\n",
       "  'past',\n",
       "  'forced',\n",
       "  'sell',\n",
       "  'last',\n",
       "  'treasures',\n",
       "  'even',\n",
       "  'coin',\n",
       "  'gotten',\n",
       "  'mother',\n",
       "  'crown',\n",
       "  'gone'],\n",
       " ['alleys', 'wine', 'sinks', 'pentos', 'called', 'brother', 'beggar', 'king'],\n",
       " ['dany', 'want', 'know', 'called'],\n",
       " ['back', 'someday', 'sweet', 'sister', 'would', 'promise'],\n",
       " ['sometimes', 'hands', 'shook', 'talked'],\n",
       " ['jewels',\n",
       "  'silks',\n",
       "  'dragonstone',\n",
       "  'king',\n",
       "  'landing',\n",
       "  'iron',\n",
       "  'throne',\n",
       "  'seven',\n",
       "  'kingdoms',\n",
       "  'taken',\n",
       "  'us',\n",
       "  'back'],\n",
       " ['viserys', 'lived', 'day'],\n",
       " ['daenerys',\n",
       "  'wanted',\n",
       "  'back',\n",
       "  'big',\n",
       "  'house',\n",
       "  'red',\n",
       "  'door',\n",
       "  'lemon',\n",
       "  'tree',\n",
       "  'outside',\n",
       "  'window',\n",
       "  'childhood',\n",
       "  'never',\n",
       "  'known'],\n",
       " ['came', 'soft', 'knock', 'door'],\n",
       " ['come', 'dany', 'said', 'turning', 'away', 'window'],\n",
       " ['illyrio', 'servants', 'entered', 'bowed', 'set', 'business'],\n",
       " ['slaves', 'gift', 'one', 'magister', 'many', 'dothraki', 'friends'],\n",
       " ['slavery', 'free', 'city', 'pentos'],\n",
       " ['nonetheless', 'slaves'],\n",
       " ['old',\n",
       "  'woman',\n",
       "  'small',\n",
       "  'grey',\n",
       "  'mouse',\n",
       "  'never',\n",
       "  'said',\n",
       "  'word',\n",
       "  'girl',\n",
       "  'made'],\n",
       " ['illyrio',\n",
       "  'favorite',\n",
       "  'fair',\n",
       "  'haired',\n",
       "  'blue',\n",
       "  'eyed',\n",
       "  'wench',\n",
       "  'sixteen',\n",
       "  'chattered',\n",
       "  'constantly',\n",
       "  'worked'],\n",
       " ['filled',\n",
       "  'bath',\n",
       "  'hot',\n",
       "  'water',\n",
       "  'brought',\n",
       "  'kitchen',\n",
       "  'scented',\n",
       "  'fragrant',\n",
       "  'oils'],\n",
       " ['girl',\n",
       "  'pulled',\n",
       "  'rough',\n",
       "  'cotton',\n",
       "  'tunic',\n",
       "  'dany',\n",
       "  'head',\n",
       "  'helped',\n",
       "  'tub'],\n",
       " ['water', 'scalding', 'hot', 'daenerys', 'flinch', 'cry'],\n",
       " ['liked', 'heat'],\n",
       " ['made', 'feel', 'clean'],\n",
       " ['besides', 'brother', 'often', 'told', 'never', 'hot', 'targaryen'],\n",
       " ['house', 'dragon', 'would', 'say'],\n",
       " ['fire', 'blood'],\n",
       " ['old',\n",
       "  'woman',\n",
       "  'washed',\n",
       "  'long',\n",
       "  'silver',\n",
       "  'pale',\n",
       "  'hair',\n",
       "  'gently',\n",
       "  'combed',\n",
       "  'snags',\n",
       "  'silence'],\n",
       " ['girl', 'scrubbed', 'back', 'feet', 'told', 'lucky'],\n",
       " ['drogo', 'rich', 'even', 'slaves', 'page', 'wear', 'golden', 'collars'],\n",
       " ['hundred',\n",
       "  'thousand',\n",
       "  'men',\n",
       "  'ride',\n",
       "  'khalasar',\n",
       "  'palace',\n",
       "  'vaes',\n",
       "  'dothrak',\n",
       "  'two',\n",
       "  'hundred',\n",
       "  'rooms',\n",
       "  'doors',\n",
       "  'solid',\n",
       "  'silver'],\n",
       " ['like',\n",
       "  'much',\n",
       "  'handsome',\n",
       "  'man',\n",
       "  'khal',\n",
       "  'tall',\n",
       "  'fierce',\n",
       "  'fearless',\n",
       "  'battle',\n",
       "  'best',\n",
       "  'rider',\n",
       "  'ever',\n",
       "  'mount',\n",
       "  'horse',\n",
       "  'demon',\n",
       "  'archer'],\n",
       " ['daenerys', 'said', 'nothing'],\n",
       " ...]"
      ]
     },
     "execution_count": 25,
     "metadata": {},
     "output_type": "execute_result"
    }
   ],
   "source": [
    "story"
   ]
  },
  {
   "cell_type": "code",
   "execution_count": 26,
   "id": "95256ed4-fff8-4ee1-be0f-af9daef34e76",
   "metadata": {},
   "outputs": [],
   "source": [
    "model=gensim.models.Word2Vec(\n",
    "    window= 10,\n",
    "    min_count= 2\n",
    ")"
   ]
  },
  {
   "cell_type": "code",
   "execution_count": 27,
   "id": "6644e553",
   "metadata": {},
   "outputs": [],
   "source": [
    "model.build_vocab(story)"
   ]
  },
  {
   "cell_type": "code",
   "execution_count": 28,
   "id": "11a5e47b-0e14-44aa-9352-db50ad9b937c",
   "metadata": {},
   "outputs": [
    {
     "data": {
      "text/plain": [
       "(4396539, 4579390)"
      ]
     },
     "execution_count": 28,
     "metadata": {},
     "output_type": "execute_result"
    }
   ],
   "source": [
    "model.train(story,total_examples=model.corpus_count,epochs=model.epochs)"
   ]
  },
  {
   "cell_type": "code",
   "execution_count": 29,
   "id": "189c6b7d-8994-456c-afd4-b2988b1d66ba",
   "metadata": {},
   "outputs": [
    {
     "data": {
      "text/plain": [
       "[('steward', 0.85390704870224),\n",
       " ('wyman', 0.853133499622345),\n",
       " ('janos', 0.8506969809532166),\n",
       " ('manderly', 0.8468608260154724),\n",
       " ('randyll', 0.846759021282196),\n",
       " ('jason', 0.8384342193603516),\n",
       " ('tarly', 0.8297778367996216),\n",
       " ('locke', 0.8219822645187378),\n",
       " ('nestor', 0.8152021169662476),\n",
       " ('umber', 0.8147589564323425)]"
      ]
     },
     "execution_count": 29,
     "metadata": {},
     "output_type": "execute_result"
    }
   ],
   "source": [
    "model.wv.most_similar('commander')"
   ]
  },
  {
   "cell_type": "code",
   "execution_count": 30,
   "id": "ef80aa2a",
   "metadata": {},
   "outputs": [
    {
     "data": {
      "text/plain": [
       "[('stormborn', 0.8927571177482605),\n",
       " ('unburnt', 0.8858948945999146),\n",
       " ('dorne', 0.8336957097053528),\n",
       " ('myrcella', 0.831866443157196),\n",
       " ('viserys', 0.8242335319519043),\n",
       " ('elia', 0.8207799792289734),\n",
       " ('mopatis', 0.8186942934989929),\n",
       " ('court', 0.8173956274986267),\n",
       " ('doran', 0.8094561696052551),\n",
       " ('targaryen', 0.8071060180664062)]"
      ]
     },
     "execution_count": 30,
     "metadata": {},
     "output_type": "execute_result"
    }
   ],
   "source": [
    "model.wv.most_similar('daenerys')"
   ]
  },
  {
   "cell_type": "code",
   "execution_count": 31,
   "id": "ceefa7e5-2baf-459a-95dc-636c6ee8844d",
   "metadata": {},
   "outputs": [
    {
     "data": {
      "text/plain": [
       "'jon'"
      ]
     },
     "execution_count": 31,
     "metadata": {},
     "output_type": "execute_result"
    }
   ],
   "source": [
    "model.wv.doesnt_match(['jon','arya','sansa','bran','robb','rikon'])"
   ]
  },
  {
   "cell_type": "code",
   "execution_count": 32,
   "id": "28e3e61a-a074-428f-9774-ea4c7d5d360d",
   "metadata": {},
   "outputs": [
    {
     "data": {
      "text/plain": [
       "(100,)"
      ]
     },
     "execution_count": 32,
     "metadata": {},
     "output_type": "execute_result"
    }
   ],
   "source": [
    "model.wv['jon'].shape"
   ]
  },
  {
   "cell_type": "code",
   "execution_count": 33,
   "id": "244eab64-b08a-4d37-8fee-fd523d373ab5",
   "metadata": {},
   "outputs": [
    {
     "data": {
      "text/plain": [
       "0.51321816"
      ]
     },
     "execution_count": 33,
     "metadata": {},
     "output_type": "execute_result"
    }
   ],
   "source": [
    "model.wv.similarity('arya','jon')"
   ]
  },
  {
   "cell_type": "code",
   "execution_count": 34,
   "id": "b6908750-2816-40f8-9860-f433c5f3291b",
   "metadata": {},
   "outputs": [
    {
     "data": {
      "text/plain": [
       "0.7996197"
      ]
     },
     "execution_count": 34,
     "metadata": {},
     "output_type": "execute_result"
    }
   ],
   "source": [
    "model.wv.similarity('arya','sansa')"
   ]
  },
  {
   "cell_type": "code",
   "execution_count": 35,
   "id": "776ddd79-ac6a-4276-bc8c-0b30fd47fa9f",
   "metadata": {},
   "outputs": [
    {
     "data": {
      "text/plain": [
       "0.59991324"
      ]
     },
     "execution_count": 35,
     "metadata": {},
     "output_type": "execute_result"
    }
   ],
   "source": [
    "model.wv.similarity('arya','wolf')"
   ]
  },
  {
   "cell_type": "code",
   "execution_count": 36,
   "id": "85b83857-62df-40d4-8b51-78e7e1e64314",
   "metadata": {},
   "outputs": [
    {
     "data": {
      "text/plain": [
       "(17310, 100)"
      ]
     },
     "execution_count": 36,
     "metadata": {},
     "output_type": "execute_result"
    }
   ],
   "source": [
    "model.wv.get_normed_vectors().shape"
   ]
  },
  {
   "cell_type": "code",
   "execution_count": 37,
   "id": "1b1ea261-acc0-45e8-bca3-6e861aa7fc9d",
   "metadata": {},
   "outputs": [
    {
     "data": {
      "text/plain": [
       "['said',\n",
       " 'lord',\n",
       " 'would',\n",
       " 'one',\n",
       " 'ser',\n",
       " 'could',\n",
       " 'man',\n",
       " 'king',\n",
       " 'men',\n",
       " 'back',\n",
       " 'well',\n",
       " 'like',\n",
       " 'jon',\n",
       " 'father',\n",
       " 'old',\n",
       " 'hand',\n",
       " 'even',\n",
       " 'tyrion',\n",
       " 'never',\n",
       " 'know',\n",
       " 'see',\n",
       " 'made',\n",
       " 'eyes',\n",
       " 'black',\n",
       " 'told',\n",
       " 'lady',\n",
       " 'thought',\n",
       " 'time',\n",
       " 'long',\n",
       " 'might',\n",
       " 'us',\n",
       " 'come',\n",
       " 'face',\n",
       " 'still',\n",
       " 'head',\n",
       " 'red',\n",
       " 'way',\n",
       " 'boy',\n",
       " 'page',\n",
       " 'must',\n",
       " 'queen',\n",
       " 'good',\n",
       " 'two',\n",
       " 'brother',\n",
       " 'night',\n",
       " 'little',\n",
       " 'took',\n",
       " 'came',\n",
       " 'though',\n",
       " 'say',\n",
       " 'three',\n",
       " 'away',\n",
       " 'dead',\n",
       " 'son',\n",
       " 'blood',\n",
       " 'take',\n",
       " 'go',\n",
       " 'half',\n",
       " 'make',\n",
       " 'arya',\n",
       " 'saw',\n",
       " 'day',\n",
       " 'white',\n",
       " 'jaime',\n",
       " 'first',\n",
       " 'look',\n",
       " 'want',\n",
       " 'much',\n",
       " 'enough',\n",
       " 'sword',\n",
       " 'tell',\n",
       " 'girl',\n",
       " 'bran',\n",
       " 'great',\n",
       " 'looked',\n",
       " 'left',\n",
       " 'knew',\n",
       " 'asked',\n",
       " 'gave',\n",
       " 'maester',\n",
       " 'called',\n",
       " 'wall',\n",
       " 'every',\n",
       " 'heard',\n",
       " 'sansa',\n",
       " 'let',\n",
       " 'yet',\n",
       " 'went',\n",
       " 'turned',\n",
       " 'dany',\n",
       " 'need',\n",
       " 'behind',\n",
       " 'around',\n",
       " 'woman',\n",
       " 'another',\n",
       " 'snow',\n",
       " 'beneath',\n",
       " 'across',\n",
       " 'knight',\n",
       " 'keep',\n",
       " 'grace',\n",
       " 'found',\n",
       " 'gold',\n",
       " 'last',\n",
       " 'cersei',\n",
       " 'castle',\n",
       " 'stark',\n",
       " 'gods',\n",
       " 'think',\n",
       " 'hair',\n",
       " 'many',\n",
       " 'feet',\n",
       " 'hands',\n",
       " 'stannis',\n",
       " 'mother',\n",
       " 'catelyn',\n",
       " 'robert',\n",
       " 'seemed',\n",
       " 'prince',\n",
       " 'may',\n",
       " 'ever',\n",
       " 'robb',\n",
       " 'done',\n",
       " 'find',\n",
       " 'lannister',\n",
       " 'hear',\n",
       " 'name',\n",
       " 'grey',\n",
       " 'horse',\n",
       " 'high',\n",
       " 'put',\n",
       " 'wine',\n",
       " 'stone',\n",
       " 'hard',\n",
       " 'water',\n",
       " 'fire',\n",
       " 'upon',\n",
       " 'iron',\n",
       " 'voice',\n",
       " 'gone',\n",
       " 'give',\n",
       " 'sam',\n",
       " 'seen',\n",
       " 'better',\n",
       " 'shall',\n",
       " 'ned',\n",
       " 'always',\n",
       " 'years',\n",
       " 'dark',\n",
       " 'place',\n",
       " 'small',\n",
       " 'cold',\n",
       " 'winterfell',\n",
       " 'hundred',\n",
       " 'stood',\n",
       " 'end',\n",
       " 'sister',\n",
       " 'words',\n",
       " 'sea',\n",
       " 'right',\n",
       " 'nothing',\n",
       " 'walls',\n",
       " 'fingers',\n",
       " 'house',\n",
       " 'cloak',\n",
       " 'young',\n",
       " 'beside',\n",
       " 'get',\n",
       " 'seven',\n",
       " 'mouth',\n",
       " 'watch',\n",
       " 'door',\n",
       " 'joffrey',\n",
       " 'green',\n",
       " 'big',\n",
       " 'sent',\n",
       " 'perhaps',\n",
       " 'almost',\n",
       " 'wanted',\n",
       " 'true',\n",
       " 'daughter',\n",
       " 'leave',\n",
       " 'wind',\n",
       " 'city',\n",
       " 'light',\n",
       " 'arms',\n",
       " 'children',\n",
       " 'sweet',\n",
       " 'others',\n",
       " 'lost',\n",
       " 'theon',\n",
       " 'felt',\n",
       " 'side',\n",
       " 'yes',\n",
       " 'brothers',\n",
       " 'best',\n",
       " 'die',\n",
       " 'brought',\n",
       " 'soon',\n",
       " 'died',\n",
       " 'far',\n",
       " 'north',\n",
       " 'child',\n",
       " 'fear',\n",
       " 'along',\n",
       " 'word',\n",
       " 'brienne',\n",
       " 'taken',\n",
       " 'battle',\n",
       " 'help',\n",
       " 'new',\n",
       " 'tywin',\n",
       " 'lords',\n",
       " 'davos',\n",
       " 'something',\n",
       " 'wife',\n",
       " 'mean',\n",
       " 'hall',\n",
       " 'rest',\n",
       " 'kill',\n",
       " 'strong',\n",
       " 'steel',\n",
       " 'began',\n",
       " 'sound',\n",
       " 'dragon',\n",
       " 'past',\n",
       " 'life',\n",
       " 'tower',\n",
       " 'killed',\n",
       " 'arm',\n",
       " 'free',\n",
       " 'sons',\n",
       " 'tried',\n",
       " 'thing',\n",
       " 'bear',\n",
       " 'days',\n",
       " 'bloody',\n",
       " 'heart',\n",
       " 'pale',\n",
       " 'love',\n",
       " 'sat',\n",
       " 'moment',\n",
       " 'bring',\n",
       " 'bed',\n",
       " 'close',\n",
       " 'knights',\n",
       " 'cut',\n",
       " 'wolf',\n",
       " 'smile',\n",
       " 'death',\n",
       " 'horses',\n",
       " 'inside',\n",
       " 'four',\n",
       " 'brown',\n",
       " 'dragons',\n",
       " 'hot',\n",
       " 'silver',\n",
       " 'part',\n",
       " 'bastard',\n",
       " 'open',\n",
       " 'thousand',\n",
       " 'landing',\n",
       " 'uncle',\n",
       " 'going',\n",
       " 'blue',\n",
       " 'air',\n",
       " 'captain',\n",
       " 'please',\n",
       " 'laughed',\n",
       " 'river',\n",
       " 'sun',\n",
       " 'rose',\n",
       " 'fell',\n",
       " 'war',\n",
       " 'golden',\n",
       " 'sleep',\n",
       " 'without',\n",
       " 'swords',\n",
       " 'speak',\n",
       " 'renly',\n",
       " 'fool',\n",
       " 'full',\n",
       " 'certain',\n",
       " 'beyond',\n",
       " 'feel',\n",
       " 'send',\n",
       " 'tongue',\n",
       " 'got',\n",
       " 'fight',\n",
       " 'rode',\n",
       " 'set',\n",
       " 'thick',\n",
       " 'throat',\n",
       " 'world',\n",
       " 'legs',\n",
       " 'deep',\n",
       " 'call',\n",
       " 'honor',\n",
       " 'trees',\n",
       " 'rock',\n",
       " 'tall',\n",
       " 'table',\n",
       " 'pulled',\n",
       " 'broken',\n",
       " 'women',\n",
       " 'mormont',\n",
       " 'steps',\n",
       " 'things',\n",
       " 'next',\n",
       " 'hodor',\n",
       " 'heavy',\n",
       " 'burned',\n",
       " 'oh',\n",
       " 'toward',\n",
       " 'together',\n",
       " 'skin',\n",
       " 'given',\n",
       " 'since',\n",
       " 'dwarf',\n",
       " 'alone',\n",
       " 'smiled',\n",
       " 'moved',\n",
       " 'storm',\n",
       " 'raised',\n",
       " 'ride',\n",
       " 'ask',\n",
       " 'eye',\n",
       " 'hope',\n",
       " 'soft',\n",
       " 'reached',\n",
       " 'frey',\n",
       " 'second',\n",
       " 'remember',\n",
       " 'someone',\n",
       " 'remembered',\n",
       " 'coming',\n",
       " 'cannot',\n",
       " 'hold',\n",
       " 'meant',\n",
       " 'morning',\n",
       " 'ten',\n",
       " 'else',\n",
       " 'teeth',\n",
       " 'throne',\n",
       " 'command',\n",
       " 'fat',\n",
       " 'truth',\n",
       " 'walder',\n",
       " 'commander',\n",
       " 'ground',\n",
       " 'doubt',\n",
       " 'jorah',\n",
       " 'cup',\n",
       " 'outside',\n",
       " 'known',\n",
       " 'wore',\n",
       " 'ran',\n",
       " 'gate',\n",
       " 'held',\n",
       " 'room',\n",
       " 'closed',\n",
       " 'home',\n",
       " 'matter',\n",
       " 'wood',\n",
       " 'south',\n",
       " 'sky',\n",
       " 'people',\n",
       " 'wed',\n",
       " 'dozen',\n",
       " 'neck',\n",
       " 'food',\n",
       " 'riverrun',\n",
       " 'instead',\n",
       " 'near',\n",
       " 'talk',\n",
       " 'turn',\n",
       " 'none',\n",
       " 'ships',\n",
       " 'tyrell',\n",
       " 'moon',\n",
       " 'shadow',\n",
       " 'summer',\n",
       " 'lips',\n",
       " 'bolton',\n",
       " 'watched',\n",
       " 'times',\n",
       " 'leather',\n",
       " 'varys',\n",
       " 'shoulder',\n",
       " 'warm',\n",
       " 'septon',\n",
       " 'caught',\n",
       " 'believe',\n",
       " 'least',\n",
       " 'guards',\n",
       " 'answer',\n",
       " 'god',\n",
       " 'blade',\n",
       " 'ice',\n",
       " 'wondered',\n",
       " 'shield',\n",
       " 'barristan',\n",
       " 'mine',\n",
       " 'opened',\n",
       " 'armor',\n",
       " 'safe',\n",
       " 'six',\n",
       " 'kept',\n",
       " 'wish',\n",
       " 'return',\n",
       " 'tommen',\n",
       " 'used',\n",
       " 'smell',\n",
       " 'less',\n",
       " 'foot',\n",
       " 'squire',\n",
       " 'floor',\n",
       " 'eddard',\n",
       " 'empty',\n",
       " 'followed',\n",
       " 'run',\n",
       " 'friends',\n",
       " 'serve',\n",
       " 'boys',\n",
       " 'beard',\n",
       " 'cloaks',\n",
       " 'baratheon',\n",
       " 'wedding',\n",
       " 'wrong',\n",
       " 'eat',\n",
       " 'ghost',\n",
       " 'daenerys',\n",
       " 'sight',\n",
       " 'flesh',\n",
       " 'five',\n",
       " 'hound',\n",
       " 'ship',\n",
       " 'strength',\n",
       " 'nose',\n",
       " 'returned',\n",
       " 'bones',\n",
       " 'crown',\n",
       " 'yellow',\n",
       " 'chest',\n",
       " 'covered',\n",
       " 'commanded',\n",
       " 'says',\n",
       " 'petyr',\n",
       " 'sometimes',\n",
       " 'aemon',\n",
       " 'filled',\n",
       " 'friend',\n",
       " 'led',\n",
       " 'common',\n",
       " 'aye',\n",
       " 'fighting',\n",
       " 'spoke',\n",
       " 'flames',\n",
       " 'show',\n",
       " 'huge',\n",
       " 'asha',\n",
       " 'lysa',\n",
       " 'aside',\n",
       " 'crow',\n",
       " 'belly',\n",
       " 'master',\n",
       " 'seem',\n",
       " 'breath',\n",
       " 'yard',\n",
       " 'gates',\n",
       " 'waiting',\n",
       " 'within',\n",
       " 'looking',\n",
       " 'wooden',\n",
       " 'wet',\n",
       " 'realm',\n",
       " 'thin',\n",
       " 'work',\n",
       " 'promised',\n",
       " 'use',\n",
       " 'bad',\n",
       " 'later',\n",
       " 'tree',\n",
       " 'husband',\n",
       " 'grew',\n",
       " 'onto',\n",
       " 'loved',\n",
       " 'wildlings',\n",
       " 'afraid',\n",
       " 'greyjoy',\n",
       " 'girls',\n",
       " 'rain',\n",
       " 'shoulders',\n",
       " 'walked',\n",
       " 'shouted',\n",
       " 'maid',\n",
       " 'mance',\n",
       " 'guard',\n",
       " 'late',\n",
       " 'remained',\n",
       " 'fall',\n",
       " 'littlefinger',\n",
       " 'meereen',\n",
       " 'liked',\n",
       " 'margaery',\n",
       " 'year',\n",
       " 'dog',\n",
       " 'hurt',\n",
       " 'passed',\n",
       " 'balon',\n",
       " 'taste',\n",
       " 'lay',\n",
       " 'drew',\n",
       " 'dothraki',\n",
       " 'realized',\n",
       " 'song',\n",
       " 'pushed',\n",
       " 'spear',\n",
       " 'named',\n",
       " 'sure',\n",
       " 'finally',\n",
       " 'whispered',\n",
       " 'reach',\n",
       " 'different',\n",
       " 'stand',\n",
       " 'brave',\n",
       " 'suddenly',\n",
       " 'wolves',\n",
       " 'poor',\n",
       " 'stay',\n",
       " 'kingsguard',\n",
       " 'drogo',\n",
       " 'arryn',\n",
       " 'stop',\n",
       " 'kingdoms',\n",
       " 'edmure',\n",
       " 'ears',\n",
       " 'broke',\n",
       " 'princess',\n",
       " 'burning',\n",
       " 'faces',\n",
       " 'dream',\n",
       " 'lannisters',\n",
       " 'axe',\n",
       " 'direwolf',\n",
       " 'west',\n",
       " 'tears',\n",
       " 'heir',\n",
       " 'either',\n",
       " 'clegane',\n",
       " 'darkness',\n",
       " 'drink',\n",
       " 'pointed',\n",
       " 'raven',\n",
       " 'hill',\n",
       " 'try',\n",
       " 'forward',\n",
       " 'pain',\n",
       " 'sworn',\n",
       " 'khal',\n",
       " 'lie',\n",
       " 'truly',\n",
       " 'dagger',\n",
       " 'kings',\n",
       " 'seat',\n",
       " 'grown',\n",
       " 'road',\n",
       " 'born',\n",
       " 'harrenhal',\n",
       " 'care',\n",
       " 'bronn',\n",
       " 'helm',\n",
       " 'round',\n",
       " 'feast',\n",
       " 'meat',\n",
       " 'quick',\n",
       " 'amongst',\n",
       " 'understand',\n",
       " 'pycelle',\n",
       " 'lifted',\n",
       " 'longer',\n",
       " 'whilst',\n",
       " 'reminded',\n",
       " 'maybe',\n",
       " 'short',\n",
       " 'mountain',\n",
       " 'step',\n",
       " 'rodrik',\n",
       " 'pretty',\n",
       " 'ones',\n",
       " 'melisandre',\n",
       " 'third',\n",
       " 'bit',\n",
       " 'stopped',\n",
       " 'aegon',\n",
       " 'lands',\n",
       " 'worse',\n",
       " 'sit',\n",
       " 'sharp',\n",
       " 'victarion',\n",
       " 'save',\n",
       " 'knows',\n",
       " 'live',\n",
       " 'whose',\n",
       " 'smoke',\n",
       " 'leg',\n",
       " 'pray',\n",
       " 'horn',\n",
       " 'window',\n",
       " 'younger',\n",
       " 'westeros',\n",
       " 'silk',\n",
       " 'heads',\n",
       " 'twenty',\n",
       " 'peace',\n",
       " 'pie',\n",
       " 'slaves',\n",
       " 'ago',\n",
       " 'septa',\n",
       " 'bread',\n",
       " 'low',\n",
       " 'wants',\n",
       " 'mind',\n",
       " 'hizdahr',\n",
       " 'laugh',\n",
       " 'east',\n",
       " 'blind',\n",
       " 'towers',\n",
       " 'mad',\n",
       " 'bright',\n",
       " 'reek',\n",
       " 'sooner',\n",
       " 'slain',\n",
       " 'coin',\n",
       " 'making',\n",
       " 'camp',\n",
       " 'older',\n",
       " 'wait',\n",
       " 'served',\n",
       " 'point',\n",
       " 'narrow',\n",
       " 'drowned',\n",
       " 'salt',\n",
       " 'walk',\n",
       " 'glanced',\n",
       " 'cousin',\n",
       " 'cheeks',\n",
       " 'luwin',\n",
       " 'knife',\n",
       " 'sort',\n",
       " 'stepped',\n",
       " 'targaryen',\n",
       " 'touched',\n",
       " 'quiet',\n",
       " 'often',\n",
       " 'shook',\n",
       " 'riding',\n",
       " 'loras',\n",
       " 'naked',\n",
       " 'twisted',\n",
       " 'choice',\n",
       " 'silence',\n",
       " 'forgotten',\n",
       " 'lion',\n",
       " 'fish',\n",
       " 'kevan',\n",
       " 'read',\n",
       " 'ramsay',\n",
       " 'hung',\n",
       " 'gift',\n",
       " 'fallen',\n",
       " 'replied',\n",
       " 'running',\n",
       " 'large',\n",
       " 'knees',\n",
       " 'fought',\n",
       " 'silent',\n",
       " 'ahead',\n",
       " 'cat',\n",
       " 'company',\n",
       " 'needs',\n",
       " 'sept',\n",
       " 'rhaegar',\n",
       " 'beautiful',\n",
       " 'dogs',\n",
       " 'dawn',\n",
       " 'casterly',\n",
       " 'pass',\n",
       " 'knee',\n",
       " 'dorne',\n",
       " 'tully',\n",
       " 'mud',\n",
       " 'stupid',\n",
       " 'gregor',\n",
       " 'singer',\n",
       " 'court',\n",
       " 'body',\n",
       " 'age',\n",
       " 'trying',\n",
       " 'meera',\n",
       " 'top',\n",
       " 'kind',\n",
       " 'swear',\n",
       " 'gendry',\n",
       " 'offered',\n",
       " 'leaves',\n",
       " 'clothes',\n",
       " 'closer',\n",
       " 'whole',\n",
       " 'kiss',\n",
       " 'anything',\n",
       " 'wonder',\n",
       " 'agreed',\n",
       " 'threw',\n",
       " 'pay',\n",
       " 'whatever',\n",
       " 'answered',\n",
       " 'climbed',\n",
       " 'saying',\n",
       " 'wide',\n",
       " 'saddle',\n",
       " 'stars',\n",
       " 'comes',\n",
       " 'host',\n",
       " 'trust',\n",
       " 'chain',\n",
       " 'stones',\n",
       " 'pleased',\n",
       " 'trident',\n",
       " 'fair',\n",
       " 'hour',\n",
       " 'yunkai',\n",
       " 'spears',\n",
       " 'dying',\n",
       " 'insisted',\n",
       " 'dry',\n",
       " 'ear',\n",
       " 'eight',\n",
       " 'fast',\n",
       " 'ought',\n",
       " 'doors',\n",
       " 'carried',\n",
       " 'service',\n",
       " 'council',\n",
       " 'fist',\n",
       " 'woods',\n",
       " 'mail',\n",
       " 'crossed',\n",
       " 'needed',\n",
       " 'fine',\n",
       " 'join',\n",
       " 'wildling',\n",
       " 'milk',\n",
       " 'thank',\n",
       " 'finger',\n",
       " 'gilly',\n",
       " 'quentyn',\n",
       " 'tent',\n",
       " 'shadows',\n",
       " 'bird',\n",
       " 'win',\n",
       " 'helped',\n",
       " 'land',\n",
       " 'boots',\n",
       " 'crows',\n",
       " 'folk',\n",
       " 'names',\n",
       " 'somehow',\n",
       " 'imp',\n",
       " 'banners',\n",
       " 'letter',\n",
       " 'kissed',\n",
       " 'winter',\n",
       " 'angry',\n",
       " 'screamed',\n",
       " 'pink',\n",
       " 'frightened',\n",
       " 'alive',\n",
       " 'torch',\n",
       " 'learn',\n",
       " 'chair',\n",
       " 'eunuch',\n",
       " 'daughters',\n",
       " 'watching',\n",
       " 'tarly',\n",
       " 'dragonstone',\n",
       " 'fires',\n",
       " 'harm',\n",
       " 'serving',\n",
       " 'standing',\n",
       " 'nine',\n",
       " 'neither',\n",
       " 'learned',\n",
       " 'easy',\n",
       " 'question',\n",
       " 'wings',\n",
       " 'drunk',\n",
       " 'sail',\n",
       " 'nodded',\n",
       " 'sisters',\n",
       " 'priest',\n",
       " 'myrcella',\n",
       " 'forth',\n",
       " 'giant',\n",
       " 'warned',\n",
       " 'bone',\n",
       " 'harbor',\n",
       " 'slow',\n",
       " 'slipped',\n",
       " 'field',\n",
       " 'slid',\n",
       " 'dreams',\n",
       " 'falling',\n",
       " 'slowly',\n",
       " 'bronze',\n",
       " 'promise',\n",
       " 'atop',\n",
       " 'whore',\n",
       " 'slave',\n",
       " 'rise',\n",
       " 'illyrio',\n",
       " 'line',\n",
       " 'move',\n",
       " 'laughter',\n",
       " 'flowers',\n",
       " 'makes',\n",
       " 'pyke',\n",
       " 'declared',\n",
       " 'earth',\n",
       " 'grass',\n",
       " 'faced',\n",
       " 'loose',\n",
       " 'bay',\n",
       " 'twice',\n",
       " 'viserys',\n",
       " 'power',\n",
       " 'lived',\n",
       " 'front',\n",
       " 'play',\n",
       " 'happened',\n",
       " 'cell',\n",
       " 'dance',\n",
       " 'oldtown',\n",
       " 'chains',\n",
       " 'break',\n",
       " 'clean',\n",
       " 'aerys',\n",
       " 'surely',\n",
       " 'claim',\n",
       " 'eyrie',\n",
       " 'unless',\n",
       " 'jeyne',\n",
       " 'fresh',\n",
       " 'cried',\n",
       " 'tormund',\n",
       " 'pair',\n",
       " 'quite',\n",
       " 'craster',\n",
       " 'laid',\n",
       " 'sad',\n",
       " 'morrow',\n",
       " 'shouting',\n",
       " 'game',\n",
       " 'met',\n",
       " 'already',\n",
       " 'touch',\n",
       " 'softly',\n",
       " 'rule',\n",
       " 'started',\n",
       " 'afterward',\n",
       " 'steward',\n",
       " 'sense',\n",
       " 'mounted',\n",
       " 'woke',\n",
       " 'count',\n",
       " 'hide',\n",
       " 'captive',\n",
       " 'jojen',\n",
       " 'sudden',\n",
       " 'highgarden',\n",
       " 'waters',\n",
       " 'ravens',\n",
       " 'cheek',\n",
       " 'however',\n",
       " 'purple',\n",
       " 'anyone',\n",
       " 'taking',\n",
       " 'course',\n",
       " 'among',\n",
       " 'follow',\n",
       " 'means',\n",
       " 'rickon',\n",
       " 'noble',\n",
       " 'carved',\n",
       " 'wench',\n",
       " 'bare',\n",
       " 'waited',\n",
       " 'grenn',\n",
       " 'cruel',\n",
       " 'murdered',\n",
       " 'thinking',\n",
       " 'weak',\n",
       " 'rising',\n",
       " 'vale',\n",
       " 'roose',\n",
       " 'roof',\n",
       " 'hidden',\n",
       " 'eyed',\n",
       " 'forest',\n",
       " 'town',\n",
       " 'arrow',\n",
       " 'blow',\n",
       " 'hungry',\n",
       " 'today',\n",
       " 'growing',\n",
       " 'wise',\n",
       " 'grand',\n",
       " 'voices',\n",
       " 'sorry',\n",
       " 'army',\n",
       " 'griff',\n",
       " 'tale',\n",
       " 'protect',\n",
       " 'wound',\n",
       " 'cry',\n",
       " 'weight',\n",
       " 'twins',\n",
       " 'ugly',\n",
       " 'beric',\n",
       " 'inn',\n",
       " 'dressed',\n",
       " 'ygritte',\n",
       " 'knelt',\n",
       " 'hoped',\n",
       " 'forget',\n",
       " 'rolled',\n",
       " 'enemies',\n",
       " 'climb',\n",
       " 'sick',\n",
       " 'daario',\n",
       " 'fur',\n",
       " 'chance',\n",
       " 'marry',\n",
       " 'grow',\n",
       " 'courage',\n",
       " 'lad',\n",
       " 'seems',\n",
       " 'smiling',\n",
       " 'freys',\n",
       " 'whether',\n",
       " 'laughing',\n",
       " 'fleet',\n",
       " 'bride',\n",
       " 'unsullied',\n",
       " 'breasts',\n",
       " 'marriage',\n",
       " 'appeared',\n",
       " 'corpse',\n",
       " 'square',\n",
       " 'meet',\n",
       " 'drank',\n",
       " 'showed',\n",
       " 'kingslayer',\n",
       " 'wool',\n",
       " 'mercy',\n",
       " 'trouble',\n",
       " 'alayne',\n",
       " 'march',\n",
       " 'frozen',\n",
       " 'mountains',\n",
       " 'edge',\n",
       " 'slynt',\n",
       " 'wear',\n",
       " 'shae',\n",
       " 'arrows',\n",
       " 'ragged',\n",
       " 'sing',\n",
       " 'offer',\n",
       " 'welcome',\n",
       " 'bound',\n",
       " 'decided',\n",
       " 'swore',\n",
       " 'allowed',\n",
       " 'recall',\n",
       " 'everything',\n",
       " 'spread',\n",
       " 'ill',\n",
       " 'seated',\n",
       " 'slept',\n",
       " 'quickly',\n",
       " 'mace',\n",
       " 'ancient',\n",
       " 'moving',\n",
       " 'sounded',\n",
       " 'tales',\n",
       " 'wake',\n",
       " 'bowed',\n",
       " 'talking',\n",
       " 'dare',\n",
       " 'flew',\n",
       " ...]"
      ]
     },
     "execution_count": 37,
     "metadata": {},
     "output_type": "execute_result"
    }
   ],
   "source": [
    "y= model.wv.index_to_key\n",
    "y"
   ]
  },
  {
   "cell_type": "code",
   "execution_count": 38,
   "id": "358abc40-9b8e-4ad9-b351-394e31443cae",
   "metadata": {},
   "outputs": [
    {
     "data": {
      "text/plain": [
       "17310"
      ]
     },
     "execution_count": 38,
     "metadata": {},
     "output_type": "execute_result"
    }
   ],
   "source": [
    "len(y)"
   ]
  },
  {
   "cell_type": "code",
   "execution_count": 39,
   "id": "00d7684f",
   "metadata": {},
   "outputs": [],
   "source": [
    "from sklearn.decomposition import PCA\n",
    "pca = PCA(n_components=3)"
   ]
  },
  {
   "cell_type": "code",
   "execution_count": 40,
   "id": "96235087",
   "metadata": {},
   "outputs": [],
   "source": [
    "X = pca.fit_transform(model.wv.get_normed_vectors())"
   ]
  },
  {
   "cell_type": "code",
   "execution_count": 41,
   "id": "337f245e",
   "metadata": {},
   "outputs": [
    {
     "data": {
      "text/plain": [
       "(17310, 3)"
      ]
     },
     "execution_count": 41,
     "metadata": {},
     "output_type": "execute_result"
    }
   ],
   "source": [
    "X.shape"
   ]
  },
  {
   "cell_type": "code",
   "execution_count": 42,
   "id": "6dd77c35",
   "metadata": {},
   "outputs": [
    {
     "data": {
      "application/vnd.plotly.v1+json": {
       "config": {
        "plotlyServerURL": "https://plot.ly"
       },
       "data": [
        {
         "hovertemplate": "color=said<br>0=%{x}<br>1=%{y}<br>2=%{z}<extra></extra>",
         "legendgroup": "said",
         "marker": {
          "color": "#636efa",
          "symbol": "circle"
         },
         "mode": "markers",
         "name": "said",
         "scene": "scene",
         "showlegend": true,
         "type": "scatter3d",
         "x": {
          "bdata": "V6X1Pg==",
          "dtype": "f4"
         },
         "y": {
          "bdata": "cOMKPA==",
          "dtype": "f4"
         },
         "z": {
          "bdata": "eiuAvg==",
          "dtype": "f4"
         }
        },
        {
         "hovertemplate": "color=lord<br>0=%{x}<br>1=%{y}<br>2=%{z}<extra></extra>",
         "legendgroup": "lord",
         "marker": {
          "color": "#EF553B",
          "symbol": "circle"
         },
         "mode": "markers",
         "name": "lord",
         "scene": "scene",
         "showlegend": true,
         "type": "scatter3d",
         "x": {
          "bdata": "pZjMPg==",
          "dtype": "f4"
         },
         "y": {
          "bdata": "7vYNPw==",
          "dtype": "f4"
         },
         "z": {
          "bdata": "0erJvg==",
          "dtype": "f4"
         }
        },
        {
         "hovertemplate": "color=would<br>0=%{x}<br>1=%{y}<br>2=%{z}<extra></extra>",
         "legendgroup": "would",
         "marker": {
          "color": "#00cc96",
          "symbol": "circle"
         },
         "mode": "markers",
         "name": "would",
         "scene": "scene",
         "showlegend": true,
         "type": "scatter3d",
         "x": {
          "bdata": "PHAEPw==",
          "dtype": "f4"
         },
         "y": {
          "bdata": "dNRGvQ==",
          "dtype": "f4"
         },
         "z": {
          "bdata": "GjunPg==",
          "dtype": "f4"
         }
        },
        {
         "hovertemplate": "color=one<br>0=%{x}<br>1=%{y}<br>2=%{z}<extra></extra>",
         "legendgroup": "one",
         "marker": {
          "color": "#ab63fa",
          "symbol": "circle"
         },
         "mode": "markers",
         "name": "one",
         "scene": "scene",
         "showlegend": true,
         "type": "scatter3d",
         "x": {
          "bdata": "FHL8Ow==",
          "dtype": "f4"
         },
         "y": {
          "bdata": "CuhHPg==",
          "dtype": "f4"
         },
         "z": {
          "bdata": "oBlJPA==",
          "dtype": "f4"
         }
        },
        {
         "hovertemplate": "color=ser<br>0=%{x}<br>1=%{y}<br>2=%{z}<extra></extra>",
         "legendgroup": "ser",
         "marker": {
          "color": "#FFA15A",
          "symbol": "circle"
         },
         "mode": "markers",
         "name": "ser",
         "scene": "scene",
         "showlegend": true,
         "type": "scatter3d",
         "x": {
          "bdata": "JwmVPg==",
          "dtype": "f4"
         },
         "y": {
          "bdata": "lCwFPw==",
          "dtype": "f4"
         },
         "z": {
          "bdata": "d9YJvw==",
          "dtype": "f4"
         }
        },
        {
         "hovertemplate": "color=could<br>0=%{x}<br>1=%{y}<br>2=%{z}<extra></extra>",
         "legendgroup": "could",
         "marker": {
          "color": "#19d3f3",
          "symbol": "circle"
         },
         "mode": "markers",
         "name": "could",
         "scene": "scene",
         "showlegend": true,
         "type": "scatter3d",
         "x": {
          "bdata": "JKVOPA==",
          "dtype": "f4"
         },
         "y": {
          "bdata": "XorovQ==",
          "dtype": "f4"
         },
         "z": {
          "bdata": "RomFPg==",
          "dtype": "f4"
         }
        },
        {
         "hovertemplate": "color=man<br>0=%{x}<br>1=%{y}<br>2=%{z}<extra></extra>",
         "legendgroup": "man",
         "marker": {
          "color": "#FF6692",
          "symbol": "circle"
         },
         "mode": "markers",
         "name": "man",
         "scene": "scene",
         "showlegend": true,
         "type": "scatter3d",
         "x": {
          "bdata": "+/1hPQ==",
          "dtype": "f4"
         },
         "y": {
          "bdata": "EizoPQ==",
          "dtype": "f4"
         },
         "z": {
          "bdata": "jt0svg==",
          "dtype": "f4"
         }
        },
        {
         "hovertemplate": "color=king<br>0=%{x}<br>1=%{y}<br>2=%{z}<extra></extra>",
         "legendgroup": "king",
         "marker": {
          "color": "#B6E880",
          "symbol": "circle"
         },
         "mode": "markers",
         "name": "king",
         "scene": "scene",
         "showlegend": true,
         "type": "scatter3d",
         "x": {
          "bdata": "iPm/Pg==",
          "dtype": "f4"
         },
         "y": {
          "bdata": "/6UGPw==",
          "dtype": "f4"
         },
         "z": {
          "bdata": "VNkKvg==",
          "dtype": "f4"
         }
        },
        {
         "hovertemplate": "color=men<br>0=%{x}<br>1=%{y}<br>2=%{z}<extra></extra>",
         "legendgroup": "men",
         "marker": {
          "color": "#FF97FF",
          "symbol": "circle"
         },
         "mode": "markers",
         "name": "men",
         "scene": "scene",
         "showlegend": true,
         "type": "scatter3d",
         "x": {
          "bdata": "qcKePQ==",
          "dtype": "f4"
         },
         "y": {
          "bdata": "7KgKPw==",
          "dtype": "f4"
         },
         "z": {
          "bdata": "R76dPg==",
          "dtype": "f4"
         }
        },
        {
         "hovertemplate": "color=back<br>0=%{x}<br>1=%{y}<br>2=%{z}<extra></extra>",
         "legendgroup": "back",
         "marker": {
          "color": "#FECB52",
          "symbol": "circle"
         },
         "mode": "markers",
         "name": "back",
         "scene": "scene",
         "showlegend": true,
         "type": "scatter3d",
         "x": {
          "bdata": "IP9zvg==",
          "dtype": "f4"
         },
         "y": {
          "bdata": "cDR5PQ==",
          "dtype": "f4"
         },
         "z": {
          "bdata": "iFgHvA==",
          "dtype": "f4"
         }
        },
        {
         "hovertemplate": "color=well<br>0=%{x}<br>1=%{y}<br>2=%{z}<extra></extra>",
         "legendgroup": "well",
         "marker": {
          "color": "#636efa",
          "symbol": "circle"
         },
         "mode": "markers",
         "name": "well",
         "scene": "scene",
         "showlegend": true,
         "type": "scatter3d",
         "x": {
          "bdata": "niP0Pg==",
          "dtype": "f4"
         },
         "y": {
          "bdata": "vUdePg==",
          "dtype": "f4"
         },
         "z": {
          "bdata": "6LcjPg==",
          "dtype": "f4"
         }
        },
        {
         "hovertemplate": "color=like<br>0=%{x}<br>1=%{y}<br>2=%{z}<extra></extra>",
         "legendgroup": "like",
         "marker": {
          "color": "#EF553B",
          "symbol": "circle"
         },
         "mode": "markers",
         "name": "like",
         "scene": "scene",
         "showlegend": true,
         "type": "scatter3d",
         "x": {
          "bdata": "kKuBvg==",
          "dtype": "f4"
         },
         "y": {
          "bdata": "RqXVvQ==",
          "dtype": "f4"
         },
         "z": {
          "bdata": "5AdHPg==",
          "dtype": "f4"
         }
        },
        {
         "hovertemplate": "color=jon<br>0=%{x}<br>1=%{y}<br>2=%{z}<extra></extra>",
         "legendgroup": "jon",
         "marker": {
          "color": "#00cc96",
          "symbol": "circle"
         },
         "mode": "markers",
         "name": "jon",
         "scene": "scene",
         "showlegend": true,
         "type": "scatter3d",
         "x": {
          "bdata": "/PoKPA==",
          "dtype": "f4"
         },
         "y": {
          "bdata": "sHE2vA==",
          "dtype": "f4"
         },
         "z": {
          "bdata": "Zuj1vQ==",
          "dtype": "f4"
         }
        },
        {
         "hovertemplate": "color=father<br>0=%{x}<br>1=%{y}<br>2=%{z}<extra></extra>",
         "legendgroup": "father",
         "marker": {
          "color": "#ab63fa",
          "symbol": "circle"
         },
         "mode": "markers",
         "name": "father",
         "scene": "scene",
         "showlegend": true,
         "type": "scatter3d",
         "x": {
          "bdata": "5EUgPw==",
          "dtype": "f4"
         },
         "y": {
          "bdata": "GLqdPg==",
          "dtype": "f4"
         },
         "z": {
          "bdata": "Wls1vg==",
          "dtype": "f4"
         }
        },
        {
         "hovertemplate": "color=old<br>0=%{x}<br>1=%{y}<br>2=%{z}<extra></extra>",
         "legendgroup": "old",
         "marker": {
          "color": "#FFA15A",
          "symbol": "circle"
         },
         "mode": "markers",
         "name": "old",
         "scene": "scene",
         "showlegend": true,
         "type": "scatter3d",
         "x": {
          "bdata": "JNSqOw==",
          "dtype": "f4"
         },
         "y": {
          "bdata": "/DCVPg==",
          "dtype": "f4"
         },
         "z": {
          "bdata": "rt+AvQ==",
          "dtype": "f4"
         }
        },
        {
         "hovertemplate": "color=hand<br>0=%{x}<br>1=%{y}<br>2=%{z}<extra></extra>",
         "legendgroup": "hand",
         "marker": {
          "color": "#19d3f3",
          "symbol": "circle"
         },
         "mode": "markers",
         "name": "hand",
         "scene": "scene",
         "showlegend": true,
         "type": "scatter3d",
         "x": {
          "bdata": "u0DLvQ==",
          "dtype": "f4"
         },
         "y": {
          "bdata": "7jT3PQ==",
          "dtype": "f4"
         },
         "z": {
          "bdata": "YRjQvg==",
          "dtype": "f4"
         }
        },
        {
         "hovertemplate": "color=even<br>0=%{x}<br>1=%{y}<br>2=%{z}<extra></extra>",
         "legendgroup": "even",
         "marker": {
          "color": "#FF6692",
          "symbol": "circle"
         },
         "mode": "markers",
         "name": "even",
         "scene": "scene",
         "showlegend": true,
         "type": "scatter3d",
         "x": {
          "bdata": "RQ4TPg==",
          "dtype": "f4"
         },
         "y": {
          "bdata": "dF9wvQ==",
          "dtype": "f4"
         },
         "z": {
          "bdata": "hsLMPg==",
          "dtype": "f4"
         }
        },
        {
         "hovertemplate": "color=tyrion<br>0=%{x}<br>1=%{y}<br>2=%{z}<extra></extra>",
         "legendgroup": "tyrion",
         "marker": {
          "color": "#B6E880",
          "symbol": "circle"
         },
         "mode": "markers",
         "name": "tyrion",
         "scene": "scene",
         "showlegend": true,
         "type": "scatter3d",
         "x": {
          "bdata": "iAHIPQ==",
          "dtype": "f4"
         },
         "y": {
          "bdata": "jUxBvg==",
          "dtype": "f4"
         },
         "z": {
          "bdata": "8IB8vg==",
          "dtype": "f4"
         }
        },
        {
         "hovertemplate": "color=never<br>0=%{x}<br>1=%{y}<br>2=%{z}<extra></extra>",
         "legendgroup": "never",
         "marker": {
          "color": "#FF97FF",
          "symbol": "circle"
         },
         "mode": "markers",
         "name": "never",
         "scene": "scene",
         "showlegend": true,
         "type": "scatter3d",
         "x": {
          "bdata": "AU7nPg==",
          "dtype": "f4"
         },
         "y": {
          "bdata": "DXEavg==",
          "dtype": "f4"
         },
         "z": {
          "bdata": "1oQzPg==",
          "dtype": "f4"
         }
        },
        {
         "hovertemplate": "color=know<br>0=%{x}<br>1=%{y}<br>2=%{z}<extra></extra>",
         "legendgroup": "know",
         "marker": {
          "color": "#FECB52",
          "symbol": "circle"
         },
         "mode": "markers",
         "name": "know",
         "scene": "scene",
         "showlegend": true,
         "type": "scatter3d",
         "x": {
          "bdata": "100qPw==",
          "dtype": "f4"
         },
         "y": {
          "bdata": "tvaPvQ==",
          "dtype": "f4"
         },
         "z": {
          "bdata": "RmlkPg==",
          "dtype": "f4"
         }
        },
        {
         "hovertemplate": "color=see<br>0=%{x}<br>1=%{y}<br>2=%{z}<extra></extra>",
         "legendgroup": "see",
         "marker": {
          "color": "#636efa",
          "symbol": "circle"
         },
         "mode": "markers",
         "name": "see",
         "scene": "scene",
         "showlegend": true,
         "type": "scatter3d",
         "x": {
          "bdata": "WCS2PQ==",
          "dtype": "f4"
         },
         "y": {
          "bdata": "tBoovQ==",
          "dtype": "f4"
         },
         "z": {
          "bdata": "ots6Pg==",
          "dtype": "f4"
         }
        },
        {
         "hovertemplate": "color=made<br>0=%{x}<br>1=%{y}<br>2=%{z}<extra></extra>",
         "legendgroup": "made",
         "marker": {
          "color": "#EF553B",
          "symbol": "circle"
         },
         "mode": "markers",
         "name": "made",
         "scene": "scene",
         "showlegend": true,
         "type": "scatter3d",
         "x": {
          "bdata": "/7e7vQ==",
          "dtype": "f4"
         },
         "y": {
          "bdata": "Ior8vQ==",
          "dtype": "f4"
         },
         "z": {
          "bdata": "ofv+PQ==",
          "dtype": "f4"
         }
        },
        {
         "hovertemplate": "color=eyes<br>0=%{x}<br>1=%{y}<br>2=%{z}<extra></extra>",
         "legendgroup": "eyes",
         "marker": {
          "color": "#00cc96",
          "symbol": "circle"
         },
         "mode": "markers",
         "name": "eyes",
         "scene": "scene",
         "showlegend": true,
         "type": "scatter3d",
         "x": {
          "bdata": "uTqKvg==",
          "dtype": "f4"
         },
         "y": {
          "bdata": "o+k3vg==",
          "dtype": "f4"
         },
         "z": {
          "bdata": "8EBPvg==",
          "dtype": "f4"
         }
        },
        {
         "hovertemplate": "color=black<br>0=%{x}<br>1=%{y}<br>2=%{z}<extra></extra>",
         "legendgroup": "black",
         "marker": {
          "color": "#ab63fa",
          "symbol": "circle"
         },
         "mode": "markers",
         "name": "black",
         "scene": "scene",
         "showlegend": true,
         "type": "scatter3d",
         "x": {
          "bdata": "32zjvg==",
          "dtype": "f4"
         },
         "y": {
          "bdata": "ur7xPg==",
          "dtype": "f4"
         },
         "z": {
          "bdata": "PMfcvQ==",
          "dtype": "f4"
         }
        },
        {
         "hovertemplate": "color=told<br>0=%{x}<br>1=%{y}<br>2=%{z}<extra></extra>",
         "legendgroup": "told",
         "marker": {
          "color": "#FFA15A",
          "symbol": "circle"
         },
         "mode": "markers",
         "name": "told",
         "scene": "scene",
         "showlegend": true,
         "type": "scatter3d",
         "x": {
          "bdata": "NB3/Pg==",
          "dtype": "f4"
         },
         "y": {
          "bdata": "gD6puw==",
          "dtype": "f4"
         },
         "z": {
          "bdata": "V/qIPQ==",
          "dtype": "f4"
         }
        },
        {
         "hovertemplate": "color=lady<br>0=%{x}<br>1=%{y}<br>2=%{z}<extra></extra>",
         "legendgroup": "lady",
         "marker": {
          "color": "#19d3f3",
          "symbol": "circle"
         },
         "mode": "markers",
         "name": "lady",
         "scene": "scene",
         "showlegend": true,
         "type": "scatter3d",
         "x": {
          "bdata": "RfDnPg==",
          "dtype": "f4"
         },
         "y": {
          "bdata": "cq/NPg==",
          "dtype": "f4"
         },
         "z": {
          "bdata": "HSwBvw==",
          "dtype": "f4"
         }
        },
        {
         "hovertemplate": "color=thought<br>0=%{x}<br>1=%{y}<br>2=%{z}<extra></extra>",
         "legendgroup": "thought",
         "marker": {
          "color": "#FF6692",
          "symbol": "circle"
         },
         "mode": "markers",
         "name": "thought",
         "scene": "scene",
         "showlegend": true,
         "type": "scatter3d",
         "x": {
          "bdata": "p4KIPg==",
          "dtype": "f4"
         },
         "y": {
          "bdata": "sWxSvg==",
          "dtype": "f4"
         },
         "z": {
          "bdata": "2EERPg==",
          "dtype": "f4"
         }
        },
        {
         "hovertemplate": "color=time<br>0=%{x}<br>1=%{y}<br>2=%{z}<extra></extra>",
         "legendgroup": "time",
         "marker": {
          "color": "#B6E880",
          "symbol": "circle"
         },
         "mode": "markers",
         "name": "time",
         "scene": "scene",
         "showlegend": true,
         "type": "scatter3d",
         "x": {
          "bdata": "6nVEPA==",
          "dtype": "f4"
         },
         "y": {
          "bdata": "7HIPvQ==",
          "dtype": "f4"
         },
         "z": {
          "bdata": "QHtMPg==",
          "dtype": "f4"
         }
        },
        {
         "hovertemplate": "color=long<br>0=%{x}<br>1=%{y}<br>2=%{z}<extra></extra>",
         "legendgroup": "long",
         "marker": {
          "color": "#FF97FF",
          "symbol": "circle"
         },
         "mode": "markers",
         "name": "long",
         "scene": "scene",
         "showlegend": true,
         "type": "scatter3d",
         "x": {
          "bdata": "gS+Rvg==",
          "dtype": "f4"
         },
         "y": {
          "bdata": "I6mSPg==",
          "dtype": "f4"
         },
         "z": {
          "bdata": "ljdvPg==",
          "dtype": "f4"
         }
        },
        {
         "hovertemplate": "color=might<br>0=%{x}<br>1=%{y}<br>2=%{z}<extra></extra>",
         "legendgroup": "might",
         "marker": {
          "color": "#FECB52",
          "symbol": "circle"
         },
         "mode": "markers",
         "name": "might",
         "scene": "scene",
         "showlegend": true,
         "type": "scatter3d",
         "x": {
          "bdata": "OJ8VPw==",
          "dtype": "f4"
         },
         "y": {
          "bdata": "vGJPvQ==",
          "dtype": "f4"
         },
         "z": {
          "bdata": "QaGHPg==",
          "dtype": "f4"
         }
        },
        {
         "hovertemplate": "color=us<br>0=%{x}<br>1=%{y}<br>2=%{z}<extra></extra>",
         "legendgroup": "us",
         "marker": {
          "color": "#636efa",
          "symbol": "circle"
         },
         "mode": "markers",
         "name": "us",
         "scene": "scene",
         "showlegend": true,
         "type": "scatter3d",
         "x": {
          "bdata": "d9wNPw==",
          "dtype": "f4"
         },
         "y": {
          "bdata": "Q39APg==",
          "dtype": "f4"
         },
         "z": {
          "bdata": "gJyePg==",
          "dtype": "f4"
         }
        },
        {
         "hovertemplate": "color=come<br>0=%{x}<br>1=%{y}<br>2=%{z}<extra></extra>",
         "legendgroup": "come",
         "marker": {
          "color": "#EF553B",
          "symbol": "circle"
         },
         "mode": "markers",
         "name": "come",
         "scene": "scene",
         "showlegend": true,
         "type": "scatter3d",
         "x": {
          "bdata": "UMC3Pg==",
          "dtype": "f4"
         },
         "y": {
          "bdata": "tNgDPg==",
          "dtype": "f4"
         },
         "z": {
          "bdata": "LkfsPg==",
          "dtype": "f4"
         }
        },
        {
         "hovertemplate": "color=face<br>0=%{x}<br>1=%{y}<br>2=%{z}<extra></extra>",
         "legendgroup": "face",
         "marker": {
          "color": "#00cc96",
          "symbol": "circle"
         },
         "mode": "markers",
         "name": "face",
         "scene": "scene",
         "showlegend": true,
         "type": "scatter3d",
         "x": {
          "bdata": "1DW0vg==",
          "dtype": "f4"
         },
         "y": {
          "bdata": "JUF4vg==",
          "dtype": "f4"
         },
         "z": {
          "bdata": "h5PBvg==",
          "dtype": "f4"
         }
        },
        {
         "hovertemplate": "color=still<br>0=%{x}<br>1=%{y}<br>2=%{z}<extra></extra>",
         "legendgroup": "still",
         "marker": {
          "color": "#ab63fa",
          "symbol": "circle"
         },
         "mode": "markers",
         "name": "still",
         "scene": "scene",
         "showlegend": true,
         "type": "scatter3d",
         "x": {
          "bdata": "15n+vQ==",
          "dtype": "f4"
         },
         "y": {
          "bdata": "brGcPQ==",
          "dtype": "f4"
         },
         "z": {
          "bdata": "D6q/Pg==",
          "dtype": "f4"
         }
        },
        {
         "hovertemplate": "color=head<br>0=%{x}<br>1=%{y}<br>2=%{z}<extra></extra>",
         "legendgroup": "head",
         "marker": {
          "color": "#FFA15A",
          "symbol": "circle"
         },
         "mode": "markers",
         "name": "head",
         "scene": "scene",
         "showlegend": true,
         "type": "scatter3d",
         "x": {
          "bdata": "ubahvg==",
          "dtype": "f4"
         },
         "y": {
          "bdata": "IMyduw==",
          "dtype": "f4"
         },
         "z": {
          "bdata": "UswKvw==",
          "dtype": "f4"
         }
        },
        {
         "hovertemplate": "color=red<br>0=%{x}<br>1=%{y}<br>2=%{z}<extra></extra>",
         "legendgroup": "red",
         "marker": {
          "color": "#19d3f3",
          "symbol": "circle"
         },
         "mode": "markers",
         "name": "red",
         "scene": "scene",
         "showlegend": true,
         "type": "scatter3d",
         "x": {
          "bdata": "CJykvg==",
          "dtype": "f4"
         },
         "y": {
          "bdata": "Zie7Pg==",
          "dtype": "f4"
         },
         "z": {
          "bdata": "TNOCvg==",
          "dtype": "f4"
         }
        },
        {
         "hovertemplate": "color=way<br>0=%{x}<br>1=%{y}<br>2=%{z}<extra></extra>",
         "legendgroup": "way",
         "marker": {
          "color": "#FF6692",
          "symbol": "circle"
         },
         "mode": "markers",
         "name": "way",
         "scene": "scene",
         "showlegend": true,
         "type": "scatter3d",
         "x": {
          "bdata": "ge7evQ==",
          "dtype": "f4"
         },
         "y": {
          "bdata": "OC7vvA==",
          "dtype": "f4"
         },
         "z": {
          "bdata": "Jhu/Pg==",
          "dtype": "f4"
         }
        },
        {
         "hovertemplate": "color=boy<br>0=%{x}<br>1=%{y}<br>2=%{z}<extra></extra>",
         "legendgroup": "boy",
         "marker": {
          "color": "#B6E880",
          "symbol": "circle"
         },
         "mode": "markers",
         "name": "boy",
         "scene": "scene",
         "showlegend": true,
         "type": "scatter3d",
         "x": {
          "bdata": "hNufPg==",
          "dtype": "f4"
         },
         "y": {
          "bdata": "S+lPPg==",
          "dtype": "f4"
         },
         "z": {
          "bdata": "lTHQvg==",
          "dtype": "f4"
         }
        },
        {
         "hovertemplate": "color=page<br>0=%{x}<br>1=%{y}<br>2=%{z}<extra></extra>",
         "legendgroup": "page",
         "marker": {
          "color": "#FF97FF",
          "symbol": "circle"
         },
         "mode": "markers",
         "name": "page",
         "scene": "scene",
         "showlegend": true,
         "type": "scatter3d",
         "x": {
          "bdata": "3qY6Pg==",
          "dtype": "f4"
         },
         "y": {
          "bdata": "Rb1XPg==",
          "dtype": "f4"
         },
         "z": {
          "bdata": "KDOevg==",
          "dtype": "f4"
         }
        },
        {
         "hovertemplate": "color=must<br>0=%{x}<br>1=%{y}<br>2=%{z}<extra></extra>",
         "legendgroup": "must",
         "marker": {
          "color": "#FECB52",
          "symbol": "circle"
         },
         "mode": "markers",
         "name": "must",
         "scene": "scene",
         "showlegend": true,
         "type": "scatter3d",
         "x": {
          "bdata": "SwYdPw==",
          "dtype": "f4"
         },
         "y": {
          "bdata": "PD4ePQ==",
          "dtype": "f4"
         },
         "z": {
          "bdata": "07SLPg==",
          "dtype": "f4"
         }
        },
        {
         "hovertemplate": "color=queen<br>0=%{x}<br>1=%{y}<br>2=%{z}<extra></extra>",
         "legendgroup": "queen",
         "marker": {
          "color": "#636efa",
          "symbol": "circle"
         },
         "mode": "markers",
         "name": "queen",
         "scene": "scene",
         "showlegend": true,
         "type": "scatter3d",
         "x": {
          "bdata": "ZL/4Pg==",
          "dtype": "f4"
         },
         "y": {
          "bdata": "DlabPg==",
          "dtype": "f4"
         },
         "z": {
          "bdata": "1gBivg==",
          "dtype": "f4"
         }
        },
        {
         "hovertemplate": "color=good<br>0=%{x}<br>1=%{y}<br>2=%{z}<extra></extra>",
         "legendgroup": "good",
         "marker": {
          "color": "#EF553B",
          "symbol": "circle"
         },
         "mode": "markers",
         "name": "good",
         "scene": "scene",
         "showlegend": true,
         "type": "scatter3d",
         "x": {
          "bdata": "5KrxPg==",
          "dtype": "f4"
         },
         "y": {
          "bdata": "AlCdvQ==",
          "dtype": "f4"
         },
         "z": {
          "bdata": "W7noPQ==",
          "dtype": "f4"
         }
        },
        {
         "hovertemplate": "color=two<br>0=%{x}<br>1=%{y}<br>2=%{z}<extra></extra>",
         "legendgroup": "two",
         "marker": {
          "color": "#00cc96",
          "symbol": "circle"
         },
         "mode": "markers",
         "name": "two",
         "scene": "scene",
         "showlegend": true,
         "type": "scatter3d",
         "x": {
          "bdata": "LlMpvg==",
          "dtype": "f4"
         },
         "y": {
          "bdata": "t8whPw==",
          "dtype": "f4"
         },
         "z": {
          "bdata": "s63DPQ==",
          "dtype": "f4"
         }
        },
        {
         "hovertemplate": "color=brother<br>0=%{x}<br>1=%{y}<br>2=%{z}<extra></extra>",
         "legendgroup": "brother",
         "marker": {
          "color": "#ab63fa",
          "symbol": "circle"
         },
         "mode": "markers",
         "name": "brother",
         "scene": "scene",
         "showlegend": true,
         "type": "scatter3d",
         "x": {
          "bdata": "0h0SPw==",
          "dtype": "f4"
         },
         "y": {
          "bdata": "fFLrPg==",
          "dtype": "f4"
         },
         "z": {
          "bdata": "HXywvg==",
          "dtype": "f4"
         }
        },
        {
         "hovertemplate": "color=night<br>0=%{x}<br>1=%{y}<br>2=%{z}<extra></extra>",
         "legendgroup": "night",
         "marker": {
          "color": "#FFA15A",
          "symbol": "circle"
         },
         "mode": "markers",
         "name": "night",
         "scene": "scene",
         "showlegend": true,
         "type": "scatter3d",
         "x": {
          "bdata": "rmiFvA==",
          "dtype": "f4"
         },
         "y": {
          "bdata": "9j4sPg==",
          "dtype": "f4"
         },
         "z": {
          "bdata": "5wyWPg==",
          "dtype": "f4"
         }
        },
        {
         "hovertemplate": "color=little<br>0=%{x}<br>1=%{y}<br>2=%{z}<extra></extra>",
         "legendgroup": "little",
         "marker": {
          "color": "#19d3f3",
          "symbol": "circle"
         },
         "mode": "markers",
         "name": "little",
         "scene": "scene",
         "showlegend": true,
         "type": "scatter3d",
         "x": {
          "bdata": "zYPQPQ==",
          "dtype": "f4"
         },
         "y": {
          "bdata": "FUkLvg==",
          "dtype": "f4"
         },
         "z": {
          "bdata": "nDGyvQ==",
          "dtype": "f4"
         }
        },
        {
         "hovertemplate": "color=took<br>0=%{x}<br>1=%{y}<br>2=%{z}<extra></extra>",
         "legendgroup": "took",
         "marker": {
          "color": "#FF6692",
          "symbol": "circle"
         },
         "mode": "markers",
         "name": "took",
         "scene": "scene",
         "showlegend": true,
         "type": "scatter3d",
         "x": {
          "bdata": "4HilvA==",
          "dtype": "f4"
         },
         "y": {
          "bdata": "jJ5WPg==",
          "dtype": "f4"
         },
         "z": {
          "bdata": "RThFvg==",
          "dtype": "f4"
         }
        },
        {
         "hovertemplate": "color=came<br>0=%{x}<br>1=%{y}<br>2=%{z}<extra></extra>",
         "legendgroup": "came",
         "marker": {
          "color": "#B6E880",
          "symbol": "circle"
         },
         "mode": "markers",
         "name": "came",
         "scene": "scene",
         "showlegend": true,
         "type": "scatter3d",
         "x": {
          "bdata": "8muTvg==",
          "dtype": "f4"
         },
         "y": {
          "bdata": "WtRePg==",
          "dtype": "f4"
         },
         "z": {
          "bdata": "jlWwPg==",
          "dtype": "f4"
         }
        },
        {
         "hovertemplate": "color=though<br>0=%{x}<br>1=%{y}<br>2=%{z}<extra></extra>",
         "legendgroup": "though",
         "marker": {
          "color": "#FF97FF",
          "symbol": "circle"
         },
         "mode": "markers",
         "name": "though",
         "scene": "scene",
         "showlegend": true,
         "type": "scatter3d",
         "x": {
          "bdata": "jBg3Pg==",
          "dtype": "f4"
         },
         "y": {
          "bdata": "exczvg==",
          "dtype": "f4"
         },
         "z": {
          "bdata": "WgdQPg==",
          "dtype": "f4"
         }
        },
        {
         "hovertemplate": "color=say<br>0=%{x}<br>1=%{y}<br>2=%{z}<extra></extra>",
         "legendgroup": "say",
         "marker": {
          "color": "#FECB52",
          "symbol": "circle"
         },
         "mode": "markers",
         "name": "say",
         "scene": "scene",
         "showlegend": true,
         "type": "scatter3d",
         "x": {
          "bdata": "ht0aPw==",
          "dtype": "f4"
         },
         "y": {
          "bdata": "b9Y6vg==",
          "dtype": "f4"
         },
         "z": {
          "bdata": "RQ6jPQ==",
          "dtype": "f4"
         }
        },
        {
         "hovertemplate": "color=three<br>0=%{x}<br>1=%{y}<br>2=%{z}<extra></extra>",
         "legendgroup": "three",
         "marker": {
          "color": "#636efa",
          "symbol": "circle"
         },
         "mode": "markers",
         "name": "three",
         "scene": "scene",
         "showlegend": true,
         "type": "scatter3d",
         "x": {
          "bdata": "Ugt0vQ==",
          "dtype": "f4"
         },
         "y": {
          "bdata": "D2s7Pw==",
          "dtype": "f4"
         },
         "z": {
          "bdata": "RkcOPg==",
          "dtype": "f4"
         }
        },
        {
         "hovertemplate": "color=away<br>0=%{x}<br>1=%{y}<br>2=%{z}<extra></extra>",
         "legendgroup": "away",
         "marker": {
          "color": "#EF553B",
          "symbol": "circle"
         },
         "mode": "markers",
         "name": "away",
         "scene": "scene",
         "showlegend": true,
         "type": "scatter3d",
         "x": {
          "bdata": "5wySvg==",
          "dtype": "f4"
         },
         "y": {
          "bdata": "cT4evg==",
          "dtype": "f4"
         },
         "z": {
          "bdata": "WxKiPQ==",
          "dtype": "f4"
         }
        },
        {
         "hovertemplate": "color=dead<br>0=%{x}<br>1=%{y}<br>2=%{z}<extra></extra>",
         "legendgroup": "dead",
         "marker": {
          "color": "#00cc96",
          "symbol": "circle"
         },
         "mode": "markers",
         "name": "dead",
         "scene": "scene",
         "showlegend": true,
         "type": "scatter3d",
         "x": {
          "bdata": "KgotPQ==",
          "dtype": "f4"
         },
         "y": {
          "bdata": "WrQJPg==",
          "dtype": "f4"
         },
         "z": {
          "bdata": "5ghWPg==",
          "dtype": "f4"
         }
        },
        {
         "hovertemplate": "color=son<br>0=%{x}<br>1=%{y}<br>2=%{z}<extra></extra>",
         "legendgroup": "son",
         "marker": {
          "color": "#ab63fa",
          "symbol": "circle"
         },
         "mode": "markers",
         "name": "son",
         "scene": "scene",
         "showlegend": true,
         "type": "scatter3d",
         "x": {
          "bdata": "rZ/wPg==",
          "dtype": "f4"
         },
         "y": {
          "bdata": "dDIqPw==",
          "dtype": "f4"
         },
         "z": {
          "bdata": "ozcAvw==",
          "dtype": "f4"
         }
        },
        {
         "hovertemplate": "color=blood<br>0=%{x}<br>1=%{y}<br>2=%{z}<extra></extra>",
         "legendgroup": "blood",
         "marker": {
          "color": "#FFA15A",
          "symbol": "circle"
         },
         "mode": "markers",
         "name": "blood",
         "scene": "scene",
         "showlegend": true,
         "type": "scatter3d",
         "x": {
          "bdata": "Mv19vg==",
          "dtype": "f4"
         },
         "y": {
          "bdata": "7ojpvQ==",
          "dtype": "f4"
         },
         "z": {
          "bdata": "9Fq/PA==",
          "dtype": "f4"
         }
        },
        {
         "hovertemplate": "color=take<br>0=%{x}<br>1=%{y}<br>2=%{z}<extra></extra>",
         "legendgroup": "take",
         "marker": {
          "color": "#19d3f3",
          "symbol": "circle"
         },
         "mode": "markers",
         "name": "take",
         "scene": "scene",
         "showlegend": true,
         "type": "scatter3d",
         "x": {
          "bdata": "/iPuPg==",
          "dtype": "f4"
         },
         "y": {
          "bdata": "+LgsPg==",
          "dtype": "f4"
         },
         "z": {
          "bdata": "pqMKPg==",
          "dtype": "f4"
         }
        },
        {
         "hovertemplate": "color=go<br>0=%{x}<br>1=%{y}<br>2=%{z}<extra></extra>",
         "legendgroup": "go",
         "marker": {
          "color": "#FF6692",
          "symbol": "circle"
         },
         "mode": "markers",
         "name": "go",
         "scene": "scene",
         "showlegend": true,
         "type": "scatter3d",
         "x": {
          "bdata": "uLWIPg==",
          "dtype": "f4"
         },
         "y": {
          "bdata": "e00zvg==",
          "dtype": "f4"
         },
         "z": {
          "bdata": "IienPg==",
          "dtype": "f4"
         }
        },
        {
         "hovertemplate": "color=half<br>0=%{x}<br>1=%{y}<br>2=%{z}<extra></extra>",
         "legendgroup": "half",
         "marker": {
          "color": "#B6E880",
          "symbol": "circle"
         },
         "mode": "markers",
         "name": "half",
         "scene": "scene",
         "showlegend": true,
         "type": "scatter3d",
         "x": {
          "bdata": "+4GCvg==",
          "dtype": "f4"
         },
         "y": {
          "bdata": "mbiLPg==",
          "dtype": "f4"
         },
         "z": {
          "bdata": "nDaEPg==",
          "dtype": "f4"
         }
        },
        {
         "hovertemplate": "color=make<br>0=%{x}<br>1=%{y}<br>2=%{z}<extra></extra>",
         "legendgroup": "make",
         "marker": {
          "color": "#FF97FF",
          "symbol": "circle"
         },
         "mode": "markers",
         "name": "make",
         "scene": "scene",
         "showlegend": true,
         "type": "scatter3d",
         "x": {
          "bdata": "LFDiPg==",
          "dtype": "f4"
         },
         "y": {
          "bdata": "NyBVvg==",
          "dtype": "f4"
         },
         "z": {
          "bdata": "zGWUPg==",
          "dtype": "f4"
         }
        },
        {
         "hovertemplate": "color=arya<br>0=%{x}<br>1=%{y}<br>2=%{z}<extra></extra>",
         "legendgroup": "arya",
         "marker": {
          "color": "#FECB52",
          "symbol": "circle"
         },
         "mode": "markers",
         "name": "arya",
         "scene": "scene",
         "showlegend": true,
         "type": "scatter3d",
         "x": {
          "bdata": "mYbpvQ==",
          "dtype": "f4"
         },
         "y": {
          "bdata": "2rHFvg==",
          "dtype": "f4"
         },
         "z": {
          "bdata": "QAuUug==",
          "dtype": "f4"
         }
        },
        {
         "hovertemplate": "color=saw<br>0=%{x}<br>1=%{y}<br>2=%{z}<extra></extra>",
         "legendgroup": "saw",
         "marker": {
          "color": "#636efa",
          "symbol": "circle"
         },
         "mode": "markers",
         "name": "saw",
         "scene": "scene",
         "showlegend": true,
         "type": "scatter3d",
         "x": {
          "bdata": "x7Cfvg==",
          "dtype": "f4"
         },
         "y": {
          "bdata": "jJrcPQ==",
          "dtype": "f4"
         },
         "z": {
          "bdata": "pN0OPQ==",
          "dtype": "f4"
         }
        },
        {
         "hovertemplate": "color=day<br>0=%{x}<br>1=%{y}<br>2=%{z}<extra></extra>",
         "legendgroup": "day",
         "marker": {
          "color": "#EF553B",
          "symbol": "circle"
         },
         "mode": "markers",
         "name": "day",
         "scene": "scene",
         "showlegend": true,
         "type": "scatter3d",
         "x": {
          "bdata": "+6O3PQ==",
          "dtype": "f4"
         },
         "y": {
          "bdata": "KPx6Pg==",
          "dtype": "f4"
         },
         "z": {
          "bdata": "1IC7Pg==",
          "dtype": "f4"
         }
        },
        {
         "hovertemplate": "color=white<br>0=%{x}<br>1=%{y}<br>2=%{z}<extra></extra>",
         "legendgroup": "white",
         "marker": {
          "color": "#00cc96",
          "symbol": "circle"
         },
         "mode": "markers",
         "name": "white",
         "scene": "scene",
         "showlegend": true,
         "type": "scatter3d",
         "x": {
          "bdata": "l6/Kvg==",
          "dtype": "f4"
         },
         "y": {
          "bdata": "mGkHPw==",
          "dtype": "f4"
         },
         "z": {
          "bdata": "bTO8vg==",
          "dtype": "f4"
         }
        },
        {
         "hovertemplate": "color=jaime<br>0=%{x}<br>1=%{y}<br>2=%{z}<extra></extra>",
         "legendgroup": "jaime",
         "marker": {
          "color": "#ab63fa",
          "symbol": "circle"
         },
         "mode": "markers",
         "name": "jaime",
         "scene": "scene",
         "showlegend": true,
         "type": "scatter3d",
         "x": {
          "bdata": "vlhrPg==",
          "dtype": "f4"
         },
         "y": {
          "bdata": "HlaEPQ==",
          "dtype": "f4"
         },
         "z": {
          "bdata": "oHqfvg==",
          "dtype": "f4"
         }
        },
        {
         "hovertemplate": "color=first<br>0=%{x}<br>1=%{y}<br>2=%{z}<extra></extra>",
         "legendgroup": "first",
         "marker": {
          "color": "#FFA15A",
          "symbol": "circle"
         },
         "mode": "markers",
         "name": "first",
         "scene": "scene",
         "showlegend": true,
         "type": "scatter3d",
         "x": {
          "bdata": "KD05Pg==",
          "dtype": "f4"
         },
         "y": {
          "bdata": "ZvjSPg==",
          "dtype": "f4"
         },
         "z": {
          "bdata": "rEVEPg==",
          "dtype": "f4"
         }
        },
        {
         "hovertemplate": "color=look<br>0=%{x}<br>1=%{y}<br>2=%{z}<extra></extra>",
         "legendgroup": "look",
         "marker": {
          "color": "#19d3f3",
          "symbol": "circle"
         },
         "mode": "markers",
         "name": "look",
         "scene": "scene",
         "showlegend": true,
         "type": "scatter3d",
         "x": {
          "bdata": "AFsMOQ==",
          "dtype": "f4"
         },
         "y": {
          "bdata": "RRF4vg==",
          "dtype": "f4"
         },
         "z": {
          "bdata": "2Ykbvg==",
          "dtype": "f4"
         }
        },
        {
         "hovertemplate": "color=want<br>0=%{x}<br>1=%{y}<br>2=%{z}<extra></extra>",
         "legendgroup": "want",
         "marker": {
          "color": "#FF6692",
          "symbol": "circle"
         },
         "mode": "markers",
         "name": "want",
         "scene": "scene",
         "showlegend": true,
         "type": "scatter3d",
         "x": {
          "bdata": "SVUIPw==",
          "dtype": "f4"
         },
         "y": {
          "bdata": "QYU9vg==",
          "dtype": "f4"
         },
         "z": {
          "bdata": "8ilHPg==",
          "dtype": "f4"
         }
        },
        {
         "hovertemplate": "color=much<br>0=%{x}<br>1=%{y}<br>2=%{z}<extra></extra>",
         "legendgroup": "much",
         "marker": {
          "color": "#B6E880",
          "symbol": "circle"
         },
         "mode": "markers",
         "name": "much",
         "scene": "scene",
         "showlegend": true,
         "type": "scatter3d",
         "x": {
          "bdata": "5O/6Pg==",
          "dtype": "f4"
         },
         "y": {
          "bdata": "wiqFvg==",
          "dtype": "f4"
         },
         "z": {
          "bdata": "rVuJPg==",
          "dtype": "f4"
         }
        },
        {
         "hovertemplate": "color=enough<br>0=%{x}<br>1=%{y}<br>2=%{z}<extra></extra>",
         "legendgroup": "enough",
         "marker": {
          "color": "#FF97FF",
          "symbol": "circle"
         },
         "mode": "markers",
         "name": "enough",
         "scene": "scene",
         "showlegend": true,
         "type": "scatter3d",
         "x": {
          "bdata": "GDVEPg==",
          "dtype": "f4"
         },
         "y": {
          "bdata": "+vyavQ==",
          "dtype": "f4"
         },
         "z": {
          "bdata": "M1i6Pg==",
          "dtype": "f4"
         }
        },
        {
         "hovertemplate": "color=sword<br>0=%{x}<br>1=%{y}<br>2=%{z}<extra></extra>",
         "legendgroup": "sword",
         "marker": {
          "color": "#FECB52",
          "symbol": "circle"
         },
         "mode": "markers",
         "name": "sword",
         "scene": "scene",
         "showlegend": true,
         "type": "scatter3d",
         "x": {
          "bdata": "C6TUvQ==",
          "dtype": "f4"
         },
         "y": {
          "bdata": "tAgWPg==",
          "dtype": "f4"
         },
         "z": {
          "bdata": "vfabvg==",
          "dtype": "f4"
         }
        },
        {
         "hovertemplate": "color=tell<br>0=%{x}<br>1=%{y}<br>2=%{z}<extra></extra>",
         "legendgroup": "tell",
         "marker": {
          "color": "#636efa",
          "symbol": "circle"
         },
         "mode": "markers",
         "name": "tell",
         "scene": "scene",
         "showlegend": true,
         "type": "scatter3d",
         "x": {
          "bdata": "TN8kPw==",
          "dtype": "f4"
         },
         "y": {
          "bdata": "NRNIvg==",
          "dtype": "f4"
         },
         "z": {
          "bdata": "grUdPg==",
          "dtype": "f4"
         }
        },
        {
         "hovertemplate": "color=girl<br>0=%{x}<br>1=%{y}<br>2=%{z}<extra></extra>",
         "legendgroup": "girl",
         "marker": {
          "color": "#EF553B",
          "symbol": "circle"
         },
         "mode": "markers",
         "name": "girl",
         "scene": "scene",
         "showlegend": true,
         "type": "scatter3d",
         "x": {
          "bdata": "2MtzPg==",
          "dtype": "f4"
         },
         "y": {
          "bdata": "YGCGuw==",
          "dtype": "f4"
         },
         "z": {
          "bdata": "33avvg==",
          "dtype": "f4"
         }
        },
        {
         "hovertemplate": "color=bran<br>0=%{x}<br>1=%{y}<br>2=%{z}<extra></extra>",
         "legendgroup": "bran",
         "marker": {
          "color": "#00cc96",
          "symbol": "circle"
         },
         "mode": "markers",
         "name": "bran",
         "scene": "scene",
         "showlegend": true,
         "type": "scatter3d",
         "x": {
          "bdata": "VK0+vQ==",
          "dtype": "f4"
         },
         "y": {
          "bdata": "+oyhvg==",
          "dtype": "f4"
         },
         "z": {
          "bdata": "f0ONPQ==",
          "dtype": "f4"
         }
        },
        {
         "hovertemplate": "color=great<br>0=%{x}<br>1=%{y}<br>2=%{z}<extra></extra>",
         "legendgroup": "great",
         "marker": {
          "color": "#ab63fa",
          "symbol": "circle"
         },
         "mode": "markers",
         "name": "great",
         "scene": "scene",
         "showlegend": true,
         "type": "scatter3d",
         "x": {
          "bdata": "jfz8vQ==",
          "dtype": "f4"
         },
         "y": {
          "bdata": "LdNPPw==",
          "dtype": "f4"
         },
         "z": {
          "bdata": "8F4LPg==",
          "dtype": "f4"
         }
        },
        {
         "hovertemplate": "color=looked<br>0=%{x}<br>1=%{y}<br>2=%{z}<extra></extra>",
         "legendgroup": "looked",
         "marker": {
          "color": "#FFA15A",
          "symbol": "circle"
         },
         "mode": "markers",
         "name": "looked",
         "scene": "scene",
         "showlegend": true,
         "type": "scatter3d",
         "x": {
          "bdata": "sMRDvg==",
          "dtype": "f4"
         },
         "y": {
          "bdata": "ZIIXvQ==",
          "dtype": "f4"
         },
         "z": {
          "bdata": "qqiBvg==",
          "dtype": "f4"
         }
        },
        {
         "hovertemplate": "color=left<br>0=%{x}<br>1=%{y}<br>2=%{z}<extra></extra>",
         "legendgroup": "left",
         "marker": {
          "color": "#19d3f3",
          "symbol": "circle"
         },
         "mode": "markers",
         "name": "left",
         "scene": "scene",
         "showlegend": true,
         "type": "scatter3d",
         "x": {
          "bdata": "7m9jvg==",
          "dtype": "f4"
         },
         "y": {
          "bdata": "8aqcPg==",
          "dtype": "f4"
         },
         "z": {
          "bdata": "nN/QvA==",
          "dtype": "f4"
         }
        },
        {
         "hovertemplate": "color=knew<br>0=%{x}<br>1=%{y}<br>2=%{z}<extra></extra>",
         "legendgroup": "knew",
         "marker": {
          "color": "#FF6692",
          "symbol": "circle"
         },
         "mode": "markers",
         "name": "knew",
         "scene": "scene",
         "showlegend": true,
         "type": "scatter3d",
         "x": {
          "bdata": "mWmuPg==",
          "dtype": "f4"
         },
         "y": {
          "bdata": "tbgfvg==",
          "dtype": "f4"
         },
         "z": {
          "bdata": "ArCmPg==",
          "dtype": "f4"
         }
        },
        {
         "hovertemplate": "color=asked<br>0=%{x}<br>1=%{y}<br>2=%{z}<extra></extra>",
         "legendgroup": "asked",
         "marker": {
          "color": "#B6E880",
          "symbol": "circle"
         },
         "mode": "markers",
         "name": "asked",
         "scene": "scene",
         "showlegend": true,
         "type": "scatter3d",
         "x": {
          "bdata": "tMcDPw==",
          "dtype": "f4"
         },
         "y": {
          "bdata": "oJWQuw==",
          "dtype": "f4"
         },
         "z": {
          "bdata": "pEyjvg==",
          "dtype": "f4"
         }
        },
        {
         "hovertemplate": "color=gave<br>0=%{x}<br>1=%{y}<br>2=%{z}<extra></extra>",
         "legendgroup": "gave",
         "marker": {
          "color": "#FF97FF",
          "symbol": "circle"
         },
         "mode": "markers",
         "name": "gave",
         "scene": "scene",
         "showlegend": true,
         "type": "scatter3d",
         "x": {
          "bdata": "XtWGPQ==",
          "dtype": "f4"
         },
         "y": {
          "bdata": "mfUuvg==",
          "dtype": "f4"
         },
         "z": {
          "bdata": "YZkBvw==",
          "dtype": "f4"
         }
        },
        {
         "hovertemplate": "color=maester<br>0=%{x}<br>1=%{y}<br>2=%{z}<extra></extra>",
         "legendgroup": "maester",
         "marker": {
          "color": "#FECB52",
          "symbol": "circle"
         },
         "mode": "markers",
         "name": "maester",
         "scene": "scene",
         "showlegend": true,
         "type": "scatter3d",
         "x": {
          "bdata": "PooyPg==",
          "dtype": "f4"
         },
         "y": {
          "bdata": "jAZoPg==",
          "dtype": "f4"
         },
         "z": {
          "bdata": "qPmpvg==",
          "dtype": "f4"
         }
        },
        {
         "hovertemplate": "color=called<br>0=%{x}<br>1=%{y}<br>2=%{z}<extra></extra>",
         "legendgroup": "called",
         "marker": {
          "color": "#636efa",
          "symbol": "circle"
         },
         "mode": "markers",
         "name": "called",
         "scene": "scene",
         "showlegend": true,
         "type": "scatter3d",
         "x": {
          "bdata": "rvRePg==",
          "dtype": "f4"
         },
         "y": {
          "bdata": "mN4qPw==",
          "dtype": "f4"
         },
         "z": {
          "bdata": "oezovg==",
          "dtype": "f4"
         }
        },
        {
         "hovertemplate": "color=wall<br>0=%{x}<br>1=%{y}<br>2=%{z}<extra></extra>",
         "legendgroup": "wall",
         "marker": {
          "color": "#EF553B",
          "symbol": "circle"
         },
         "mode": "markers",
         "name": "wall",
         "scene": "scene",
         "showlegend": true,
         "type": "scatter3d",
         "x": {
          "bdata": "JU+Bvg==",
          "dtype": "f4"
         },
         "y": {
          "bdata": "6rOsPg==",
          "dtype": "f4"
         },
         "z": {
          "bdata": "nNH2Pg==",
          "dtype": "f4"
         }
        },
        {
         "hovertemplate": "color=every<br>0=%{x}<br>1=%{y}<br>2=%{z}<extra></extra>",
         "legendgroup": "every",
         "marker": {
          "color": "#00cc96",
          "symbol": "circle"
         },
         "mode": "markers",
         "name": "every",
         "scene": "scene",
         "showlegend": true,
         "type": "scatter3d",
         "x": {
          "bdata": "8kMAvg==",
          "dtype": "f4"
         },
         "y": {
          "bdata": "fV6HPg==",
          "dtype": "f4"
         },
         "z": {
          "bdata": "KEelPg==",
          "dtype": "f4"
         }
        },
        {
         "hovertemplate": "color=heard<br>0=%{x}<br>1=%{y}<br>2=%{z}<extra></extra>",
         "legendgroup": "heard",
         "marker": {
          "color": "#ab63fa",
          "symbol": "circle"
         },
         "mode": "markers",
         "name": "heard",
         "scene": "scene",
         "showlegend": true,
         "type": "scatter3d",
         "x": {
          "bdata": "yCiQuw==",
          "dtype": "f4"
         },
         "y": {
          "bdata": "2sHxvQ==",
          "dtype": "f4"
         },
         "z": {
          "bdata": "XhFnPg==",
          "dtype": "f4"
         }
        },
        {
         "hovertemplate": "color=sansa<br>0=%{x}<br>1=%{y}<br>2=%{z}<extra></extra>",
         "legendgroup": "sansa",
         "marker": {
          "color": "#FFA15A",
          "symbol": "circle"
         },
         "mode": "markers",
         "name": "sansa",
         "scene": "scene",
         "showlegend": true,
         "type": "scatter3d",
         "x": {
          "bdata": "TCNJPg==",
          "dtype": "f4"
         },
         "y": {
          "bdata": "OL6Wvg==",
          "dtype": "f4"
         },
         "z": {
          "bdata": "1L+hvg==",
          "dtype": "f4"
         }
        },
        {
         "hovertemplate": "color=let<br>0=%{x}<br>1=%{y}<br>2=%{z}<extra></extra>",
         "legendgroup": "let",
         "marker": {
          "color": "#19d3f3",
          "symbol": "circle"
         },
         "mode": "markers",
         "name": "let",
         "scene": "scene",
         "showlegend": true,
         "type": "scatter3d",
         "x": {
          "bdata": "6pVvPg==",
          "dtype": "f4"
         },
         "y": {
          "bdata": "mIOAvg==",
          "dtype": "f4"
         },
         "z": {
          "bdata": "QAEuPg==",
          "dtype": "f4"
         }
        },
        {
         "hovertemplate": "color=yet<br>0=%{x}<br>1=%{y}<br>2=%{z}<extra></extra>",
         "legendgroup": "yet",
         "marker": {
          "color": "#FF6692",
          "symbol": "circle"
         },
         "mode": "markers",
         "name": "yet",
         "scene": "scene",
         "showlegend": true,
         "type": "scatter3d",
         "x": {
          "bdata": "9VOAPg==",
          "dtype": "f4"
         },
         "y": {
          "bdata": "QO4hPA==",
          "dtype": "f4"
         },
         "z": {
          "bdata": "8FXKPg==",
          "dtype": "f4"
         }
        },
        {
         "hovertemplate": "color=went<br>0=%{x}<br>1=%{y}<br>2=%{z}<extra></extra>",
         "legendgroup": "went",
         "marker": {
          "color": "#B6E880",
          "symbol": "circle"
         },
         "mode": "markers",
         "name": "went",
         "scene": "scene",
         "showlegend": true,
         "type": "scatter3d",
         "x": {
          "bdata": "QYTBvg==",
          "dtype": "f4"
         },
         "y": {
          "bdata": "MBWwPQ==",
          "dtype": "f4"
         },
         "z": {
          "bdata": "w7TnPQ==",
          "dtype": "f4"
         }
        },
        {
         "hovertemplate": "color=turned<br>0=%{x}<br>1=%{y}<br>2=%{z}<extra></extra>",
         "legendgroup": "turned",
         "marker": {
          "color": "#FF97FF",
          "symbol": "circle"
         },
         "mode": "markers",
         "name": "turned",
         "scene": "scene",
         "showlegend": true,
         "type": "scatter3d",
         "x": {
          "bdata": "GOSAvg==",
          "dtype": "f4"
         },
         "y": {
          "bdata": "wLymPQ==",
          "dtype": "f4"
         },
         "z": {
          "bdata": "932Fvg==",
          "dtype": "f4"
         }
        },
        {
         "hovertemplate": "color=dany<br>0=%{x}<br>1=%{y}<br>2=%{z}<extra></extra>",
         "legendgroup": "dany",
         "marker": {
          "color": "#FECB52",
          "symbol": "circle"
         },
         "mode": "markers",
         "name": "dany",
         "scene": "scene",
         "showlegend": true,
         "type": "scatter3d",
         "x": {
          "bdata": "m3X9vQ==",
          "dtype": "f4"
         },
         "y": {
          "bdata": "ZexTvg==",
          "dtype": "f4"
         },
         "z": {
          "bdata": "GVmAPQ==",
          "dtype": "f4"
         }
        },
        {
         "hovertemplate": "color=need<br>0=%{x}<br>1=%{y}<br>2=%{z}<extra></extra>",
         "legendgroup": "need",
         "marker": {
          "color": "#636efa",
          "symbol": "circle"
         },
         "mode": "markers",
         "name": "need",
         "scene": "scene",
         "showlegend": true,
         "type": "scatter3d",
         "x": {
          "bdata": "+9v1Pg==",
          "dtype": "f4"
         },
         "y": {
          "bdata": "QKVKPA==",
          "dtype": "f4"
         },
         "z": {
          "bdata": "xyqePg==",
          "dtype": "f4"
         }
        },
        {
         "hovertemplate": "color=behind<br>0=%{x}<br>1=%{y}<br>2=%{z}<extra></extra>",
         "legendgroup": "behind",
         "marker": {
          "color": "#EF553B",
          "symbol": "circle"
         },
         "mode": "markers",
         "name": "behind",
         "scene": "scene",
         "showlegend": true,
         "type": "scatter3d",
         "x": {
          "bdata": "aRgTvw==",
          "dtype": "f4"
         },
         "y": {
          "bdata": "a8XRPg==",
          "dtype": "f4"
         },
         "z": {
          "bdata": "3/7SPQ==",
          "dtype": "f4"
         }
        },
        {
         "hovertemplate": "color=around<br>0=%{x}<br>1=%{y}<br>2=%{z}<extra></extra>",
         "legendgroup": "around",
         "marker": {
          "color": "#00cc96",
          "symbol": "circle"
         },
         "mode": "markers",
         "name": "around",
         "scene": "scene",
         "showlegend": true,
         "type": "scatter3d",
         "x": {
          "bdata": "AlU/vw==",
          "dtype": "f4"
         },
         "y": {
          "bdata": "MGsnPg==",
          "dtype": "f4"
         },
         "z": {
          "bdata": "WulgPQ==",
          "dtype": "f4"
         }
        },
        {
         "hovertemplate": "color=woman<br>0=%{x}<br>1=%{y}<br>2=%{z}<extra></extra>",
         "legendgroup": "woman",
         "marker": {
          "color": "#ab63fa",
          "symbol": "circle"
         },
         "mode": "markers",
         "name": "woman",
         "scene": "scene",
         "showlegend": true,
         "type": "scatter3d",
         "x": {
          "bdata": "WuipPQ==",
          "dtype": "f4"
         },
         "y": {
          "bdata": "RujsvQ==",
          "dtype": "f4"
         },
         "z": {
          "bdata": "Std7vg==",
          "dtype": "f4"
         }
        },
        {
         "hovertemplate": "color=another<br>0=%{x}<br>1=%{y}<br>2=%{z}<extra></extra>",
         "legendgroup": "another",
         "marker": {
          "color": "#FFA15A",
          "symbol": "circle"
         },
         "mode": "markers",
         "name": "another",
         "scene": "scene",
         "showlegend": true,
         "type": "scatter3d",
         "x": {
          "bdata": "jCkBvA==",
          "dtype": "f4"
         },
         "y": {
          "bdata": "HjibPQ==",
          "dtype": "f4"
         },
         "z": {
          "bdata": "juMaPg==",
          "dtype": "f4"
         }
        },
        {
         "hovertemplate": "color=snow<br>0=%{x}<br>1=%{y}<br>2=%{z}<extra></extra>",
         "legendgroup": "snow",
         "marker": {
          "color": "#19d3f3",
          "symbol": "circle"
         },
         "mode": "markers",
         "name": "snow",
         "scene": "scene",
         "showlegend": true,
         "type": "scatter3d",
         "x": {
          "bdata": "Rw6Pvg==",
          "dtype": "f4"
         },
         "y": {
          "bdata": "7IZXPQ==",
          "dtype": "f4"
         },
         "z": {
          "bdata": "ohF8PQ==",
          "dtype": "f4"
         }
        },
        {
         "hovertemplate": "color=beneath<br>0=%{x}<br>1=%{y}<br>2=%{z}<extra></extra>",
         "legendgroup": "beneath",
         "marker": {
          "color": "#FF6692",
          "symbol": "circle"
         },
         "mode": "markers",
         "name": "beneath",
         "scene": "scene",
         "showlegend": true,
         "type": "scatter3d",
         "x": {
          "bdata": "FC1Avw==",
          "dtype": "f4"
         },
         "y": {
          "bdata": "8rO1Pg==",
          "dtype": "f4"
         },
         "z": {
          "bdata": "GPAGPg==",
          "dtype": "f4"
         }
        },
        {
         "hovertemplate": "color=across<br>0=%{x}<br>1=%{y}<br>2=%{z}<extra></extra>",
         "legendgroup": "across",
         "marker": {
          "color": "#B6E880",
          "symbol": "circle"
         },
         "mode": "markers",
         "name": "across",
         "scene": "scene",
         "showlegend": true,
         "type": "scatter3d",
         "x": {
          "bdata": "l3swvw==",
          "dtype": "f4"
         },
         "y": {
          "bdata": "6KSYPg==",
          "dtype": "f4"
         },
         "z": {
          "bdata": "ixODPQ==",
          "dtype": "f4"
         }
        },
        {
         "hovertemplate": "color=knight<br>0=%{x}<br>1=%{y}<br>2=%{z}<extra></extra>",
         "legendgroup": "knight",
         "marker": {
          "color": "#FF97FF",
          "symbol": "circle"
         },
         "mode": "markers",
         "name": "knight",
         "scene": "scene",
         "showlegend": true,
         "type": "scatter3d",
         "x": {
          "bdata": "PjuEPg==",
          "dtype": "f4"
         },
         "y": {
          "bdata": "5in2Pg==",
          "dtype": "f4"
         },
         "z": {
          "bdata": "P7cQvw==",
          "dtype": "f4"
         }
        },
        {
         "hovertemplate": "color=keep<br>0=%{x}<br>1=%{y}<br>2=%{z}<extra></extra>",
         "legendgroup": "keep",
         "marker": {
          "color": "#FECB52",
          "symbol": "circle"
         },
         "mode": "markers",
         "name": "keep",
         "scene": "scene",
         "showlegend": true,
         "type": "scatter3d",
         "x": {
          "bdata": "6PmyPQ==",
          "dtype": "f4"
         },
         "y": {
          "bdata": "jh1RPg==",
          "dtype": "f4"
         },
         "z": {
          "bdata": "35mkPg==",
          "dtype": "f4"
         }
        },
        {
         "hovertemplate": "color=grace<br>0=%{x}<br>1=%{y}<br>2=%{z}<extra></extra>",
         "legendgroup": "grace",
         "marker": {
          "color": "#636efa",
          "symbol": "circle"
         },
         "mode": "markers",
         "name": "grace",
         "scene": "scene",
         "showlegend": true,
         "type": "scatter3d",
         "x": {
          "bdata": "aes2Pw==",
          "dtype": "f4"
         },
         "y": {
          "bdata": "La5oPg==",
          "dtype": "f4"
         },
         "z": {
          "bdata": "KApMvg==",
          "dtype": "f4"
         }
        },
        {
         "hovertemplate": "color=found<br>0=%{x}<br>1=%{y}<br>2=%{z}<extra></extra>",
         "legendgroup": "found",
         "marker": {
          "color": "#EF553B",
          "symbol": "circle"
         },
         "mode": "markers",
         "name": "found",
         "scene": "scene",
         "showlegend": true,
         "type": "scatter3d",
         "x": {
          "bdata": "M92Rvg==",
          "dtype": "f4"
         },
         "y": {
          "bdata": "AB4DPg==",
          "dtype": "f4"
         },
         "z": {
          "bdata": "bnMTPg==",
          "dtype": "f4"
         }
        },
        {
         "hovertemplate": "color=gold<br>0=%{x}<br>1=%{y}<br>2=%{z}<extra></extra>",
         "legendgroup": "gold",
         "marker": {
          "color": "#00cc96",
          "symbol": "circle"
         },
         "mode": "markers",
         "name": "gold",
         "scene": "scene",
         "showlegend": true,
         "type": "scatter3d",
         "x": {
          "bdata": "5Yv2vQ==",
          "dtype": "f4"
         },
         "y": {
          "bdata": "whL0Pg==",
          "dtype": "f4"
         },
         "z": {
          "bdata": "+D5Hvg==",
          "dtype": "f4"
         }
        },
        {
         "hovertemplate": "color=last<br>0=%{x}<br>1=%{y}<br>2=%{z}<extra></extra>",
         "legendgroup": "last",
         "marker": {
          "color": "#ab63fa",
          "symbol": "circle"
         },
         "mode": "markers",
         "name": "last",
         "scene": "scene",
         "showlegend": true,
         "type": "scatter3d",
         "x": {
          "bdata": "xorSPQ==",
          "dtype": "f4"
         },
         "y": {
          "bdata": "ClhTPg==",
          "dtype": "f4"
         },
         "z": {
          "bdata": "UzDzPQ==",
          "dtype": "f4"
         }
        },
        {
         "hovertemplate": "color=cersei<br>0=%{x}<br>1=%{y}<br>2=%{z}<extra></extra>",
         "legendgroup": "cersei",
         "marker": {
          "color": "#FFA15A",
          "symbol": "circle"
         },
         "mode": "markers",
         "name": "cersei",
         "scene": "scene",
         "showlegend": true,
         "type": "scatter3d",
         "x": {
          "bdata": "xS7HPg==",
          "dtype": "f4"
         },
         "y": {
          "bdata": "TB1OvQ==",
          "dtype": "f4"
         },
         "z": {
          "bdata": "DgKwvg==",
          "dtype": "f4"
         }
        },
        {
         "hovertemplate": "color=castle<br>0=%{x}<br>1=%{y}<br>2=%{z}<extra></extra>",
         "legendgroup": "castle",
         "marker": {
          "color": "#19d3f3",
          "symbol": "circle"
         },
         "mode": "markers",
         "name": "castle",
         "scene": "scene",
         "showlegend": true,
         "type": "scatter3d",
         "x": {
          "bdata": "p9yVPQ==",
          "dtype": "f4"
         },
         "y": {
          "bdata": "k1kuPw==",
          "dtype": "f4"
         },
         "z": {
          "bdata": "xRSPPg==",
          "dtype": "f4"
         }
        },
        {
         "hovertemplate": "color=stark<br>0=%{x}<br>1=%{y}<br>2=%{z}<extra></extra>",
         "legendgroup": "stark",
         "marker": {
          "color": "#FF6692",
          "symbol": "circle"
         },
         "mode": "markers",
         "name": "stark",
         "scene": "scene",
         "showlegend": true,
         "type": "scatter3d",
         "x": {
          "bdata": "vvq7Pg==",
          "dtype": "f4"
         },
         "y": {
          "bdata": "Ooe+Pg==",
          "dtype": "f4"
         },
         "z": {
          "bdata": "W8qCvg==",
          "dtype": "f4"
         }
        },
        {
         "hovertemplate": "color=gods<br>0=%{x}<br>1=%{y}<br>2=%{z}<extra></extra>",
         "legendgroup": "gods",
         "marker": {
          "color": "#B6E880",
          "symbol": "circle"
         },
         "mode": "markers",
         "name": "gods",
         "scene": "scene",
         "showlegend": true,
         "type": "scatter3d",
         "x": {
          "bdata": "RpXfPg==",
          "dtype": "f4"
         },
         "y": {
          "bdata": "U1wBPg==",
          "dtype": "f4"
         },
         "z": {
          "bdata": "/JOIPg==",
          "dtype": "f4"
         }
        },
        {
         "hovertemplate": "color=think<br>0=%{x}<br>1=%{y}<br>2=%{z}<extra></extra>",
         "legendgroup": "think",
         "marker": {
          "color": "#FF97FF",
          "symbol": "circle"
         },
         "mode": "markers",
         "name": "think",
         "scene": "scene",
         "showlegend": true,
         "type": "scatter3d",
         "x": {
          "bdata": "GyUQPw==",
          "dtype": "f4"
         },
         "y": {
          "bdata": "Moqmvg==",
          "dtype": "f4"
         },
         "z": {
          "bdata": "2s5rPg==",
          "dtype": "f4"
         }
        },
        {
         "hovertemplate": "color=hair<br>0=%{x}<br>1=%{y}<br>2=%{z}<extra></extra>",
         "legendgroup": "hair",
         "marker": {
          "color": "#FECB52",
          "symbol": "circle"
         },
         "mode": "markers",
         "name": "hair",
         "scene": "scene",
         "showlegend": true,
         "type": "scatter3d",
         "x": {
          "bdata": "deHyvg==",
          "dtype": "f4"
         },
         "y": {
          "bdata": "muePvQ==",
          "dtype": "f4"
         },
         "z": {
          "bdata": "gCu6vg==",
          "dtype": "f4"
         }
        },
        {
         "hovertemplate": "color=many<br>0=%{x}<br>1=%{y}<br>2=%{z}<extra></extra>",
         "legendgroup": "many",
         "marker": {
          "color": "#636efa",
          "symbol": "circle"
         },
         "mode": "markers",
         "name": "many",
         "scene": "scene",
         "showlegend": true,
         "type": "scatter3d",
         "x": {
          "bdata": "xrJ7Pg==",
          "dtype": "f4"
         },
         "y": {
          "bdata": "YswIPw==",
          "dtype": "f4"
         },
         "z": {
          "bdata": "sI3yPg==",
          "dtype": "f4"
         }
        },
        {
         "hovertemplate": "color=feet<br>0=%{x}<br>1=%{y}<br>2=%{z}<extra></extra>",
         "legendgroup": "feet",
         "marker": {
          "color": "#EF553B",
          "symbol": "circle"
         },
         "mode": "markers",
         "name": "feet",
         "scene": "scene",
         "showlegend": true,
         "type": "scatter3d",
         "x": {
          "bdata": "5kobvw==",
          "dtype": "f4"
         },
         "y": {
          "bdata": "ACmEPg==",
          "dtype": "f4"
         },
         "z": {
          "bdata": "oCgMOw==",
          "dtype": "f4"
         }
        },
        {
         "hovertemplate": "color=hands<br>0=%{x}<br>1=%{y}<br>2=%{z}<extra></extra>",
         "legendgroup": "hands",
         "marker": {
          "color": "#00cc96",
          "symbol": "circle"
         },
         "mode": "markers",
         "name": "hands",
         "scene": "scene",
         "showlegend": true,
         "type": "scatter3d",
         "x": {
          "bdata": "XSkGvw==",
          "dtype": "f4"
         },
         "y": {
          "bdata": "2j3kvQ==",
          "dtype": "f4"
         },
         "z": {
          "bdata": "4IOIvg==",
          "dtype": "f4"
         }
        },
        {
         "hovertemplate": "color=stannis<br>0=%{x}<br>1=%{y}<br>2=%{z}<extra></extra>",
         "legendgroup": "stannis",
         "marker": {
          "color": "#ab63fa",
          "symbol": "circle"
         },
         "mode": "markers",
         "name": "stannis",
         "scene": "scene",
         "showlegend": true,
         "type": "scatter3d",
         "x": {
          "bdata": "6ZjePg==",
          "dtype": "f4"
         },
         "y": {
          "bdata": "Xe0MPw==",
          "dtype": "f4"
         },
         "z": {
          "bdata": "MEV+vQ==",
          "dtype": "f4"
         }
        },
        {
         "hovertemplate": "color=mother<br>0=%{x}<br>1=%{y}<br>2=%{z}<extra></extra>",
         "legendgroup": "mother",
         "marker": {
          "color": "#FFA15A",
          "symbol": "circle"
         },
         "mode": "markers",
         "name": "mother",
         "scene": "scene",
         "showlegend": true,
         "type": "scatter3d",
         "x": {
          "bdata": "siP/Pg==",
          "dtype": "f4"
         },
         "y": {
          "bdata": "9T8/Pg==",
          "dtype": "f4"
         },
         "z": {
          "bdata": "V1e/vQ==",
          "dtype": "f4"
         }
        },
        {
         "hovertemplate": "color=catelyn<br>0=%{x}<br>1=%{y}<br>2=%{z}<extra></extra>",
         "legendgroup": "catelyn",
         "marker": {
          "color": "#19d3f3",
          "symbol": "circle"
         },
         "mode": "markers",
         "name": "catelyn",
         "scene": "scene",
         "showlegend": true,
         "type": "scatter3d",
         "x": {
          "bdata": "+OVaPg==",
          "dtype": "f4"
         },
         "y": {
          "bdata": "bPpgvQ==",
          "dtype": "f4"
         },
         "z": {
          "bdata": "DQ6Ivg==",
          "dtype": "f4"
         }
        },
        {
         "hovertemplate": "color=robert<br>0=%{x}<br>1=%{y}<br>2=%{z}<extra></extra>",
         "legendgroup": "robert",
         "marker": {
          "color": "#FF6692",
          "symbol": "circle"
         },
         "mode": "markers",
         "name": "robert",
         "scene": "scene",
         "showlegend": true,
         "type": "scatter3d",
         "x": {
          "bdata": "ew4IPw==",
          "dtype": "f4"
         },
         "y": {
          "bdata": "vOPTPg==",
          "dtype": "f4"
         },
         "z": {
          "bdata": "1diHvg==",
          "dtype": "f4"
         }
        },
        {
         "hovertemplate": "color=seemed<br>0=%{x}<br>1=%{y}<br>2=%{z}<extra></extra>",
         "legendgroup": "seemed",
         "marker": {
          "color": "#B6E880",
          "symbol": "circle"
         },
         "mode": "markers",
         "name": "seemed",
         "scene": "scene",
         "showlegend": true,
         "type": "scatter3d",
         "x": {
          "bdata": "fnkivg==",
          "dtype": "f4"
         },
         "y": {
          "bdata": "tRZBvg==",
          "dtype": "f4"
         },
         "z": {
          "bdata": "5o2+Pg==",
          "dtype": "f4"
         }
        },
        {
         "hovertemplate": "color=prince<br>0=%{x}<br>1=%{y}<br>2=%{z}<extra></extra>",
         "legendgroup": "prince",
         "marker": {
          "color": "#FF97FF",
          "symbol": "circle"
         },
         "mode": "markers",
         "name": "prince",
         "scene": "scene",
         "showlegend": true,
         "type": "scatter3d",
         "x": {
          "bdata": "yxwHPw==",
          "dtype": "f4"
         },
         "y": {
          "bdata": "nAAEPw==",
          "dtype": "f4"
         },
         "z": {
          "bdata": "KIbbvg==",
          "dtype": "f4"
         }
        },
        {
         "hovertemplate": "color=may<br>0=%{x}<br>1=%{y}<br>2=%{z}<extra></extra>",
         "legendgroup": "may",
         "marker": {
          "color": "#FECB52",
          "symbol": "circle"
         },
         "mode": "markers",
         "name": "may",
         "scene": "scene",
         "showlegend": true,
         "type": "scatter3d",
         "x": {
          "bdata": "6uM0Pw==",
          "dtype": "f4"
         },
         "y": {
          "bdata": "5tu5PQ==",
          "dtype": "f4"
         },
         "z": {
          "bdata": "wg9uPg==",
          "dtype": "f4"
         }
        },
        {
         "hovertemplate": "color=ever<br>0=%{x}<br>1=%{y}<br>2=%{z}<extra></extra>",
         "legendgroup": "ever",
         "marker": {
          "color": "#636efa",
          "symbol": "circle"
         },
         "mode": "markers",
         "name": "ever",
         "scene": "scene",
         "showlegend": true,
         "type": "scatter3d",
         "x": {
          "bdata": "bTXIPg==",
          "dtype": "f4"
         },
         "y": {
          "bdata": "4lDuvQ==",
          "dtype": "f4"
         },
         "z": {
          "bdata": "upRePg==",
          "dtype": "f4"
         }
        },
        {
         "hovertemplate": "color=robb<br>0=%{x}<br>1=%{y}<br>2=%{z}<extra></extra>",
         "legendgroup": "robb",
         "marker": {
          "color": "#EF553B",
          "symbol": "circle"
         },
         "mode": "markers",
         "name": "robb",
         "scene": "scene",
         "showlegend": true,
         "type": "scatter3d",
         "x": {
          "bdata": "sjLPPg==",
          "dtype": "f4"
         },
         "y": {
          "bdata": "tf96Pg==",
          "dtype": "f4"
         },
         "z": {
          "bdata": "6Llwvg==",
          "dtype": "f4"
         }
        },
        {
         "hovertemplate": "color=done<br>0=%{x}<br>1=%{y}<br>2=%{z}<extra></extra>",
         "legendgroup": "done",
         "marker": {
          "color": "#00cc96",
          "symbol": "circle"
         },
         "mode": "markers",
         "name": "done",
         "scene": "scene",
         "showlegend": true,
         "type": "scatter3d",
         "x": {
          "bdata": "a2QcPw==",
          "dtype": "f4"
         },
         "y": {
          "bdata": "Av+fvQ==",
          "dtype": "f4"
         },
         "z": {
          "bdata": "brdSPg==",
          "dtype": "f4"
         }
        },
        {
         "hovertemplate": "color=find<br>0=%{x}<br>1=%{y}<br>2=%{z}<extra></extra>",
         "legendgroup": "find",
         "marker": {
          "color": "#ab63fa",
          "symbol": "circle"
         },
         "mode": "markers",
         "name": "find",
         "scene": "scene",
         "showlegend": true,
         "type": "scatter3d",
         "x": {
          "bdata": "ZB/RPg==",
          "dtype": "f4"
         },
         "y": {
          "bdata": "Um7tvQ==",
          "dtype": "f4"
         },
         "z": {
          "bdata": "34bGPg==",
          "dtype": "f4"
         }
        },
        {
         "hovertemplate": "color=lannister<br>0=%{x}<br>1=%{y}<br>2=%{z}<extra></extra>",
         "legendgroup": "lannister",
         "marker": {
          "color": "#FFA15A",
          "symbol": "circle"
         },
         "mode": "markers",
         "name": "lannister",
         "scene": "scene",
         "showlegend": true,
         "type": "scatter3d",
         "x": {
          "bdata": "bgelPg==",
          "dtype": "f4"
         },
         "y": {
          "bdata": "KMgJPw==",
          "dtype": "f4"
         },
         "z": {
          "bdata": "HTzPvg==",
          "dtype": "f4"
         }
        },
        {
         "hovertemplate": "color=hear<br>0=%{x}<br>1=%{y}<br>2=%{z}<extra></extra>",
         "legendgroup": "hear",
         "marker": {
          "color": "#19d3f3",
          "symbol": "circle"
         },
         "mode": "markers",
         "name": "hear",
         "scene": "scene",
         "showlegend": true,
         "type": "scatter3d",
         "x": {
          "bdata": "TD6QPQ==",
          "dtype": "f4"
         },
         "y": {
          "bdata": "Zedivg==",
          "dtype": "f4"
         },
         "z": {
          "bdata": "Pn+HPg==",
          "dtype": "f4"
         }
        },
        {
         "hovertemplate": "color=name<br>0=%{x}<br>1=%{y}<br>2=%{z}<extra></extra>",
         "legendgroup": "name",
         "marker": {
          "color": "#FF6692",
          "symbol": "circle"
         },
         "mode": "markers",
         "name": "name",
         "scene": "scene",
         "showlegend": true,
         "type": "scatter3d",
         "x": {
          "bdata": "BxEgPw==",
          "dtype": "f4"
         },
         "y": {
          "bdata": "52lAPg==",
          "dtype": "f4"
         },
         "z": {
          "bdata": "HsBXvg==",
          "dtype": "f4"
         }
        },
        {
         "hovertemplate": "color=grey<br>0=%{x}<br>1=%{y}<br>2=%{z}<extra></extra>",
         "legendgroup": "grey",
         "marker": {
          "color": "#B6E880",
          "symbol": "circle"
         },
         "mode": "markers",
         "name": "grey",
         "scene": "scene",
         "showlegend": true,
         "type": "scatter3d",
         "x": {
          "bdata": "c5v/vg==",
          "dtype": "f4"
         },
         "y": {
          "bdata": "RuS1Pg==",
          "dtype": "f4"
         },
         "z": {
          "bdata": "ypERvg==",
          "dtype": "f4"
         }
        },
        {
         "hovertemplate": "color=horse<br>0=%{x}<br>1=%{y}<br>2=%{z}<extra></extra>",
         "legendgroup": "horse",
         "marker": {
          "color": "#FF97FF",
          "symbol": "circle"
         },
         "mode": "markers",
         "name": "horse",
         "scene": "scene",
         "showlegend": true,
         "type": "scatter3d",
         "x": {
          "bdata": "DnPUvg==",
          "dtype": "f4"
         },
         "y": {
          "bdata": "wRXKPQ==",
          "dtype": "f4"
         },
         "z": {
          "bdata": "iCl8PA==",
          "dtype": "f4"
         }
        },
        {
         "hovertemplate": "color=high<br>0=%{x}<br>1=%{y}<br>2=%{z}<extra></extra>",
         "legendgroup": "high",
         "marker": {
          "color": "#FECB52",
          "symbol": "circle"
         },
         "mode": "markers",
         "name": "high",
         "scene": "scene",
         "showlegend": true,
         "type": "scatter3d",
         "x": {
          "bdata": "DFpDvg==",
          "dtype": "f4"
         },
         "y": {
          "bdata": "N7MxPw==",
          "dtype": "f4"
         },
         "z": {
          "bdata": "+GVPPA==",
          "dtype": "f4"
         }
        },
        {
         "hovertemplate": "color=put<br>0=%{x}<br>1=%{y}<br>2=%{z}<extra></extra>",
         "legendgroup": "put",
         "marker": {
          "color": "#636efa",
          "symbol": "circle"
         },
         "mode": "markers",
         "name": "put",
         "scene": "scene",
         "showlegend": true,
         "type": "scatter3d",
         "x": {
          "bdata": "3SD1PQ==",
          "dtype": "f4"
         },
         "y": {
          "bdata": "tIBsPQ==",
          "dtype": "f4"
         },
         "z": {
          "bdata": "rLMdvg==",
          "dtype": "f4"
         }
        },
        {
         "hovertemplate": "color=wine<br>0=%{x}<br>1=%{y}<br>2=%{z}<extra></extra>",
         "legendgroup": "wine",
         "marker": {
          "color": "#EF553B",
          "symbol": "circle"
         },
         "mode": "markers",
         "name": "wine",
         "scene": "scene",
         "showlegend": true,
         "type": "scatter3d",
         "x": {
          "bdata": "Ym8Uvg==",
          "dtype": "f4"
         },
         "y": {
          "bdata": "TFqDvg==",
          "dtype": "f4"
         },
         "z": {
          "bdata": "xCFGvg==",
          "dtype": "f4"
         }
        },
        {
         "hovertemplate": "color=stone<br>0=%{x}<br>1=%{y}<br>2=%{z}<extra></extra>",
         "legendgroup": "stone",
         "marker": {
          "color": "#00cc96",
          "symbol": "circle"
         },
         "mode": "markers",
         "name": "stone",
         "scene": "scene",
         "showlegend": true,
         "type": "scatter3d",
         "x": {
          "bdata": "3AElvw==",
          "dtype": "f4"
         },
         "y": {
          "bdata": "tqPmPg==",
          "dtype": "f4"
         },
         "z": {
          "bdata": "LAdjPg==",
          "dtype": "f4"
         }
        },
        {
         "hovertemplate": "color=hard<br>0=%{x}<br>1=%{y}<br>2=%{z}<extra></extra>",
         "legendgroup": "hard",
         "marker": {
          "color": "#ab63fa",
          "symbol": "circle"
         },
         "mode": "markers",
         "name": "hard",
         "scene": "scene",
         "showlegend": true,
         "type": "scatter3d",
         "x": {
          "bdata": "RMryvg==",
          "dtype": "f4"
         },
         "y": {
          "bdata": "9uW5vg==",
          "dtype": "f4"
         },
         "z": {
          "bdata": "OtgIPg==",
          "dtype": "f4"
         }
        },
        {
         "hovertemplate": "color=water<br>0=%{x}<br>1=%{y}<br>2=%{z}<extra></extra>",
         "legendgroup": "water",
         "marker": {
          "color": "#FFA15A",
          "symbol": "circle"
         },
         "mode": "markers",
         "name": "water",
         "scene": "scene",
         "showlegend": true,
         "type": "scatter3d",
         "x": {
          "bdata": "i4scvw==",
          "dtype": "f4"
         },
         "y": {
          "bdata": "s2NIvg==",
          "dtype": "f4"
         },
         "z": {
          "bdata": "+iivPg==",
          "dtype": "f4"
         }
        },
        {
         "hovertemplate": "color=fire<br>0=%{x}<br>1=%{y}<br>2=%{z}<extra></extra>",
         "legendgroup": "fire",
         "marker": {
          "color": "#19d3f3",
          "symbol": "circle"
         },
         "mode": "markers",
         "name": "fire",
         "scene": "scene",
         "showlegend": true,
         "type": "scatter3d",
         "x": {
          "bdata": "9ocMvw==",
          "dtype": "f4"
         },
         "y": {
          "bdata": "sFbuvA==",
          "dtype": "f4"
         },
         "z": {
          "bdata": "udfPPg==",
          "dtype": "f4"
         }
        },
        {
         "hovertemplate": "color=upon<br>0=%{x}<br>1=%{y}<br>2=%{z}<extra></extra>",
         "legendgroup": "upon",
         "marker": {
          "color": "#FF6692",
          "symbol": "circle"
         },
         "mode": "markers",
         "name": "upon",
         "scene": "scene",
         "showlegend": true,
         "type": "scatter3d",
         "x": {
          "bdata": "QvCwvg==",
          "dtype": "f4"
         },
         "y": {
          "bdata": "eoHxPg==",
          "dtype": "f4"
         },
         "z": {
          "bdata": "HdORPQ==",
          "dtype": "f4"
         }
        },
        {
         "hovertemplate": "color=iron<br>0=%{x}<br>1=%{y}<br>2=%{z}<extra></extra>",
         "legendgroup": "iron",
         "marker": {
          "color": "#B6E880",
          "symbol": "circle"
         },
         "mode": "markers",
         "name": "iron",
         "scene": "scene",
         "showlegend": true,
         "type": "scatter3d",
         "x": {
          "bdata": "vNJpvg==",
          "dtype": "f4"
         },
         "y": {
          "bdata": "ERYxPw==",
          "dtype": "f4"
         },
         "z": {
          "bdata": "/LkyvQ==",
          "dtype": "f4"
         }
        },
        {
         "hovertemplate": "color=voice<br>0=%{x}<br>1=%{y}<br>2=%{z}<extra></extra>",
         "legendgroup": "voice",
         "marker": {
          "color": "#FF97FF",
          "symbol": "circle"
         },
         "mode": "markers",
         "name": "voice",
         "scene": "scene",
         "showlegend": true,
         "type": "scatter3d",
         "x": {
          "bdata": "4nJIvQ==",
          "dtype": "f4"
         },
         "y": {
          "bdata": "BhK5vg==",
          "dtype": "f4"
         },
         "z": {
          "bdata": "BVKQvg==",
          "dtype": "f4"
         }
        },
        {
         "hovertemplate": "color=gone<br>0=%{x}<br>1=%{y}<br>2=%{z}<extra></extra>",
         "legendgroup": "gone",
         "marker": {
          "color": "#FECB52",
          "symbol": "circle"
         },
         "mode": "markers",
         "name": "gone",
         "scene": "scene",
         "showlegend": true,
         "type": "scatter3d",
         "x": {
          "bdata": "QEJkPQ==",
          "dtype": "f4"
         },
         "y": {
          "bdata": "fgKmvQ==",
          "dtype": "f4"
         },
         "z": {
          "bdata": "whS5Pg==",
          "dtype": "f4"
         }
        },
        {
         "hovertemplate": "color=give<br>0=%{x}<br>1=%{y}<br>2=%{z}<extra></extra>",
         "legendgroup": "give",
         "marker": {
          "color": "#636efa",
          "symbol": "circle"
         },
         "mode": "markers",
         "name": "give",
         "scene": "scene",
         "showlegend": true,
         "type": "scatter3d",
         "x": {
          "bdata": "pDEePw==",
          "dtype": "f4"
         },
         "y": {
          "bdata": "tCcXPQ==",
          "dtype": "f4"
         },
         "z": {
          "bdata": "P0LQPQ==",
          "dtype": "f4"
         }
        },
        {
         "hovertemplate": "color=sam<br>0=%{x}<br>1=%{y}<br>2=%{z}<extra></extra>",
         "legendgroup": "sam",
         "marker": {
          "color": "#EF553B",
          "symbol": "circle"
         },
         "mode": "markers",
         "name": "sam",
         "scene": "scene",
         "showlegend": true,
         "type": "scatter3d",
         "x": {
          "bdata": "aF1+vQ==",
          "dtype": "f4"
         },
         "y": {
          "bdata": "PCHEvg==",
          "dtype": "f4"
         },
         "z": {
          "bdata": "BI7JPA==",
          "dtype": "f4"
         }
        },
        {
         "hovertemplate": "color=seen<br>0=%{x}<br>1=%{y}<br>2=%{z}<extra></extra>",
         "legendgroup": "seen",
         "marker": {
          "color": "#00cc96",
          "symbol": "circle"
         },
         "mode": "markers",
         "name": "seen",
         "scene": "scene",
         "showlegend": true,
         "type": "scatter3d",
         "x": {
          "bdata": "7vQJPQ==",
          "dtype": "f4"
         },
         "y": {
          "bdata": "mi1sPg==",
          "dtype": "f4"
         },
         "z": {
          "bdata": "/y6kPg==",
          "dtype": "f4"
         }
        },
        {
         "hovertemplate": "color=better<br>0=%{x}<br>1=%{y}<br>2=%{z}<extra></extra>",
         "legendgroup": "better",
         "marker": {
          "color": "#ab63fa",
          "symbol": "circle"
         },
         "mode": "markers",
         "name": "better",
         "scene": "scene",
         "showlegend": true,
         "type": "scatter3d",
         "x": {
          "bdata": "oN0UPw==",
          "dtype": "f4"
         },
         "y": {
          "bdata": "PbAhvg==",
          "dtype": "f4"
         },
         "z": {
          "bdata": "QyOHPg==",
          "dtype": "f4"
         }
        },
        {
         "hovertemplate": "color=shall<br>0=%{x}<br>1=%{y}<br>2=%{z}<extra></extra>",
         "legendgroup": "shall",
         "marker": {
          "color": "#FFA15A",
          "symbol": "circle"
         },
         "mode": "markers",
         "name": "shall",
         "scene": "scene",
         "showlegend": true,
         "type": "scatter3d",
         "x": {
          "bdata": "3QwZPw==",
          "dtype": "f4"
         },
         "y": {
          "bdata": "boeSPg==",
          "dtype": "f4"
         },
         "z": {
          "bdata": "0vsjPg==",
          "dtype": "f4"
         }
        },
        {
         "hovertemplate": "color=ned<br>0=%{x}<br>1=%{y}<br>2=%{z}<extra></extra>",
         "legendgroup": "ned",
         "marker": {
          "color": "#19d3f3",
          "symbol": "circle"
         },
         "mode": "markers",
         "name": "ned",
         "scene": "scene",
         "showlegend": true,
         "type": "scatter3d",
         "x": {
          "bdata": "IL2APg==",
          "dtype": "f4"
         },
         "y": {
          "bdata": "8lqdvQ==",
          "dtype": "f4"
         },
         "z": {
          "bdata": "DhqYvg==",
          "dtype": "f4"
         }
        },
        {
         "hovertemplate": "color=always<br>0=%{x}<br>1=%{y}<br>2=%{z}<extra></extra>",
         "legendgroup": "always",
         "marker": {
          "color": "#FF6692",
          "symbol": "circle"
         },
         "mode": "markers",
         "name": "always",
         "scene": "scene",
         "showlegend": true,
         "type": "scatter3d",
         "x": {
          "bdata": "CR4JPw==",
          "dtype": "f4"
         },
         "y": {
          "bdata": "C09Rvg==",
          "dtype": "f4"
         },
         "z": {
          "bdata": "LAMbPg==",
          "dtype": "f4"
         }
        },
        {
         "hovertemplate": "color=years<br>0=%{x}<br>1=%{y}<br>2=%{z}<extra></extra>",
         "legendgroup": "years",
         "marker": {
          "color": "#B6E880",
          "symbol": "circle"
         },
         "mode": "markers",
         "name": "years",
         "scene": "scene",
         "showlegend": true,
         "type": "scatter3d",
         "x": {
          "bdata": "ZI2SPg==",
          "dtype": "f4"
         },
         "y": {
          "bdata": "jfMhPw==",
          "dtype": "f4"
         },
         "z": {
          "bdata": "RHA3Pg==",
          "dtype": "f4"
         }
        },
        {
         "hovertemplate": "color=dark<br>0=%{x}<br>1=%{y}<br>2=%{z}<extra></extra>",
         "legendgroup": "dark",
         "marker": {
          "color": "#FF97FF",
          "symbol": "circle"
         },
         "mode": "markers",
         "name": "dark",
         "scene": "scene",
         "showlegend": true,
         "type": "scatter3d",
         "x": {
          "bdata": "nN8Rvw==",
          "dtype": "f4"
         },
         "y": {
          "bdata": "KOStvA==",
          "dtype": "f4"
         },
         "z": {
          "bdata": "cjNFPg==",
          "dtype": "f4"
         }
        },
        {
         "hovertemplate": "color=place<br>0=%{x}<br>1=%{y}<br>2=%{z}<extra></extra>",
         "legendgroup": "place",
         "marker": {
          "color": "#FECB52",
          "symbol": "circle"
         },
         "mode": "markers",
         "name": "place",
         "scene": "scene",
         "showlegend": true,
         "type": "scatter3d",
         "x": {
          "bdata": "n9mkPg==",
          "dtype": "f4"
         },
         "y": {
          "bdata": "rEKjPg==",
          "dtype": "f4"
         },
         "z": {
          "bdata": "4H6+Pg==",
          "dtype": "f4"
         }
        },
        {
         "hovertemplate": "color=small<br>0=%{x}<br>1=%{y}<br>2=%{z}<extra></extra>",
         "legendgroup": "small",
         "marker": {
          "color": "#636efa",
          "symbol": "circle"
         },
         "mode": "markers",
         "name": "small",
         "scene": "scene",
         "showlegend": true,
         "type": "scatter3d",
         "x": {
          "bdata": "gDakvg==",
          "dtype": "f4"
         },
         "y": {
          "bdata": "8i3BPg==",
          "dtype": "f4"
         },
         "z": {
          "bdata": "NzzwPQ==",
          "dtype": "f4"
         }
        },
        {
         "hovertemplate": "color=cold<br>0=%{x}<br>1=%{y}<br>2=%{z}<extra></extra>",
         "legendgroup": "cold",
         "marker": {
          "color": "#EF553B",
          "symbol": "circle"
         },
         "mode": "markers",
         "name": "cold",
         "scene": "scene",
         "showlegend": true,
         "type": "scatter3d",
         "x": {
          "bdata": "fxjZvg==",
          "dtype": "f4"
         },
         "y": {
          "bdata": "ckeQvg==",
          "dtype": "f4"
         },
         "z": {
          "bdata": "q5W4Pg==",
          "dtype": "f4"
         }
        },
        {
         "hovertemplate": "color=winterfell<br>0=%{x}<br>1=%{y}<br>2=%{z}<extra></extra>",
         "legendgroup": "winterfell",
         "marker": {
          "color": "#00cc96",
          "symbol": "circle"
         },
         "mode": "markers",
         "name": "winterfell",
         "scene": "scene",
         "showlegend": true,
         "type": "scatter3d",
         "x": {
          "bdata": "pP+tPg==",
          "dtype": "f4"
         },
         "y": {
          "bdata": "7NPyPg==",
          "dtype": "f4"
         },
         "z": {
          "bdata": "9KEGPg==",
          "dtype": "f4"
         }
        },
        {
         "hovertemplate": "color=hundred<br>0=%{x}<br>1=%{y}<br>2=%{z}<extra></extra>",
         "legendgroup": "hundred",
         "marker": {
          "color": "#ab63fa",
          "symbol": "circle"
         },
         "mode": "markers",
         "name": "hundred",
         "scene": "scene",
         "showlegend": true,
         "type": "scatter3d",
         "x": {
          "bdata": "SgN5vQ==",
          "dtype": "f4"
         },
         "y": {
          "bdata": "3v8sPw==",
          "dtype": "f4"
         },
         "z": {
          "bdata": "o5+/Pg==",
          "dtype": "f4"
         }
        },
        {
         "hovertemplate": "color=stood<br>0=%{x}<br>1=%{y}<br>2=%{z}<extra></extra>",
         "legendgroup": "stood",
         "marker": {
          "color": "#FFA15A",
          "symbol": "circle"
         },
         "mode": "markers",
         "name": "stood",
         "scene": "scene",
         "showlegend": true,
         "type": "scatter3d",
         "x": {
          "bdata": "Au7Yvg==",
          "dtype": "f4"
         },
         "y": {
          "bdata": "VHktPw==",
          "dtype": "f4"
         },
         "z": {
          "bdata": "/L8yvg==",
          "dtype": "f4"
         }
        },
        {
         "hovertemplate": "color=end<br>0=%{x}<br>1=%{y}<br>2=%{z}<extra></extra>",
         "legendgroup": "end",
         "marker": {
          "color": "#19d3f3",
          "symbol": "circle"
         },
         "mode": "markers",
         "name": "end",
         "scene": "scene",
         "showlegend": true,
         "type": "scatter3d",
         "x": {
          "bdata": "dPTzPQ==",
          "dtype": "f4"
         },
         "y": {
          "bdata": "oY8XPw==",
          "dtype": "f4"
         },
         "z": {
          "bdata": "YA44Pg==",
          "dtype": "f4"
         }
        },
        {
         "hovertemplate": "color=sister<br>0=%{x}<br>1=%{y}<br>2=%{z}<extra></extra>",
         "legendgroup": "sister",
         "marker": {
          "color": "#FF6692",
          "symbol": "circle"
         },
         "mode": "markers",
         "name": "sister",
         "scene": "scene",
         "showlegend": true,
         "type": "scatter3d",
         "x": {
          "bdata": "cisdPw==",
          "dtype": "f4"
         },
         "y": {
          "bdata": "CEDXPQ==",
          "dtype": "f4"
         },
         "z": {
          "bdata": "rBGwvg==",
          "dtype": "f4"
         }
        },
        {
         "hovertemplate": "color=words<br>0=%{x}<br>1=%{y}<br>2=%{z}<extra></extra>",
         "legendgroup": "words",
         "marker": {
          "color": "#B6E880",
          "symbol": "circle"
         },
         "mode": "markers",
         "name": "words",
         "scene": "scene",
         "showlegend": true,
         "type": "scatter3d",
         "x": {
          "bdata": "s0+oPg==",
          "dtype": "f4"
         },
         "y": {
          "bdata": "LF0Bvw==",
          "dtype": "f4"
         },
         "z": {
          "bdata": "GNmmvA==",
          "dtype": "f4"
         }
        },
        {
         "hovertemplate": "color=sea<br>0=%{x}<br>1=%{y}<br>2=%{z}<extra></extra>",
         "legendgroup": "sea",
         "marker": {
          "color": "#FF97FF",
          "symbol": "circle"
         },
         "mode": "markers",
         "name": "sea",
         "scene": "scene",
         "showlegend": true,
         "type": "scatter3d",
         "x": {
          "bdata": "fsYPvg==",
          "dtype": "f4"
         },
         "y": {
          "bdata": "zysWPw==",
          "dtype": "f4"
         },
         "z": {
          "bdata": "OvgBPw==",
          "dtype": "f4"
         }
        },
        {
         "hovertemplate": "color=right<br>0=%{x}<br>1=%{y}<br>2=%{z}<extra></extra>",
         "legendgroup": "right",
         "marker": {
          "color": "#FECB52",
          "symbol": "circle"
         },
         "mode": "markers",
         "name": "right",
         "scene": "scene",
         "showlegend": true,
         "type": "scatter3d",
         "x": {
          "bdata": "GiFHvg==",
          "dtype": "f4"
         },
         "y": {
          "bdata": "MF7dvA==",
          "dtype": "f4"
         },
         "z": {
          "bdata": "j2lGvg==",
          "dtype": "f4"
         }
        },
        {
         "hovertemplate": "color=nothing<br>0=%{x}<br>1=%{y}<br>2=%{z}<extra></extra>",
         "legendgroup": "nothing",
         "marker": {
          "color": "#636efa",
          "symbol": "circle"
         },
         "mode": "markers",
         "name": "nothing",
         "scene": "scene",
         "showlegend": true,
         "type": "scatter3d",
         "x": {
          "bdata": "SmmFPg==",
          "dtype": "f4"
         },
         "y": {
          "bdata": "/G3Wvg==",
          "dtype": "f4"
         },
         "z": {
          "bdata": "sL+0Pg==",
          "dtype": "f4"
         }
        },
        {
         "hovertemplate": "color=walls<br>0=%{x}<br>1=%{y}<br>2=%{z}<extra></extra>",
         "legendgroup": "walls",
         "marker": {
          "color": "#EF553B",
          "symbol": "circle"
         },
         "mode": "markers",
         "name": "walls",
         "scene": "scene",
         "showlegend": true,
         "type": "scatter3d",
         "x": {
          "bdata": "cqbhvg==",
          "dtype": "f4"
         },
         "y": {
          "bdata": "uTANPw==",
          "dtype": "f4"
         },
         "z": {
          "bdata": "NLXlPg==",
          "dtype": "f4"
         }
        },
        {
         "hovertemplate": "color=fingers<br>0=%{x}<br>1=%{y}<br>2=%{z}<extra></extra>",
         "legendgroup": "fingers",
         "marker": {
          "color": "#00cc96",
          "symbol": "circle"
         },
         "mode": "markers",
         "name": "fingers",
         "scene": "scene",
         "showlegend": true,
         "type": "scatter3d",
         "x": {
          "bdata": "GBslvw==",
          "dtype": "f4"
         },
         "y": {
          "bdata": "5fA5vg==",
          "dtype": "f4"
         },
         "z": {
          "bdata": "wDCDvg==",
          "dtype": "f4"
         }
        },
        {
         "hovertemplate": "color=house<br>0=%{x}<br>1=%{y}<br>2=%{z}<extra></extra>",
         "legendgroup": "house",
         "marker": {
          "color": "#ab63fa",
          "symbol": "circle"
         },
         "mode": "markers",
         "name": "house",
         "scene": "scene",
         "showlegend": true,
         "type": "scatter3d",
         "x": {
          "bdata": "mGx9Pg==",
          "dtype": "f4"
         },
         "y": {
          "bdata": "chJLPw==",
          "dtype": "f4"
         },
         "z": {
          "bdata": "/lfDvg==",
          "dtype": "f4"
         }
        },
        {
         "hovertemplate": "color=cloak<br>0=%{x}<br>1=%{y}<br>2=%{z}<extra></extra>",
         "legendgroup": "cloak",
         "marker": {
          "color": "#FFA15A",
          "symbol": "circle"
         },
         "mode": "markers",
         "name": "cloak",
         "scene": "scene",
         "showlegend": true,
         "type": "scatter3d",
         "x": {
          "bdata": "3LgKvw==",
          "dtype": "f4"
         },
         "y": {
          "bdata": "WgmVPg==",
          "dtype": "f4"
         },
         "z": {
          "bdata": "bJIFvw==",
          "dtype": "f4"
         }
        },
        {
         "hovertemplate": "color=young<br>0=%{x}<br>1=%{y}<br>2=%{z}<extra></extra>",
         "legendgroup": "young",
         "marker": {
          "color": "#19d3f3",
          "symbol": "circle"
         },
         "mode": "markers",
         "name": "young",
         "scene": "scene",
         "showlegend": true,
         "type": "scatter3d",
         "x": {
          "bdata": "fKvPPg==",
          "dtype": "f4"
         },
         "y": {
          "bdata": "IODqPg==",
          "dtype": "f4"
         },
         "z": {
          "bdata": "N5bAvg==",
          "dtype": "f4"
         }
        },
        {
         "hovertemplate": "color=beside<br>0=%{x}<br>1=%{y}<br>2=%{z}<extra></extra>",
         "legendgroup": "beside",
         "marker": {
          "color": "#FF6692",
          "symbol": "circle"
         },
         "mode": "markers",
         "name": "beside",
         "scene": "scene",
         "showlegend": true,
         "type": "scatter3d",
         "x": {
          "bdata": "ybLpvg==",
          "dtype": "f4"
         },
         "y": {
          "bdata": "Koz8Pg==",
          "dtype": "f4"
         },
         "z": {
          "bdata": "80KAvg==",
          "dtype": "f4"
         }
        },
        {
         "hovertemplate": "color=get<br>0=%{x}<br>1=%{y}<br>2=%{z}<extra></extra>",
         "legendgroup": "get",
         "marker": {
          "color": "#B6E880",
          "symbol": "circle"
         },
         "mode": "markers",
         "name": "get",
         "scene": "scene",
         "showlegend": true,
         "type": "scatter3d",
         "x": {
          "bdata": "Yw0KPg==",
          "dtype": "f4"
         },
         "y": {
          "bdata": "MpOgvg==",
          "dtype": "f4"
         },
         "z": {
          "bdata": "V3mqPg==",
          "dtype": "f4"
         }
        },
        {
         "hovertemplate": "color=seven<br>0=%{x}<br>1=%{y}<br>2=%{z}<extra></extra>",
         "legendgroup": "seven",
         "marker": {
          "color": "#FF97FF",
          "symbol": "circle"
         },
         "mode": "markers",
         "name": "seven",
         "scene": "scene",
         "showlegend": true,
         "type": "scatter3d",
         "x": {
          "bdata": "WvaQPg==",
          "dtype": "f4"
         },
         "y": {
          "bdata": "ZvAwPw==",
          "dtype": "f4"
         },
         "z": {
          "bdata": "PPRyPg==",
          "dtype": "f4"
         }
        },
        {
         "hovertemplate": "color=mouth<br>0=%{x}<br>1=%{y}<br>2=%{z}<extra></extra>",
         "legendgroup": "mouth",
         "marker": {
          "color": "#FECB52",
          "symbol": "circle"
         },
         "mode": "markers",
         "name": "mouth",
         "scene": "scene",
         "showlegend": true,
         "type": "scatter3d",
         "x": {
          "bdata": "Bmrtvg==",
          "dtype": "f4"
         },
         "y": {
          "bdata": "EhTpvg==",
          "dtype": "f4"
         },
         "z": {
          "bdata": "TIqnvg==",
          "dtype": "f4"
         }
        },
        {
         "hovertemplate": "color=watch<br>0=%{x}<br>1=%{y}<br>2=%{z}<extra></extra>",
         "legendgroup": "watch",
         "marker": {
          "color": "#636efa",
          "symbol": "circle"
         },
         "mode": "markers",
         "name": "watch",
         "scene": "scene",
         "showlegend": true,
         "type": "scatter3d",
         "x": {
          "bdata": "LtSFPg==",
          "dtype": "f4"
         },
         "y": {
          "bdata": "+vPkPg==",
          "dtype": "f4"
         },
         "z": {
          "bdata": "pBciPg==",
          "dtype": "f4"
         }
        },
        {
         "hovertemplate": "color=door<br>0=%{x}<br>1=%{y}<br>2=%{z}<extra></extra>",
         "legendgroup": "door",
         "marker": {
          "color": "#EF553B",
          "symbol": "circle"
         },
         "mode": "markers",
         "name": "door",
         "scene": "scene",
         "showlegend": true,
         "type": "scatter3d",
         "x": {
          "bdata": "zTL9vg==",
          "dtype": "f4"
         },
         "y": {
          "bdata": "Ph0KPg==",
          "dtype": "f4"
         },
         "z": {
          "bdata": "6GI9vg==",
          "dtype": "f4"
         }
        },
        {
         "hovertemplate": "color=joffrey<br>0=%{x}<br>1=%{y}<br>2=%{z}<extra></extra>",
         "legendgroup": "joffrey",
         "marker": {
          "color": "#00cc96",
          "symbol": "circle"
         },
         "mode": "markers",
         "name": "joffrey",
         "scene": "scene",
         "showlegend": true,
         "type": "scatter3d",
         "x": {
          "bdata": "mXbyPg==",
          "dtype": "f4"
         },
         "y": {
          "bdata": "XiBQPg==",
          "dtype": "f4"
         },
         "z": {
          "bdata": "7PWyvg==",
          "dtype": "f4"
         }
        },
        {
         "hovertemplate": "color=green<br>0=%{x}<br>1=%{y}<br>2=%{z}<extra></extra>",
         "legendgroup": "green",
         "marker": {
          "color": "#ab63fa",
          "symbol": "circle"
         },
         "mode": "markers",
         "name": "green",
         "scene": "scene",
         "showlegend": true,
         "type": "scatter3d",
         "x": {
          "bdata": "/WL7vg==",
          "dtype": "f4"
         },
         "y": {
          "bdata": "/4TKPg==",
          "dtype": "f4"
         },
         "z": {
          "bdata": "hGLyvQ==",
          "dtype": "f4"
         }
        },
        {
         "hovertemplate": "color=big<br>0=%{x}<br>1=%{y}<br>2=%{z}<extra></extra>",
         "legendgroup": "big",
         "marker": {
          "color": "#FFA15A",
          "symbol": "circle"
         },
         "mode": "markers",
         "name": "big",
         "scene": "scene",
         "showlegend": true,
         "type": "scatter3d",
         "x": {
          "bdata": "Hfivvg==",
          "dtype": "f4"
         },
         "y": {
          "bdata": "Ei27PQ==",
          "dtype": "f4"
         },
         "z": {
          "bdata": "jNl8vg==",
          "dtype": "f4"
         }
        },
        {
         "hovertemplate": "color=sent<br>0=%{x}<br>1=%{y}<br>2=%{z}<extra></extra>",
         "legendgroup": "sent",
         "marker": {
          "color": "#19d3f3",
          "symbol": "circle"
         },
         "mode": "markers",
         "name": "sent",
         "scene": "scene",
         "showlegend": true,
         "type": "scatter3d",
         "x": {
          "bdata": "CgmNPg==",
          "dtype": "f4"
         },
         "y": {
          "bdata": "Q/rvPg==",
          "dtype": "f4"
         },
         "z": {
          "bdata": "WhUzPQ==",
          "dtype": "f4"
         }
        },
        {
         "hovertemplate": "color=perhaps<br>0=%{x}<br>1=%{y}<br>2=%{z}<extra></extra>",
         "legendgroup": "perhaps",
         "marker": {
          "color": "#FF6692",
          "symbol": "circle"
         },
         "mode": "markers",
         "name": "perhaps",
         "scene": "scene",
         "showlegend": true,
         "type": "scatter3d",
         "x": {
          "bdata": "R5g7Pw==",
          "dtype": "f4"
         },
         "y": {
          "bdata": "clKVvQ==",
          "dtype": "f4"
         },
         "z": {
          "bdata": "rPV/Pg==",
          "dtype": "f4"
         }
        },
        {
         "hovertemplate": "color=almost<br>0=%{x}<br>1=%{y}<br>2=%{z}<extra></extra>",
         "legendgroup": "almost",
         "marker": {
          "color": "#B6E880",
          "symbol": "circle"
         },
         "mode": "markers",
         "name": "almost",
         "scene": "scene",
         "showlegend": true,
         "type": "scatter3d",
         "x": {
          "bdata": "O+eqvg==",
          "dtype": "f4"
         },
         "y": {
          "bdata": "rsauvg==",
          "dtype": "f4"
         },
         "z": {
          "bdata": "j4yuPQ==",
          "dtype": "f4"
         }
        },
        {
         "hovertemplate": "color=wanted<br>0=%{x}<br>1=%{y}<br>2=%{z}<extra></extra>",
         "legendgroup": "wanted",
         "marker": {
          "color": "#FF97FF",
          "symbol": "circle"
         },
         "mode": "markers",
         "name": "wanted",
         "scene": "scene",
         "showlegend": true,
         "type": "scatter3d",
         "x": {
          "bdata": "rmz4Pg==",
          "dtype": "f4"
         },
         "y": {
          "bdata": "6N7Rvg==",
          "dtype": "f4"
         },
         "z": {
          "bdata": "SutMPg==",
          "dtype": "f4"
         }
        },
        {
         "hovertemplate": "color=true<br>0=%{x}<br>1=%{y}<br>2=%{z}<extra></extra>",
         "legendgroup": "true",
         "marker": {
          "color": "#FECB52",
          "symbol": "circle"
         },
         "mode": "markers",
         "name": "true",
         "scene": "scene",
         "showlegend": true,
         "type": "scatter3d",
         "x": {
          "bdata": "zfwyPw==",
          "dtype": "f4"
         },
         "y": {
          "bdata": "KPT8PQ==",
          "dtype": "f4"
         },
         "z": {
          "bdata": "6vsqPQ==",
          "dtype": "f4"
         }
        },
        {
         "hovertemplate": "color=daughter<br>0=%{x}<br>1=%{y}<br>2=%{z}<extra></extra>",
         "legendgroup": "daughter",
         "marker": {
          "color": "#636efa",
          "symbol": "circle"
         },
         "mode": "markers",
         "name": "daughter",
         "scene": "scene",
         "showlegend": true,
         "type": "scatter3d",
         "x": {
          "bdata": "gzz2Pg==",
          "dtype": "f4"
         },
         "y": {
          "bdata": "aw0VPw==",
          "dtype": "f4"
         },
         "z": {
          "bdata": "5YENvw==",
          "dtype": "f4"
         }
        },
        {
         "hovertemplate": "color=leave<br>0=%{x}<br>1=%{y}<br>2=%{z}<extra></extra>",
         "legendgroup": "leave",
         "marker": {
          "color": "#EF553B",
          "symbol": "circle"
         },
         "mode": "markers",
         "name": "leave",
         "scene": "scene",
         "showlegend": true,
         "type": "scatter3d",
         "x": {
          "bdata": "4hYIPw==",
          "dtype": "f4"
         },
         "y": {
          "bdata": "oAEOPQ==",
          "dtype": "f4"
         },
         "z": {
          "bdata": "UugXPg==",
          "dtype": "f4"
         }
        },
        {
         "hovertemplate": "color=wind<br>0=%{x}<br>1=%{y}<br>2=%{z}<extra></extra>",
         "legendgroup": "wind",
         "marker": {
          "color": "#00cc96",
          "symbol": "circle"
         },
         "mode": "markers",
         "name": "wind",
         "scene": "scene",
         "showlegend": true,
         "type": "scatter3d",
         "x": {
          "bdata": "Mfoivw==",
          "dtype": "f4"
         },
         "y": {
          "bdata": "2A1dPQ==",
          "dtype": "f4"
         },
         "z": {
          "bdata": "E26WPg==",
          "dtype": "f4"
         }
        },
        {
         "hovertemplate": "color=city<br>0=%{x}<br>1=%{y}<br>2=%{z}<extra></extra>",
         "legendgroup": "city",
         "marker": {
          "color": "#ab63fa",
          "symbol": "circle"
         },
         "mode": "markers",
         "name": "city",
         "scene": "scene",
         "showlegend": true,
         "type": "scatter3d",
         "x": {
          "bdata": "kO4APg==",
          "dtype": "f4"
         },
         "y": {
          "bdata": "SrcXPw==",
          "dtype": "f4"
         },
         "z": {
          "bdata": "fvjrPg==",
          "dtype": "f4"
         }
        },
        {
         "hovertemplate": "color=light<br>0=%{x}<br>1=%{y}<br>2=%{z}<extra></extra>",
         "legendgroup": "light",
         "marker": {
          "color": "#FFA15A",
          "symbol": "circle"
         },
         "mode": "markers",
         "name": "light",
         "scene": "scene",
         "showlegend": true,
         "type": "scatter3d",
         "x": {
          "bdata": "P1n3vg==",
          "dtype": "f4"
         },
         "y": {
          "bdata": "kC4SPg==",
          "dtype": "f4"
         },
         "z": {
          "bdata": "e5yCPg==",
          "dtype": "f4"
         }
        },
        {
         "hovertemplate": "color=arms<br>0=%{x}<br>1=%{y}<br>2=%{z}<extra></extra>",
         "legendgroup": "arms",
         "marker": {
          "color": "#19d3f3",
          "symbol": "circle"
         },
         "mode": "markers",
         "name": "arms",
         "scene": "scene",
         "showlegend": true,
         "type": "scatter3d",
         "x": {
          "bdata": "bXykvg==",
          "dtype": "f4"
         },
         "y": {
          "bdata": "SlHZPg==",
          "dtype": "f4"
         },
         "z": {
          "bdata": "ML3Rvg==",
          "dtype": "f4"
         }
        },
        {
         "hovertemplate": "color=children<br>0=%{x}<br>1=%{y}<br>2=%{z}<extra></extra>",
         "legendgroup": "children",
         "marker": {
          "color": "#FF6692",
          "symbol": "circle"
         },
         "mode": "markers",
         "name": "children",
         "scene": "scene",
         "showlegend": true,
         "type": "scatter3d",
         "x": {
          "bdata": "0evcPg==",
          "dtype": "f4"
         },
         "y": {
          "bdata": "mSDoPg==",
          "dtype": "f4"
         },
         "z": {
          "bdata": "+KOuPg==",
          "dtype": "f4"
         }
        },
        {
         "hovertemplate": "color=sweet<br>0=%{x}<br>1=%{y}<br>2=%{z}<extra></extra>",
         "legendgroup": "sweet",
         "marker": {
          "color": "#B6E880",
          "symbol": "circle"
         },
         "mode": "markers",
         "name": "sweet",
         "scene": "scene",
         "showlegend": true,
         "type": "scatter3d",
         "x": {
          "bdata": "20mVPg==",
          "dtype": "f4"
         },
         "y": {
          "bdata": "4pmxvg==",
          "dtype": "f4"
         },
         "z": {
          "bdata": "6mI6vg==",
          "dtype": "f4"
         }
        },
        {
         "hovertemplate": "color=others<br>0=%{x}<br>1=%{y}<br>2=%{z}<extra></extra>",
         "legendgroup": "others",
         "marker": {
          "color": "#FF97FF",
          "symbol": "circle"
         },
         "mode": "markers",
         "name": "others",
         "scene": "scene",
         "showlegend": true,
         "type": "scatter3d",
         "x": {
          "bdata": "/ju+PQ==",
          "dtype": "f4"
         },
         "y": {
          "bdata": "2reiPg==",
          "dtype": "f4"
         },
         "z": {
          "bdata": "XmalPg==",
          "dtype": "f4"
         }
        },
        {
         "hovertemplate": "color=lost<br>0=%{x}<br>1=%{y}<br>2=%{z}<extra></extra>",
         "legendgroup": "lost",
         "marker": {
          "color": "#FECB52",
          "symbol": "circle"
         },
         "mode": "markers",
         "name": "lost",
         "scene": "scene",
         "showlegend": true,
         "type": "scatter3d",
         "x": {
          "bdata": "QB1mPg==",
          "dtype": "f4"
         },
         "y": {
          "bdata": "+LvFPg==",
          "dtype": "f4"
         },
         "z": {
          "bdata": "hNRNPg==",
          "dtype": "f4"
         }
        },
        {
         "hovertemplate": "color=theon<br>0=%{x}<br>1=%{y}<br>2=%{z}<extra></extra>",
         "legendgroup": "theon",
         "marker": {
          "color": "#636efa",
          "symbol": "circle"
         },
         "mode": "markers",
         "name": "theon",
         "scene": "scene",
         "showlegend": true,
         "type": "scatter3d",
         "x": {
          "bdata": "lvcsPg==",
          "dtype": "f4"
         },
         "y": {
          "bdata": "EDk9vA==",
          "dtype": "f4"
         },
         "z": {
          "bdata": "lguKvg==",
          "dtype": "f4"
         }
        },
        {
         "hovertemplate": "color=felt<br>0=%{x}<br>1=%{y}<br>2=%{z}<extra></extra>",
         "legendgroup": "felt",
         "marker": {
          "color": "#EF553B",
          "symbol": "circle"
         },
         "mode": "markers",
         "name": "felt",
         "scene": "scene",
         "showlegend": true,
         "type": "scatter3d",
         "x": {
          "bdata": "uDOSvg==",
          "dtype": "f4"
         },
         "y": {
          "bdata": "3ND7vg==",
          "dtype": "f4"
         },
         "z": {
          "bdata": "fNs0PQ==",
          "dtype": "f4"
         }
        },
        {
         "hovertemplate": "color=side<br>0=%{x}<br>1=%{y}<br>2=%{z}<extra></extra>",
         "legendgroup": "side",
         "marker": {
          "color": "#00cc96",
          "symbol": "circle"
         },
         "mode": "markers",
         "name": "side",
         "scene": "scene",
         "showlegend": true,
         "type": "scatter3d",
         "x": {
          "bdata": "etvfvg==",
          "dtype": "f4"
         },
         "y": {
          "bdata": "xJfGPg==",
          "dtype": "f4"
         },
         "z": {
          "bdata": "ljFcPQ==",
          "dtype": "f4"
         }
        },
        {
         "hovertemplate": "color=yes<br>0=%{x}<br>1=%{y}<br>2=%{z}<extra></extra>",
         "legendgroup": "yes",
         "marker": {
          "color": "#ab63fa",
          "symbol": "circle"
         },
         "mode": "markers",
         "name": "yes",
         "scene": "scene",
         "showlegend": true,
         "type": "scatter3d",
         "x": {
          "bdata": "4O45Pw==",
          "dtype": "f4"
         },
         "y": {
          "bdata": "fWJqvg==",
          "dtype": "f4"
         },
         "z": {
          "bdata": "Uowavg==",
          "dtype": "f4"
         }
        },
        {
         "hovertemplate": "color=brothers<br>0=%{x}<br>1=%{y}<br>2=%{z}<extra></extra>",
         "legendgroup": "brothers",
         "marker": {
          "color": "#FFA15A",
          "symbol": "circle"
         },
         "mode": "markers",
         "name": "brothers",
         "scene": "scene",
         "showlegend": true,
         "type": "scatter3d",
         "x": {
          "bdata": "AyWmPg==",
          "dtype": "f4"
         },
         "y": {
          "bdata": "MEcgPw==",
          "dtype": "f4"
         },
         "z": {
          "bdata": "J8CiPQ==",
          "dtype": "f4"
         }
        },
        {
         "hovertemplate": "color=best<br>0=%{x}<br>1=%{y}<br>2=%{z}<extra></extra>",
         "legendgroup": "best",
         "marker": {
          "color": "#19d3f3",
          "symbol": "circle"
         },
         "mode": "markers",
         "name": "best",
         "scene": "scene",
         "showlegend": true,
         "type": "scatter3d",
         "x": {
          "bdata": "4yoSPw==",
          "dtype": "f4"
         },
         "y": {
          "bdata": "I9kNvg==",
          "dtype": "f4"
         },
         "z": {
          "bdata": "ul3cPg==",
          "dtype": "f4"
         }
        },
        {
         "hovertemplate": "color=die<br>0=%{x}<br>1=%{y}<br>2=%{z}<extra></extra>",
         "legendgroup": "die",
         "marker": {
          "color": "#FF6692",
          "symbol": "circle"
         },
         "mode": "markers",
         "name": "die",
         "scene": "scene",
         "showlegend": true,
         "type": "scatter3d",
         "x": {
          "bdata": "jjUSPw==",
          "dtype": "f4"
         },
         "y": {
          "bdata": "tPkkvQ==",
          "dtype": "f4"
         },
         "z": {
          "bdata": "LK3RPg==",
          "dtype": "f4"
         }
        },
        {
         "hovertemplate": "color=brought<br>0=%{x}<br>1=%{y}<br>2=%{z}<extra></extra>",
         "legendgroup": "brought",
         "marker": {
          "color": "#B6E880",
          "symbol": "circle"
         },
         "mode": "markers",
         "name": "brought",
         "scene": "scene",
         "showlegend": true,
         "type": "scatter3d",
         "x": {
          "bdata": "v2qzPA==",
          "dtype": "f4"
         },
         "y": {
          "bdata": "TASTPg==",
          "dtype": "f4"
         },
         "z": {
          "bdata": "RgmWvQ==",
          "dtype": "f4"
         }
        },
        {
         "hovertemplate": "color=soon<br>0=%{x}<br>1=%{y}<br>2=%{z}<extra></extra>",
         "legendgroup": "soon",
         "marker": {
          "color": "#FF97FF",
          "symbol": "circle"
         },
         "mode": "markers",
         "name": "soon",
         "scene": "scene",
         "showlegend": true,
         "type": "scatter3d",
         "x": {
          "bdata": "Yh+3Pg==",
          "dtype": "f4"
         },
         "y": {
          "bdata": "gCnHOg==",
          "dtype": "f4"
         },
         "z": {
          "bdata": "KDUDPw==",
          "dtype": "f4"
         }
        },
        {
         "hovertemplate": "color=died<br>0=%{x}<br>1=%{y}<br>2=%{z}<extra></extra>",
         "legendgroup": "died",
         "marker": {
          "color": "#FECB52",
          "symbol": "circle"
         },
         "mode": "markers",
         "name": "died",
         "scene": "scene",
         "showlegend": true,
         "type": "scatter3d",
         "x": {
          "bdata": "6mTKPg==",
          "dtype": "f4"
         },
         "y": {
          "bdata": "SFYQPw==",
          "dtype": "f4"
         },
         "z": {
          "bdata": "3JZlvQ==",
          "dtype": "f4"
         }
        },
        {
         "hovertemplate": "color=far<br>0=%{x}<br>1=%{y}<br>2=%{z}<extra></extra>",
         "legendgroup": "far",
         "marker": {
          "color": "#636efa",
          "symbol": "circle"
         },
         "mode": "markers",
         "name": "far",
         "scene": "scene",
         "showlegend": true,
         "type": "scatter3d",
         "x": {
          "bdata": "CPu5Ow==",
          "dtype": "f4"
         },
         "y": {
          "bdata": "LY8UPg==",
          "dtype": "f4"
         },
         "z": {
          "bdata": "DikPPw==",
          "dtype": "f4"
         }
        },
        {
         "hovertemplate": "color=north<br>0=%{x}<br>1=%{y}<br>2=%{z}<extra></extra>",
         "legendgroup": "north",
         "marker": {
          "color": "#EF553B",
          "symbol": "circle"
         },
         "mode": "markers",
         "name": "north",
         "scene": "scene",
         "showlegend": true,
         "type": "scatter3d",
         "x": {
          "bdata": "vEEKPg==",
          "dtype": "f4"
         },
         "y": {
          "bdata": "GmonPw==",
          "dtype": "f4"
         },
         "z": {
          "bdata": "nneXPg==",
          "dtype": "f4"
         }
        },
        {
         "hovertemplate": "color=child<br>0=%{x}<br>1=%{y}<br>2=%{z}<extra></extra>",
         "legendgroup": "child",
         "marker": {
          "color": "#00cc96",
          "symbol": "circle"
         },
         "mode": "markers",
         "name": "child",
         "scene": "scene",
         "showlegend": true,
         "type": "scatter3d",
         "x": {
          "bdata": "xdULPw==",
          "dtype": "f4"
         },
         "y": {
          "bdata": "funWvQ==",
          "dtype": "f4"
         },
         "z": {
          "bdata": "ArTCvQ==",
          "dtype": "f4"
         }
        },
        {
         "hovertemplate": "color=fear<br>0=%{x}<br>1=%{y}<br>2=%{z}<extra></extra>",
         "legendgroup": "fear",
         "marker": {
          "color": "#ab63fa",
          "symbol": "circle"
         },
         "mode": "markers",
         "name": "fear",
         "scene": "scene",
         "showlegend": true,
         "type": "scatter3d",
         "x": {
          "bdata": "ZQGoPg==",
          "dtype": "f4"
         },
         "y": {
          "bdata": "SFPRvg==",
          "dtype": "f4"
         },
         "z": {
          "bdata": "knKiPg==",
          "dtype": "f4"
         }
        },
        {
         "hovertemplate": "color=along<br>0=%{x}<br>1=%{y}<br>2=%{z}<extra></extra>",
         "legendgroup": "along",
         "marker": {
          "color": "#FFA15A",
          "symbol": "circle"
         },
         "mode": "markers",
         "name": "along",
         "scene": "scene",
         "showlegend": true,
         "type": "scatter3d",
         "x": {
          "bdata": "wSH9vg==",
          "dtype": "f4"
         },
         "y": {
          "bdata": "Tn4QPw==",
          "dtype": "f4"
         },
         "z": {
          "bdata": "PPC8Pg==",
          "dtype": "f4"
         }
        },
        {
         "hovertemplate": "color=word<br>0=%{x}<br>1=%{y}<br>2=%{z}<extra></extra>",
         "legendgroup": "word",
         "marker": {
          "color": "#19d3f3",
          "symbol": "circle"
         },
         "mode": "markers",
         "name": "word",
         "scene": "scene",
         "showlegend": true,
         "type": "scatter3d",
         "x": {
          "bdata": "a8IhPw==",
          "dtype": "f4"
         },
         "y": {
          "bdata": "YBV1vA==",
          "dtype": "f4"
         },
         "z": {
          "bdata": "gLfYOw==",
          "dtype": "f4"
         }
        },
        {
         "hovertemplate": "color=brienne<br>0=%{x}<br>1=%{y}<br>2=%{z}<extra></extra>",
         "legendgroup": "brienne",
         "marker": {
          "color": "#FF6692",
          "symbol": "circle"
         },
         "mode": "markers",
         "name": "brienne",
         "scene": "scene",
         "showlegend": true,
         "type": "scatter3d",
         "x": {
          "bdata": "7iVBvQ==",
          "dtype": "f4"
         },
         "y": {
          "bdata": "ukOUvg==",
          "dtype": "f4"
         },
         "z": {
          "bdata": "bgVjvg==",
          "dtype": "f4"
         }
        },
        {
         "hovertemplate": "color=taken<br>0=%{x}<br>1=%{y}<br>2=%{z}<extra></extra>",
         "legendgroup": "taken",
         "marker": {
          "color": "#B6E880",
          "symbol": "circle"
         },
         "mode": "markers",
         "name": "taken",
         "scene": "scene",
         "showlegend": true,
         "type": "scatter3d",
         "x": {
          "bdata": "jWvVPg==",
          "dtype": "f4"
         },
         "y": {
          "bdata": "WrIdPw==",
          "dtype": "f4"
         },
         "z": {
          "bdata": "TOQ3PQ==",
          "dtype": "f4"
         }
        },
        {
         "hovertemplate": "color=battle<br>0=%{x}<br>1=%{y}<br>2=%{z}<extra></extra>",
         "legendgroup": "battle",
         "marker": {
          "color": "#FF97FF",
          "symbol": "circle"
         },
         "mode": "markers",
         "name": "battle",
         "scene": "scene",
         "showlegend": true,
         "type": "scatter3d",
         "x": {
          "bdata": "M33QPg==",
          "dtype": "f4"
         },
         "y": {
          "bdata": "xOEpPw==",
          "dtype": "f4"
         },
         "z": {
          "bdata": "0r4fPg==",
          "dtype": "f4"
         }
        },
        {
         "hovertemplate": "color=help<br>0=%{x}<br>1=%{y}<br>2=%{z}<extra></extra>",
         "legendgroup": "help",
         "marker": {
          "color": "#FECB52",
          "symbol": "circle"
         },
         "mode": "markers",
         "name": "help",
         "scene": "scene",
         "showlegend": true,
         "type": "scatter3d",
         "x": {
          "bdata": "qWEDPw==",
          "dtype": "f4"
         },
         "y": {
          "bdata": "vnSBvg==",
          "dtype": "f4"
         },
         "z": {
          "bdata": "pJMKPg==",
          "dtype": "f4"
         }
        },
        {
         "hovertemplate": "color=new<br>0=%{x}<br>1=%{y}<br>2=%{z}<extra></extra>",
         "legendgroup": "new",
         "marker": {
          "color": "#636efa",
          "symbol": "circle"
         },
         "mode": "markers",
         "name": "new",
         "scene": "scene",
         "showlegend": true,
         "type": "scatter3d",
         "x": {
          "bdata": "yhe3Pg==",
          "dtype": "f4"
         },
         "y": {
          "bdata": "6eUePw==",
          "dtype": "f4"
         },
         "z": {
          "bdata": "Q9P3PQ==",
          "dtype": "f4"
         }
        },
        {
         "hovertemplate": "color=tywin<br>0=%{x}<br>1=%{y}<br>2=%{z}<extra></extra>",
         "legendgroup": "tywin",
         "marker": {
          "color": "#EF553B",
          "symbol": "circle"
         },
         "mode": "markers",
         "name": "tywin",
         "scene": "scene",
         "showlegend": true,
         "type": "scatter3d",
         "x": {
          "bdata": "Sw3YPg==",
          "dtype": "f4"
         },
         "y": {
          "bdata": "w7asPg==",
          "dtype": "f4"
         },
         "z": {
          "bdata": "R+SCvg==",
          "dtype": "f4"
         }
        },
        {
         "hovertemplate": "color=lords<br>0=%{x}<br>1=%{y}<br>2=%{z}<extra></extra>",
         "legendgroup": "lords",
         "marker": {
          "color": "#00cc96",
          "symbol": "circle"
         },
         "mode": "markers",
         "name": "lords",
         "scene": "scene",
         "showlegend": true,
         "type": "scatter3d",
         "x": {
          "bdata": "ukjxPg==",
          "dtype": "f4"
         },
         "y": {
          "bdata": "sNpOPw==",
          "dtype": "f4"
         },
         "z": {
          "bdata": "MLwvPA==",
          "dtype": "f4"
         }
        },
        {
         "hovertemplate": "color=davos<br>0=%{x}<br>1=%{y}<br>2=%{z}<extra></extra>",
         "legendgroup": "davos",
         "marker": {
          "color": "#ab63fa",
          "symbol": "circle"
         },
         "mode": "markers",
         "name": "davos",
         "scene": "scene",
         "showlegend": true,
         "type": "scatter3d",
         "x": {
          "bdata": "Gv8wPg==",
          "dtype": "f4"
         },
         "y": {
          "bdata": "vGoZvQ==",
          "dtype": "f4"
         },
         "z": {
          "bdata": "1dYFvg==",
          "dtype": "f4"
         }
        },
        {
         "hovertemplate": "color=something<br>0=%{x}<br>1=%{y}<br>2=%{z}<extra></extra>",
         "legendgroup": "something",
         "marker": {
          "color": "#FFA15A",
          "symbol": "circle"
         },
         "mode": "markers",
         "name": "something",
         "scene": "scene",
         "showlegend": true,
         "type": "scatter3d",
         "x": {
          "bdata": "3UunPQ==",
          "dtype": "f4"
         },
         "y": {
          "bdata": "wt4pvw==",
          "dtype": "f4"
         },
         "z": {
          "bdata": "NyGBPQ==",
          "dtype": "f4"
         }
        },
        {
         "hovertemplate": "color=wife<br>0=%{x}<br>1=%{y}<br>2=%{z}<extra></extra>",
         "legendgroup": "wife",
         "marker": {
          "color": "#19d3f3",
          "symbol": "circle"
         },
         "mode": "markers",
         "name": "wife",
         "scene": "scene",
         "showlegend": true,
         "type": "scatter3d",
         "x": {
          "bdata": "kIccPw==",
          "dtype": "f4"
         },
         "y": {
          "bdata": "Sv3jPg==",
          "dtype": "f4"
         },
         "z": {
          "bdata": "+km5vg==",
          "dtype": "f4"
         }
        },
        {
         "hovertemplate": "color=mean<br>0=%{x}<br>1=%{y}<br>2=%{z}<extra></extra>",
         "legendgroup": "mean",
         "marker": {
          "color": "#FF6692",
          "symbol": "circle"
         },
         "mode": "markers",
         "name": "mean",
         "scene": "scene",
         "showlegend": true,
         "type": "scatter3d",
         "x": {
          "bdata": "UgE/Pw==",
          "dtype": "f4"
         },
         "y": {
          "bdata": "LElgPQ==",
          "dtype": "f4"
         },
         "z": {
          "bdata": "IOI3Pg==",
          "dtype": "f4"
         }
        },
        {
         "hovertemplate": "color=hall<br>0=%{x}<br>1=%{y}<br>2=%{z}<extra></extra>",
         "legendgroup": "hall",
         "marker": {
          "color": "#B6E880",
          "symbol": "circle"
         },
         "mode": "markers",
         "name": "hall",
         "scene": "scene",
         "showlegend": true,
         "type": "scatter3d",
         "x": {
          "bdata": "S6unvg==",
          "dtype": "f4"
         },
         "y": {
          "bdata": "bfsOPw==",
          "dtype": "f4"
         },
         "z": {
          "bdata": "+beiPQ==",
          "dtype": "f4"
         }
        },
        {
         "hovertemplate": "color=rest<br>0=%{x}<br>1=%{y}<br>2=%{z}<extra></extra>",
         "legendgroup": "rest",
         "marker": {
          "color": "#FF97FF",
          "symbol": "circle"
         },
         "mode": "markers",
         "name": "rest",
         "scene": "scene",
         "showlegend": true,
         "type": "scatter3d",
         "x": {
          "bdata": "lr+GPg==",
          "dtype": "f4"
         },
         "y": {
          "bdata": "E2qMPg==",
          "dtype": "f4"
         },
         "z": {
          "bdata": "0UXAPg==",
          "dtype": "f4"
         }
        },
        {
         "hovertemplate": "color=kill<br>0=%{x}<br>1=%{y}<br>2=%{z}<extra></extra>",
         "legendgroup": "kill",
         "marker": {
          "color": "#FECB52",
          "symbol": "circle"
         },
         "mode": "markers",
         "name": "kill",
         "scene": "scene",
         "showlegend": true,
         "type": "scatter3d",
         "x": {
          "bdata": "fzgePw==",
          "dtype": "f4"
         },
         "y": {
          "bdata": "1ZF7vg==",
          "dtype": "f4"
         },
         "z": {
          "bdata": "LMA/Pg==",
          "dtype": "f4"
         }
        },
        {
         "hovertemplate": "color=strong<br>0=%{x}<br>1=%{y}<br>2=%{z}<extra></extra>",
         "legendgroup": "strong",
         "marker": {
          "color": "#636efa",
          "symbol": "circle"
         },
         "mode": "markers",
         "name": "strong",
         "scene": "scene",
         "showlegend": true,
         "type": "scatter3d",
         "x": {
          "bdata": "NhBEPg==",
          "dtype": "f4"
         },
         "y": {
          "bdata": "dn6kPQ==",
          "dtype": "f4"
         },
         "z": {
          "bdata": "RqwjPg==",
          "dtype": "f4"
         }
        },
        {
         "hovertemplate": "color=steel<br>0=%{x}<br>1=%{y}<br>2=%{z}<extra></extra>",
         "legendgroup": "steel",
         "marker": {
          "color": "#EF553B",
          "symbol": "circle"
         },
         "mode": "markers",
         "name": "steel",
         "scene": "scene",
         "showlegend": true,
         "type": "scatter3d",
         "x": {
          "bdata": "ohksvw==",
          "dtype": "f4"
         },
         "y": {
          "bdata": "igYhPg==",
          "dtype": "f4"
         },
         "z": {
          "bdata": "QJJkvQ==",
          "dtype": "f4"
         }
        },
        {
         "hovertemplate": "color=began<br>0=%{x}<br>1=%{y}<br>2=%{z}<extra></extra>",
         "legendgroup": "began",
         "marker": {
          "color": "#00cc96",
          "symbol": "circle"
         },
         "mode": "markers",
         "name": "began",
         "scene": "scene",
         "showlegend": true,
         "type": "scatter3d",
         "x": {
          "bdata": "6Wz5vg==",
          "dtype": "f4"
         },
         "y": {
          "bdata": "U3gyvg==",
          "dtype": "f4"
         },
         "z": {
          "bdata": "DJtKPg==",
          "dtype": "f4"
         }
        },
        {
         "hovertemplate": "color=sound<br>0=%{x}<br>1=%{y}<br>2=%{z}<extra></extra>",
         "legendgroup": "sound",
         "marker": {
          "color": "#ab63fa",
          "symbol": "circle"
         },
         "mode": "markers",
         "name": "sound",
         "scene": "scene",
         "showlegend": true,
         "type": "scatter3d",
         "x": {
          "bdata": "Z3j/vg==",
          "dtype": "f4"
         },
         "y": {
          "bdata": "NH2Kvg==",
          "dtype": "f4"
         },
         "z": {
          "bdata": "Ilp9Pg==",
          "dtype": "f4"
         }
        },
        {
         "hovertemplate": "color=dragon<br>0=%{x}<br>1=%{y}<br>2=%{z}<extra></extra>",
         "legendgroup": "dragon",
         "marker": {
          "color": "#FFA15A",
          "symbol": "circle"
         },
         "mode": "markers",
         "name": "dragon",
         "scene": "scene",
         "showlegend": true,
         "type": "scatter3d",
         "x": {
          "bdata": "EYH+vQ==",
          "dtype": "f4"
         },
         "y": {
          "bdata": "+cSLPg==",
          "dtype": "f4"
         },
         "z": {
          "bdata": "dFmePg==",
          "dtype": "f4"
         }
        },
        {
         "hovertemplate": "color=past<br>0=%{x}<br>1=%{y}<br>2=%{z}<extra></extra>",
         "legendgroup": "past",
         "marker": {
          "color": "#19d3f3",
          "symbol": "circle"
         },
         "mode": "markers",
         "name": "past",
         "scene": "scene",
         "showlegend": true,
         "type": "scatter3d",
         "x": {
          "bdata": "UvXZvg==",
          "dtype": "f4"
         },
         "y": {
          "bdata": "J1QDPw==",
          "dtype": "f4"
         },
         "z": {
          "bdata": "MbOCPg==",
          "dtype": "f4"
         }
        },
        {
         "hovertemplate": "color=life<br>0=%{x}<br>1=%{y}<br>2=%{z}<extra></extra>",
         "legendgroup": "life",
         "marker": {
          "color": "#FF6692",
          "symbol": "circle"
         },
         "mode": "markers",
         "name": "life",
         "scene": "scene",
         "showlegend": true,
         "type": "scatter3d",
         "x": {
          "bdata": "6KcQPw==",
          "dtype": "f4"
         },
         "y": {
          "bdata": "KMqyPQ==",
          "dtype": "f4"
         },
         "z": {
          "bdata": "SnLDPg==",
          "dtype": "f4"
         }
        },
        {
         "hovertemplate": "color=tower<br>0=%{x}<br>1=%{y}<br>2=%{z}<extra></extra>",
         "legendgroup": "tower",
         "marker": {
          "color": "#B6E880",
          "symbol": "circle"
         },
         "mode": "markers",
         "name": "tower",
         "scene": "scene",
         "showlegend": true,
         "type": "scatter3d",
         "x": {
          "bdata": "T9Kpvg==",
          "dtype": "f4"
         },
         "y": {
          "bdata": "3G8mPw==",
          "dtype": "f4"
         },
         "z": {
          "bdata": "imYIPg==",
          "dtype": "f4"
         }
        },
        {
         "hovertemplate": "color=killed<br>0=%{x}<br>1=%{y}<br>2=%{z}<extra></extra>",
         "legendgroup": "killed",
         "marker": {
          "color": "#FF97FF",
          "symbol": "circle"
         },
         "mode": "markers",
         "name": "killed",
         "scene": "scene",
         "showlegend": true,
         "type": "scatter3d",
         "x": {
          "bdata": "qZwUPw==",
          "dtype": "f4"
         },
         "y": {
          "bdata": "zjNBPg==",
          "dtype": "f4"
         },
         "z": {
          "bdata": "Hnolvg==",
          "dtype": "f4"
         }
        },
        {
         "hovertemplate": "color=arm<br>0=%{x}<br>1=%{y}<br>2=%{z}<extra></extra>",
         "legendgroup": "arm",
         "marker": {
          "color": "#FECB52",
          "symbol": "circle"
         },
         "mode": "markers",
         "name": "arm",
         "scene": "scene",
         "showlegend": true,
         "type": "scatter3d",
         "x": {
          "bdata": "SVfivg==",
          "dtype": "f4"
         },
         "y": {
          "bdata": "cErhvA==",
          "dtype": "f4"
         },
         "z": {
          "bdata": "6jrJvg==",
          "dtype": "f4"
         }
        },
        {
         "hovertemplate": "color=free<br>0=%{x}<br>1=%{y}<br>2=%{z}<extra></extra>",
         "legendgroup": "free",
         "marker": {
          "color": "#636efa",
          "symbol": "circle"
         },
         "mode": "markers",
         "name": "free",
         "scene": "scene",
         "showlegend": true,
         "type": "scatter3d",
         "x": {
          "bdata": "xgstPg==",
          "dtype": "f4"
         },
         "y": {
          "bdata": "qAHGPg==",
          "dtype": "f4"
         },
         "z": {
          "bdata": "RWYKPw==",
          "dtype": "f4"
         }
        },
        {
         "hovertemplate": "color=sons<br>0=%{x}<br>1=%{y}<br>2=%{z}<extra></extra>",
         "legendgroup": "sons",
         "marker": {
          "color": "#EF553B",
          "symbol": "circle"
         },
         "mode": "markers",
         "name": "sons",
         "scene": "scene",
         "showlegend": true,
         "type": "scatter3d",
         "x": {
          "bdata": "NaH8Pg==",
          "dtype": "f4"
         },
         "y": {
          "bdata": "eKJKPw==",
          "dtype": "f4"
         },
         "z": {
          "bdata": "PcQMvg==",
          "dtype": "f4"
         }
        },
        {
         "hovertemplate": "color=tried<br>0=%{x}<br>1=%{y}<br>2=%{z}<extra></extra>",
         "legendgroup": "tried",
         "marker": {
          "color": "#00cc96",
          "symbol": "circle"
         },
         "mode": "markers",
         "name": "tried",
         "scene": "scene",
         "showlegend": true,
         "type": "scatter3d",
         "x": {
          "bdata": "NGZTvA==",
          "dtype": "f4"
         },
         "y": {
          "bdata": "elLKvg==",
          "dtype": "f4"
         },
         "z": {
          "bdata": "0dHUPQ==",
          "dtype": "f4"
         }
        },
        {
         "hovertemplate": "color=thing<br>0=%{x}<br>1=%{y}<br>2=%{z}<extra></extra>",
         "legendgroup": "thing",
         "marker": {
          "color": "#ab63fa",
          "symbol": "circle"
         },
         "mode": "markers",
         "name": "thing",
         "scene": "scene",
         "showlegend": true,
         "type": "scatter3d",
         "x": {
          "bdata": "eg5rPg==",
          "dtype": "f4"
         },
         "y": {
          "bdata": "DByzvg==",
          "dtype": "f4"
         },
         "z": {
          "bdata": "DUqHPg==",
          "dtype": "f4"
         }
        },
        {
         "hovertemplate": "color=bear<br>0=%{x}<br>1=%{y}<br>2=%{z}<extra></extra>",
         "legendgroup": "bear",
         "marker": {
          "color": "#FFA15A",
          "symbol": "circle"
         },
         "mode": "markers",
         "name": "bear",
         "scene": "scene",
         "showlegend": true,
         "type": "scatter3d",
         "x": {
          "bdata": "e23VPQ==",
          "dtype": "f4"
         },
         "y": {
          "bdata": "+ZQBPg==",
          "dtype": "f4"
         },
         "z": {
          "bdata": "xnqmvQ==",
          "dtype": "f4"
         }
        },
        {
         "hovertemplate": "color=days<br>0=%{x}<br>1=%{y}<br>2=%{z}<extra></extra>",
         "legendgroup": "days",
         "marker": {
          "color": "#19d3f3",
          "symbol": "circle"
         },
         "mode": "markers",
         "name": "days",
         "scene": "scene",
         "showlegend": true,
         "type": "scatter3d",
         "x": {
          "bdata": "sP/PPQ==",
          "dtype": "f4"
         },
         "y": {
          "bdata": "wA/fPg==",
          "dtype": "f4"
         },
         "z": {
          "bdata": "zxQPPw==",
          "dtype": "f4"
         }
        },
        {
         "hovertemplate": "color=bloody<br>0=%{x}<br>1=%{y}<br>2=%{z}<extra></extra>",
         "legendgroup": "bloody",
         "marker": {
          "color": "#FF6692",
          "symbol": "circle"
         },
         "mode": "markers",
         "name": "bloody",
         "scene": "scene",
         "showlegend": true,
         "type": "scatter3d",
         "x": {
          "bdata": "SOhlvQ==",
          "dtype": "f4"
         },
         "y": {
          "bdata": "i/4mvg==",
          "dtype": "f4"
         },
         "z": {
          "bdata": "MtQTPg==",
          "dtype": "f4"
         }
        },
        {
         "hovertemplate": "color=heart<br>0=%{x}<br>1=%{y}<br>2=%{z}<extra></extra>",
         "legendgroup": "heart",
         "marker": {
          "color": "#B6E880",
          "symbol": "circle"
         },
         "mode": "markers",
         "name": "heart",
         "scene": "scene",
         "showlegend": true,
         "type": "scatter3d",
         "x": {
          "bdata": "XJl4vg==",
          "dtype": "f4"
         },
         "y": {
          "bdata": "Ng3pvQ==",
          "dtype": "f4"
         },
         "z": {
          "bdata": "7oFSPQ==",
          "dtype": "f4"
         }
        },
        {
         "hovertemplate": "color=pale<br>0=%{x}<br>1=%{y}<br>2=%{z}<extra></extra>",
         "legendgroup": "pale",
         "marker": {
          "color": "#FF97FF",
          "symbol": "circle"
         },
         "mode": "markers",
         "name": "pale",
         "scene": "scene",
         "showlegend": true,
         "type": "scatter3d",
         "x": {
          "bdata": "dKIrvw==",
          "dtype": "f4"
         },
         "y": {
          "bdata": "dkTgPQ==",
          "dtype": "f4"
         },
         "z": {
          "bdata": "OLZAvg==",
          "dtype": "f4"
         }
        },
        {
         "hovertemplate": "color=love<br>0=%{x}<br>1=%{y}<br>2=%{z}<extra></extra>",
         "legendgroup": "love",
         "marker": {
          "color": "#FECB52",
          "symbol": "circle"
         },
         "mode": "markers",
         "name": "love",
         "scene": "scene",
         "showlegend": true,
         "type": "scatter3d",
         "x": {
          "bdata": "dR5CPw==",
          "dtype": "f4"
         },
         "y": {
          "bdata": "fru8vQ==",
          "dtype": "f4"
         },
         "z": {
          "bdata": "ku09PQ==",
          "dtype": "f4"
         }
        },
        {
         "hovertemplate": "color=sat<br>0=%{x}<br>1=%{y}<br>2=%{z}<extra></extra>",
         "legendgroup": "sat",
         "marker": {
          "color": "#636efa",
          "symbol": "circle"
         },
         "mode": "markers",
         "name": "sat",
         "scene": "scene",
         "showlegend": true,
         "type": "scatter3d",
         "x": {
          "bdata": "Dy8Avw==",
          "dtype": "f4"
         },
         "y": {
          "bdata": "HAzLPg==",
          "dtype": "f4"
         },
         "z": {
          "bdata": "+x6Uvg==",
          "dtype": "f4"
         }
        },
        {
         "hovertemplate": "color=moment<br>0=%{x}<br>1=%{y}<br>2=%{z}<extra></extra>",
         "legendgroup": "moment",
         "marker": {
          "color": "#EF553B",
          "symbol": "circle"
         },
         "mode": "markers",
         "name": "moment",
         "scene": "scene",
         "showlegend": true,
         "type": "scatter3d",
         "x": {
          "bdata": "oHzDOg==",
          "dtype": "f4"
         },
         "y": {
          "bdata": "mmfmvg==",
          "dtype": "f4"
         },
         "z": {
          "bdata": "nZD/vQ==",
          "dtype": "f4"
         }
        },
        {
         "hovertemplate": "color=bring<br>0=%{x}<br>1=%{y}<br>2=%{z}<extra></extra>",
         "legendgroup": "bring",
         "marker": {
          "color": "#00cc96",
          "symbol": "circle"
         },
         "mode": "markers",
         "name": "bring",
         "scene": "scene",
         "showlegend": true,
         "type": "scatter3d",
         "x": {
          "bdata": "B6cFPw==",
          "dtype": "f4"
         },
         "y": {
          "bdata": "2COzPQ==",
          "dtype": "f4"
         },
         "z": {
          "bdata": "dlAePg==",
          "dtype": "f4"
         }
        },
        {
         "hovertemplate": "color=bed<br>0=%{x}<br>1=%{y}<br>2=%{z}<extra></extra>",
         "legendgroup": "bed",
         "marker": {
          "color": "#ab63fa",
          "symbol": "circle"
         },
         "mode": "markers",
         "name": "bed",
         "scene": "scene",
         "showlegend": true,
         "type": "scatter3d",
         "x": {
          "bdata": "6N+pvQ==",
          "dtype": "f4"
         },
         "y": {
          "bdata": "OeJ8vg==",
          "dtype": "f4"
         },
         "z": {
          "bdata": "gNy0PA==",
          "dtype": "f4"
         }
        },
        {
         "hovertemplate": "color=close<br>0=%{x}<br>1=%{y}<br>2=%{z}<extra></extra>",
         "legendgroup": "close",
         "marker": {
          "color": "#FFA15A",
          "symbol": "circle"
         },
         "mode": "markers",
         "name": "close",
         "scene": "scene",
         "showlegend": true,
         "type": "scatter3d",
         "x": {
          "bdata": "X0ujvg==",
          "dtype": "f4"
         },
         "y": {
          "bdata": "wRcgvg==",
          "dtype": "f4"
         },
         "z": {
          "bdata": "0ROxPQ==",
          "dtype": "f4"
         }
        },
        {
         "hovertemplate": "color=knights<br>0=%{x}<br>1=%{y}<br>2=%{z}<extra></extra>",
         "legendgroup": "knights",
         "marker": {
          "color": "#19d3f3",
          "symbol": "circle"
         },
         "mode": "markers",
         "name": "knights",
         "scene": "scene",
         "showlegend": true,
         "type": "scatter3d",
         "x": {
          "bdata": "JLCGPg==",
          "dtype": "f4"
         },
         "y": {
          "bdata": "kVBePw==",
          "dtype": "f4"
         },
         "z": {
          "bdata": "AClfug==",
          "dtype": "f4"
         }
        },
        {
         "hovertemplate": "color=cut<br>0=%{x}<br>1=%{y}<br>2=%{z}<extra></extra>",
         "legendgroup": "cut",
         "marker": {
          "color": "#FF6692",
          "symbol": "circle"
         },
         "mode": "markers",
         "name": "cut",
         "scene": "scene",
         "showlegend": true,
         "type": "scatter3d",
         "x": {
          "bdata": "ngq5vg==",
          "dtype": "f4"
         },
         "y": {
          "bdata": "mQ5Lvg==",
          "dtype": "f4"
         },
         "z": {
          "bdata": "QE+Wug==",
          "dtype": "f4"
         }
        },
        {
         "hovertemplate": "color=wolf<br>0=%{x}<br>1=%{y}<br>2=%{z}<extra></extra>",
         "legendgroup": "wolf",
         "marker": {
          "color": "#B6E880",
          "symbol": "circle"
         },
         "mode": "markers",
         "name": "wolf",
         "scene": "scene",
         "showlegend": true,
         "type": "scatter3d",
         "x": {
          "bdata": "KJoAOw==",
          "dtype": "f4"
         },
         "y": {
          "bdata": "CpnuvQ==",
          "dtype": "f4"
         },
         "z": {
          "bdata": "DLiUvA==",
          "dtype": "f4"
         }
        },
        {
         "hovertemplate": "color=smile<br>0=%{x}<br>1=%{y}<br>2=%{z}<extra></extra>",
         "legendgroup": "smile",
         "marker": {
          "color": "#FF97FF",
          "symbol": "circle"
         },
         "mode": "markers",
         "name": "smile",
         "scene": "scene",
         "showlegend": true,
         "type": "scatter3d",
         "x": {
          "bdata": "IOprOg==",
          "dtype": "f4"
         },
         "y": {
          "bdata": "durmvg==",
          "dtype": "f4"
         },
         "z": {
          "bdata": "QA8Bvw==",
          "dtype": "f4"
         }
        },
        {
         "hovertemplate": "color=death<br>0=%{x}<br>1=%{y}<br>2=%{z}<extra></extra>",
         "legendgroup": "death",
         "marker": {
          "color": "#FECB52",
          "symbol": "circle"
         },
         "mode": "markers",
         "name": "death",
         "scene": "scene",
         "showlegend": true,
         "type": "scatter3d",
         "x": {
          "bdata": "vHkCPw==",
          "dtype": "f4"
         },
         "y": {
          "bdata": "vH8EPQ==",
          "dtype": "f4"
         },
         "z": {
          "bdata": "rLBlPg==",
          "dtype": "f4"
         }
        },
        {
         "hovertemplate": "color=horses<br>0=%{x}<br>1=%{y}<br>2=%{z}<extra></extra>",
         "legendgroup": "horses",
         "marker": {
          "color": "#636efa",
          "symbol": "circle"
         },
         "mode": "markers",
         "name": "horses",
         "scene": "scene",
         "showlegend": true,
         "type": "scatter3d",
         "x": {
          "bdata": "r7bBvg==",
          "dtype": "f4"
         },
         "y": {
          "bdata": "xRR0Pg==",
          "dtype": "f4"
         },
         "z": {
          "bdata": "CVsNPw==",
          "dtype": "f4"
         }
        },
        {
         "hovertemplate": "color=inside<br>0=%{x}<br>1=%{y}<br>2=%{z}<extra></extra>",
         "legendgroup": "inside",
         "marker": {
          "color": "#EF553B",
          "symbol": "circle"
         },
         "mode": "markers",
         "name": "inside",
         "scene": "scene",
         "showlegend": true,
         "type": "scatter3d",
         "x": {
          "bdata": "KMQvvw==",
          "dtype": "f4"
         },
         "y": {
          "bdata": "RCR/vQ==",
          "dtype": "f4"
         },
         "z": {
          "bdata": "pzWFPg==",
          "dtype": "f4"
         }
        },
        {
         "hovertemplate": "color=four<br>0=%{x}<br>1=%{y}<br>2=%{z}<extra></extra>",
         "legendgroup": "four",
         "marker": {
          "color": "#00cc96",
          "symbol": "circle"
         },
         "mode": "markers",
         "name": "four",
         "scene": "scene",
         "showlegend": true,
         "type": "scatter3d",
         "x": {
          "bdata": "IENGvQ==",
          "dtype": "f4"
         },
         "y": {
          "bdata": "hEs0Pw==",
          "dtype": "f4"
         },
         "z": {
          "bdata": "dOI0Pg==",
          "dtype": "f4"
         }
        },
        {
         "hovertemplate": "color=brown<br>0=%{x}<br>1=%{y}<br>2=%{z}<extra></extra>",
         "legendgroup": "brown",
         "marker": {
          "color": "#ab63fa",
          "symbol": "circle"
         },
         "mode": "markers",
         "name": "brown",
         "scene": "scene",
         "showlegend": true,
         "type": "scatter3d",
         "x": {
          "bdata": "rLMWvw==",
          "dtype": "f4"
         },
         "y": {
          "bdata": "5479PQ==",
          "dtype": "f4"
         },
         "z": {
          "bdata": "K0ugvg==",
          "dtype": "f4"
         }
        },
        {
         "hovertemplate": "color=dragons<br>0=%{x}<br>1=%{y}<br>2=%{z}<extra></extra>",
         "legendgroup": "dragons",
         "marker": {
          "color": "#FFA15A",
          "symbol": "circle"
         },
         "mode": "markers",
         "name": "dragons",
         "scene": "scene",
         "showlegend": true,
         "type": "scatter3d",
         "x": {
          "bdata": "dFVsPg==",
          "dtype": "f4"
         },
         "y": {
          "bdata": "7CCMPg==",
          "dtype": "f4"
         },
         "z": {
          "bdata": "nj35Pg==",
          "dtype": "f4"
         }
        },
        {
         "hovertemplate": "color=hot<br>0=%{x}<br>1=%{y}<br>2=%{z}<extra></extra>",
         "legendgroup": "hot",
         "marker": {
          "color": "#19d3f3",
          "symbol": "circle"
         },
         "mode": "markers",
         "name": "hot",
         "scene": "scene",
         "showlegend": true,
         "type": "scatter3d",
         "x": {
          "bdata": "pW7avg==",
          "dtype": "f4"
         },
         "y": {
          "bdata": "Clrivg==",
          "dtype": "f4"
         },
         "z": {
          "bdata": "mImJPg==",
          "dtype": "f4"
         }
        },
        {
         "hovertemplate": "color=silver<br>0=%{x}<br>1=%{y}<br>2=%{z}<extra></extra>",
         "legendgroup": "silver",
         "marker": {
          "color": "#FF6692",
          "symbol": "circle"
         },
         "mode": "markers",
         "name": "silver",
         "scene": "scene",
         "showlegend": true,
         "type": "scatter3d",
         "x": {
          "bdata": "TLIAvw==",
          "dtype": "f4"
         },
         "y": {
          "bdata": "vNzUPg==",
          "dtype": "f4"
         },
         "z": {
          "bdata": "3/iBvg==",
          "dtype": "f4"
         }
        },
        {
         "hovertemplate": "color=part<br>0=%{x}<br>1=%{y}<br>2=%{z}<extra></extra>",
         "legendgroup": "part",
         "marker": {
          "color": "#B6E880",
          "symbol": "circle"
         },
         "mode": "markers",
         "name": "part",
         "scene": "scene",
         "showlegend": true,
         "type": "scatter3d",
         "x": {
          "bdata": "HdoXPw==",
          "dtype": "f4"
         },
         "y": {
          "bdata": "bNAJPg==",
          "dtype": "f4"
         },
         "z": {
          "bdata": "gYDQPg==",
          "dtype": "f4"
         }
        },
        {
         "hovertemplate": "color=bastard<br>0=%{x}<br>1=%{y}<br>2=%{z}<extra></extra>",
         "legendgroup": "bastard",
         "marker": {
          "color": "#FF97FF",
          "symbol": "circle"
         },
         "mode": "markers",
         "name": "bastard",
         "scene": "scene",
         "showlegend": true,
         "type": "scatter3d",
         "x": {
          "bdata": "wk8WPw==",
          "dtype": "f4"
         },
         "y": {
          "bdata": "JFX3Pg==",
          "dtype": "f4"
         },
         "z": {
          "bdata": "DC2tvg==",
          "dtype": "f4"
         }
        },
        {
         "hovertemplate": "color=open<br>0=%{x}<br>1=%{y}<br>2=%{z}<extra></extra>",
         "legendgroup": "open",
         "marker": {
          "color": "#FECB52",
          "symbol": "circle"
         },
         "mode": "markers",
         "name": "open",
         "scene": "scene",
         "showlegend": true,
         "type": "scatter3d",
         "x": {
          "bdata": "tSoCvw==",
          "dtype": "f4"
         },
         "y": {
          "bdata": "LPQLPQ==",
          "dtype": "f4"
         },
         "z": {
          "bdata": "lyAQvQ==",
          "dtype": "f4"
         }
        },
        {
         "hovertemplate": "color=thousand<br>0=%{x}<br>1=%{y}<br>2=%{z}<extra></extra>",
         "legendgroup": "thousand",
         "marker": {
          "color": "#636efa",
          "symbol": "circle"
         },
         "mode": "markers",
         "name": "thousand",
         "scene": "scene",
         "showlegend": true,
         "type": "scatter3d",
         "x": {
          "bdata": "OQUHPQ==",
          "dtype": "f4"
         },
         "y": {
          "bdata": "ax0fPw==",
          "dtype": "f4"
         },
         "z": {
          "bdata": "JCDvPg==",
          "dtype": "f4"
         }
        },
        {
         "hovertemplate": "color=landing<br>0=%{x}<br>1=%{y}<br>2=%{z}<extra></extra>",
         "legendgroup": "landing",
         "marker": {
          "color": "#EF553B",
          "symbol": "circle"
         },
         "mode": "markers",
         "name": "landing",
         "scene": "scene",
         "showlegend": true,
         "type": "scatter3d",
         "x": {
          "bdata": "L6WuPg==",
          "dtype": "f4"
         },
         "y": {
          "bdata": "Dv70Pg==",
          "dtype": "f4"
         },
         "z": {
          "bdata": "ze6APQ==",
          "dtype": "f4"
         }
        },
        {
         "hovertemplate": "color=uncle<br>0=%{x}<br>1=%{y}<br>2=%{z}<extra></extra>",
         "legendgroup": "uncle",
         "marker": {
          "color": "#00cc96",
          "symbol": "circle"
         },
         "mode": "markers",
         "name": "uncle",
         "scene": "scene",
         "showlegend": true,
         "type": "scatter3d",
         "x": {
          "bdata": "rAcuPw==",
          "dtype": "f4"
         },
         "y": {
          "bdata": "GtjzPg==",
          "dtype": "f4"
         },
         "z": {
          "bdata": "H3+3vg==",
          "dtype": "f4"
         }
        },
        {
         "hovertemplate": "color=going<br>0=%{x}<br>1=%{y}<br>2=%{z}<extra></extra>",
         "legendgroup": "going",
         "marker": {
          "color": "#ab63fa",
          "symbol": "circle"
         },
         "mode": "markers",
         "name": "going",
         "scene": "scene",
         "showlegend": true,
         "type": "scatter3d",
         "x": {
          "bdata": "MWufPg==",
          "dtype": "f4"
         },
         "y": {
          "bdata": "gD6Hvg==",
          "dtype": "f4"
         },
         "z": {
          "bdata": "ruf0Pg==",
          "dtype": "f4"
         }
        },
        {
         "hovertemplate": "color=blue<br>0=%{x}<br>1=%{y}<br>2=%{z}<extra></extra>",
         "legendgroup": "blue",
         "marker": {
          "color": "#FFA15A",
          "symbol": "circle"
         },
         "mode": "markers",
         "name": "blue",
         "scene": "scene",
         "showlegend": true,
         "type": "scatter3d",
         "x": {
          "bdata": "iyEHvw==",
          "dtype": "f4"
         },
         "y": {
          "bdata": "pkCPPg==",
          "dtype": "f4"
         },
         "z": {
          "bdata": "ZBAxvg==",
          "dtype": "f4"
         }
        },
        {
         "hovertemplate": "color=air<br>0=%{x}<br>1=%{y}<br>2=%{z}<extra></extra>",
         "legendgroup": "air",
         "marker": {
          "color": "#19d3f3",
          "symbol": "circle"
         },
         "mode": "markers",
         "name": "air",
         "scene": "scene",
         "showlegend": true,
         "type": "scatter3d",
         "x": {
          "bdata": "ogs6vw==",
          "dtype": "f4"
         },
         "y": {
          "bdata": "h7Agvg==",
          "dtype": "f4"
         },
         "z": {
          "bdata": "Yr5uPg==",
          "dtype": "f4"
         }
        },
        {
         "hovertemplate": "color=captain<br>0=%{x}<br>1=%{y}<br>2=%{z}<extra></extra>",
         "legendgroup": "captain",
         "marker": {
          "color": "#FF6692",
          "symbol": "circle"
         },
         "mode": "markers",
         "name": "captain",
         "scene": "scene",
         "showlegend": true,
         "type": "scatter3d",
         "x": {
          "bdata": "4f6iPg==",
          "dtype": "f4"
         },
         "y": {
          "bdata": "LIIgPw==",
          "dtype": "f4"
         },
         "z": {
          "bdata": "F020vg==",
          "dtype": "f4"
         }
        },
        {
         "hovertemplate": "color=please<br>0=%{x}<br>1=%{y}<br>2=%{z}<extra></extra>",
         "legendgroup": "please",
         "marker": {
          "color": "#B6E880",
          "symbol": "circle"
         },
         "mode": "markers",
         "name": "please",
         "scene": "scene",
         "showlegend": true,
         "type": "scatter3d",
         "x": {
          "bdata": "OfMuPw==",
          "dtype": "f4"
         },
         "y": {
          "bdata": "+5RGvg==",
          "dtype": "f4"
         },
         "z": {
          "bdata": "RnIavg==",
          "dtype": "f4"
         }
        },
        {
         "hovertemplate": "color=laughed<br>0=%{x}<br>1=%{y}<br>2=%{z}<extra></extra>",
         "legendgroup": "laughed",
         "marker": {
          "color": "#FF97FF",
          "symbol": "circle"
         },
         "mode": "markers",
         "name": "laughed",
         "scene": "scene",
         "showlegend": true,
         "type": "scatter3d",
         "x": {
          "bdata": "nsSwPg==",
          "dtype": "f4"
         },
         "y": {
          "bdata": "ZK2Pvg==",
          "dtype": "f4"
         },
         "z": {
          "bdata": "OmTovg==",
          "dtype": "f4"
         }
        },
        {
         "hovertemplate": "color=river<br>0=%{x}<br>1=%{y}<br>2=%{z}<extra></extra>",
         "legendgroup": "river",
         "marker": {
          "color": "#FECB52",
          "symbol": "circle"
         },
         "mode": "markers",
         "name": "river",
         "scene": "scene",
         "showlegend": true,
         "type": "scatter3d",
         "x": {
          "bdata": "ETfUvg==",
          "dtype": "f4"
         },
         "y": {
          "bdata": "OFjQPg==",
          "dtype": "f4"
         },
         "z": {
          "bdata": "WHT+Pg==",
          "dtype": "f4"
         }
        },
        {
         "hovertemplate": "color=sun<br>0=%{x}<br>1=%{y}<br>2=%{z}<extra></extra>",
         "legendgroup": "sun",
         "marker": {
          "color": "#636efa",
          "symbol": "circle"
         },
         "mode": "markers",
         "name": "sun",
         "scene": "scene",
         "showlegend": true,
         "type": "scatter3d",
         "x": {
          "bdata": "16QIvw==",
          "dtype": "f4"
         },
         "y": {
          "bdata": "ja1vPg==",
          "dtype": "f4"
         },
         "z": {
          "bdata": "P6eyPg==",
          "dtype": "f4"
         }
        },
        {
         "hovertemplate": "color=rose<br>0=%{x}<br>1=%{y}<br>2=%{z}<extra></extra>",
         "legendgroup": "rose",
         "marker": {
          "color": "#EF553B",
          "symbol": "circle"
         },
         "mode": "markers",
         "name": "rose",
         "scene": "scene",
         "showlegend": true,
         "type": "scatter3d",
         "x": {
          "bdata": "0LIlvw==",
          "dtype": "f4"
         },
         "y": {
          "bdata": "FDXMPg==",
          "dtype": "f4"
         },
         "z": {
          "bdata": "6Cc2vg==",
          "dtype": "f4"
         }
        },
        {
         "hovertemplate": "color=fell<br>0=%{x}<br>1=%{y}<br>2=%{z}<extra></extra>",
         "legendgroup": "fell",
         "marker": {
          "color": "#00cc96",
          "symbol": "circle"
         },
         "mode": "markers",
         "name": "fell",
         "scene": "scene",
         "showlegend": true,
         "type": "scatter3d",
         "x": {
          "bdata": "jAAVvw==",
          "dtype": "f4"
         },
         "y": {
          "bdata": "/sn2PQ==",
          "dtype": "f4"
         },
         "z": {
          "bdata": "NIqTvQ==",
          "dtype": "f4"
         }
        },
        {
         "hovertemplate": "color=war<br>0=%{x}<br>1=%{y}<br>2=%{z}<extra></extra>",
         "legendgroup": "war",
         "marker": {
          "color": "#ab63fa",
          "symbol": "circle"
         },
         "mode": "markers",
         "name": "war",
         "scene": "scene",
         "showlegend": true,
         "type": "scatter3d",
         "x": {
          "bdata": "wvMcPw==",
          "dtype": "f4"
         },
         "y": {
          "bdata": "HE0OPw==",
          "dtype": "f4"
         },
         "z": {
          "bdata": "7DWxPg==",
          "dtype": "f4"
         }
        },
        {
         "hovertemplate": "color=golden<br>0=%{x}<br>1=%{y}<br>2=%{z}<extra></extra>",
         "legendgroup": "golden",
         "marker": {
          "color": "#FFA15A",
          "symbol": "circle"
         },
         "mode": "markers",
         "name": "golden",
         "scene": "scene",
         "showlegend": true,
         "type": "scatter3d",
         "x": {
          "bdata": "E9ngvg==",
          "dtype": "f4"
         },
         "y": {
          "bdata": "uxgSPw==",
          "dtype": "f4"
         },
         "z": {
          "bdata": "bdCcvg==",
          "dtype": "f4"
         }
        },
        {
         "hovertemplate": "color=sleep<br>0=%{x}<br>1=%{y}<br>2=%{z}<extra></extra>",
         "legendgroup": "sleep",
         "marker": {
          "color": "#19d3f3",
          "symbol": "circle"
         },
         "mode": "markers",
         "name": "sleep",
         "scene": "scene",
         "showlegend": true,
         "type": "scatter3d",
         "x": {
          "bdata": "RLlVvQ==",
          "dtype": "f4"
         },
         "y": {
          "bdata": "tsb4vg==",
          "dtype": "f4"
         },
         "z": {
          "bdata": "4XycPg==",
          "dtype": "f4"
         }
        },
        {
         "hovertemplate": "color=without<br>0=%{x}<br>1=%{y}<br>2=%{z}<extra></extra>",
         "legendgroup": "without",
         "marker": {
          "color": "#FF6692",
          "symbol": "circle"
         },
         "mode": "markers",
         "name": "without",
         "scene": "scene",
         "showlegend": true,
         "type": "scatter3d",
         "x": {
          "bdata": "tgwJPw==",
          "dtype": "f4"
         },
         "y": {
          "bdata": "WIkSPQ==",
          "dtype": "f4"
         },
         "z": {
          "bdata": "9RK2Pg==",
          "dtype": "f4"
         }
        },
        {
         "hovertemplate": "color=swords<br>0=%{x}<br>1=%{y}<br>2=%{z}<extra></extra>",
         "legendgroup": "swords",
         "marker": {
          "color": "#B6E880",
          "symbol": "circle"
         },
         "mode": "markers",
         "name": "swords",
         "scene": "scene",
         "showlegend": true,
         "type": "scatter3d",
         "x": {
          "bdata": "ermyPQ==",
          "dtype": "f4"
         },
         "y": {
          "bdata": "udQ2Pw==",
          "dtype": "f4"
         },
         "z": {
          "bdata": "UKeXPg==",
          "dtype": "f4"
         }
        },
        {
         "hovertemplate": "color=speak<br>0=%{x}<br>1=%{y}<br>2=%{z}<extra></extra>",
         "legendgroup": "speak",
         "marker": {
          "color": "#FF97FF",
          "symbol": "circle"
         },
         "mode": "markers",
         "name": "speak",
         "scene": "scene",
         "showlegend": true,
         "type": "scatter3d",
         "x": {
          "bdata": "ZvcxPw==",
          "dtype": "f4"
         },
         "y": {
          "bdata": "Uakcvg==",
          "dtype": "f4"
         },
         "z": {
          "bdata": "QXqNPQ==",
          "dtype": "f4"
         }
        },
        {
         "hovertemplate": "color=renly<br>0=%{x}<br>1=%{y}<br>2=%{z}<extra></extra>",
         "legendgroup": "renly",
         "marker": {
          "color": "#FECB52",
          "symbol": "circle"
         },
         "mode": "markers",
         "name": "renly",
         "scene": "scene",
         "showlegend": true,
         "type": "scatter3d",
         "x": {
          "bdata": "9jTyPg==",
          "dtype": "f4"
         },
         "y": {
          "bdata": "GXAJPw==",
          "dtype": "f4"
         },
         "z": {
          "bdata": "8auKvg==",
          "dtype": "f4"
         }
        },
        {
         "hovertemplate": "color=fool<br>0=%{x}<br>1=%{y}<br>2=%{z}<extra></extra>",
         "legendgroup": "fool",
         "marker": {
          "color": "#636efa",
          "symbol": "circle"
         },
         "mode": "markers",
         "name": "fool",
         "scene": "scene",
         "showlegend": true,
         "type": "scatter3d",
         "x": {
          "bdata": "0vcPPw==",
          "dtype": "f4"
         },
         "y": {
          "bdata": "q95vvg==",
          "dtype": "f4"
         },
         "z": {
          "bdata": "CWSSvg==",
          "dtype": "f4"
         }
        },
        {
         "hovertemplate": "color=full<br>0=%{x}<br>1=%{y}<br>2=%{z}<extra></extra>",
         "legendgroup": "full",
         "marker": {
          "color": "#EF553B",
          "symbol": "circle"
         },
         "mode": "markers",
         "name": "full",
         "scene": "scene",
         "showlegend": true,
         "type": "scatter3d",
         "x": {
          "bdata": "nyDcvg==",
          "dtype": "f4"
         },
         "y": {
          "bdata": "ak+dvQ==",
          "dtype": "f4"
         },
         "z": {
          "bdata": "f22wPg==",
          "dtype": "f4"
         }
        },
        {
         "hovertemplate": "color=certain<br>0=%{x}<br>1=%{y}<br>2=%{z}<extra></extra>",
         "legendgroup": "certain",
         "marker": {
          "color": "#00cc96",
          "symbol": "circle"
         },
         "mode": "markers",
         "name": "certain",
         "scene": "scene",
         "showlegend": true,
         "type": "scatter3d",
         "x": {
          "bdata": "QYkRPw==",
          "dtype": "f4"
         },
         "y": {
          "bdata": "x+dbvg==",
          "dtype": "f4"
         },
         "z": {
          "bdata": "IhRtPg==",
          "dtype": "f4"
         }
        },
        {
         "hovertemplate": "color=beyond<br>0=%{x}<br>1=%{y}<br>2=%{z}<extra></extra>",
         "legendgroup": "beyond",
         "marker": {
          "color": "#ab63fa",
          "symbol": "circle"
         },
         "mode": "markers",
         "name": "beyond",
         "scene": "scene",
         "showlegend": true,
         "type": "scatter3d",
         "x": {
          "bdata": "pheSvQ==",
          "dtype": "f4"
         },
         "y": {
          "bdata": "Sr38Pg==",
          "dtype": "f4"
         },
         "z": {
          "bdata": "X6IUPw==",
          "dtype": "f4"
         }
        },
        {
         "hovertemplate": "color=feel<br>0=%{x}<br>1=%{y}<br>2=%{z}<extra></extra>",
         "legendgroup": "feel",
         "marker": {
          "color": "#FFA15A",
          "symbol": "circle"
         },
         "mode": "markers",
         "name": "feel",
         "scene": "scene",
         "showlegend": true,
         "type": "scatter3d",
         "x": {
          "bdata": "HABkvg==",
          "dtype": "f4"
         },
         "y": {
          "bdata": "XJzrvg==",
          "dtype": "f4"
         },
         "z": {
          "bdata": "CtooPg==",
          "dtype": "f4"
         }
        },
        {
         "hovertemplate": "color=send<br>0=%{x}<br>1=%{y}<br>2=%{z}<extra></extra>",
         "legendgroup": "send",
         "marker": {
          "color": "#19d3f3",
          "symbol": "circle"
         },
         "mode": "markers",
         "name": "send",
         "scene": "scene",
         "showlegend": true,
         "type": "scatter3d",
         "x": {
          "bdata": "pugLPw==",
          "dtype": "f4"
         },
         "y": {
          "bdata": "Vf0rPg==",
          "dtype": "f4"
         },
         "z": {
          "bdata": "YGk2Pg==",
          "dtype": "f4"
         }
        },
        {
         "hovertemplate": "color=tongue<br>0=%{x}<br>1=%{y}<br>2=%{z}<extra></extra>",
         "legendgroup": "tongue",
         "marker": {
          "color": "#FF6692",
          "symbol": "circle"
         },
         "mode": "markers",
         "name": "tongue",
         "scene": "scene",
         "showlegend": true,
         "type": "scatter3d",
         "x": {
          "bdata": "l3HbPQ==",
          "dtype": "f4"
         },
         "y": {
          "bdata": "XE3gvg==",
          "dtype": "f4"
         },
         "z": {
          "bdata": "wWVpvQ==",
          "dtype": "f4"
         }
        },
        {
         "hovertemplate": "color=got<br>0=%{x}<br>1=%{y}<br>2=%{z}<extra></extra>",
         "legendgroup": "got",
         "marker": {
          "color": "#B6E880",
          "symbol": "circle"
         },
         "mode": "markers",
         "name": "got",
         "scene": "scene",
         "showlegend": true,
         "type": "scatter3d",
         "x": {
          "bdata": "PFJ4vQ==",
          "dtype": "f4"
         },
         "y": {
          "bdata": "FE+fvg==",
          "dtype": "f4"
         },
         "z": {
          "bdata": "ic2LPQ==",
          "dtype": "f4"
         }
        },
        {
         "hovertemplate": "color=fight<br>0=%{x}<br>1=%{y}<br>2=%{z}<extra></extra>",
         "legendgroup": "fight",
         "marker": {
          "color": "#FF97FF",
          "symbol": "circle"
         },
         "mode": "markers",
         "name": "fight",
         "scene": "scene",
         "showlegend": true,
         "type": "scatter3d",
         "x": {
          "bdata": "Mmv4Pg==",
          "dtype": "f4"
         },
         "y": {
          "bdata": "1F9GPQ==",
          "dtype": "f4"
         },
         "z": {
          "bdata": "xEHnPg==",
          "dtype": "f4"
         }
        },
        {
         "hovertemplate": "color=rode<br>0=%{x}<br>1=%{y}<br>2=%{z}<extra></extra>",
         "legendgroup": "rode",
         "marker": {
          "color": "#FECB52",
          "symbol": "circle"
         },
         "mode": "markers",
         "name": "rode",
         "scene": "scene",
         "showlegend": true,
         "type": "scatter3d",
         "x": {
          "bdata": "rv6ovg==",
          "dtype": "f4"
         },
         "y": {
          "bdata": "mxkkPw==",
          "dtype": "f4"
         },
         "z": {
          "bdata": "oCGwuw==",
          "dtype": "f4"
         }
        },
        {
         "hovertemplate": "color=set<br>0=%{x}<br>1=%{y}<br>2=%{z}<extra></extra>",
         "legendgroup": "set",
         "marker": {
          "color": "#636efa",
          "symbol": "circle"
         },
         "mode": "markers",
         "name": "set",
         "scene": "scene",
         "showlegend": true,
         "type": "scatter3d",
         "x": {
          "bdata": "3CCyvg==",
          "dtype": "f4"
         },
         "y": {
          "bdata": "KSPNPg==",
          "dtype": "f4"
         },
         "z": {
          "bdata": "mh0DPg==",
          "dtype": "f4"
         }
        },
        {
         "hovertemplate": "color=thick<br>0=%{x}<br>1=%{y}<br>2=%{z}<extra></extra>",
         "legendgroup": "thick",
         "marker": {
          "color": "#EF553B",
          "symbol": "circle"
         },
         "mode": "markers",
         "name": "thick",
         "scene": "scene",
         "showlegend": true,
         "type": "scatter3d",
         "x": {
          "bdata": "XdJAvw==",
          "dtype": "f4"
         },
         "y": {
          "bdata": "4P0FPg==",
          "dtype": "f4"
         },
         "z": {
          "bdata": "amvkvQ==",
          "dtype": "f4"
         }
        },
        {
         "hovertemplate": "color=throat<br>0=%{x}<br>1=%{y}<br>2=%{z}<extra></extra>",
         "legendgroup": "throat",
         "marker": {
          "color": "#00cc96",
          "symbol": "circle"
         },
         "mode": "markers",
         "name": "throat",
         "scene": "scene",
         "showlegend": true,
         "type": "scatter3d",
         "x": {
          "bdata": "u2b9vg==",
          "dtype": "f4"
         },
         "y": {
          "bdata": "cJ3Evg==",
          "dtype": "f4"
         },
         "z": {
          "bdata": "FrGzvg==",
          "dtype": "f4"
         }
        },
        {
         "hovertemplate": "color=world<br>0=%{x}<br>1=%{y}<br>2=%{z}<extra></extra>",
         "legendgroup": "world",
         "marker": {
          "color": "#ab63fa",
          "symbol": "circle"
         },
         "mode": "markers",
         "name": "world",
         "scene": "scene",
         "showlegend": true,
         "type": "scatter3d",
         "x": {
          "bdata": "hLY/vQ==",
          "dtype": "f4"
         },
         "y": {
          "bdata": "aIyoPA==",
          "dtype": "f4"
         },
         "z": {
          "bdata": "cOwvPw==",
          "dtype": "f4"
         }
        },
        {
         "hovertemplate": "color=legs<br>0=%{x}<br>1=%{y}<br>2=%{z}<extra></extra>",
         "legendgroup": "legs",
         "marker": {
          "color": "#FFA15A",
          "symbol": "circle"
         },
         "mode": "markers",
         "name": "legs",
         "scene": "scene",
         "showlegend": true,
         "type": "scatter3d",
         "x": {
          "bdata": "5VQ0vw==",
          "dtype": "f4"
         },
         "y": {
          "bdata": "pcA1vg==",
          "dtype": "f4"
         },
         "z": {
          "bdata": "XX2tvQ==",
          "dtype": "f4"
         }
        },
        {
         "hovertemplate": "color=deep<br>0=%{x}<br>1=%{y}<br>2=%{z}<extra></extra>",
         "legendgroup": "deep",
         "marker": {
          "color": "#19d3f3",
          "symbol": "circle"
         },
         "mode": "markers",
         "name": "deep",
         "scene": "scene",
         "showlegend": true,
         "type": "scatter3d",
         "x": {
          "bdata": "hdE/vw==",
          "dtype": "f4"
         },
         "y": {
          "bdata": "PUTQPQ==",
          "dtype": "f4"
         },
         "z": {
          "bdata": "X7iaPQ==",
          "dtype": "f4"
         }
        },
        {
         "hovertemplate": "color=call<br>0=%{x}<br>1=%{y}<br>2=%{z}<extra></extra>",
         "legendgroup": "call",
         "marker": {
          "color": "#FF6692",
          "symbol": "circle"
         },
         "mode": "markers",
         "name": "call",
         "scene": "scene",
         "showlegend": true,
         "type": "scatter3d",
         "x": {
          "bdata": "TTkiPw==",
          "dtype": "f4"
         },
         "y": {
          "bdata": "WGSZPA==",
          "dtype": "f4"
         },
         "z": {
          "bdata": "ewiuPQ==",
          "dtype": "f4"
         }
        },
        {
         "hovertemplate": "color=honor<br>0=%{x}<br>1=%{y}<br>2=%{z}<extra></extra>",
         "legendgroup": "honor",
         "marker": {
          "color": "#B6E880",
          "symbol": "circle"
         },
         "mode": "markers",
         "name": "honor",
         "scene": "scene",
         "showlegend": true,
         "type": "scatter3d",
         "x": {
          "bdata": "zps9Pw==",
          "dtype": "f4"
         },
         "y": {
          "bdata": "jrXJPg==",
          "dtype": "f4"
         },
         "z": {
          "bdata": "8i4Jvg==",
          "dtype": "f4"
         }
        },
        {
         "hovertemplate": "color=trees<br>0=%{x}<br>1=%{y}<br>2=%{z}<extra></extra>",
         "legendgroup": "trees",
         "marker": {
          "color": "#FF97FF",
          "symbol": "circle"
         },
         "mode": "markers",
         "name": "trees",
         "scene": "scene",
         "showlegend": true,
         "type": "scatter3d",
         "x": {
          "bdata": "iU0vvw==",
          "dtype": "f4"
         },
         "y": {
          "bdata": "PQcuPg==",
          "dtype": "f4"
         },
         "z": {
          "bdata": "8Dy6Pg==",
          "dtype": "f4"
         }
        },
        {
         "hovertemplate": "color=rock<br>0=%{x}<br>1=%{y}<br>2=%{z}<extra></extra>",
         "legendgroup": "rock",
         "marker": {
          "color": "#FECB52",
          "symbol": "circle"
         },
         "mode": "markers",
         "name": "rock",
         "scene": "scene",
         "showlegend": true,
         "type": "scatter3d",
         "x": {
          "bdata": "9+qivQ==",
          "dtype": "f4"
         },
         "y": {
          "bdata": "40saPw==",
          "dtype": "f4"
         },
         "z": {
          "bdata": "rOz1vQ==",
          "dtype": "f4"
         }
        },
        {
         "hovertemplate": "color=tall<br>0=%{x}<br>1=%{y}<br>2=%{z}<extra></extra>",
         "legendgroup": "tall",
         "marker": {
          "color": "#636efa",
          "symbol": "circle"
         },
         "mode": "markers",
         "name": "tall",
         "scene": "scene",
         "showlegend": true,
         "type": "scatter3d",
         "x": {
          "bdata": "FK4Gvw==",
          "dtype": "f4"
         },
         "y": {
          "bdata": "ocoLPw==",
          "dtype": "f4"
         },
         "z": {
          "bdata": "NFTdvQ==",
          "dtype": "f4"
         }
        },
        {
         "hovertemplate": "color=table<br>0=%{x}<br>1=%{y}<br>2=%{z}<extra></extra>",
         "legendgroup": "table",
         "marker": {
          "color": "#EF553B",
          "symbol": "circle"
         },
         "mode": "markers",
         "name": "table",
         "scene": "scene",
         "showlegend": true,
         "type": "scatter3d",
         "x": {
          "bdata": "cdTEvg==",
          "dtype": "f4"
         },
         "y": {
          "bdata": "dvrKPg==",
          "dtype": "f4"
         },
         "z": {
          "bdata": "m9XBvg==",
          "dtype": "f4"
         }
        },
        {
         "hovertemplate": "color=pulled<br>0=%{x}<br>1=%{y}<br>2=%{z}<extra></extra>",
         "legendgroup": "pulled",
         "marker": {
          "color": "#00cc96",
          "symbol": "circle"
         },
         "mode": "markers",
         "name": "pulled",
         "scene": "scene",
         "showlegend": true,
         "type": "scatter3d",
         "x": {
          "bdata": "60Qfvw==",
          "dtype": "f4"
         },
         "y": {
          "bdata": "oLC0Ow==",
          "dtype": "f4"
         },
         "z": {
          "bdata": "R93Lvg==",
          "dtype": "f4"
         }
        },
        {
         "hovertemplate": "color=broken<br>0=%{x}<br>1=%{y}<br>2=%{z}<extra></extra>",
         "legendgroup": "broken",
         "marker": {
          "color": "#ab63fa",
          "symbol": "circle"
         },
         "mode": "markers",
         "name": "broken",
         "scene": "scene",
         "showlegend": true,
         "type": "scatter3d",
         "x": {
          "bdata": "7dw3vw==",
          "dtype": "f4"
         },
         "y": {
          "bdata": "IBmDPg==",
          "dtype": "f4"
         },
         "z": {
          "bdata": "hdfvPQ==",
          "dtype": "f4"
         }
        },
        {
         "hovertemplate": "color=women<br>0=%{x}<br>1=%{y}<br>2=%{z}<extra></extra>",
         "legendgroup": "women",
         "marker": {
          "color": "#FFA15A",
          "symbol": "circle"
         },
         "mode": "markers",
         "name": "women",
         "scene": "scene",
         "showlegend": true,
         "type": "scatter3d",
         "x": {
          "bdata": "UoonPg==",
          "dtype": "f4"
         },
         "y": {
          "bdata": "3aB2Pg==",
          "dtype": "f4"
         },
         "z": {
          "bdata": "fZbSPg==",
          "dtype": "f4"
         }
        },
        {
         "hovertemplate": "color=mormont<br>0=%{x}<br>1=%{y}<br>2=%{z}<extra></extra>",
         "legendgroup": "mormont",
         "marker": {
          "color": "#19d3f3",
          "symbol": "circle"
         },
         "mode": "markers",
         "name": "mormont",
         "scene": "scene",
         "showlegend": true,
         "type": "scatter3d",
         "x": {
          "bdata": "oSilPQ==",
          "dtype": "f4"
         },
         "y": {
          "bdata": "Ath6Pg==",
          "dtype": "f4"
         },
         "z": {
          "bdata": "ooAGvw==",
          "dtype": "f4"
         }
        },
        {
         "hovertemplate": "color=steps<br>0=%{x}<br>1=%{y}<br>2=%{z}<extra></extra>",
         "legendgroup": "steps",
         "marker": {
          "color": "#FF6692",
          "symbol": "circle"
         },
         "mode": "markers",
         "name": "steps",
         "scene": "scene",
         "showlegend": true,
         "type": "scatter3d",
         "x": {
          "bdata": "vBYcvw==",
          "dtype": "f4"
         },
         "y": {
          "bdata": "5h6fPg==",
          "dtype": "f4"
         },
         "z": {
          "bdata": "wkRBPg==",
          "dtype": "f4"
         }
        },
        {
         "hovertemplate": "color=things<br>0=%{x}<br>1=%{y}<br>2=%{z}<extra></extra>",
         "legendgroup": "things",
         "marker": {
          "color": "#B6E880",
          "symbol": "circle"
         },
         "mode": "markers",
         "name": "things",
         "scene": "scene",
         "showlegend": true,
         "type": "scatter3d",
         "x": {
          "bdata": "vBmnPg==",
          "dtype": "f4"
         },
         "y": {
          "bdata": "GiKdvg==",
          "dtype": "f4"
         },
         "z": {
          "bdata": "eLHlPg==",
          "dtype": "f4"
         }
        },
        {
         "hovertemplate": "color=next<br>0=%{x}<br>1=%{y}<br>2=%{z}<extra></extra>",
         "legendgroup": "next",
         "marker": {
          "color": "#FF97FF",
          "symbol": "circle"
         },
         "mode": "markers",
         "name": "next",
         "scene": "scene",
         "showlegend": true,
         "type": "scatter3d",
         "x": {
          "bdata": "1gbYPQ==",
          "dtype": "f4"
         },
         "y": {
          "bdata": "8G9evA==",
          "dtype": "f4"
         },
         "z": {
          "bdata": "eDJyPg==",
          "dtype": "f4"
         }
        },
        {
         "hovertemplate": "color=hodor<br>0=%{x}<br>1=%{y}<br>2=%{z}<extra></extra>",
         "legendgroup": "hodor",
         "marker": {
          "color": "#FECB52",
          "symbol": "circle"
         },
         "mode": "markers",
         "name": "hodor",
         "scene": "scene",
         "showlegend": true,
         "type": "scatter3d",
         "x": {
          "bdata": "tN2Wvg==",
          "dtype": "f4"
         },
         "y": {
          "bdata": "gq3Mvg==",
          "dtype": "f4"
         },
         "z": {
          "bdata": "xgIsvQ==",
          "dtype": "f4"
         }
        },
        {
         "hovertemplate": "color=heavy<br>0=%{x}<br>1=%{y}<br>2=%{z}<extra></extra>",
         "legendgroup": "heavy",
         "marker": {
          "color": "#636efa",
          "symbol": "circle"
         },
         "mode": "markers",
         "name": "heavy",
         "scene": "scene",
         "showlegend": true,
         "type": "scatter3d",
         "x": {
          "bdata": "abM/vw==",
          "dtype": "f4"
         },
         "y": {
          "bdata": "yzEgPg==",
          "dtype": "f4"
         },
         "z": {
          "bdata": "5DMPvg==",
          "dtype": "f4"
         }
        },
        {
         "hovertemplate": "color=burned<br>0=%{x}<br>1=%{y}<br>2=%{z}<extra></extra>",
         "legendgroup": "burned",
         "marker": {
          "color": "#EF553B",
          "symbol": "circle"
         },
         "mode": "markers",
         "name": "burned",
         "scene": "scene",
         "showlegend": true,
         "type": "scatter3d",
         "x": {
          "bdata": "IrPsvg==",
          "dtype": "f4"
         },
         "y": {
          "bdata": "z7CgPg==",
          "dtype": "f4"
         },
         "z": {
          "bdata": "NSvVPg==",
          "dtype": "f4"
         }
        },
        {
         "hovertemplate": "color=oh<br>0=%{x}<br>1=%{y}<br>2=%{z}<extra></extra>",
         "legendgroup": "oh",
         "marker": {
          "color": "#00cc96",
          "symbol": "circle"
         },
         "mode": "markers",
         "name": "oh",
         "scene": "scene",
         "showlegend": true,
         "type": "scatter3d",
         "x": {
          "bdata": "6KEgPw==",
          "dtype": "f4"
         },
         "y": {
          "bdata": "hh6Rvg==",
          "dtype": "f4"
         },
         "z": {
          "bdata": "5gBPvg==",
          "dtype": "f4"
         }
        },
        {
         "hovertemplate": "color=toward<br>0=%{x}<br>1=%{y}<br>2=%{z}<extra></extra>",
         "legendgroup": "toward",
         "marker": {
          "color": "#ab63fa",
          "symbol": "circle"
         },
         "mode": "markers",
         "name": "toward",
         "scene": "scene",
         "showlegend": true,
         "type": "scatter3d",
         "x": {
          "bdata": "VAYevw==",
          "dtype": "f4"
         },
         "y": {
          "bdata": "BV98Pg==",
          "dtype": "f4"
         },
         "z": {
          "bdata": "B92wvQ==",
          "dtype": "f4"
         }
        },
        {
         "hovertemplate": "color=together<br>0=%{x}<br>1=%{y}<br>2=%{z}<extra></extra>",
         "legendgroup": "together",
         "marker": {
          "color": "#FFA15A",
          "symbol": "circle"
         },
         "mode": "markers",
         "name": "together",
         "scene": "scene",
         "showlegend": true,
         "type": "scatter3d",
         "x": {
          "bdata": "BYHwvg==",
          "dtype": "f4"
         },
         "y": {
          "bdata": "9ymgPg==",
          "dtype": "f4"
         },
         "z": {
          "bdata": "g4inPg==",
          "dtype": "f4"
         }
        },
        {
         "hovertemplate": "color=skin<br>0=%{x}<br>1=%{y}<br>2=%{z}<extra></extra>",
         "legendgroup": "skin",
         "marker": {
          "color": "#19d3f3",
          "symbol": "circle"
         },
         "mode": "markers",
         "name": "skin",
         "scene": "scene",
         "showlegend": true,
         "type": "scatter3d",
         "x": {
          "bdata": "Dj4lvw==",
          "dtype": "f4"
         },
         "y": {
          "bdata": "nCSXvg==",
          "dtype": "f4"
         },
         "z": {
          "bdata": "d5Mjvg==",
          "dtype": "f4"
         }
        },
        {
         "hovertemplate": "color=given<br>0=%{x}<br>1=%{y}<br>2=%{z}<extra></extra>",
         "legendgroup": "given",
         "marker": {
          "color": "#FF6692",
          "symbol": "circle"
         },
         "mode": "markers",
         "name": "given",
         "scene": "scene",
         "showlegend": true,
         "type": "scatter3d",
         "x": {
          "bdata": "MxUJPw==",
          "dtype": "f4"
         },
         "y": {
          "bdata": "qIV3Pg==",
          "dtype": "f4"
         },
         "z": {
          "bdata": "bWWYPQ==",
          "dtype": "f4"
         }
        },
        {
         "hovertemplate": "color=since<br>0=%{x}<br>1=%{y}<br>2=%{z}<extra></extra>",
         "legendgroup": "since",
         "marker": {
          "color": "#B6E880",
          "symbol": "circle"
         },
         "mode": "markers",
         "name": "since",
         "scene": "scene",
         "showlegend": true,
         "type": "scatter3d",
         "x": {
          "bdata": "w+6dPg==",
          "dtype": "f4"
         },
         "y": {
          "bdata": "qJPQPg==",
          "dtype": "f4"
         },
         "z": {
          "bdata": "byqiPg==",
          "dtype": "f4"
         }
        },
        {
         "hovertemplate": "color=dwarf<br>0=%{x}<br>1=%{y}<br>2=%{z}<extra></extra>",
         "legendgroup": "dwarf",
         "marker": {
          "color": "#FF97FF",
          "symbol": "circle"
         },
         "mode": "markers",
         "name": "dwarf",
         "scene": "scene",
         "showlegend": true,
         "type": "scatter3d",
         "x": {
          "bdata": "ElqvPg==",
          "dtype": "f4"
         },
         "y": {
          "bdata": "6M/Pvg==",
          "dtype": "f4"
         },
         "z": {
          "bdata": "NOukvg==",
          "dtype": "f4"
         }
        },
        {
         "hovertemplate": "color=alone<br>0=%{x}<br>1=%{y}<br>2=%{z}<extra></extra>",
         "legendgroup": "alone",
         "marker": {
          "color": "#FECB52",
          "symbol": "circle"
         },
         "mode": "markers",
         "name": "alone",
         "scene": "scene",
         "showlegend": true,
         "type": "scatter3d",
         "x": {
          "bdata": "UMmXPg==",
          "dtype": "f4"
         },
         "y": {
          "bdata": "YP8CPA==",
          "dtype": "f4"
         },
         "z": {
          "bdata": "GDrdPg==",
          "dtype": "f4"
         }
        },
        {
         "hovertemplate": "color=smiled<br>0=%{x}<br>1=%{y}<br>2=%{z}<extra></extra>",
         "legendgroup": "smiled",
         "marker": {
          "color": "#636efa",
          "symbol": "circle"
         },
         "mode": "markers",
         "name": "smiled",
         "scene": "scene",
         "showlegend": true,
         "type": "scatter3d",
         "x": {
          "bdata": "XC4sPg==",
          "dtype": "f4"
         },
         "y": {
          "bdata": "dkSqvg==",
          "dtype": "f4"
         },
         "z": {
          "bdata": "Ze0Vvw==",
          "dtype": "f4"
         }
        },
        {
         "hovertemplate": "color=moved<br>0=%{x}<br>1=%{y}<br>2=%{z}<extra></extra>",
         "legendgroup": "moved",
         "marker": {
          "color": "#EF553B",
          "symbol": "circle"
         },
         "mode": "markers",
         "name": "moved",
         "scene": "scene",
         "showlegend": true,
         "type": "scatter3d",
         "x": {
          "bdata": "xxQOvw==",
          "dtype": "f4"
         },
         "y": {
          "bdata": "2PvhvA==",
          "dtype": "f4"
         },
         "z": {
          "bdata": "Ad0ovQ==",
          "dtype": "f4"
         }
        },
        {
         "hovertemplate": "color=storm<br>0=%{x}<br>1=%{y}<br>2=%{z}<extra></extra>",
         "legendgroup": "storm",
         "marker": {
          "color": "#00cc96",
          "symbol": "circle"
         },
         "mode": "markers",
         "name": "storm",
         "scene": "scene",
         "showlegend": true,
         "type": "scatter3d",
         "x": {
          "bdata": "kEFdPg==",
          "dtype": "f4"
         },
         "y": {
          "bdata": "io4qPw==",
          "dtype": "f4"
         },
         "z": {
          "bdata": "DphePg==",
          "dtype": "f4"
         }
        },
        {
         "hovertemplate": "color=raised<br>0=%{x}<br>1=%{y}<br>2=%{z}<extra></extra>",
         "legendgroup": "raised",
         "marker": {
          "color": "#ab63fa",
          "symbol": "circle"
         },
         "mode": "markers",
         "name": "raised",
         "scene": "scene",
         "showlegend": true,
         "type": "scatter3d",
         "x": {
          "bdata": "WjiIvg==",
          "dtype": "f4"
         },
         "y": {
          "bdata": "wmvDPg==",
          "dtype": "f4"
         },
         "z": {
          "bdata": "fiyvvg==",
          "dtype": "f4"
         }
        },
        {
         "hovertemplate": "color=ride<br>0=%{x}<br>1=%{y}<br>2=%{z}<extra></extra>",
         "legendgroup": "ride",
         "marker": {
          "color": "#FFA15A",
          "symbol": "circle"
         },
         "mode": "markers",
         "name": "ride",
         "scene": "scene",
         "showlegend": true,
         "type": "scatter3d",
         "x": {
          "bdata": "/nqkPg==",
          "dtype": "f4"
         },
         "y": {
          "bdata": "aLNOPg==",
          "dtype": "f4"
         },
         "z": {
          "bdata": "dKsKPw==",
          "dtype": "f4"
         }
        },
        {
         "hovertemplate": "color=ask<br>0=%{x}<br>1=%{y}<br>2=%{z}<extra></extra>",
         "legendgroup": "ask",
         "marker": {
          "color": "#19d3f3",
          "symbol": "circle"
         },
         "mode": "markers",
         "name": "ask",
         "scene": "scene",
         "showlegend": true,
         "type": "scatter3d",
         "x": {
          "bdata": "sVtLPw==",
          "dtype": "f4"
         },
         "y": {
          "bdata": "ykKkvQ==",
          "dtype": "f4"
         },
         "z": {
          "bdata": "rZWhPQ==",
          "dtype": "f4"
         }
        },
        {
         "hovertemplate": "color=eye<br>0=%{x}<br>1=%{y}<br>2=%{z}<extra></extra>",
         "legendgroup": "eye",
         "marker": {
          "color": "#FF6692",
          "symbol": "circle"
         },
         "mode": "markers",
         "name": "eye",
         "scene": "scene",
         "showlegend": true,
         "type": "scatter3d",
         "x": {
          "bdata": "qse+vg==",
          "dtype": "f4"
         },
         "y": {
          "bdata": "6gz/PQ==",
          "dtype": "f4"
         },
         "z": {
          "bdata": "ADz6OA==",
          "dtype": "f4"
         }
        },
        {
         "hovertemplate": "color=hope<br>0=%{x}<br>1=%{y}<br>2=%{z}<extra></extra>",
         "legendgroup": "hope",
         "marker": {
          "color": "#B6E880",
          "symbol": "circle"
         },
         "mode": "markers",
         "name": "hope",
         "scene": "scene",
         "showlegend": true,
         "type": "scatter3d",
         "x": {
          "bdata": "+tYnPw==",
          "dtype": "f4"
         },
         "y": {
          "bdata": "so2qvQ==",
          "dtype": "f4"
         },
         "z": {
          "bdata": "L2CMPg==",
          "dtype": "f4"
         }
        },
        {
         "hovertemplate": "color=soft<br>0=%{x}<br>1=%{y}<br>2=%{z}<extra></extra>",
         "legendgroup": "soft",
         "marker": {
          "color": "#FF97FF",
          "symbol": "circle"
         },
         "mode": "markers",
         "name": "soft",
         "scene": "scene",
         "showlegend": true,
         "type": "scatter3d",
         "x": {
          "bdata": "ZPAovw==",
          "dtype": "f4"
         },
         "y": {
          "bdata": "QRF+vg==",
          "dtype": "f4"
         },
         "z": {
          "bdata": "0vCEvg==",
          "dtype": "f4"
         }
        },
        {
         "hovertemplate": "color=reached<br>0=%{x}<br>1=%{y}<br>2=%{z}<extra></extra>",
         "legendgroup": "reached",
         "marker": {
          "color": "#FECB52",
          "symbol": "circle"
         },
         "mode": "markers",
         "name": "reached",
         "scene": "scene",
         "showlegend": true,
         "type": "scatter3d",
         "x": {
          "bdata": "+qzyvg==",
          "dtype": "f4"
         },
         "y": {
          "bdata": "3ZXUPQ==",
          "dtype": "f4"
         },
         "z": {
          "bdata": "IpGRvA==",
          "dtype": "f4"
         }
        },
        {
         "hovertemplate": "color=frey<br>0=%{x}<br>1=%{y}<br>2=%{z}<extra></extra>",
         "legendgroup": "frey",
         "marker": {
          "color": "#636efa",
          "symbol": "circle"
         },
         "mode": "markers",
         "name": "frey",
         "scene": "scene",
         "showlegend": true,
         "type": "scatter3d",
         "x": {
          "bdata": "KRXBPg==",
          "dtype": "f4"
         },
         "y": {
          "bdata": "YyoXPw==",
          "dtype": "f4"
         },
         "z": {
          "bdata": "X18Vvw==",
          "dtype": "f4"
         }
        },
        {
         "hovertemplate": "color=second<br>0=%{x}<br>1=%{y}<br>2=%{z}<extra></extra>",
         "legendgroup": "second",
         "marker": {
          "color": "#EF553B",
          "symbol": "circle"
         },
         "mode": "markers",
         "name": "second",
         "scene": "scene",
         "showlegend": true,
         "type": "scatter3d",
         "x": {
          "bdata": "sRQMPQ==",
          "dtype": "f4"
         },
         "y": {
          "bdata": "XnUgPw==",
          "dtype": "f4"
         },
         "z": {
          "bdata": "Gk9cvg==",
          "dtype": "f4"
         }
        },
        {
         "hovertemplate": "color=remember<br>0=%{x}<br>1=%{y}<br>2=%{z}<extra></extra>",
         "legendgroup": "remember",
         "marker": {
          "color": "#00cc96",
          "symbol": "circle"
         },
         "mode": "markers",
         "name": "remember",
         "scene": "scene",
         "showlegend": true,
         "type": "scatter3d",
         "x": {
          "bdata": "9EbSPg==",
          "dtype": "f4"
         },
         "y": {
          "bdata": "PuKuvg==",
          "dtype": "f4"
         },
         "z": {
          "bdata": "SPJ0Pg==",
          "dtype": "f4"
         }
        },
        {
         "hovertemplate": "color=someone<br>0=%{x}<br>1=%{y}<br>2=%{z}<extra></extra>",
         "legendgroup": "someone",
         "marker": {
          "color": "#ab63fa",
          "symbol": "circle"
         },
         "mode": "markers",
         "name": "someone",
         "scene": "scene",
         "showlegend": true,
         "type": "scatter3d",
         "x": {
          "bdata": "rqzHPg==",
          "dtype": "f4"
         },
         "y": {
          "bdata": "Ik/0vg==",
          "dtype": "f4"
         },
         "z": {
          "bdata": "2yv8PQ==",
          "dtype": "f4"
         }
        },
        {
         "hovertemplate": "color=remembered<br>0=%{x}<br>1=%{y}<br>2=%{z}<extra></extra>",
         "legendgroup": "remembered",
         "marker": {
          "color": "#FFA15A",
          "symbol": "circle"
         },
         "mode": "markers",
         "name": "remembered",
         "scene": "scene",
         "showlegend": true,
         "type": "scatter3d",
         "x": {
          "bdata": "0wyGPQ==",
          "dtype": "f4"
         },
         "y": {
          "bdata": "U4UTvg==",
          "dtype": "f4"
         },
         "z": {
          "bdata": "fqc4PQ==",
          "dtype": "f4"
         }
        },
        {
         "hovertemplate": "color=coming<br>0=%{x}<br>1=%{y}<br>2=%{z}<extra></extra>",
         "legendgroup": "coming",
         "marker": {
          "color": "#19d3f3",
          "symbol": "circle"
         },
         "mode": "markers",
         "name": "coming",
         "scene": "scene",
         "showlegend": true,
         "type": "scatter3d",
         "x": {
          "bdata": "RLySvA==",
          "dtype": "f4"
         },
         "y": {
          "bdata": "HPERvQ==",
          "dtype": "f4"
         },
         "z": {
          "bdata": "+lAgPw==",
          "dtype": "f4"
         }
        },
        {
         "hovertemplate": "color=cannot<br>0=%{x}<br>1=%{y}<br>2=%{z}<extra></extra>",
         "legendgroup": "cannot",
         "marker": {
          "color": "#FF6692",
          "symbol": "circle"
         },
         "mode": "markers",
         "name": "cannot",
         "scene": "scene",
         "showlegend": true,
         "type": "scatter3d",
         "x": {
          "bdata": "8jsyPw==",
          "dtype": "f4"
         },
         "y": {
          "bdata": "TOsHvQ==",
          "dtype": "f4"
         },
         "z": {
          "bdata": "XauSPg==",
          "dtype": "f4"
         }
        },
        {
         "hovertemplate": "color=hold<br>0=%{x}<br>1=%{y}<br>2=%{z}<extra></extra>",
         "legendgroup": "hold",
         "marker": {
          "color": "#B6E880",
          "symbol": "circle"
         },
         "mode": "markers",
         "name": "hold",
         "scene": "scene",
         "showlegend": true,
         "type": "scatter3d",
         "x": {
          "bdata": "PQ/IPg==",
          "dtype": "f4"
         },
         "y": {
          "bdata": "zMcrPg==",
          "dtype": "f4"
         },
         "z": {
          "bdata": "fpIuPg==",
          "dtype": "f4"
         }
        },
        {
         "hovertemplate": "color=meant<br>0=%{x}<br>1=%{y}<br>2=%{z}<extra></extra>",
         "legendgroup": "meant",
         "marker": {
          "color": "#FF97FF",
          "symbol": "circle"
         },
         "mode": "markers",
         "name": "meant",
         "scene": "scene",
         "showlegend": true,
         "type": "scatter3d",
         "x": {
          "bdata": "/bQoPw==",
          "dtype": "f4"
         },
         "y": {
          "bdata": "7dRkvg==",
          "dtype": "f4"
         },
         "z": {
          "bdata": "tE1tPg==",
          "dtype": "f4"
         }
        },
        {
         "hovertemplate": "color=morning<br>0=%{x}<br>1=%{y}<br>2=%{z}<extra></extra>",
         "legendgroup": "morning",
         "marker": {
          "color": "#FECB52",
          "symbol": "circle"
         },
         "mode": "markers",
         "name": "morning",
         "scene": "scene",
         "showlegend": true,
         "type": "scatter3d",
         "x": {
          "bdata": "FU+pvg==",
          "dtype": "f4"
         },
         "y": {
          "bdata": "Jn+BPQ==",
          "dtype": "f4"
         },
         "z": {
          "bdata": "Pna/Pg==",
          "dtype": "f4"
         }
        },
        {
         "hovertemplate": "color=ten<br>0=%{x}<br>1=%{y}<br>2=%{z}<extra></extra>",
         "legendgroup": "ten",
         "marker": {
          "color": "#636efa",
          "symbol": "circle"
         },
         "mode": "markers",
         "name": "ten",
         "scene": "scene",
         "showlegend": true,
         "type": "scatter3d",
         "x": {
          "bdata": "bFnZPQ==",
          "dtype": "f4"
         },
         "y": {
          "bdata": "qigXPw==",
          "dtype": "f4"
         },
         "z": {
          "bdata": "xDNlPg==",
          "dtype": "f4"
         }
        },
        {
         "hovertemplate": "color=else<br>0=%{x}<br>1=%{y}<br>2=%{z}<extra></extra>",
         "legendgroup": "else",
         "marker": {
          "color": "#EF553B",
          "symbol": "circle"
         },
         "mode": "markers",
         "name": "else",
         "scene": "scene",
         "showlegend": true,
         "type": "scatter3d",
         "x": {
          "bdata": "rU/wPg==",
          "dtype": "f4"
         },
         "y": {
          "bdata": "DlPMvg==",
          "dtype": "f4"
         },
         "z": {
          "bdata": "VeGvPg==",
          "dtype": "f4"
         }
        },
        {
         "hovertemplate": "color=teeth<br>0=%{x}<br>1=%{y}<br>2=%{z}<extra></extra>",
         "legendgroup": "teeth",
         "marker": {
          "color": "#00cc96",
          "symbol": "circle"
         },
         "mode": "markers",
         "name": "teeth",
         "scene": "scene",
         "showlegend": true,
         "type": "scatter3d",
         "x": {
          "bdata": "VgAovw==",
          "dtype": "f4"
         },
         "y": {
          "bdata": "nruavg==",
          "dtype": "f4"
         },
         "z": {
          "bdata": "BulFvg==",
          "dtype": "f4"
         }
        },
        {
         "hovertemplate": "color=throne<br>0=%{x}<br>1=%{y}<br>2=%{z}<extra></extra>",
         "legendgroup": "throne",
         "marker": {
          "color": "#ab63fa",
          "symbol": "circle"
         },
         "mode": "markers",
         "name": "throne",
         "scene": "scene",
         "showlegend": true,
         "type": "scatter3d",
         "x": {
          "bdata": "ol5zPg==",
          "dtype": "f4"
         },
         "y": {
          "bdata": "jWANPw==",
          "dtype": "f4"
         },
         "z": {
          "bdata": "dRZNvQ==",
          "dtype": "f4"
         }
        },
        {
         "hovertemplate": "color=command<br>0=%{x}<br>1=%{y}<br>2=%{z}<extra></extra>",
         "legendgroup": "command",
         "marker": {
          "color": "#FFA15A",
          "symbol": "circle"
         },
         "mode": "markers",
         "name": "command",
         "scene": "scene",
         "showlegend": true,
         "type": "scatter3d",
         "x": {
          "bdata": "3jgZPw==",
          "dtype": "f4"
         },
         "y": {
          "bdata": "y2gCPw==",
          "dtype": "f4"
         },
         "z": {
          "bdata": "jpYjvg==",
          "dtype": "f4"
         }
        },
        {
         "hovertemplate": "color=fat<br>0=%{x}<br>1=%{y}<br>2=%{z}<extra></extra>",
         "legendgroup": "fat",
         "marker": {
          "color": "#19d3f3",
          "symbol": "circle"
         },
         "mode": "markers",
         "name": "fat",
         "scene": "scene",
         "showlegend": true,
         "type": "scatter3d",
         "x": {
          "bdata": "3zrSvQ==",
          "dtype": "f4"
         },
         "y": {
          "bdata": "cNRpPQ==",
          "dtype": "f4"
         },
         "z": {
          "bdata": "JuIKvw==",
          "dtype": "f4"
         }
        },
        {
         "hovertemplate": "color=truth<br>0=%{x}<br>1=%{y}<br>2=%{z}<extra></extra>",
         "legendgroup": "truth",
         "marker": {
          "color": "#FF6692",
          "symbol": "circle"
         },
         "mode": "markers",
         "name": "truth",
         "scene": "scene",
         "showlegend": true,
         "type": "scatter3d",
         "x": {
          "bdata": "XXMrPw==",
          "dtype": "f4"
         },
         "y": {
          "bdata": "Oh2Ivg==",
          "dtype": "f4"
         },
         "z": {
          "bdata": "jNQkPg==",
          "dtype": "f4"
         }
        },
        {
         "hovertemplate": "color=walder<br>0=%{x}<br>1=%{y}<br>2=%{z}<extra></extra>",
         "legendgroup": "walder",
         "marker": {
          "color": "#B6E880",
          "symbol": "circle"
         },
         "mode": "markers",
         "name": "walder",
         "scene": "scene",
         "showlegend": true,
         "type": "scatter3d",
         "x": {
          "bdata": "MjevPg==",
          "dtype": "f4"
         },
         "y": {
          "bdata": "oA8BPw==",
          "dtype": "f4"
         },
         "z": {
          "bdata": "u4MDvw==",
          "dtype": "f4"
         }
        },
        {
         "hovertemplate": "color=commander<br>0=%{x}<br>1=%{y}<br>2=%{z}<extra></extra>",
         "legendgroup": "commander",
         "marker": {
          "color": "#FF97FF",
          "symbol": "circle"
         },
         "mode": "markers",
         "name": "commander",
         "scene": "scene",
         "showlegend": true,
         "type": "scatter3d",
         "x": {
          "bdata": "3oOsPg==",
          "dtype": "f4"
         },
         "y": {
          "bdata": "1QUUPw==",
          "dtype": "f4"
         },
         "z": {
          "bdata": "4sR5vg==",
          "dtype": "f4"
         }
        },
        {
         "hovertemplate": "color=ground<br>0=%{x}<br>1=%{y}<br>2=%{z}<extra></extra>",
         "legendgroup": "ground",
         "marker": {
          "color": "#FECB52",
          "symbol": "circle"
         },
         "mode": "markers",
         "name": "ground",
         "scene": "scene",
         "showlegend": true,
         "type": "scatter3d",
         "x": {
          "bdata": "WG1Evw==",
          "dtype": "f4"
         },
         "y": {
          "bdata": "gGmmOg==",
          "dtype": "f4"
         },
         "z": {
          "bdata": "HBQMPg==",
          "dtype": "f4"
         }
        },
        {
         "hovertemplate": "color=doubt<br>0=%{x}<br>1=%{y}<br>2=%{z}<extra></extra>",
         "legendgroup": "doubt",
         "marker": {
          "color": "#636efa",
          "symbol": "circle"
         },
         "mode": "markers",
         "name": "doubt",
         "scene": "scene",
         "showlegend": true,
         "type": "scatter3d",
         "x": {
          "bdata": "SZk8Pw==",
          "dtype": "f4"
         },
         "y": {
          "bdata": "Ek+jPQ==",
          "dtype": "f4"
         },
         "z": {
          "bdata": "deTUPQ==",
          "dtype": "f4"
         }
        },
        {
         "hovertemplate": "color=jorah<br>0=%{x}<br>1=%{y}<br>2=%{z}<extra></extra>",
         "legendgroup": "jorah",
         "marker": {
          "color": "#EF553B",
          "symbol": "circle"
         },
         "mode": "markers",
         "name": "jorah",
         "scene": "scene",
         "showlegend": true,
         "type": "scatter3d",
         "x": {
          "bdata": "b6XbPQ==",
          "dtype": "f4"
         },
         "y": {
          "bdata": "NvyRvQ==",
          "dtype": "f4"
         },
         "z": {
          "bdata": "uFmTvg==",
          "dtype": "f4"
         }
        },
        {
         "hovertemplate": "color=cup<br>0=%{x}<br>1=%{y}<br>2=%{z}<extra></extra>",
         "legendgroup": "cup",
         "marker": {
          "color": "#00cc96",
          "symbol": "circle"
         },
         "mode": "markers",
         "name": "cup",
         "scene": "scene",
         "showlegend": true,
         "type": "scatter3d",
         "x": {
          "bdata": "/5TQvQ==",
          "dtype": "f4"
         },
         "y": {
          "bdata": "OYVovg==",
          "dtype": "f4"
         },
         "z": {
          "bdata": "MsO9vg==",
          "dtype": "f4"
         }
        },
        {
         "hovertemplate": "color=outside<br>0=%{x}<br>1=%{y}<br>2=%{z}<extra></extra>",
         "legendgroup": "outside",
         "marker": {
          "color": "#ab63fa",
          "symbol": "circle"
         },
         "mode": "markers",
         "name": "outside",
         "scene": "scene",
         "showlegend": true,
         "type": "scatter3d",
         "x": {
          "bdata": "HVfVvg==",
          "dtype": "f4"
         },
         "y": {
          "bdata": "AynGPg==",
          "dtype": "f4"
         },
         "z": {
          "bdata": "s2+7Pg==",
          "dtype": "f4"
         }
        },
        {
         "hovertemplate": "color=known<br>0=%{x}<br>1=%{y}<br>2=%{z}<extra></extra>",
         "legendgroup": "known",
         "marker": {
          "color": "#FFA15A",
          "symbol": "circle"
         },
         "mode": "markers",
         "name": "known",
         "scene": "scene",
         "showlegend": true,
         "type": "scatter3d",
         "x": {
          "bdata": "d8oSPw==",
          "dtype": "f4"
         },
         "y": {
          "bdata": "WAk0PQ==",
          "dtype": "f4"
         },
         "z": {
          "bdata": "2I4ePg==",
          "dtype": "f4"
         }
        },
        {
         "hovertemplate": "color=wore<br>0=%{x}<br>1=%{y}<br>2=%{z}<extra></extra>",
         "legendgroup": "wore",
         "marker": {
          "color": "#19d3f3",
          "symbol": "circle"
         },
         "mode": "markers",
         "name": "wore",
         "scene": "scene",
         "showlegend": true,
         "type": "scatter3d",
         "x": {
          "bdata": "mzH/vg==",
          "dtype": "f4"
         },
         "y": {
          "bdata": "1aXOPg==",
          "dtype": "f4"
         },
         "z": {
          "bdata": "QzC2vg==",
          "dtype": "f4"
         }
        },
        {
         "hovertemplate": "color=ran<br>0=%{x}<br>1=%{y}<br>2=%{z}<extra></extra>",
         "legendgroup": "ran",
         "marker": {
          "color": "#FF6692",
          "symbol": "circle"
         },
         "mode": "markers",
         "name": "ran",
         "scene": "scene",
         "showlegend": true,
         "type": "scatter3d",
         "x": {
          "bdata": "610yvw==",
          "dtype": "f4"
         },
         "y": {
          "bdata": "5AZJvQ==",
          "dtype": "f4"
         },
         "z": {
          "bdata": "20SovQ==",
          "dtype": "f4"
         }
        },
        {
         "hovertemplate": "color=gate<br>0=%{x}<br>1=%{y}<br>2=%{z}<extra></extra>",
         "legendgroup": "gate",
         "marker": {
          "color": "#B6E880",
          "symbol": "circle"
         },
         "mode": "markers",
         "name": "gate",
         "scene": "scene",
         "showlegend": true,
         "type": "scatter3d",
         "x": {
          "bdata": "ce7Fvg==",
          "dtype": "f4"
         },
         "y": {
          "bdata": "WCUJPw==",
          "dtype": "f4"
         },
         "z": {
          "bdata": "UJpHPg==",
          "dtype": "f4"
         }
        },
        {
         "hovertemplate": "color=held<br>0=%{x}<br>1=%{y}<br>2=%{z}<extra></extra>",
         "legendgroup": "held",
         "marker": {
          "color": "#FF97FF",
          "symbol": "circle"
         },
         "mode": "markers",
         "name": "held",
         "scene": "scene",
         "showlegend": true,
         "type": "scatter3d",
         "x": {
          "bdata": "TMeKvg==",
          "dtype": "f4"
         },
         "y": {
          "bdata": "R6plPg==",
          "dtype": "f4"
         },
         "z": {
          "bdata": "lnPavg==",
          "dtype": "f4"
         }
        },
        {
         "hovertemplate": "color=room<br>0=%{x}<br>1=%{y}<br>2=%{z}<extra></extra>",
         "legendgroup": "room",
         "marker": {
          "color": "#FECB52",
          "symbol": "circle"
         },
         "mode": "markers",
         "name": "room",
         "scene": "scene",
         "showlegend": true,
         "type": "scatter3d",
         "x": {
          "bdata": "CnMRvw==",
          "dtype": "f4"
         },
         "y": {
          "bdata": "cLpYPg==",
          "dtype": "f4"
         },
         "z": {
          "bdata": "ikBGPg==",
          "dtype": "f4"
         }
        },
        {
         "hovertemplate": "color=closed<br>0=%{x}<br>1=%{y}<br>2=%{z}<extra></extra>",
         "legendgroup": "closed",
         "marker": {
          "color": "#636efa",
          "symbol": "circle"
         },
         "mode": "markers",
         "name": "closed",
         "scene": "scene",
         "showlegend": true,
         "type": "scatter3d",
         "x": {
          "bdata": "Gz7zvg==",
          "dtype": "f4"
         },
         "y": {
          "bdata": "gBSMPA==",
          "dtype": "f4"
         },
         "z": {
          "bdata": "mr3wvA==",
          "dtype": "f4"
         }
        },
        {
         "hovertemplate": "color=home<br>0=%{x}<br>1=%{y}<br>2=%{z}<extra></extra>",
         "legendgroup": "home",
         "marker": {
          "color": "#EF553B",
          "symbol": "circle"
         },
         "mode": "markers",
         "name": "home",
         "scene": "scene",
         "showlegend": true,
         "type": "scatter3d",
         "x": {
          "bdata": "jNL7Pg==",
          "dtype": "f4"
         },
         "y": {
          "bdata": "Eo20PQ==",
          "dtype": "f4"
         },
         "z": {
          "bdata": "YfHEPg==",
          "dtype": "f4"
         }
        },
        {
         "hovertemplate": "color=matter<br>0=%{x}<br>1=%{y}<br>2=%{z}<extra></extra>",
         "legendgroup": "matter",
         "marker": {
          "color": "#00cc96",
          "symbol": "circle"
         },
         "mode": "markers",
         "name": "matter",
         "scene": "scene",
         "showlegend": true,
         "type": "scatter3d",
         "x": {
          "bdata": "4rIUPw==",
          "dtype": "f4"
         },
         "y": {
          "bdata": "9WVYvg==",
          "dtype": "f4"
         },
         "z": {
          "bdata": "UFJzPg==",
          "dtype": "f4"
         }
        },
        {
         "hovertemplate": "color=wood<br>0=%{x}<br>1=%{y}<br>2=%{z}<extra></extra>",
         "legendgroup": "wood",
         "marker": {
          "color": "#ab63fa",
          "symbol": "circle"
         },
         "mode": "markers",
         "name": "wood",
         "scene": "scene",
         "showlegend": true,
         "type": "scatter3d",
         "x": {
          "bdata": "Uxwxvw==",
          "dtype": "f4"
         },
         "y": {
          "bdata": "xGyQPg==",
          "dtype": "f4"
         },
         "z": {
          "bdata": "UFVzPg==",
          "dtype": "f4"
         }
        },
        {
         "hovertemplate": "color=south<br>0=%{x}<br>1=%{y}<br>2=%{z}<extra></extra>",
         "legendgroup": "south",
         "marker": {
          "color": "#FFA15A",
          "symbol": "circle"
         },
         "mode": "markers",
         "name": "south",
         "scene": "scene",
         "showlegend": true,
         "type": "scatter3d",
         "x": {
          "bdata": "6Jm2PA==",
          "dtype": "f4"
         },
         "y": {
          "bdata": "OjsxPw==",
          "dtype": "f4"
         },
         "z": {
          "bdata": "ocK8Pg==",
          "dtype": "f4"
         }
        },
        {
         "hovertemplate": "color=sky<br>0=%{x}<br>1=%{y}<br>2=%{z}<extra></extra>",
         "legendgroup": "sky",
         "marker": {
          "color": "#19d3f3",
          "symbol": "circle"
         },
         "mode": "markers",
         "name": "sky",
         "scene": "scene",
         "showlegend": true,
         "type": "scatter3d",
         "x": {
          "bdata": "beYmvw==",
          "dtype": "f4"
         },
         "y": {
          "bdata": "iM5GPg==",
          "dtype": "f4"
         },
         "z": {
          "bdata": "vhNzPg==",
          "dtype": "f4"
         }
        },
        {
         "hovertemplate": "color=people<br>0=%{x}<br>1=%{y}<br>2=%{z}<extra></extra>",
         "legendgroup": "people",
         "marker": {
          "color": "#FF6692",
          "symbol": "circle"
         },
         "mode": "markers",
         "name": "people",
         "scene": "scene",
         "showlegend": true,
         "type": "scatter3d",
         "x": {
          "bdata": "943kPg==",
          "dtype": "f4"
         },
         "y": {
          "bdata": "rJ53Pg==",
          "dtype": "f4"
         },
         "z": {
          "bdata": "8bwRPw==",
          "dtype": "f4"
         }
        },
        {
         "hovertemplate": "color=wed<br>0=%{x}<br>1=%{y}<br>2=%{z}<extra></extra>",
         "legendgroup": "wed",
         "marker": {
          "color": "#B6E880",
          "symbol": "circle"
         },
         "mode": "markers",
         "name": "wed",
         "scene": "scene",
         "showlegend": true,
         "type": "scatter3d",
         "x": {
          "bdata": "MCdDPw==",
          "dtype": "f4"
         },
         "y": {
          "bdata": "YDfJPg==",
          "dtype": "f4"
         },
         "z": {
          "bdata": "Lv9pvg==",
          "dtype": "f4"
         }
        },
        {
         "hovertemplate": "color=dozen<br>0=%{x}<br>1=%{y}<br>2=%{z}<extra></extra>",
         "legendgroup": "dozen",
         "marker": {
          "color": "#FF97FF",
          "symbol": "circle"
         },
         "mode": "markers",
         "name": "dozen",
         "scene": "scene",
         "showlegend": true,
         "type": "scatter3d",
         "x": {
          "bdata": "FJWivg==",
          "dtype": "f4"
         },
         "y": {
          "bdata": "PukqPw==",
          "dtype": "f4"
         },
         "z": {
          "bdata": "m0OHPg==",
          "dtype": "f4"
         }
        },
        {
         "hovertemplate": "color=neck<br>0=%{x}<br>1=%{y}<br>2=%{z}<extra></extra>",
         "legendgroup": "neck",
         "marker": {
          "color": "#FECB52",
          "symbol": "circle"
         },
         "mode": "markers",
         "name": "neck",
         "scene": "scene",
         "showlegend": true,
         "type": "scatter3d",
         "x": {
          "bdata": "+Uw1vw==",
          "dtype": "f4"
         },
         "y": {
          "bdata": "MJsTvA==",
          "dtype": "f4"
         },
         "z": {
          "bdata": "FJ1zvg==",
          "dtype": "f4"
         }
        },
        {
         "hovertemplate": "color=food<br>0=%{x}<br>1=%{y}<br>2=%{z}<extra></extra>",
         "legendgroup": "food",
         "marker": {
          "color": "#636efa",
          "symbol": "circle"
         },
         "mode": "markers",
         "name": "food",
         "scene": "scene",
         "showlegend": true,
         "type": "scatter3d",
         "x": {
          "bdata": "8senPQ==",
          "dtype": "f4"
         },
         "y": {
          "bdata": "9R9Ivg==",
          "dtype": "f4"
         },
         "z": {
          "bdata": "VnbsPg==",
          "dtype": "f4"
         }
        },
        {
         "hovertemplate": "color=riverrun<br>0=%{x}<br>1=%{y}<br>2=%{z}<extra></extra>",
         "legendgroup": "riverrun",
         "marker": {
          "color": "#EF553B",
          "symbol": "circle"
         },
         "mode": "markers",
         "name": "riverrun",
         "scene": "scene",
         "showlegend": true,
         "type": "scatter3d",
         "x": {
          "bdata": "BlUHPw==",
          "dtype": "f4"
         },
         "y": {
          "bdata": "EUkdPw==",
          "dtype": "f4"
         },
         "z": {
          "bdata": "9sXyvQ==",
          "dtype": "f4"
         }
        },
        {
         "hovertemplate": "color=instead<br>0=%{x}<br>1=%{y}<br>2=%{z}<extra></extra>",
         "legendgroup": "instead",
         "marker": {
          "color": "#00cc96",
          "symbol": "circle"
         },
         "mode": "markers",
         "name": "instead",
         "scene": "scene",
         "showlegend": true,
         "type": "scatter3d",
         "x": {
          "bdata": "IH49vQ==",
          "dtype": "f4"
         },
         "y": {
          "bdata": "QJIGPQ==",
          "dtype": "f4"
         },
         "z": {
          "bdata": "ZA/RvQ==",
          "dtype": "f4"
         }
        },
        {
         "hovertemplate": "color=near<br>0=%{x}<br>1=%{y}<br>2=%{z}<extra></extra>",
         "legendgroup": "near",
         "marker": {
          "color": "#ab63fa",
          "symbol": "circle"
         },
         "mode": "markers",
         "name": "near",
         "scene": "scene",
         "showlegend": true,
         "type": "scatter3d",
         "x": {
          "bdata": "zNN4vg==",
          "dtype": "f4"
         },
         "y": {
          "bdata": "RHX9Pg==",
          "dtype": "f4"
         },
         "z": {
          "bdata": "QbSfPg==",
          "dtype": "f4"
         }
        },
        {
         "hovertemplate": "color=talk<br>0=%{x}<br>1=%{y}<br>2=%{z}<extra></extra>",
         "legendgroup": "talk",
         "marker": {
          "color": "#FFA15A",
          "symbol": "circle"
         },
         "mode": "markers",
         "name": "talk",
         "scene": "scene",
         "showlegend": true,
         "type": "scatter3d",
         "x": {
          "bdata": "eiMdPw==",
          "dtype": "f4"
         },
         "y": {
          "bdata": "Of9jvg==",
          "dtype": "f4"
         },
         "z": {
          "bdata": "Pge8Pg==",
          "dtype": "f4"
         }
        },
        {
         "hovertemplate": "color=turn<br>0=%{x}<br>1=%{y}<br>2=%{z}<extra></extra>",
         "legendgroup": "turn",
         "marker": {
          "color": "#19d3f3",
          "symbol": "circle"
         },
         "mode": "markers",
         "name": "turn",
         "scene": "scene",
         "showlegend": true,
         "type": "scatter3d",
         "x": {
          "bdata": "KFhrPg==",
          "dtype": "f4"
         },
         "y": {
          "bdata": "/oW8vQ==",
          "dtype": "f4"
         },
         "z": {
          "bdata": "jsWuPg==",
          "dtype": "f4"
         }
        },
        {
         "hovertemplate": "color=none<br>0=%{x}<br>1=%{y}<br>2=%{z}<extra></extra>",
         "legendgroup": "none",
         "marker": {
          "color": "#FF6692",
          "symbol": "circle"
         },
         "mode": "markers",
         "name": "none",
         "scene": "scene",
         "showlegend": true,
         "type": "scatter3d",
         "x": {
          "bdata": "AEoiPw==",
          "dtype": "f4"
         },
         "y": {
          "bdata": "W20Vvg==",
          "dtype": "f4"
         },
         "z": {
          "bdata": "df6uPg==",
          "dtype": "f4"
         }
        },
        {
         "hovertemplate": "color=ships<br>0=%{x}<br>1=%{y}<br>2=%{z}<extra></extra>",
         "legendgroup": "ships",
         "marker": {
          "color": "#B6E880",
          "symbol": "circle"
         },
         "mode": "markers",
         "name": "ships",
         "scene": "scene",
         "showlegend": true,
         "type": "scatter3d",
         "x": {
          "bdata": "ujMJPg==",
          "dtype": "f4"
         },
         "y": {
          "bdata": "1kMVPw==",
          "dtype": "f4"
         },
         "z": {
          "bdata": "jZAQPw==",
          "dtype": "f4"
         }
        },
        {
         "hovertemplate": "color=tyrell<br>0=%{x}<br>1=%{y}<br>2=%{z}<extra></extra>",
         "legendgroup": "tyrell",
         "marker": {
          "color": "#FF97FF",
          "symbol": "circle"
         },
         "mode": "markers",
         "name": "tyrell",
         "scene": "scene",
         "showlegend": true,
         "type": "scatter3d",
         "x": {
          "bdata": "vyn8Pg==",
          "dtype": "f4"
         },
         "y": {
          "bdata": "qcQcPw==",
          "dtype": "f4"
         },
         "z": {
          "bdata": "abwKvw==",
          "dtype": "f4"
         }
        },
        {
         "hovertemplate": "color=moon<br>0=%{x}<br>1=%{y}<br>2=%{z}<extra></extra>",
         "legendgroup": "moon",
         "marker": {
          "color": "#FECB52",
          "symbol": "circle"
         },
         "mode": "markers",
         "name": "moon",
         "scene": "scene",
         "showlegend": true,
         "type": "scatter3d",
         "x": {
          "bdata": "vPO1vg==",
          "dtype": "f4"
         },
         "y": {
          "bdata": "D3W/Pg==",
          "dtype": "f4"
         },
         "z": {
          "bdata": "fBEjPg==",
          "dtype": "f4"
         }
        },
        {
         "hovertemplate": "color=shadow<br>0=%{x}<br>1=%{y}<br>2=%{z}<extra></extra>",
         "legendgroup": "shadow",
         "marker": {
          "color": "#636efa",
          "symbol": "circle"
         },
         "mode": "markers",
         "name": "shadow",
         "scene": "scene",
         "showlegend": true,
         "type": "scatter3d",
         "x": {
          "bdata": "u5Hgvg==",
          "dtype": "f4"
         },
         "y": {
          "bdata": "b87tPg==",
          "dtype": "f4"
         },
         "z": {
          "bdata": "bLdYPg==",
          "dtype": "f4"
         }
        },
        {
         "hovertemplate": "color=summer<br>0=%{x}<br>1=%{y}<br>2=%{z}<extra></extra>",
         "legendgroup": "summer",
         "marker": {
          "color": "#EF553B",
          "symbol": "circle"
         },
         "mode": "markers",
         "name": "summer",
         "scene": "scene",
         "showlegend": true,
         "type": "scatter3d",
         "x": {
          "bdata": "jXmTvg==",
          "dtype": "f4"
         },
         "y": {
          "bdata": "gA1YPA==",
          "dtype": "f4"
         },
         "z": {
          "bdata": "YKC1Pg==",
          "dtype": "f4"
         }
        },
        {
         "hovertemplate": "color=lips<br>0=%{x}<br>1=%{y}<br>2=%{z}<extra></extra>",
         "legendgroup": "lips",
         "marker": {
          "color": "#00cc96",
          "symbol": "circle"
         },
         "mode": "markers",
         "name": "lips",
         "scene": "scene",
         "showlegend": true,
         "type": "scatter3d",
         "x": {
          "bdata": "HEPdvg==",
          "dtype": "f4"
         },
         "y": {
          "bdata": "sh7pvg==",
          "dtype": "f4"
         },
         "z": {
          "bdata": "iPDVvg==",
          "dtype": "f4"
         }
        },
        {
         "hovertemplate": "color=bolton<br>0=%{x}<br>1=%{y}<br>2=%{z}<extra></extra>",
         "legendgroup": "bolton",
         "marker": {
          "color": "#ab63fa",
          "symbol": "circle"
         },
         "mode": "markers",
         "name": "bolton",
         "scene": "scene",
         "showlegend": true,
         "type": "scatter3d",
         "x": {
          "bdata": "HDD5Pg==",
          "dtype": "f4"
         },
         "y": {
          "bdata": "9R7kPg==",
          "dtype": "f4"
         },
         "z": {
          "bdata": "YCbOvg==",
          "dtype": "f4"
         }
        },
        {
         "hovertemplate": "color=watched<br>0=%{x}<br>1=%{y}<br>2=%{z}<extra></extra>",
         "legendgroup": "watched",
         "marker": {
          "color": "#FFA15A",
          "symbol": "circle"
         },
         "mode": "markers",
         "name": "watched",
         "scene": "scene",
         "showlegend": true,
         "type": "scatter3d",
         "x": {
          "bdata": "Ry7Yvg==",
          "dtype": "f4"
         },
         "y": {
          "bdata": "4InCuw==",
          "dtype": "f4"
         },
         "z": {
          "bdata": "sAr7Ow==",
          "dtype": "f4"
         }
        },
        {
         "hovertemplate": "color=times<br>0=%{x}<br>1=%{y}<br>2=%{z}<extra></extra>",
         "legendgroup": "times",
         "marker": {
          "color": "#19d3f3",
          "symbol": "circle"
         },
         "mode": "markers",
         "name": "times",
         "scene": "scene",
         "showlegend": true,
         "type": "scatter3d",
         "x": {
          "bdata": "Cmd7Pg==",
          "dtype": "f4"
         },
         "y": {
          "bdata": "HAu4Pg==",
          "dtype": "f4"
         },
         "z": {
          "bdata": "qvgHPw==",
          "dtype": "f4"
         }
        },
        {
         "hovertemplate": "color=leather<br>0=%{x}<br>1=%{y}<br>2=%{z}<extra></extra>",
         "legendgroup": "leather",
         "marker": {
          "color": "#FF6692",
          "symbol": "circle"
         },
         "mode": "markers",
         "name": "leather",
         "scene": "scene",
         "showlegend": true,
         "type": "scatter3d",
         "x": {
          "bdata": "RYA0vw==",
          "dtype": "f4"
         },
         "y": {
          "bdata": "shGKPg==",
          "dtype": "f4"
         },
         "z": {
          "bdata": "qoiJvg==",
          "dtype": "f4"
         }
        },
        {
         "hovertemplate": "color=varys<br>0=%{x}<br>1=%{y}<br>2=%{z}<extra></extra>",
         "legendgroup": "varys",
         "marker": {
          "color": "#B6E880",
          "symbol": "circle"
         },
         "mode": "markers",
         "name": "varys",
         "scene": "scene",
         "showlegend": true,
         "type": "scatter3d",
         "x": {
          "bdata": "mM8HPw==",
          "dtype": "f4"
         },
         "y": {
          "bdata": "Ifkwvg==",
          "dtype": "f4"
         },
         "z": {
          "bdata": "0jfSvg==",
          "dtype": "f4"
         }
        },
        {
         "hovertemplate": "color=shoulder<br>0=%{x}<br>1=%{y}<br>2=%{z}<extra></extra>",
         "legendgroup": "shoulder",
         "marker": {
          "color": "#FF97FF",
          "symbol": "circle"
         },
         "mode": "markers",
         "name": "shoulder",
         "scene": "scene",
         "showlegend": true,
         "type": "scatter3d",
         "x": {
          "bdata": "XpcPvw==",
          "dtype": "f4"
         },
         "y": {
          "bdata": "kKYrPQ==",
          "dtype": "f4"
         },
         "z": {
          "bdata": "3bTlvg==",
          "dtype": "f4"
         }
        },
        {
         "hovertemplate": "color=warm<br>0=%{x}<br>1=%{y}<br>2=%{z}<extra></extra>",
         "legendgroup": "warm",
         "marker": {
          "color": "#FECB52",
          "symbol": "circle"
         },
         "mode": "markers",
         "name": "warm",
         "scene": "scene",
         "showlegend": true,
         "type": "scatter3d",
         "x": {
          "bdata": "nvPvvg==",
          "dtype": "f4"
         },
         "y": {
          "bdata": "mAe6vg==",
          "dtype": "f4"
         },
         "z": {
          "bdata": "DyWXPg==",
          "dtype": "f4"
         }
        },
        {
         "hovertemplate": "color=septon<br>0=%{x}<br>1=%{y}<br>2=%{z}<extra></extra>",
         "legendgroup": "septon",
         "marker": {
          "color": "#636efa",
          "symbol": "circle"
         },
         "mode": "markers",
         "name": "septon",
         "scene": "scene",
         "showlegend": true,
         "type": "scatter3d",
         "x": {
          "bdata": "yAKWPg==",
          "dtype": "f4"
         },
         "y": {
          "bdata": "CpDuPg==",
          "dtype": "f4"
         },
         "z": {
          "bdata": "3JSUvQ==",
          "dtype": "f4"
         }
        },
        {
         "hovertemplate": "color=caught<br>0=%{x}<br>1=%{y}<br>2=%{z}<extra></extra>",
         "legendgroup": "caught",
         "marker": {
          "color": "#EF553B",
          "symbol": "circle"
         },
         "mode": "markers",
         "name": "caught",
         "scene": "scene",
         "showlegend": true,
         "type": "scatter3d",
         "x": {
          "bdata": "RgQIvw==",
          "dtype": "f4"
         },
         "y": {
          "bdata": "f+sevg==",
          "dtype": "f4"
         },
         "z": {
          "bdata": "2gPovQ==",
          "dtype": "f4"
         }
        },
        {
         "hovertemplate": "color=believe<br>0=%{x}<br>1=%{y}<br>2=%{z}<extra></extra>",
         "legendgroup": "believe",
         "marker": {
          "color": "#00cc96",
          "symbol": "circle"
         },
         "mode": "markers",
         "name": "believe",
         "scene": "scene",
         "showlegend": true,
         "type": "scatter3d",
         "x": {
          "bdata": "3dg4Pw==",
          "dtype": "f4"
         },
         "y": {
          "bdata": "I7Anvg==",
          "dtype": "f4"
         },
         "z": {
          "bdata": "123BPQ==",
          "dtype": "f4"
         }
        },
        {
         "hovertemplate": "color=least<br>0=%{x}<br>1=%{y}<br>2=%{z}<extra></extra>",
         "legendgroup": "least",
         "marker": {
          "color": "#ab63fa",
          "symbol": "circle"
         },
         "mode": "markers",
         "name": "least",
         "scene": "scene",
         "showlegend": true,
         "type": "scatter3d",
         "x": {
          "bdata": "kDwFPw==",
          "dtype": "f4"
         },
         "y": {
          "bdata": "djnSvQ==",
          "dtype": "f4"
         },
         "z": {
          "bdata": "lP62Pg==",
          "dtype": "f4"
         }
        },
        {
         "hovertemplate": "color=guards<br>0=%{x}<br>1=%{y}<br>2=%{z}<extra></extra>",
         "legendgroup": "guards",
         "marker": {
          "color": "#FFA15A",
          "symbol": "circle"
         },
         "mode": "markers",
         "name": "guards",
         "scene": "scene",
         "showlegend": true,
         "type": "scatter3d",
         "x": {
          "bdata": "DBxMvQ==",
          "dtype": "f4"
         },
         "y": {
          "bdata": "038cPw==",
          "dtype": "f4"
         },
         "z": {
          "bdata": "KBt6vA==",
          "dtype": "f4"
         }
        },
        {
         "hovertemplate": "color=answer<br>0=%{x}<br>1=%{y}<br>2=%{z}<extra></extra>",
         "legendgroup": "answer",
         "marker": {
          "color": "#19d3f3",
          "symbol": "circle"
         },
         "mode": "markers",
         "name": "answer",
         "scene": "scene",
         "showlegend": true,
         "type": "scatter3d",
         "x": {
          "bdata": "F7AKPw==",
          "dtype": "f4"
         },
         "y": {
          "bdata": "Coe0vg==",
          "dtype": "f4"
         },
         "z": {
          "bdata": "/mZDvQ==",
          "dtype": "f4"
         }
        },
        {
         "hovertemplate": "color=god<br>0=%{x}<br>1=%{y}<br>2=%{z}<extra></extra>",
         "legendgroup": "god",
         "marker": {
          "color": "#FF6692",
          "symbol": "circle"
         },
         "mode": "markers",
         "name": "god",
         "scene": "scene",
         "showlegend": true,
         "type": "scatter3d",
         "x": {
          "bdata": "mIpaPg==",
          "dtype": "f4"
         },
         "y": {
          "bdata": "sNC+Pg==",
          "dtype": "f4"
         },
         "z": {
          "bdata": "SN2zPg==",
          "dtype": "f4"
         }
        },
        {
         "hovertemplate": "color=blade<br>0=%{x}<br>1=%{y}<br>2=%{z}<extra></extra>",
         "legendgroup": "blade",
         "marker": {
          "color": "#B6E880",
          "symbol": "circle"
         },
         "mode": "markers",
         "name": "blade",
         "scene": "scene",
         "showlegend": true,
         "type": "scatter3d",
         "x": {
          "bdata": "wtMMvw==",
          "dtype": "f4"
         },
         "y": {
          "bdata": "5pf4vQ==",
          "dtype": "f4"
         },
         "z": {
          "bdata": "vzuvvg==",
          "dtype": "f4"
         }
        },
        {
         "hovertemplate": "color=ice<br>0=%{x}<br>1=%{y}<br>2=%{z}<extra></extra>",
         "legendgroup": "ice",
         "marker": {
          "color": "#FF97FF",
          "symbol": "circle"
         },
         "mode": "markers",
         "name": "ice",
         "scene": "scene",
         "showlegend": true,
         "type": "scatter3d",
         "x": {
          "bdata": "sc0tvw==",
          "dtype": "f4"
         },
         "y": {
          "bdata": "oo8dPg==",
          "dtype": "f4"
         },
         "z": {
          "bdata": "6hCSPg==",
          "dtype": "f4"
         }
        },
        {
         "hovertemplate": "color=wondered<br>0=%{x}<br>1=%{y}<br>2=%{z}<extra></extra>",
         "legendgroup": "wondered",
         "marker": {
          "color": "#FECB52",
          "symbol": "circle"
         },
         "mode": "markers",
         "name": "wondered",
         "scene": "scene",
         "showlegend": true,
         "type": "scatter3d",
         "x": {
          "bdata": "VTbrPg==",
          "dtype": "f4"
         },
         "y": {
          "bdata": "mbRivg==",
          "dtype": "f4"
         },
         "z": {
          "bdata": "GFkcPg==",
          "dtype": "f4"
         }
        },
        {
         "hovertemplate": "color=shield<br>0=%{x}<br>1=%{y}<br>2=%{z}<extra></extra>",
         "legendgroup": "shield",
         "marker": {
          "color": "#636efa",
          "symbol": "circle"
         },
         "mode": "markers",
         "name": "shield",
         "scene": "scene",
         "showlegend": true,
         "type": "scatter3d",
         "x": {
          "bdata": "v43Fvg==",
          "dtype": "f4"
         },
         "y": {
          "bdata": "RQUBPw==",
          "dtype": "f4"
         },
         "z": {
          "bdata": "KgKkvg==",
          "dtype": "f4"
         }
        },
        {
         "hovertemplate": "color=barristan<br>0=%{x}<br>1=%{y}<br>2=%{z}<extra></extra>",
         "legendgroup": "barristan",
         "marker": {
          "color": "#EF553B",
          "symbol": "circle"
         },
         "mode": "markers",
         "name": "barristan",
         "scene": "scene",
         "showlegend": true,
         "type": "scatter3d",
         "x": {
          "bdata": "beGhPg==",
          "dtype": "f4"
         },
         "y": {
          "bdata": "d9cEPg==",
          "dtype": "f4"
         },
         "z": {
          "bdata": "Skipvg==",
          "dtype": "f4"
         }
        },
        {
         "hovertemplate": "color=mine<br>0=%{x}<br>1=%{y}<br>2=%{z}<extra></extra>",
         "legendgroup": "mine",
         "marker": {
          "color": "#00cc96",
          "symbol": "circle"
         },
         "mode": "markers",
         "name": "mine",
         "scene": "scene",
         "showlegend": true,
         "type": "scatter3d",
         "x": {
          "bdata": "ongfPw==",
          "dtype": "f4"
         },
         "y": {
          "bdata": "RpeXvQ==",
          "dtype": "f4"
         },
         "z": {
          "bdata": "AFzxuA==",
          "dtype": "f4"
         }
        },
        {
         "hovertemplate": "color=opened<br>0=%{x}<br>1=%{y}<br>2=%{z}<extra></extra>",
         "legendgroup": "opened",
         "marker": {
          "color": "#ab63fa",
          "symbol": "circle"
         },
         "mode": "markers",
         "name": "opened",
         "scene": "scene",
         "showlegend": true,
         "type": "scatter3d",
         "x": {
          "bdata": "vgYPvw==",
          "dtype": "f4"
         },
         "y": {
          "bdata": "fJItvQ==",
          "dtype": "f4"
         },
         "z": {
          "bdata": "ktLzvQ==",
          "dtype": "f4"
         }
        },
        {
         "hovertemplate": "color=armor<br>0=%{x}<br>1=%{y}<br>2=%{z}<extra></extra>",
         "legendgroup": "armor",
         "marker": {
          "color": "#FFA15A",
          "symbol": "circle"
         },
         "mode": "markers",
         "name": "armor",
         "scene": "scene",
         "showlegend": true,
         "type": "scatter3d",
         "x": {
          "bdata": "lIvsvg==",
          "dtype": "f4"
         },
         "y": {
          "bdata": "7njqPg==",
          "dtype": "f4"
         },
         "z": {
          "bdata": "pQ6Pvg==",
          "dtype": "f4"
         }
        },
        {
         "hovertemplate": "color=safe<br>0=%{x}<br>1=%{y}<br>2=%{z}<extra></extra>",
         "legendgroup": "safe",
         "marker": {
          "color": "#19d3f3",
          "symbol": "circle"
         },
         "mode": "markers",
         "name": "safe",
         "scene": "scene",
         "showlegend": true,
         "type": "scatter3d",
         "x": {
          "bdata": "6cLaPg==",
          "dtype": "f4"
         },
         "y": {
          "bdata": "rtCaPQ==",
          "dtype": "f4"
         },
         "z": {
          "bdata": "YN/TPg==",
          "dtype": "f4"
         }
        },
        {
         "hovertemplate": "color=six<br>0=%{x}<br>1=%{y}<br>2=%{z}<extra></extra>",
         "legendgroup": "six",
         "marker": {
          "color": "#FF6692",
          "symbol": "circle"
         },
         "mode": "markers",
         "name": "six",
         "scene": "scene",
         "showlegend": true,
         "type": "scatter3d",
         "x": {
          "bdata": "ONSVvA==",
          "dtype": "f4"
         },
         "y": {
          "bdata": "UggtPw==",
          "dtype": "f4"
         },
         "z": {
          "bdata": "TMZdPg==",
          "dtype": "f4"
         }
        },
        {
         "hovertemplate": "color=kept<br>0=%{x}<br>1=%{y}<br>2=%{z}<extra></extra>",
         "legendgroup": "kept",
         "marker": {
          "color": "#B6E880",
          "symbol": "circle"
         },
         "mode": "markers",
         "name": "kept",
         "scene": "scene",
         "showlegend": true,
         "type": "scatter3d",
         "x": {
          "bdata": "1/XrvQ==",
          "dtype": "f4"
         },
         "y": {
          "bdata": "FDYCPQ==",
          "dtype": "f4"
         },
         "z": {
          "bdata": "OieGPg==",
          "dtype": "f4"
         }
        },
        {
         "hovertemplate": "color=wish<br>0=%{x}<br>1=%{y}<br>2=%{z}<extra></extra>",
         "legendgroup": "wish",
         "marker": {
          "color": "#FF97FF",
          "symbol": "circle"
         },
         "mode": "markers",
         "name": "wish",
         "scene": "scene",
         "showlegend": true,
         "type": "scatter3d",
         "x": {
          "bdata": "8WFCPw==",
          "dtype": "f4"
         },
         "y": {
          "bdata": "BeICvg==",
          "dtype": "f4"
         },
         "z": {
          "bdata": "eiZtPQ==",
          "dtype": "f4"
         }
        },
        {
         "hovertemplate": "color=return<br>0=%{x}<br>1=%{y}<br>2=%{z}<extra></extra>",
         "legendgroup": "return",
         "marker": {
          "color": "#FECB52",
          "symbol": "circle"
         },
         "mode": "markers",
         "name": "return",
         "scene": "scene",
         "showlegend": true,
         "type": "scatter3d",
         "x": {
          "bdata": "XWQuPw==",
          "dtype": "f4"
         },
         "y": {
          "bdata": "qchfPg==",
          "dtype": "f4"
         },
         "z": {
          "bdata": "1hiEPg==",
          "dtype": "f4"
         }
        },
        {
         "hovertemplate": "color=tommen<br>0=%{x}<br>1=%{y}<br>2=%{z}<extra></extra>",
         "legendgroup": "tommen",
         "marker": {
          "color": "#636efa",
          "symbol": "circle"
         },
         "mode": "markers",
         "name": "tommen",
         "scene": "scene",
         "showlegend": true,
         "type": "scatter3d",
         "x": {
          "bdata": "ongXPw==",
          "dtype": "f4"
         },
         "y": {
          "bdata": "lHutPg==",
          "dtype": "f4"
         },
         "z": {
          "bdata": "LbWRvg==",
          "dtype": "f4"
         }
        },
        {
         "hovertemplate": "color=used<br>0=%{x}<br>1=%{y}<br>2=%{z}<extra></extra>",
         "legendgroup": "used",
         "marker": {
          "color": "#EF553B",
          "symbol": "circle"
         },
         "mode": "markers",
         "name": "used",
         "scene": "scene",
         "showlegend": true,
         "type": "scatter3d",
         "x": {
          "bdata": "Iq+IPg==",
          "dtype": "f4"
         },
         "y": {
          "bdata": "5dlIvg==",
          "dtype": "f4"
         },
         "z": {
          "bdata": "nR+BPg==",
          "dtype": "f4"
         }
        },
        {
         "hovertemplate": "color=smell<br>0=%{x}<br>1=%{y}<br>2=%{z}<extra></extra>",
         "legendgroup": "smell",
         "marker": {
          "color": "#00cc96",
          "symbol": "circle"
         },
         "mode": "markers",
         "name": "smell",
         "scene": "scene",
         "showlegend": true,
         "type": "scatter3d",
         "x": {
          "bdata": "ytilvg==",
          "dtype": "f4"
         },
         "y": {
          "bdata": "4CLsvg==",
          "dtype": "f4"
         },
         "z": {
          "bdata": "TrNsPg==",
          "dtype": "f4"
         }
        },
        {
         "hovertemplate": "color=less<br>0=%{x}<br>1=%{y}<br>2=%{z}<extra></extra>",
         "legendgroup": "less",
         "marker": {
          "color": "#ab63fa",
          "symbol": "circle"
         },
         "mode": "markers",
         "name": "less",
         "scene": "scene",
         "showlegend": true,
         "type": "scatter3d",
         "x": {
          "bdata": "Zyr6Pg==",
          "dtype": "f4"
         },
         "y": {
          "bdata": "OgykvQ==",
          "dtype": "f4"
         },
         "z": {
          "bdata": "1ueVPg==",
          "dtype": "f4"
         }
        },
        {
         "hovertemplate": "color=foot<br>0=%{x}<br>1=%{y}<br>2=%{z}<extra></extra>",
         "legendgroup": "foot",
         "marker": {
          "color": "#FFA15A",
          "symbol": "circle"
         },
         "mode": "markers",
         "name": "foot",
         "scene": "scene",
         "showlegend": true,
         "type": "scatter3d",
         "x": {
          "bdata": "D/MNvw==",
          "dtype": "f4"
         },
         "y": {
          "bdata": "7MSoPg==",
          "dtype": "f4"
         },
         "z": {
          "bdata": "0nsoPQ==",
          "dtype": "f4"
         }
        },
        {
         "hovertemplate": "color=squire<br>0=%{x}<br>1=%{y}<br>2=%{z}<extra></extra>",
         "legendgroup": "squire",
         "marker": {
          "color": "#19d3f3",
          "symbol": "circle"
         },
         "mode": "markers",
         "name": "squire",
         "scene": "scene",
         "showlegend": true,
         "type": "scatter3d",
         "x": {
          "bdata": "V6DFPg==",
          "dtype": "f4"
         },
         "y": {
          "bdata": "yVMOPw==",
          "dtype": "f4"
         },
         "z": {
          "bdata": "xiQUvw==",
          "dtype": "f4"
         }
        },
        {
         "hovertemplate": "color=floor<br>0=%{x}<br>1=%{y}<br>2=%{z}<extra></extra>",
         "legendgroup": "floor",
         "marker": {
          "color": "#FF6692",
          "symbol": "circle"
         },
         "mode": "markers",
         "name": "floor",
         "scene": "scene",
         "showlegend": true,
         "type": "scatter3d",
         "x": {
          "bdata": "5ZRDvw==",
          "dtype": "f4"
         },
         "y": {
          "bdata": "DgQaPg==",
          "dtype": "f4"
         },
         "z": {
          "bdata": "rXuOvQ==",
          "dtype": "f4"
         }
        },
        {
         "hovertemplate": "color=eddard<br>0=%{x}<br>1=%{y}<br>2=%{z}<extra></extra>",
         "legendgroup": "eddard",
         "marker": {
          "color": "#B6E880",
          "symbol": "circle"
         },
         "mode": "markers",
         "name": "eddard",
         "scene": "scene",
         "showlegend": true,
         "type": "scatter3d",
         "x": {
          "bdata": "ZAjOPg==",
          "dtype": "f4"
         },
         "y": {
          "bdata": "M1psPg==",
          "dtype": "f4"
         },
         "z": {
          "bdata": "oIRcvg==",
          "dtype": "f4"
         }
        },
        {
         "hovertemplate": "color=empty<br>0=%{x}<br>1=%{y}<br>2=%{z}<extra></extra>",
         "legendgroup": "empty",
         "marker": {
          "color": "#FF97FF",
          "symbol": "circle"
         },
         "mode": "markers",
         "name": "empty",
         "scene": "scene",
         "showlegend": true,
         "type": "scatter3d",
         "x": {
          "bdata": "P9UKvw==",
          "dtype": "f4"
         },
         "y": {
          "bdata": "vraYPQ==",
          "dtype": "f4"
         },
         "z": {
          "bdata": "hlhmPg==",
          "dtype": "f4"
         }
        },
        {
         "hovertemplate": "color=followed<br>0=%{x}<br>1=%{y}<br>2=%{z}<extra></extra>",
         "legendgroup": "followed",
         "marker": {
          "color": "#FECB52",
          "symbol": "circle"
         },
         "mode": "markers",
         "name": "followed",
         "scene": "scene",
         "showlegend": true,
         "type": "scatter3d",
         "x": {
          "bdata": "xMy9vg==",
          "dtype": "f4"
         },
         "y": {
          "bdata": "2OCKPg==",
          "dtype": "f4"
         },
         "z": {
          "bdata": "W4CUPQ==",
          "dtype": "f4"
         }
        },
        {
         "hovertemplate": "color=run<br>0=%{x}<br>1=%{y}<br>2=%{z}<extra></extra>",
         "legendgroup": "run",
         "marker": {
          "color": "#636efa",
          "symbol": "circle"
         },
         "mode": "markers",
         "name": "run",
         "scene": "scene",
         "showlegend": true,
         "type": "scatter3d",
         "x": {
          "bdata": "4y6KPA==",
          "dtype": "f4"
         },
         "y": {
          "bdata": "CiTVvg==",
          "dtype": "f4"
         },
         "z": {
          "bdata": "rEHUPg==",
          "dtype": "f4"
         }
        },
        {
         "hovertemplate": "color=friends<br>0=%{x}<br>1=%{y}<br>2=%{z}<extra></extra>",
         "legendgroup": "friends",
         "marker": {
          "color": "#EF553B",
          "symbol": "circle"
         },
         "mode": "markers",
         "name": "friends",
         "scene": "scene",
         "showlegend": true,
         "type": "scatter3d",
         "x": {
          "bdata": "QaMmPw==",
          "dtype": "f4"
         },
         "y": {
          "bdata": "PDyWPg==",
          "dtype": "f4"
         },
         "z": {
          "bdata": "oc+RPg==",
          "dtype": "f4"
         }
        },
        {
         "hovertemplate": "color=serve<br>0=%{x}<br>1=%{y}<br>2=%{z}<extra></extra>",
         "legendgroup": "serve",
         "marker": {
          "color": "#00cc96",
          "symbol": "circle"
         },
         "mode": "markers",
         "name": "serve",
         "scene": "scene",
         "showlegend": true,
         "type": "scatter3d",
         "x": {
          "bdata": "GCU+Pw==",
          "dtype": "f4"
         },
         "y": {
          "bdata": "eh0kPg==",
          "dtype": "f4"
         },
         "z": {
          "bdata": "lY75PQ==",
          "dtype": "f4"
         }
        },
        {
         "hovertemplate": "color=boys<br>0=%{x}<br>1=%{y}<br>2=%{z}<extra></extra>",
         "legendgroup": "boys",
         "marker": {
          "color": "#ab63fa",
          "symbol": "circle"
         },
         "mode": "markers",
         "name": "boys",
         "scene": "scene",
         "showlegend": true,
         "type": "scatter3d",
         "x": {
          "bdata": "TBYOPg==",
          "dtype": "f4"
         },
         "y": {
          "bdata": "uNu6Pg==",
          "dtype": "f4"
         },
         "z": {
          "bdata": "Z6SFPg==",
          "dtype": "f4"
         }
        },
        {
         "hovertemplate": "color=beard<br>0=%{x}<br>1=%{y}<br>2=%{z}<extra></extra>",
         "legendgroup": "beard",
         "marker": {
          "color": "#FFA15A",
          "symbol": "circle"
         },
         "mode": "markers",
         "name": "beard",
         "scene": "scene",
         "showlegend": true,
         "type": "scatter3d",
         "x": {
          "bdata": "trQGvw==",
          "dtype": "f4"
         },
         "y": {
          "bdata": "kE+tPA==",
          "dtype": "f4"
         },
         "z": {
          "bdata": "8J/cvg==",
          "dtype": "f4"
         }
        },
        {
         "hovertemplate": "color=cloaks<br>0=%{x}<br>1=%{y}<br>2=%{z}<extra></extra>",
         "legendgroup": "cloaks",
         "marker": {
          "color": "#19d3f3",
          "symbol": "circle"
         },
         "mode": "markers",
         "name": "cloaks",
         "scene": "scene",
         "showlegend": true,
         "type": "scatter3d",
         "x": {
          "bdata": "ngS8vg==",
          "dtype": "f4"
         },
         "y": {
          "bdata": "GCQiPw==",
          "dtype": "f4"
         },
         "z": {
          "bdata": "DpcIvg==",
          "dtype": "f4"
         }
        },
        {
         "hovertemplate": "color=baratheon<br>0=%{x}<br>1=%{y}<br>2=%{z}<extra></extra>",
         "legendgroup": "baratheon",
         "marker": {
          "color": "#FF6692",
          "symbol": "circle"
         },
         "mode": "markers",
         "name": "baratheon",
         "scene": "scene",
         "showlegend": true,
         "type": "scatter3d",
         "x": {
          "bdata": "hxG3Pg==",
          "dtype": "f4"
         },
         "y": {
          "bdata": "27wZPw==",
          "dtype": "f4"
         },
         "z": {
          "bdata": "CtVevg==",
          "dtype": "f4"
         }
        },
        {
         "hovertemplate": "color=wedding<br>0=%{x}<br>1=%{y}<br>2=%{z}<extra></extra>",
         "legendgroup": "wedding",
         "marker": {
          "color": "#B6E880",
          "symbol": "circle"
         },
         "mode": "markers",
         "name": "wedding",
         "scene": "scene",
         "showlegend": true,
         "type": "scatter3d",
         "x": {
          "bdata": "LBcEPw==",
          "dtype": "f4"
         },
         "y": {
          "bdata": "GKa9Pg==",
          "dtype": "f4"
         },
         "z": {
          "bdata": "8qBevg==",
          "dtype": "f4"
         }
        },
        {
         "hovertemplate": "color=wrong<br>0=%{x}<br>1=%{y}<br>2=%{z}<extra></extra>",
         "legendgroup": "wrong",
         "marker": {
          "color": "#FF97FF",
          "symbol": "circle"
         },
         "mode": "markers",
         "name": "wrong",
         "scene": "scene",
         "showlegend": true,
         "type": "scatter3d",
         "x": {
          "bdata": "Ag7xPg==",
          "dtype": "f4"
         },
         "y": {
          "bdata": "AL3Tvg==",
          "dtype": "f4"
         },
         "z": {
          "bdata": "jms/Pg==",
          "dtype": "f4"
         }
        },
        {
         "hovertemplate": "color=eat<br>0=%{x}<br>1=%{y}<br>2=%{z}<extra></extra>",
         "legendgroup": "eat",
         "marker": {
          "color": "#FECB52",
          "symbol": "circle"
         },
         "mode": "markers",
         "name": "eat",
         "scene": "scene",
         "showlegend": true,
         "type": "scatter3d",
         "x": {
          "bdata": "6s1JPg==",
          "dtype": "f4"
         },
         "y": {
          "bdata": "muLfvg==",
          "dtype": "f4"
         },
         "z": {
          "bdata": "JvXZPg==",
          "dtype": "f4"
         }
        },
        {
         "hovertemplate": "color=ghost<br>0=%{x}<br>1=%{y}<br>2=%{z}<extra></extra>",
         "legendgroup": "ghost",
         "marker": {
          "color": "#636efa",
          "symbol": "circle"
         },
         "mode": "markers",
         "name": "ghost",
         "scene": "scene",
         "showlegend": true,
         "type": "scatter3d",
         "x": {
          "bdata": "PBKhvg==",
          "dtype": "f4"
         },
         "y": {
          "bdata": "ls7UvQ==",
          "dtype": "f4"
         },
         "z": {
          "bdata": "mHiIvQ==",
          "dtype": "f4"
         }
        },
        {
         "hovertemplate": "color=daenerys<br>0=%{x}<br>1=%{y}<br>2=%{z}<extra></extra>",
         "legendgroup": "daenerys",
         "marker": {
          "color": "#EF553B",
          "symbol": "circle"
         },
         "mode": "markers",
         "name": "daenerys",
         "scene": "scene",
         "showlegend": true,
         "type": "scatter3d",
         "x": {
          "bdata": "ODgQPw==",
          "dtype": "f4"
         },
         "y": {
          "bdata": "4j0UPg==",
          "dtype": "f4"
         },
         "z": {
          "bdata": "K/qSPQ==",
          "dtype": "f4"
         }
        },
        {
         "hovertemplate": "color=sight<br>0=%{x}<br>1=%{y}<br>2=%{z}<extra></extra>",
         "legendgroup": "sight",
         "marker": {
          "color": "#00cc96",
          "symbol": "circle"
         },
         "mode": "markers",
         "name": "sight",
         "scene": "scene",
         "showlegend": true,
         "type": "scatter3d",
         "x": {
          "bdata": "vQzkvQ==",
          "dtype": "f4"
         },
         "y": {
          "bdata": "59Zevg==",
          "dtype": "f4"
         },
         "z": {
          "bdata": "y06yPg==",
          "dtype": "f4"
         }
        },
        {
         "hovertemplate": "color=flesh<br>0=%{x}<br>1=%{y}<br>2=%{z}<extra></extra>",
         "legendgroup": "flesh",
         "marker": {
          "color": "#ab63fa",
          "symbol": "circle"
         },
         "mode": "markers",
         "name": "flesh",
         "scene": "scene",
         "showlegend": true,
         "type": "scatter3d",
         "x": {
          "bdata": "u2Ulvw==",
          "dtype": "f4"
         },
         "y": {
          "bdata": "FetJvg==",
          "dtype": "f4"
         },
         "z": {
          "bdata": "T9yjPQ==",
          "dtype": "f4"
         }
        },
        {
         "hovertemplate": "color=five<br>0=%{x}<br>1=%{y}<br>2=%{z}<extra></extra>",
         "legendgroup": "five",
         "marker": {
          "color": "#FFA15A",
          "symbol": "circle"
         },
         "mode": "markers",
         "name": "five",
         "scene": "scene",
         "showlegend": true,
         "type": "scatter3d",
         "x": {
          "bdata": "hUEoPQ==",
          "dtype": "f4"
         },
         "y": {
          "bdata": "6yEuPw==",
          "dtype": "f4"
         },
         "z": {
          "bdata": "IqhyPg==",
          "dtype": "f4"
         }
        },
        {
         "hovertemplate": "color=hound<br>0=%{x}<br>1=%{y}<br>2=%{z}<extra></extra>",
         "legendgroup": "hound",
         "marker": {
          "color": "#19d3f3",
          "symbol": "circle"
         },
         "mode": "markers",
         "name": "hound",
         "scene": "scene",
         "showlegend": true,
         "type": "scatter3d",
         "x": {
          "bdata": "+5/6PA==",
          "dtype": "f4"
         },
         "y": {
          "bdata": "+HyVvg==",
          "dtype": "f4"
         },
         "z": {
          "bdata": "Qk+8vg==",
          "dtype": "f4"
         }
        },
        {
         "hovertemplate": "color=ship<br>0=%{x}<br>1=%{y}<br>2=%{z}<extra></extra>",
         "legendgroup": "ship",
         "marker": {
          "color": "#FF6692",
          "symbol": "circle"
         },
         "mode": "markers",
         "name": "ship",
         "scene": "scene",
         "showlegend": true,
         "type": "scatter3d",
         "x": {
          "bdata": "kKD7PQ==",
          "dtype": "f4"
         },
         "y": {
          "bdata": "rGhXPg==",
          "dtype": "f4"
         },
         "z": {
          "bdata": "pX0DPw==",
          "dtype": "f4"
         }
        },
        {
         "hovertemplate": "color=strength<br>0=%{x}<br>1=%{y}<br>2=%{z}<extra></extra>",
         "legendgroup": "strength",
         "marker": {
          "color": "#B6E880",
          "symbol": "circle"
         },
         "mode": "markers",
         "name": "strength",
         "scene": "scene",
         "showlegend": true,
         "type": "scatter3d",
         "x": {
          "bdata": "CIHjPg==",
          "dtype": "f4"
         },
         "y": {
          "bdata": "oPySPg==",
          "dtype": "f4"
         },
         "z": {
          "bdata": "8zylPg==",
          "dtype": "f4"
         }
        },
        {
         "hovertemplate": "color=nose<br>0=%{x}<br>1=%{y}<br>2=%{z}<extra></extra>",
         "legendgroup": "nose",
         "marker": {
          "color": "#FF97FF",
          "symbol": "circle"
         },
         "mode": "markers",
         "name": "nose",
         "scene": "scene",
         "showlegend": true,
         "type": "scatter3d",
         "x": {
          "bdata": "zt0Kvw==",
          "dtype": "f4"
         },
         "y": {
          "bdata": "cjaOvg==",
          "dtype": "f4"
         },
         "z": {
          "bdata": "VM+2vg==",
          "dtype": "f4"
         }
        },
        {
         "hovertemplate": "color=returned<br>0=%{x}<br>1=%{y}<br>2=%{z}<extra></extra>",
         "legendgroup": "returned",
         "marker": {
          "color": "#FECB52",
          "symbol": "circle"
         },
         "mode": "markers",
         "name": "returned",
         "scene": "scene",
         "showlegend": true,
         "type": "scatter3d",
         "x": {
          "bdata": "nryhPg==",
          "dtype": "f4"
         },
         "y": {
          "bdata": "9DSuPg==",
          "dtype": "f4"
         },
         "z": {
          "bdata": "APkTuw==",
          "dtype": "f4"
         }
        },
        {
         "hovertemplate": "color=bones<br>0=%{x}<br>1=%{y}<br>2=%{z}<extra></extra>",
         "legendgroup": "bones",
         "marker": {
          "color": "#636efa",
          "symbol": "circle"
         },
         "mode": "markers",
         "name": "bones",
         "scene": "scene",
         "showlegend": true,
         "type": "scatter3d",
         "x": {
          "bdata": "Vhvrvg==",
          "dtype": "f4"
         },
         "y": {
          "bdata": "++LkPQ==",
          "dtype": "f4"
         },
         "z": {
          "bdata": "f2OKPg==",
          "dtype": "f4"
         }
        },
        {
         "hovertemplate": "color=crown<br>0=%{x}<br>1=%{y}<br>2=%{z}<extra></extra>",
         "legendgroup": "crown",
         "marker": {
          "color": "#EF553B",
          "symbol": "circle"
         },
         "mode": "markers",
         "name": "crown",
         "scene": "scene",
         "showlegend": true,
         "type": "scatter3d",
         "x": {
          "bdata": "mCGEPQ==",
          "dtype": "f4"
         },
         "y": {
          "bdata": "6jbzPg==",
          "dtype": "f4"
         },
         "z": {
          "bdata": "lM1nvg==",
          "dtype": "f4"
         }
        },
        {
         "hovertemplate": "color=yellow<br>0=%{x}<br>1=%{y}<br>2=%{z}<extra></extra>",
         "legendgroup": "yellow",
         "marker": {
          "color": "#00cc96",
          "symbol": "circle"
         },
         "mode": "markers",
         "name": "yellow",
         "scene": "scene",
         "showlegend": true,
         "type": "scatter3d",
         "x": {
          "bdata": "tCkfvw==",
          "dtype": "f4"
         },
         "y": {
          "bdata": "CmMxPg==",
          "dtype": "f4"
         },
         "z": {
          "bdata": "/IUkvg==",
          "dtype": "f4"
         }
        },
        {
         "hovertemplate": "color=chest<br>0=%{x}<br>1=%{y}<br>2=%{z}<extra></extra>",
         "legendgroup": "chest",
         "marker": {
          "color": "#ab63fa",
          "symbol": "circle"
         },
         "mode": "markers",
         "name": "chest",
         "scene": "scene",
         "showlegend": true,
         "type": "scatter3d",
         "x": {
          "bdata": "p0U3vw==",
          "dtype": "f4"
         },
         "y": {
          "bdata": "gMgzOw==",
          "dtype": "f4"
         },
         "z": {
          "bdata": "RTWdvg==",
          "dtype": "f4"
         }
        },
        {
         "hovertemplate": "color=covered<br>0=%{x}<br>1=%{y}<br>2=%{z}<extra></extra>",
         "legendgroup": "covered",
         "marker": {
          "color": "#FFA15A",
          "symbol": "circle"
         },
         "mode": "markers",
         "name": "covered",
         "scene": "scene",
         "showlegend": true,
         "type": "scatter3d",
         "x": {
          "bdata": "/uZBvw==",
          "dtype": "f4"
         },
         "y": {
          "bdata": "ePquPA==",
          "dtype": "f4"
         },
         "z": {
          "bdata": "/BMYvg==",
          "dtype": "f4"
         }
        },
        {
         "hovertemplate": "color=commanded<br>0=%{x}<br>1=%{y}<br>2=%{z}<extra></extra>",
         "legendgroup": "commanded",
         "marker": {
          "color": "#19d3f3",
          "symbol": "circle"
         },
         "mode": "markers",
         "name": "commanded",
         "scene": "scene",
         "showlegend": true,
         "type": "scatter3d",
         "x": {
          "bdata": "QULqPg==",
          "dtype": "f4"
         },
         "y": {
          "bdata": "/ZSRPg==",
          "dtype": "f4"
         },
         "z": {
          "bdata": "4I/uvA==",
          "dtype": "f4"
         }
        },
        {
         "hovertemplate": "color=says<br>0=%{x}<br>1=%{y}<br>2=%{z}<extra></extra>",
         "legendgroup": "says",
         "marker": {
          "color": "#FF6692",
          "symbol": "circle"
         },
         "mode": "markers",
         "name": "says",
         "scene": "scene",
         "showlegend": true,
         "type": "scatter3d",
         "x": {
          "bdata": "dC07Pw==",
          "dtype": "f4"
         },
         "y": {
          "bdata": "aGGVPQ==",
          "dtype": "f4"
         },
         "z": {
          "bdata": "wKEauw==",
          "dtype": "f4"
         }
        },
        {
         "hovertemplate": "color=petyr<br>0=%{x}<br>1=%{y}<br>2=%{z}<extra></extra>",
         "legendgroup": "petyr",
         "marker": {
          "color": "#B6E880",
          "symbol": "circle"
         },
         "mode": "markers",
         "name": "petyr",
         "scene": "scene",
         "showlegend": true,
         "type": "scatter3d",
         "x": {
          "bdata": "jxYaPw==",
          "dtype": "f4"
         },
         "y": {
          "bdata": "nVQrPg==",
          "dtype": "f4"
         },
         "z": {
          "bdata": "cvwEvw==",
          "dtype": "f4"
         }
        },
        {
         "hovertemplate": "color=sometimes<br>0=%{x}<br>1=%{y}<br>2=%{z}<extra></extra>",
         "legendgroup": "sometimes",
         "marker": {
          "color": "#FF97FF",
          "symbol": "circle"
         },
         "mode": "markers",
         "name": "sometimes",
         "scene": "scene",
         "showlegend": true,
         "type": "scatter3d",
         "x": {
          "bdata": "34hJPQ==",
          "dtype": "f4"
         },
         "y": {
          "bdata": "ZNvvvg==",
          "dtype": "f4"
         },
         "z": {
          "bdata": "Xy/SPg==",
          "dtype": "f4"
         }
        },
        {
         "hovertemplate": "color=aemon<br>0=%{x}<br>1=%{y}<br>2=%{z}<extra></extra>",
         "legendgroup": "aemon",
         "marker": {
          "color": "#FECB52",
          "symbol": "circle"
         },
         "mode": "markers",
         "name": "aemon",
         "scene": "scene",
         "showlegend": true,
         "type": "scatter3d",
         "x": {
          "bdata": "5ZCOPg==",
          "dtype": "f4"
         },
         "y": {
          "bdata": "iPsBPQ==",
          "dtype": "f4"
         },
         "z": {
          "bdata": "RvcCvg==",
          "dtype": "f4"
         }
        },
        {
         "hovertemplate": "color=filled<br>0=%{x}<br>1=%{y}<br>2=%{z}<extra></extra>",
         "legendgroup": "filled",
         "marker": {
          "color": "#636efa",
          "symbol": "circle"
         },
         "mode": "markers",
         "name": "filled",
         "scene": "scene",
         "showlegend": true,
         "type": "scatter3d",
         "x": {
          "bdata": "EGwYvw==",
          "dtype": "f4"
         },
         "y": {
          "bdata": "iaoLvg==",
          "dtype": "f4"
         },
         "z": {
          "bdata": "EmwFPQ==",
          "dtype": "f4"
         }
        },
        {
         "hovertemplate": "color=friend<br>0=%{x}<br>1=%{y}<br>2=%{z}<extra></extra>",
         "legendgroup": "friend",
         "marker": {
          "color": "#EF553B",
          "symbol": "circle"
         },
         "mode": "markers",
         "name": "friend",
         "scene": "scene",
         "showlegend": true,
         "type": "scatter3d",
         "x": {
          "bdata": "4uc6Pw==",
          "dtype": "f4"
         },
         "y": {
          "bdata": "xBlpvQ==",
          "dtype": "f4"
         },
         "z": {
          "bdata": "wFxJvg==",
          "dtype": "f4"
         }
        },
        {
         "hovertemplate": "color=led<br>0=%{x}<br>1=%{y}<br>2=%{z}<extra></extra>",
         "legendgroup": "led",
         "marker": {
          "color": "#00cc96",
          "symbol": "circle"
         },
         "mode": "markers",
         "name": "led",
         "scene": "scene",
         "showlegend": true,
         "type": "scatter3d",
         "x": {
          "bdata": "dvpVvg==",
          "dtype": "f4"
         },
         "y": {
          "bdata": "u9ESPw==",
          "dtype": "f4"
         },
         "z": {
          "bdata": "ykULPQ==",
          "dtype": "f4"
         }
        },
        {
         "hovertemplate": "color=common<br>0=%{x}<br>1=%{y}<br>2=%{z}<extra></extra>",
         "legendgroup": "common",
         "marker": {
          "color": "#ab63fa",
          "symbol": "circle"
         },
         "mode": "markers",
         "name": "common",
         "scene": "scene",
         "showlegend": true,
         "type": "scatter3d",
         "x": {
          "bdata": "1Kp/Pg==",
          "dtype": "f4"
         },
         "y": {
          "bdata": "MQI5Pg==",
          "dtype": "f4"
         },
         "z": {
          "bdata": "IeSAPg==",
          "dtype": "f4"
         }
        },
        {
         "hovertemplate": "color=aye<br>0=%{x}<br>1=%{y}<br>2=%{z}<extra></extra>",
         "legendgroup": "aye",
         "marker": {
          "color": "#FFA15A",
          "symbol": "circle"
         },
         "mode": "markers",
         "name": "aye",
         "scene": "scene",
         "showlegend": true,
         "type": "scatter3d",
         "x": {
          "bdata": "H7sgPw==",
          "dtype": "f4"
         },
         "y": {
          "bdata": "uM5HPQ==",
          "dtype": "f4"
         },
         "z": {
          "bdata": "FLzRvQ==",
          "dtype": "f4"
         }
        },
        {
         "hovertemplate": "color=fighting<br>0=%{x}<br>1=%{y}<br>2=%{z}<extra></extra>",
         "legendgroup": "fighting",
         "marker": {
          "color": "#19d3f3",
          "symbol": "circle"
         },
         "mode": "markers",
         "name": "fighting",
         "scene": "scene",
         "showlegend": true,
         "type": "scatter3d",
         "x": {
          "bdata": "+k98Pg==",
          "dtype": "f4"
         },
         "y": {
          "bdata": "qh/CPg==",
          "dtype": "f4"
         },
         "z": {
          "bdata": "9SUSPw==",
          "dtype": "f4"
         }
        },
        {
         "hovertemplate": "color=spoke<br>0=%{x}<br>1=%{y}<br>2=%{z}<extra></extra>",
         "legendgroup": "spoke",
         "marker": {
          "color": "#FF6692",
          "symbol": "circle"
         },
         "mode": "markers",
         "name": "spoke",
         "scene": "scene",
         "showlegend": true,
         "type": "scatter3d",
         "x": {
          "bdata": "B8qdPg==",
          "dtype": "f4"
         },
         "y": {
          "bdata": "at2HvQ==",
          "dtype": "f4"
         },
         "z": {
          "bdata": "wp6wvg==",
          "dtype": "f4"
         }
        },
        {
         "hovertemplate": "color=flames<br>0=%{x}<br>1=%{y}<br>2=%{z}<extra></extra>",
         "legendgroup": "flames",
         "marker": {
          "color": "#B6E880",
          "symbol": "circle"
         },
         "mode": "markers",
         "name": "flames",
         "scene": "scene",
         "showlegend": true,
         "type": "scatter3d",
         "x": {
          "bdata": "1Rcpvw==",
          "dtype": "f4"
         },
         "y": {
          "bdata": "5PtVvQ==",
          "dtype": "f4"
         },
         "z": {
          "bdata": "VmMhPg==",
          "dtype": "f4"
         }
        },
        {
         "hovertemplate": "color=show<br>0=%{x}<br>1=%{y}<br>2=%{z}<extra></extra>",
         "legendgroup": "show",
         "marker": {
          "color": "#FF97FF",
          "symbol": "circle"
         },
         "mode": "markers",
         "name": "show",
         "scene": "scene",
         "showlegend": true,
         "type": "scatter3d",
         "x": {
          "bdata": "VfTQPg==",
          "dtype": "f4"
         },
         "y": {
          "bdata": "if5xvg==",
          "dtype": "f4"
         },
         "z": {
          "bdata": "Ct1yPQ==",
          "dtype": "f4"
         }
        },
        {
         "hovertemplate": "color=huge<br>0=%{x}<br>1=%{y}<br>2=%{z}<extra></extra>",
         "legendgroup": "huge",
         "marker": {
          "color": "#FECB52",
          "symbol": "circle"
         },
         "mode": "markers",
         "name": "huge",
         "scene": "scene",
         "showlegend": true,
         "type": "scatter3d",
         "x": {
          "bdata": "yGI9vw==",
          "dtype": "f4"
         },
         "y": {
          "bdata": "fM+fPg==",
          "dtype": "f4"
         },
         "z": {
          "bdata": "0FpZvA==",
          "dtype": "f4"
         }
        },
        {
         "hovertemplate": "color=asha<br>0=%{x}<br>1=%{y}<br>2=%{z}<extra></extra>",
         "legendgroup": "asha",
         "marker": {
          "color": "#636efa",
          "symbol": "circle"
         },
         "mode": "markers",
         "name": "asha",
         "scene": "scene",
         "showlegend": true,
         "type": "scatter3d",
         "x": {
          "bdata": "9t1wPg==",
          "dtype": "f4"
         },
         "y": {
          "bdata": "zOABPg==",
          "dtype": "f4"
         },
         "z": {
          "bdata": "r3C6vQ==",
          "dtype": "f4"
         }
        },
        {
         "hovertemplate": "color=lysa<br>0=%{x}<br>1=%{y}<br>2=%{z}<extra></extra>",
         "legendgroup": "lysa",
         "marker": {
          "color": "#EF553B",
          "symbol": "circle"
         },
         "mode": "markers",
         "name": "lysa",
         "scene": "scene",
         "showlegend": true,
         "type": "scatter3d",
         "x": {
          "bdata": "hZ8BPw==",
          "dtype": "f4"
         },
         "y": {
          "bdata": "+tidPQ==",
          "dtype": "f4"
         },
         "z": {
          "bdata": "b2ewvg==",
          "dtype": "f4"
         }
        },
        {
         "hovertemplate": "color=aside<br>0=%{x}<br>1=%{y}<br>2=%{z}<extra></extra>",
         "legendgroup": "aside",
         "marker": {
          "color": "#00cc96",
          "symbol": "circle"
         },
         "mode": "markers",
         "name": "aside",
         "scene": "scene",
         "showlegend": true,
         "type": "scatter3d",
         "x": {
          "bdata": "Yq50vg==",
          "dtype": "f4"
         },
         "y": {
          "bdata": "RAiMPQ==",
          "dtype": "f4"
         },
         "z": {
          "bdata": "R2W6vg==",
          "dtype": "f4"
         }
        },
        {
         "hovertemplate": "color=crow<br>0=%{x}<br>1=%{y}<br>2=%{z}<extra></extra>",
         "legendgroup": "crow",
         "marker": {
          "color": "#ab63fa",
          "symbol": "circle"
         },
         "mode": "markers",
         "name": "crow",
         "scene": "scene",
         "showlegend": true,
         "type": "scatter3d",
         "x": {
          "bdata": "MMFfPg==",
          "dtype": "f4"
         },
         "y": {
          "bdata": "W+fzPQ==",
          "dtype": "f4"
         },
         "z": {
          "bdata": "4iBZPg==",
          "dtype": "f4"
         }
        },
        {
         "hovertemplate": "color=belly<br>0=%{x}<br>1=%{y}<br>2=%{z}<extra></extra>",
         "legendgroup": "belly",
         "marker": {
          "color": "#FFA15A",
          "symbol": "circle"
         },
         "mode": "markers",
         "name": "belly",
         "scene": "scene",
         "showlegend": true,
         "type": "scatter3d",
         "x": {
          "bdata": "KjIbvw==",
          "dtype": "f4"
         },
         "y": {
          "bdata": "YMetvg==",
          "dtype": "f4"
         },
         "z": {
          "bdata": "cH7/vQ==",
          "dtype": "f4"
         }
        },
        {
         "hovertemplate": "color=master<br>0=%{x}<br>1=%{y}<br>2=%{z}<extra></extra>",
         "legendgroup": "master",
         "marker": {
          "color": "#19d3f3",
          "symbol": "circle"
         },
         "mode": "markers",
         "name": "master",
         "scene": "scene",
         "showlegend": true,
         "type": "scatter3d",
         "x": {
          "bdata": "ycfuPg==",
          "dtype": "f4"
         },
         "y": {
          "bdata": "MI/6Pg==",
          "dtype": "f4"
         },
         "z": {
          "bdata": "2knIvg==",
          "dtype": "f4"
         }
        },
        {
         "hovertemplate": "color=seem<br>0=%{x}<br>1=%{y}<br>2=%{z}<extra></extra>",
         "legendgroup": "seem",
         "marker": {
          "color": "#FF6692",
          "symbol": "circle"
         },
         "mode": "markers",
         "name": "seem",
         "scene": "scene",
         "showlegend": true,
         "type": "scatter3d",
         "x": {
          "bdata": "Rv7uPg==",
          "dtype": "f4"
         },
         "y": {
          "bdata": "zMqpvg==",
          "dtype": "f4"
         },
         "z": {
          "bdata": "0oyAPg==",
          "dtype": "f4"
         }
        },
        {
         "hovertemplate": "color=breath<br>0=%{x}<br>1=%{y}<br>2=%{z}<extra></extra>",
         "legendgroup": "breath",
         "marker": {
          "color": "#B6E880",
          "symbol": "circle"
         },
         "mode": "markers",
         "name": "breath",
         "scene": "scene",
         "showlegend": true,
         "type": "scatter3d",
         "x": {
          "bdata": "wIQUvw==",
          "dtype": "f4"
         },
         "y": {
          "bdata": "anu3vg==",
          "dtype": "f4"
         },
         "z": {
          "bdata": "HQr/PQ==",
          "dtype": "f4"
         }
        },
        {
         "hovertemplate": "color=yard<br>0=%{x}<br>1=%{y}<br>2=%{z}<extra></extra>",
         "legendgroup": "yard",
         "marker": {
          "color": "#FF97FF",
          "symbol": "circle"
         },
         "mode": "markers",
         "name": "yard",
         "scene": "scene",
         "showlegend": true,
         "type": "scatter3d",
         "x": {
          "bdata": "o/kOvw==",
          "dtype": "f4"
         },
         "y": {
          "bdata": "yBV7Pg==",
          "dtype": "f4"
         },
         "z": {
          "bdata": "Wl8mPg==",
          "dtype": "f4"
         }
        },
        {
         "hovertemplate": "color=gates<br>0=%{x}<br>1=%{y}<br>2=%{z}<extra></extra>",
         "legendgroup": "gates",
         "marker": {
          "color": "#FECB52",
          "symbol": "circle"
         },
         "mode": "markers",
         "name": "gates",
         "scene": "scene",
         "showlegend": true,
         "type": "scatter3d",
         "x": {
          "bdata": "5PR0vg==",
          "dtype": "f4"
         },
         "y": {
          "bdata": "Yg0bPw==",
          "dtype": "f4"
         },
         "z": {
          "bdata": "NniNPg==",
          "dtype": "f4"
         }
        },
        {
         "hovertemplate": "color=waiting<br>0=%{x}<br>1=%{y}<br>2=%{z}<extra></extra>",
         "legendgroup": "waiting",
         "marker": {
          "color": "#636efa",
          "symbol": "circle"
         },
         "mode": "markers",
         "name": "waiting",
         "scene": "scene",
         "showlegend": true,
         "type": "scatter3d",
         "x": {
          "bdata": "8M4qvA==",
          "dtype": "f4"
         },
         "y": {
          "bdata": "ynIEPw==",
          "dtype": "f4"
         },
         "z": {
          "bdata": "0H6SPg==",
          "dtype": "f4"
         }
        },
        {
         "hovertemplate": "color=within<br>0=%{x}<br>1=%{y}<br>2=%{z}<extra></extra>",
         "legendgroup": "within",
         "marker": {
          "color": "#EF553B",
          "symbol": "circle"
         },
         "mode": "markers",
         "name": "within",
         "scene": "scene",
         "showlegend": true,
         "type": "scatter3d",
         "x": {
          "bdata": "6q6nvg==",
          "dtype": "f4"
         },
         "y": {
          "bdata": "klLuPg==",
          "dtype": "f4"
         },
         "z": {
          "bdata": "RgkIPw==",
          "dtype": "f4"
         }
        },
        {
         "hovertemplate": "color=looking<br>0=%{x}<br>1=%{y}<br>2=%{z}<extra></extra>",
         "legendgroup": "looking",
         "marker": {
          "color": "#00cc96",
          "symbol": "circle"
         },
         "mode": "markers",
         "name": "looking",
         "scene": "scene",
         "showlegend": true,
         "type": "scatter3d",
         "x": {
          "bdata": "SN2Ivg==",
          "dtype": "f4"
         },
         "y": {
          "bdata": "A59kvg==",
          "dtype": "f4"
         },
         "z": {
          "bdata": "aD8jPQ==",
          "dtype": "f4"
         }
        },
        {
         "hovertemplate": "color=wooden<br>0=%{x}<br>1=%{y}<br>2=%{z}<extra></extra>",
         "legendgroup": "wooden",
         "marker": {
          "color": "#ab63fa",
          "symbol": "circle"
         },
         "mode": "markers",
         "name": "wooden",
         "scene": "scene",
         "showlegend": true,
         "type": "scatter3d",
         "x": {
          "bdata": "X50yvw==",
          "dtype": "f4"
         },
         "y": {
          "bdata": "lmnQPg==",
          "dtype": "f4"
         },
         "z": {
          "bdata": "Uay9PQ==",
          "dtype": "f4"
         }
        },
        {
         "hovertemplate": "color=wet<br>0=%{x}<br>1=%{y}<br>2=%{z}<extra></extra>",
         "legendgroup": "wet",
         "marker": {
          "color": "#FFA15A",
          "symbol": "circle"
         },
         "mode": "markers",
         "name": "wet",
         "scene": "scene",
         "showlegend": true,
         "type": "scatter3d",
         "x": {
          "bdata": "cYItvw==",
          "dtype": "f4"
         },
         "y": {
          "bdata": "bjaSvg==",
          "dtype": "f4"
         },
         "z": {
          "bdata": "sBklPA==",
          "dtype": "f4"
         }
        },
        {
         "hovertemplate": "color=realm<br>0=%{x}<br>1=%{y}<br>2=%{z}<extra></extra>",
         "legendgroup": "realm",
         "marker": {
          "color": "#19d3f3",
          "symbol": "circle"
         },
         "mode": "markers",
         "name": "realm",
         "scene": "scene",
         "showlegend": true,
         "type": "scatter3d",
         "x": {
          "bdata": "NA0xPw==",
          "dtype": "f4"
         },
         "y": {
          "bdata": "jJ7oPg==",
          "dtype": "f4"
         },
         "z": {
          "bdata": "6oAHPg==",
          "dtype": "f4"
         }
        },
        {
         "hovertemplate": "color=thin<br>0=%{x}<br>1=%{y}<br>2=%{z}<extra></extra>",
         "legendgroup": "thin",
         "marker": {
          "color": "#FF6692",
          "symbol": "circle"
         },
         "mode": "markers",
         "name": "thin",
         "scene": "scene",
         "showlegend": true,
         "type": "scatter3d",
         "x": {
          "bdata": "ZoAxvw==",
          "dtype": "f4"
         },
         "y": {
          "bdata": "Zqn+vQ==",
          "dtype": "f4"
         },
         "z": {
          "bdata": "BhZPvg==",
          "dtype": "f4"
         }
        },
        {
         "hovertemplate": "color=work<br>0=%{x}<br>1=%{y}<br>2=%{z}<extra></extra>",
         "legendgroup": "work",
         "marker": {
          "color": "#B6E880",
          "symbol": "circle"
         },
         "mode": "markers",
         "name": "work",
         "scene": "scene",
         "showlegend": true,
         "type": "scatter3d",
         "x": {
          "bdata": "PIPtPg==",
          "dtype": "f4"
         },
         "y": {
          "bdata": "rUAWvg==",
          "dtype": "f4"
         },
         "z": {
          "bdata": "PrSHPg==",
          "dtype": "f4"
         }
        },
        {
         "hovertemplate": "color=promised<br>0=%{x}<br>1=%{y}<br>2=%{z}<extra></extra>",
         "legendgroup": "promised",
         "marker": {
          "color": "#FF97FF",
          "symbol": "circle"
         },
         "mode": "markers",
         "name": "promised",
         "scene": "scene",
         "showlegend": true,
         "type": "scatter3d",
         "x": {
          "bdata": "bjEoPw==",
          "dtype": "f4"
         },
         "y": {
          "bdata": "uOcIPg==",
          "dtype": "f4"
         },
         "z": {
          "bdata": "uIcSPg==",
          "dtype": "f4"
         }
        },
        {
         "hovertemplate": "color=use<br>0=%{x}<br>1=%{y}<br>2=%{z}<extra></extra>",
         "legendgroup": "use",
         "marker": {
          "color": "#FECB52",
          "symbol": "circle"
         },
         "mode": "markers",
         "name": "use",
         "scene": "scene",
         "showlegend": true,
         "type": "scatter3d",
         "x": {
          "bdata": "fsbrPg==",
          "dtype": "f4"
         },
         "y": {
          "bdata": "gyZVvg==",
          "dtype": "f4"
         },
         "z": {
          "bdata": "xJ5APg==",
          "dtype": "f4"
         }
        },
        {
         "hovertemplate": "color=bad<br>0=%{x}<br>1=%{y}<br>2=%{z}<extra></extra>",
         "legendgroup": "bad",
         "marker": {
          "color": "#636efa",
          "symbol": "circle"
         },
         "mode": "markers",
         "name": "bad",
         "scene": "scene",
         "showlegend": true,
         "type": "scatter3d",
         "x": {
          "bdata": "kgeaPg==",
          "dtype": "f4"
         },
         "y": {
          "bdata": "2ongvg==",
          "dtype": "f4"
         },
         "z": {
          "bdata": "3aGZPg==",
          "dtype": "f4"
         }
        },
        {
         "hovertemplate": "color=later<br>0=%{x}<br>1=%{y}<br>2=%{z}<extra></extra>",
         "legendgroup": "later",
         "marker": {
          "color": "#EF553B",
          "symbol": "circle"
         },
         "mode": "markers",
         "name": "later",
         "scene": "scene",
         "showlegend": true,
         "type": "scatter3d",
         "x": {
          "bdata": "kEooOw==",
          "dtype": "f4"
         },
         "y": {
          "bdata": "0dSpPg==",
          "dtype": "f4"
         },
         "z": {
          "bdata": "w7CXPg==",
          "dtype": "f4"
         }
        },
        {
         "hovertemplate": "color=tree<br>0=%{x}<br>1=%{y}<br>2=%{z}<extra></extra>",
         "legendgroup": "tree",
         "marker": {
          "color": "#00cc96",
          "symbol": "circle"
         },
         "mode": "markers",
         "name": "tree",
         "scene": "scene",
         "showlegend": true,
         "type": "scatter3d",
         "x": {
          "bdata": "RZYuvw==",
          "dtype": "f4"
         },
         "y": {
          "bdata": "hEOJPQ==",
          "dtype": "f4"
         },
         "z": {
          "bdata": "XnxJPQ==",
          "dtype": "f4"
         }
        },
        {
         "hovertemplate": "color=husband<br>0=%{x}<br>1=%{y}<br>2=%{z}<extra></extra>",
         "legendgroup": "husband",
         "marker": {
          "color": "#ab63fa",
          "symbol": "circle"
         },
         "mode": "markers",
         "name": "husband",
         "scene": "scene",
         "showlegend": true,
         "type": "scatter3d",
         "x": {
          "bdata": "NldDPw==",
          "dtype": "f4"
         },
         "y": {
          "bdata": "QEBgPg==",
          "dtype": "f4"
         },
         "z": {
          "bdata": "pPBsvg==",
          "dtype": "f4"
         }
        },
        {
         "hovertemplate": "color=grew<br>0=%{x}<br>1=%{y}<br>2=%{z}<extra></extra>",
         "legendgroup": "grew",
         "marker": {
          "color": "#FFA15A",
          "symbol": "circle"
         },
         "mode": "markers",
         "name": "grew",
         "scene": "scene",
         "showlegend": true,
         "type": "scatter3d",
         "x": {
          "bdata": "eNsavw==",
          "dtype": "f4"
         },
         "y": {
          "bdata": "oHKrvA==",
          "dtype": "f4"
         },
         "z": {
          "bdata": "9i2DPg==",
          "dtype": "f4"
         }
        },
        {
         "hovertemplate": "color=onto<br>0=%{x}<br>1=%{y}<br>2=%{z}<extra></extra>",
         "legendgroup": "onto",
         "marker": {
          "color": "#19d3f3",
          "symbol": "circle"
         },
         "mode": "markers",
         "name": "onto",
         "scene": "scene",
         "showlegend": true,
         "type": "scatter3d",
         "x": {
          "bdata": "LDcpvw==",
          "dtype": "f4"
         },
         "y": {
          "bdata": "3SzZPQ==",
          "dtype": "f4"
         },
         "z": {
          "bdata": "SMh3vg==",
          "dtype": "f4"
         }
        },
        {
         "hovertemplate": "color=loved<br>0=%{x}<br>1=%{y}<br>2=%{z}<extra></extra>",
         "legendgroup": "loved",
         "marker": {
          "color": "#FF6692",
          "symbol": "circle"
         },
         "mode": "markers",
         "name": "loved",
         "scene": "scene",
         "showlegend": true,
         "type": "scatter3d",
         "x": {
          "bdata": "wnYLPw==",
          "dtype": "f4"
         },
         "y": {
          "bdata": "V1kBvg==",
          "dtype": "f4"
         },
         "z": {
          "bdata": "338xvQ==",
          "dtype": "f4"
         }
        },
        {
         "hovertemplate": "color=wildlings<br>0=%{x}<br>1=%{y}<br>2=%{z}<extra></extra>",
         "legendgroup": "wildlings",
         "marker": {
          "color": "#B6E880",
          "symbol": "circle"
         },
         "mode": "markers",
         "name": "wildlings",
         "scene": "scene",
         "showlegend": true,
         "type": "scatter3d",
         "x": {
          "bdata": "/HQ3Pg==",
          "dtype": "f4"
         },
         "y": {
          "bdata": "LimoPg==",
          "dtype": "f4"
         },
         "z": {
          "bdata": "XuEWPw==",
          "dtype": "f4"
         }
        },
        {
         "hovertemplate": "color=afraid<br>0=%{x}<br>1=%{y}<br>2=%{z}<extra></extra>",
         "legendgroup": "afraid",
         "marker": {
          "color": "#FF97FF",
          "symbol": "circle"
         },
         "mode": "markers",
         "name": "afraid",
         "scene": "scene",
         "showlegend": true,
         "type": "scatter3d",
         "x": {
          "bdata": "GLC0Pg==",
          "dtype": "f4"
         },
         "y": {
          "bdata": "6SUFvw==",
          "dtype": "f4"
         },
         "z": {
          "bdata": "GA1cPg==",
          "dtype": "f4"
         }
        },
        {
         "hovertemplate": "color=greyjoy<br>0=%{x}<br>1=%{y}<br>2=%{z}<extra></extra>",
         "legendgroup": "greyjoy",
         "marker": {
          "color": "#FECB52",
          "symbol": "circle"
         },
         "mode": "markers",
         "name": "greyjoy",
         "scene": "scene",
         "showlegend": true,
         "type": "scatter3d",
         "x": {
          "bdata": "VlKlPg==",
          "dtype": "f4"
         },
         "y": {
          "bdata": "Ns8YPw==",
          "dtype": "f4"
         },
         "z": {
          "bdata": "58i0vg==",
          "dtype": "f4"
         }
        },
        {
         "hovertemplate": "color=girls<br>0=%{x}<br>1=%{y}<br>2=%{z}<extra></extra>",
         "legendgroup": "girls",
         "marker": {
          "color": "#636efa",
          "symbol": "circle"
         },
         "mode": "markers",
         "name": "girls",
         "scene": "scene",
         "showlegend": true,
         "type": "scatter3d",
         "x": {
          "bdata": "L9aWPg==",
          "dtype": "f4"
         },
         "y": {
          "bdata": "DsFUPg==",
          "dtype": "f4"
         },
         "z": {
          "bdata": "mCYePg==",
          "dtype": "f4"
         }
        },
        {
         "hovertemplate": "color=rain<br>0=%{x}<br>1=%{y}<br>2=%{z}<extra></extra>",
         "legendgroup": "rain",
         "marker": {
          "color": "#EF553B",
          "symbol": "circle"
         },
         "mode": "markers",
         "name": "rain",
         "scene": "scene",
         "showlegend": true,
         "type": "scatter3d",
         "x": {
          "bdata": "UoYsvw==",
          "dtype": "f4"
         },
         "y": {
          "bdata": "lqyovQ==",
          "dtype": "f4"
         },
         "z": {
          "bdata": "F8GrPg==",
          "dtype": "f4"
         }
        },
        {
         "hovertemplate": "color=shoulders<br>0=%{x}<br>1=%{y}<br>2=%{z}<extra></extra>",
         "legendgroup": "shoulders",
         "marker": {
          "color": "#00cc96",
          "symbol": "circle"
         },
         "mode": "markers",
         "name": "shoulders",
         "scene": "scene",
         "showlegend": true,
         "type": "scatter3d",
         "x": {
          "bdata": "YMUxvw==",
          "dtype": "f4"
         },
         "y": {
          "bdata": "mBw1Pg==",
          "dtype": "f4"
         },
         "z": {
          "bdata": "5oSvvg==",
          "dtype": "f4"
         }
        },
        {
         "hovertemplate": "color=walked<br>0=%{x}<br>1=%{y}<br>2=%{z}<extra></extra>",
         "legendgroup": "walked",
         "marker": {
          "color": "#ab63fa",
          "symbol": "circle"
         },
         "mode": "markers",
         "name": "walked",
         "scene": "scene",
         "showlegend": true,
         "type": "scatter3d",
         "x": {
          "bdata": "XOMGvw==",
          "dtype": "f4"
         },
         "y": {
          "bdata": "kY1LPg==",
          "dtype": "f4"
         },
         "z": {
          "bdata": "dmhxPQ==",
          "dtype": "f4"
         }
        },
        {
         "hovertemplate": "color=shouted<br>0=%{x}<br>1=%{y}<br>2=%{z}<extra></extra>",
         "legendgroup": "shouted",
         "marker": {
          "color": "#FFA15A",
          "symbol": "circle"
         },
         "mode": "markers",
         "name": "shouted",
         "scene": "scene",
         "showlegend": true,
         "type": "scatter3d",
         "x": {
          "bdata": "pJJPvQ==",
          "dtype": "f4"
         },
         "y": {
          "bdata": "Suu1vQ==",
          "dtype": "f4"
         },
         "z": {
          "bdata": "3XFKvg==",
          "dtype": "f4"
         }
        },
        {
         "hovertemplate": "color=maid<br>0=%{x}<br>1=%{y}<br>2=%{z}<extra></extra>",
         "legendgroup": "maid",
         "marker": {
          "color": "#19d3f3",
          "symbol": "circle"
         },
         "mode": "markers",
         "name": "maid",
         "scene": "scene",
         "showlegend": true,
         "type": "scatter3d",
         "x": {
          "bdata": "VHq2Pg==",
          "dtype": "f4"
         },
         "y": {
          "bdata": "coyfPg==",
          "dtype": "f4"
         },
         "z": {
          "bdata": "mhzNvg==",
          "dtype": "f4"
         }
        },
        {
         "hovertemplate": "color=mance<br>0=%{x}<br>1=%{y}<br>2=%{z}<extra></extra>",
         "legendgroup": "mance",
         "marker": {
          "color": "#FF6692",
          "symbol": "circle"
         },
         "mode": "markers",
         "name": "mance",
         "scene": "scene",
         "showlegend": true,
         "type": "scatter3d",
         "x": {
          "bdata": "RnnoPg==",
          "dtype": "f4"
         },
         "y": {
          "bdata": "rIgjPQ==",
          "dtype": "f4"
         },
         "z": {
          "bdata": "ogBjPg==",
          "dtype": "f4"
         }
        },
        {
         "hovertemplate": "color=guard<br>0=%{x}<br>1=%{y}<br>2=%{z}<extra></extra>",
         "legendgroup": "guard",
         "marker": {
          "color": "#B6E880",
          "symbol": "circle"
         },
         "mode": "markers",
         "name": "guard",
         "scene": "scene",
         "showlegend": true,
         "type": "scatter3d",
         "x": {
          "bdata": "TNA6Pg==",
          "dtype": "f4"
         },
         "y": {
          "bdata": "WG4gPw==",
          "dtype": "f4"
         },
         "z": {
          "bdata": "WPdkvg==",
          "dtype": "f4"
         }
        },
        {
         "hovertemplate": "color=late<br>0=%{x}<br>1=%{y}<br>2=%{z}<extra></extra>",
         "legendgroup": "late",
         "marker": {
          "color": "#FF97FF",
          "symbol": "circle"
         },
         "mode": "markers",
         "name": "late",
         "scene": "scene",
         "showlegend": true,
         "type": "scatter3d",
         "x": {
          "bdata": "+iIHPw==",
          "dtype": "f4"
         },
         "y": {
          "bdata": "3tqEPQ==",
          "dtype": "f4"
         },
         "z": {
          "bdata": "uFzoPA==",
          "dtype": "f4"
         }
        },
        {
         "hovertemplate": "color=remained<br>0=%{x}<br>1=%{y}<br>2=%{z}<extra></extra>",
         "legendgroup": "remained",
         "marker": {
          "color": "#FECB52",
          "symbol": "circle"
         },
         "mode": "markers",
         "name": "remained",
         "scene": "scene",
         "showlegend": true,
         "type": "scatter3d",
         "x": {
          "bdata": "uCWevg==",
          "dtype": "f4"
         },
         "y": {
          "bdata": "8CD5Pg==",
          "dtype": "f4"
         },
         "z": {
          "bdata": "n9SLPg==",
          "dtype": "f4"
         }
        }
       ],
       "layout": {
        "legend": {
         "title": {
          "text": "color"
         },
         "tracegroupgap": 0
        },
        "margin": {
         "t": 60
        },
        "scene": {
         "domain": {
          "x": [
           0,
           1
          ],
          "y": [
           0,
           1
          ]
         },
         "xaxis": {
          "title": {
           "text": "0"
          }
         },
         "yaxis": {
          "title": {
           "text": "1"
          }
         },
         "zaxis": {
          "title": {
           "text": "2"
          }
         }
        },
        "template": {
         "data": {
          "bar": [
           {
            "error_x": {
             "color": "#2a3f5f"
            },
            "error_y": {
             "color": "#2a3f5f"
            },
            "marker": {
             "line": {
              "color": "#E5ECF6",
              "width": 0.5
             },
             "pattern": {
              "fillmode": "overlay",
              "size": 10,
              "solidity": 0.2
             }
            },
            "type": "bar"
           }
          ],
          "barpolar": [
           {
            "marker": {
             "line": {
              "color": "#E5ECF6",
              "width": 0.5
             },
             "pattern": {
              "fillmode": "overlay",
              "size": 10,
              "solidity": 0.2
             }
            },
            "type": "barpolar"
           }
          ],
          "carpet": [
           {
            "aaxis": {
             "endlinecolor": "#2a3f5f",
             "gridcolor": "white",
             "linecolor": "white",
             "minorgridcolor": "white",
             "startlinecolor": "#2a3f5f"
            },
            "baxis": {
             "endlinecolor": "#2a3f5f",
             "gridcolor": "white",
             "linecolor": "white",
             "minorgridcolor": "white",
             "startlinecolor": "#2a3f5f"
            },
            "type": "carpet"
           }
          ],
          "choropleth": [
           {
            "colorbar": {
             "outlinewidth": 0,
             "ticks": ""
            },
            "type": "choropleth"
           }
          ],
          "contour": [
           {
            "colorbar": {
             "outlinewidth": 0,
             "ticks": ""
            },
            "colorscale": [
             [
              0,
              "#0d0887"
             ],
             [
              0.1111111111111111,
              "#46039f"
             ],
             [
              0.2222222222222222,
              "#7201a8"
             ],
             [
              0.3333333333333333,
              "#9c179e"
             ],
             [
              0.4444444444444444,
              "#bd3786"
             ],
             [
              0.5555555555555556,
              "#d8576b"
             ],
             [
              0.6666666666666666,
              "#ed7953"
             ],
             [
              0.7777777777777778,
              "#fb9f3a"
             ],
             [
              0.8888888888888888,
              "#fdca26"
             ],
             [
              1,
              "#f0f921"
             ]
            ],
            "type": "contour"
           }
          ],
          "contourcarpet": [
           {
            "colorbar": {
             "outlinewidth": 0,
             "ticks": ""
            },
            "type": "contourcarpet"
           }
          ],
          "heatmap": [
           {
            "colorbar": {
             "outlinewidth": 0,
             "ticks": ""
            },
            "colorscale": [
             [
              0,
              "#0d0887"
             ],
             [
              0.1111111111111111,
              "#46039f"
             ],
             [
              0.2222222222222222,
              "#7201a8"
             ],
             [
              0.3333333333333333,
              "#9c179e"
             ],
             [
              0.4444444444444444,
              "#bd3786"
             ],
             [
              0.5555555555555556,
              "#d8576b"
             ],
             [
              0.6666666666666666,
              "#ed7953"
             ],
             [
              0.7777777777777778,
              "#fb9f3a"
             ],
             [
              0.8888888888888888,
              "#fdca26"
             ],
             [
              1,
              "#f0f921"
             ]
            ],
            "type": "heatmap"
           }
          ],
          "histogram": [
           {
            "marker": {
             "pattern": {
              "fillmode": "overlay",
              "size": 10,
              "solidity": 0.2
             }
            },
            "type": "histogram"
           }
          ],
          "histogram2d": [
           {
            "colorbar": {
             "outlinewidth": 0,
             "ticks": ""
            },
            "colorscale": [
             [
              0,
              "#0d0887"
             ],
             [
              0.1111111111111111,
              "#46039f"
             ],
             [
              0.2222222222222222,
              "#7201a8"
             ],
             [
              0.3333333333333333,
              "#9c179e"
             ],
             [
              0.4444444444444444,
              "#bd3786"
             ],
             [
              0.5555555555555556,
              "#d8576b"
             ],
             [
              0.6666666666666666,
              "#ed7953"
             ],
             [
              0.7777777777777778,
              "#fb9f3a"
             ],
             [
              0.8888888888888888,
              "#fdca26"
             ],
             [
              1,
              "#f0f921"
             ]
            ],
            "type": "histogram2d"
           }
          ],
          "histogram2dcontour": [
           {
            "colorbar": {
             "outlinewidth": 0,
             "ticks": ""
            },
            "colorscale": [
             [
              0,
              "#0d0887"
             ],
             [
              0.1111111111111111,
              "#46039f"
             ],
             [
              0.2222222222222222,
              "#7201a8"
             ],
             [
              0.3333333333333333,
              "#9c179e"
             ],
             [
              0.4444444444444444,
              "#bd3786"
             ],
             [
              0.5555555555555556,
              "#d8576b"
             ],
             [
              0.6666666666666666,
              "#ed7953"
             ],
             [
              0.7777777777777778,
              "#fb9f3a"
             ],
             [
              0.8888888888888888,
              "#fdca26"
             ],
             [
              1,
              "#f0f921"
             ]
            ],
            "type": "histogram2dcontour"
           }
          ],
          "mesh3d": [
           {
            "colorbar": {
             "outlinewidth": 0,
             "ticks": ""
            },
            "type": "mesh3d"
           }
          ],
          "parcoords": [
           {
            "line": {
             "colorbar": {
              "outlinewidth": 0,
              "ticks": ""
             }
            },
            "type": "parcoords"
           }
          ],
          "pie": [
           {
            "automargin": true,
            "type": "pie"
           }
          ],
          "scatter": [
           {
            "fillpattern": {
             "fillmode": "overlay",
             "size": 10,
             "solidity": 0.2
            },
            "type": "scatter"
           }
          ],
          "scatter3d": [
           {
            "line": {
             "colorbar": {
              "outlinewidth": 0,
              "ticks": ""
             }
            },
            "marker": {
             "colorbar": {
              "outlinewidth": 0,
              "ticks": ""
             }
            },
            "type": "scatter3d"
           }
          ],
          "scattercarpet": [
           {
            "marker": {
             "colorbar": {
              "outlinewidth": 0,
              "ticks": ""
             }
            },
            "type": "scattercarpet"
           }
          ],
          "scattergeo": [
           {
            "marker": {
             "colorbar": {
              "outlinewidth": 0,
              "ticks": ""
             }
            },
            "type": "scattergeo"
           }
          ],
          "scattergl": [
           {
            "marker": {
             "colorbar": {
              "outlinewidth": 0,
              "ticks": ""
             }
            },
            "type": "scattergl"
           }
          ],
          "scattermap": [
           {
            "marker": {
             "colorbar": {
              "outlinewidth": 0,
              "ticks": ""
             }
            },
            "type": "scattermap"
           }
          ],
          "scattermapbox": [
           {
            "marker": {
             "colorbar": {
              "outlinewidth": 0,
              "ticks": ""
             }
            },
            "type": "scattermapbox"
           }
          ],
          "scatterpolar": [
           {
            "marker": {
             "colorbar": {
              "outlinewidth": 0,
              "ticks": ""
             }
            },
            "type": "scatterpolar"
           }
          ],
          "scatterpolargl": [
           {
            "marker": {
             "colorbar": {
              "outlinewidth": 0,
              "ticks": ""
             }
            },
            "type": "scatterpolargl"
           }
          ],
          "scatterternary": [
           {
            "marker": {
             "colorbar": {
              "outlinewidth": 0,
              "ticks": ""
             }
            },
            "type": "scatterternary"
           }
          ],
          "surface": [
           {
            "colorbar": {
             "outlinewidth": 0,
             "ticks": ""
            },
            "colorscale": [
             [
              0,
              "#0d0887"
             ],
             [
              0.1111111111111111,
              "#46039f"
             ],
             [
              0.2222222222222222,
              "#7201a8"
             ],
             [
              0.3333333333333333,
              "#9c179e"
             ],
             [
              0.4444444444444444,
              "#bd3786"
             ],
             [
              0.5555555555555556,
              "#d8576b"
             ],
             [
              0.6666666666666666,
              "#ed7953"
             ],
             [
              0.7777777777777778,
              "#fb9f3a"
             ],
             [
              0.8888888888888888,
              "#fdca26"
             ],
             [
              1,
              "#f0f921"
             ]
            ],
            "type": "surface"
           }
          ],
          "table": [
           {
            "cells": {
             "fill": {
              "color": "#EBF0F8"
             },
             "line": {
              "color": "white"
             }
            },
            "header": {
             "fill": {
              "color": "#C8D4E3"
             },
             "line": {
              "color": "white"
             }
            },
            "type": "table"
           }
          ]
         },
         "layout": {
          "annotationdefaults": {
           "arrowcolor": "#2a3f5f",
           "arrowhead": 0,
           "arrowwidth": 1
          },
          "autotypenumbers": "strict",
          "coloraxis": {
           "colorbar": {
            "outlinewidth": 0,
            "ticks": ""
           }
          },
          "colorscale": {
           "diverging": [
            [
             0,
             "#8e0152"
            ],
            [
             0.1,
             "#c51b7d"
            ],
            [
             0.2,
             "#de77ae"
            ],
            [
             0.3,
             "#f1b6da"
            ],
            [
             0.4,
             "#fde0ef"
            ],
            [
             0.5,
             "#f7f7f7"
            ],
            [
             0.6,
             "#e6f5d0"
            ],
            [
             0.7,
             "#b8e186"
            ],
            [
             0.8,
             "#7fbc41"
            ],
            [
             0.9,
             "#4d9221"
            ],
            [
             1,
             "#276419"
            ]
           ],
           "sequential": [
            [
             0,
             "#0d0887"
            ],
            [
             0.1111111111111111,
             "#46039f"
            ],
            [
             0.2222222222222222,
             "#7201a8"
            ],
            [
             0.3333333333333333,
             "#9c179e"
            ],
            [
             0.4444444444444444,
             "#bd3786"
            ],
            [
             0.5555555555555556,
             "#d8576b"
            ],
            [
             0.6666666666666666,
             "#ed7953"
            ],
            [
             0.7777777777777778,
             "#fb9f3a"
            ],
            [
             0.8888888888888888,
             "#fdca26"
            ],
            [
             1,
             "#f0f921"
            ]
           ],
           "sequentialminus": [
            [
             0,
             "#0d0887"
            ],
            [
             0.1111111111111111,
             "#46039f"
            ],
            [
             0.2222222222222222,
             "#7201a8"
            ],
            [
             0.3333333333333333,
             "#9c179e"
            ],
            [
             0.4444444444444444,
             "#bd3786"
            ],
            [
             0.5555555555555556,
             "#d8576b"
            ],
            [
             0.6666666666666666,
             "#ed7953"
            ],
            [
             0.7777777777777778,
             "#fb9f3a"
            ],
            [
             0.8888888888888888,
             "#fdca26"
            ],
            [
             1,
             "#f0f921"
            ]
           ]
          },
          "colorway": [
           "#636efa",
           "#EF553B",
           "#00cc96",
           "#ab63fa",
           "#FFA15A",
           "#19d3f3",
           "#FF6692",
           "#B6E880",
           "#FF97FF",
           "#FECB52"
          ],
          "font": {
           "color": "#2a3f5f"
          },
          "geo": {
           "bgcolor": "white",
           "lakecolor": "white",
           "landcolor": "#E5ECF6",
           "showlakes": true,
           "showland": true,
           "subunitcolor": "white"
          },
          "hoverlabel": {
           "align": "left"
          },
          "hovermode": "closest",
          "mapbox": {
           "style": "light"
          },
          "paper_bgcolor": "white",
          "plot_bgcolor": "#E5ECF6",
          "polar": {
           "angularaxis": {
            "gridcolor": "white",
            "linecolor": "white",
            "ticks": ""
           },
           "bgcolor": "#E5ECF6",
           "radialaxis": {
            "gridcolor": "white",
            "linecolor": "white",
            "ticks": ""
           }
          },
          "scene": {
           "xaxis": {
            "backgroundcolor": "#E5ECF6",
            "gridcolor": "white",
            "gridwidth": 2,
            "linecolor": "white",
            "showbackground": true,
            "ticks": "",
            "zerolinecolor": "white"
           },
           "yaxis": {
            "backgroundcolor": "#E5ECF6",
            "gridcolor": "white",
            "gridwidth": 2,
            "linecolor": "white",
            "showbackground": true,
            "ticks": "",
            "zerolinecolor": "white"
           },
           "zaxis": {
            "backgroundcolor": "#E5ECF6",
            "gridcolor": "white",
            "gridwidth": 2,
            "linecolor": "white",
            "showbackground": true,
            "ticks": "",
            "zerolinecolor": "white"
           }
          },
          "shapedefaults": {
           "line": {
            "color": "#2a3f5f"
           }
          },
          "ternary": {
           "aaxis": {
            "gridcolor": "white",
            "linecolor": "white",
            "ticks": ""
           },
           "baxis": {
            "gridcolor": "white",
            "linecolor": "white",
            "ticks": ""
           },
           "bgcolor": "#E5ECF6",
           "caxis": {
            "gridcolor": "white",
            "linecolor": "white",
            "ticks": ""
           }
          },
          "title": {
           "x": 0.05
          },
          "xaxis": {
           "automargin": true,
           "gridcolor": "white",
           "linecolor": "white",
           "ticks": "",
           "title": {
            "standoff": 15
           },
           "zerolinecolor": "white",
           "zerolinewidth": 2
          },
          "yaxis": {
           "automargin": true,
           "gridcolor": "white",
           "linecolor": "white",
           "ticks": "",
           "title": {
            "standoff": 15
           },
           "zerolinecolor": "white",
           "zerolinewidth": 2
          }
         }
        }
       }
      }
     },
     "metadata": {},
     "output_type": "display_data"
    }
   ],
   "source": [
    "import plotly.express as px\n",
    "fig = px.scatter_3d(X[:500],x = 0,y = 1,z= 2,color=y[:500])\n",
    "fig.show()"
   ]
  },
  {
   "cell_type": "code",
   "execution_count": null,
   "id": "bad1be6b",
   "metadata": {},
   "outputs": [],
   "source": []
  }
 ],
 "metadata": {
  "kernelspec": {
   "display_name": "Python 3",
   "language": "python",
   "name": "python3"
  },
  "language_info": {
   "codemirror_mode": {
    "name": "ipython",
    "version": 3
   },
   "file_extension": ".py",
   "mimetype": "text/x-python",
   "name": "python",
   "nbconvert_exporter": "python",
   "pygments_lexer": "ipython3",
   "version": "3.12.7"
  }
 },
 "nbformat": 4,
 "nbformat_minor": 5
}
